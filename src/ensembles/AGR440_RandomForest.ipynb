{
 "cells": [
  {
   "cell_type": "markdown",
   "metadata": {
    "id": "O94qX1svwzoC"
   },
   "source": [
    "# 4. Ensembles de Arboles de Decision"
   ]
  },
  {
   "cell_type": "markdown",
   "metadata": {
    "id": "HsJFTcBZw1bE"
   },
   "source": [
    "## 4.3 Random Forest"
   ]
  },
  {
   "cell_type": "markdown",
   "metadata": {
    "id": "nsgvDbemw9Tc"
   },
   "source": [
    "*Random Forest* es un algoritmo de ensembles de arboles de decision creado por Leo Brieman en 1995-2006\n",
    "https://link.springer.com/content/pdf/10.1023/a:1010933404324.pdf"
   ]
  },
  {
   "cell_type": "markdown",
   "metadata": {
    "id": "TcIpXSPvQ_Wy"
   },
   "source": [
    "La página original es:\n",
    "https://www.stat.berkeley.edu/~breiman/RandomForests/cc_home.htm"
   ]
  },
  {
   "cell_type": "markdown",
   "metadata": {
    "id": "-8kPyem6Qdb7"
   },
   "source": [
    "Dos buenos videos para seguir el paso a paso de Random Forest y aplicaciones:\n",
    "* https://www.youtube.com/watch?v=J4Wdy0Wc_xQ\n",
    "* https://www.youtube.com/watch?v=sQ870aTKqiM"
   ]
  },
  {
   "cell_type": "markdown",
   "metadata": {
    "id": "F5IdXABcQHY3"
   },
   "source": [
    "Qué tipo de perturbaciones se realizan en Random Forest\n",
    "\n",
    "*   Se perturba el dataset, con la técnica de bagging = Bootstrap Aggregating\n",
    "*   Tambien se perturba el algoritmo, utiliza random en cada split"
   ]
  },
  {
   "cell_type": "markdown",
   "metadata": {
    "id": "j75A--Tsx2df"
   },
   "source": [
    "Cada arbolito de Random Forest se entrena sobre un dataset perturbado, que tiene :\n",
    "* todas las columnas originales (esta es una GRAN diferencia con  Arboles Azarosos)\n",
    "* la misma *cantidad* de registros del dataset original, PERO generados por la técnica de sampleo con reposición del dataset original."
   ]
  },
  {
   "cell_type": "markdown",
   "metadata": {
    "id": "lg0-WDkvyObC"
   },
   "source": [
    "A pesar de que Leo Brieman es también el inventor de CART (Classification and Regression Trees) Random Forest no corre el algoritmo CART de la libreria rpart, sino un CART perturbado, en donde cada split NO se hace sobre todos los campos del dataset, sino sobre un csubconjunto tomado al azar, esa cantidad es el hiperparámetro *mtry*"
   ]
  },
  {
   "cell_type": "markdown",
   "metadata": {
    "id": "PX0qg_c0yqob"
   },
   "source": [
    "#### 4.3.1  Seteo del ambiente en Google Colab"
   ]
  },
  {
   "cell_type": "markdown",
   "metadata": {
    "id": "NGY7H9xza7Zr"
   },
   "source": [
    "Esta parte se debe correr con el runtime en Python3\n",
    "<br>Ir al menu, Runtime -> Change Runtime Type -> Runtime type ->  **Python 3**"
   ]
  },
  {
   "cell_type": "markdown",
   "metadata": {
    "id": "7PupIBNba7Zr"
   },
   "source": [
    "Conectar la virtual machine donde esta corriendo Google Colab con el  Google Drive, para poder tener persistencia de archivos"
   ]
  },
  {
   "cell_type": "code",
   "execution_count": null,
   "metadata": {
    "id": "9LpZCst5a7Zs"
   },
   "outputs": [],
   "source": [
    "# primero establecer el Runtime de Python 3\n",
    "from google.colab import drive\n",
    "drive.mount('/content/.drive')"
   ]
  },
  {
   "cell_type": "markdown",
   "metadata": {
    "id": "JYC_F-wla7Zs"
   },
   "source": [
    "Para correr la siguiente celda es fundamental en Arranque en Frio haber copiado el archivo kaggle.json al Google Drive, en la carpeta indicada en el instructivo\n",
    "\n",
    "<br>los siguientes comando estan en shell script de Linux\n",
    "*   Crear las carpetas en el Google Drive\n",
    "*   \"instalar\" el archivo kaggle.json desde el Google Drive a la virtual machine para que pueda ser utilizado por la libreria  kaggle de Python\n",
    "*   Bajar el  **dataset_pequeno**  al  Google Drive  y tambien al disco local de la virtual machine que esta corriendo Google Colab\n",
    "\n"
   ]
  },
  {
   "cell_type": "code",
   "execution_count": null,
   "metadata": {
    "id": "XWLelftXa7Zt"
   },
   "outputs": [],
   "source": [
    "%%shell\n",
    "\n",
    "mkdir -p \"/content/.drive/My Drive/dm\"\n",
    "mkdir -p \"/content/buckets\"\n",
    "ln -s \"/content/.drive/My Drive/dm\" /content/buckets/b1\n",
    "\n",
    "mkdir -p ~/.kaggle\n",
    "cp /content/buckets/b1/kaggle/kaggle.json  ~/.kaggle\n",
    "chmod 600 ~/.kaggle/kaggle.json\n",
    "\n",
    "\n",
    "mkdir -p /content/buckets/b1/exp\n",
    "mkdir -p /content/buckets/b1/datasets\n",
    "mkdir -p /content/datasets\n",
    "\n",
    "\n",
    "\n",
    "archivo_origen=\"https://storage.googleapis.com/open-courses/itba2025-8d0a/dataset_pequeno.csv\"\n",
    "archivo_destino=\"/content/datasets/dataset_pequeno.csv\"\n",
    "archivo_destino_bucket=\"/content/buckets/b1/datasets/dataset_pequeno.csv\"\n",
    "\n",
    "if ! test -f $archivo_destino_bucket; then\n",
    "  wget  $archivo_origen  -O $archivo_destino_bucket\n",
    "fi\n",
    "\n",
    "\n",
    "if ! test -f $archivo_destino; then\n",
    "  cp  $archivo_destino_bucket  $archivo_destino\n",
    "fi\n"
   ]
  },
  {
   "cell_type": "markdown",
   "metadata": {
    "id": "oSKhZRToy2F7"
   },
   "source": [
    "### 4.4  Random Forest, una corrida"
   ]
  },
  {
   "cell_type": "markdown",
   "metadata": {
    "id": "zvUgQ8s8ReAp"
   },
   "source": [
    "El tiempo de corrida de este punto es de alrededor de 8 minutos"
   ]
  },
  {
   "cell_type": "markdown",
   "metadata": {
    "id": "eSU5vi00CPRS"
   },
   "source": [
    "Esta parte se debe correr con el runtime en lenguaje **R** Ir al menu, Runtime -> Change Runtime Type -> Runtime type -> R"
   ]
  },
  {
   "cell_type": "markdown",
   "metadata": {
    "id": "Zq8dySimCPRT"
   },
   "source": [
    "limpio el ambiente de R"
   ]
  },
  {
   "cell_type": "code",
   "execution_count": null,
   "metadata": {
    "id": "54xgC6vpObNA"
   },
   "outputs": [],
   "source": [
    "format(Sys.time(), \"%a %b %d %X %Y\")"
   ]
  },
  {
   "cell_type": "code",
   "execution_count": null,
   "metadata": {
    "id": "1iE0U4_WCPRT"
   },
   "outputs": [],
   "source": [
    "# limpio la memoria\n",
    "rm(list=ls(all.names=TRUE)) # remove all objects\n",
    "gc(full=TRUE, verbose=FALSE) # garbage collection"
   ]
  },
  {
   "cell_type": "markdown",
   "metadata": {
    "id": "vOhrxo_s0lhn"
   },
   "source": [
    "**ranger** es una de las muchas librerías en lenguage R que implementa el algoritmo *Random Forest*, tiene la ventaja que corre el paralelo, utilizando todos los nucleos del procesador."
   ]
  },
  {
   "cell_type": "code",
   "execution_count": null,
   "metadata": {
    "id": "BJDwdD0dCPRU"
   },
   "outputs": [],
   "source": [
    "# cargo las librerias que necesito\n",
    "require(\"data.table\")\n",
    "require(\"rpart\")\n",
    "\n",
    "# ranger se usa para procesar\n",
    "if( !require(\"ranger\") ) install.packages(\"ranger\")\n",
    "require(\"ranger\")\n",
    "\n",
    "# randomForest  solo se usa para imputar nulos\n",
    "if( !require(\"randomForest\") ) install.packages(\"randomForest\")\n",
    "require(\"randomForest\")"
   ]
  },
  {
   "cell_type": "markdown",
   "metadata": {
    "id": "M8-Pyp6CCPRU"
   },
   "source": [
    "Aqui debe cargar SU semilla primigenia y"
   ]
  },
  {
   "cell_type": "code",
   "execution_count": null,
   "metadata": {
    "id": "peRH7ySLCPRV"
   },
   "outputs": [],
   "source": [
    "PARAM <- list()\n",
    "PARAM$experimento <- 440\n",
    "PARAM$semilla_primigenia <- 102191\n",
    "\n",
    "PARAM$ranger$num.trees <- 300 # cantidad de arboles\n",
    "PARAM$ranger$mtry <- 13 # cantidad de atributos que participan en cada split\n",
    "PARAM$ranger$min.node.size <- 50 # tamaño minimo de las hojas\n",
    "PARAM$ranger$max.depth <- 10 # 0 significa profundidad infinita\n"
   ]
  },
  {
   "cell_type": "code",
   "execution_count": null,
   "metadata": {
    "id": "1gZD6ZMvCPRV"
   },
   "outputs": [],
   "source": [
    "# carpeta de trabajo\n",
    "setwd(\"/content/buckets/b1/exp\")\n",
    "experimento_folder <- paste0(\"KA\", PARAM$experimento)\n",
    "dir.create(experimento_folder, showWarnings=FALSE)\n",
    "setwd( paste0(\"/content/buckets/b1/exp/\", experimento_folder ))"
   ]
  },
  {
   "cell_type": "code",
   "execution_count": null,
   "metadata": {
    "id": "Xi0emX2ECPRV"
   },
   "outputs": [],
   "source": [
    "# lectura del dataset\n",
    "dataset <- fread(\"/content/datasets/dataset_pequeno.csv\")"
   ]
  },
  {
   "cell_type": "code",
   "execution_count": null,
   "metadata": {
    "id": "-3XuBeDy1Ugj"
   },
   "outputs": [],
   "source": [
    "#  estas dos lineas estan relacionadas con el Data Drifting\n",
    "# asigno un valor muy negativo\n",
    "\n",
    "if( \"Master_Finiciomora\" %in% colnames(dataset) )\n",
    "  dataset[ is.na(Master_Finiciomora) , Master_Finiciomora := -999 ]\n",
    "\n",
    "if( \"Visa_Finiciomora\" %in% colnames(dataset) )\n",
    "  dataset[ is.na(Visa_Finiciomora) , Visa_Finiciomora :=  -999 ]\n"
   ]
  },
  {
   "cell_type": "code",
   "execution_count": null,
   "metadata": {
    "id": "RA3cSJ6KaGwA"
   },
   "outputs": [],
   "source": [
    "# defino los dataset de entrenamiento y aplicacion\n",
    "dtrain <- dataset[foto_mes == 202107]\n",
    "dfuture <- dataset[foto_mes == 202109]"
   ]
  },
  {
   "cell_type": "code",
   "execution_count": null,
   "metadata": {
    "id": "T6Zr06HB1kMU"
   },
   "outputs": [],
   "source": [
    "set.seed( PARAM$semilla_primigenia ) # Establezco la semilla aleatoria\n",
    "\n",
    "\n",
    "# ranger necesita la clase de tipo factor\n",
    "factorizado <- as.factor(dtrain$clase_ternaria)\n",
    "dtrain[, clase_ternaria := factorizado]"
   ]
  },
  {
   "cell_type": "code",
   "execution_count": null,
   "metadata": {
    "id": "U2vkkByI1oPl"
   },
   "outputs": [],
   "source": [
    "# Ranger NO acepta valores nulos\n",
    "# Leo Breiman, ¿por que le temias a los nulos?\n",
    "# imputo los nulos, ya que ranger no acepta nulos\n",
    "dtrain <- na.roughfix(dtrain)\n",
    "\n"
   ]
  },
  {
   "cell_type": "code",
   "execution_count": null,
   "metadata": {
    "id": "TI9_5pii2zCF"
   },
   "outputs": [],
   "source": [
    "setorder(dtrain, clase_ternaria) # primero quedan los BAJA+1, BAJA+2, CONTINUA\n",
    "\n",
    "# genero el modelo de Random Forest llamando a ranger()\n",
    "modelo <- ranger(\n",
    "  formula= \"clase_ternaria ~ .\",\n",
    "  data= dtrain,\n",
    "  probability= TRUE, # para que devuelva las probabilidades\n",
    "  num.trees= PARAM$ranger$num.trees,\n",
    "  mtry= PARAM$ranger$mtry,\n",
    "  min.node.size= PARAM$ranger$min.node.size,\n",
    "  max.depth= PARAM$ranger$max.depth\n",
    ")\n"
   ]
  },
  {
   "cell_type": "code",
   "execution_count": null,
   "metadata": {
    "id": "xjWjhp9c20fe"
   },
   "outputs": [],
   "source": [
    "# Carpinteria necesaria sobre  dfuture\n",
    "# como quiere la Estadistica Clasica, imputar nulos por separado\n",
    "# ( aunque en este caso ya tengo los datos del futuro de antemano\n",
    "#  pero bueno, sigamos el librito de estos fundamentalistas a rajatabla ...\n",
    "\n",
    "dfuture[, clase_ternaria := NULL]\n",
    "dfuture <- na.roughfix(dfuture)"
   ]
  },
  {
   "cell_type": "code",
   "execution_count": null,
   "metadata": {
    "id": "iJxk4qsd9kgX"
   },
   "outputs": [],
   "source": [
    "tb_prediccion <- dfuture[, list(numero_de_cliente)]"
   ]
  },
  {
   "cell_type": "code",
   "execution_count": null,
   "metadata": {
    "id": "kkTGHx2K3Mjq"
   },
   "outputs": [],
   "source": [
    "# aplico el modelo a los datos que no tienen clase\n",
    "# aplico el modelo recien creado a los datos del futuro\n",
    "prediccion <- predict(modelo, dfuture)\n",
    "\n",
    "tb_prediccion[, prob := prediccion$predictions[, \"BAJA+2\"] ]"
   ]
  },
  {
   "cell_type": "code",
   "execution_count": null,
   "metadata": {
    "id": "F8O_PLWo3aIQ"
   },
   "outputs": [],
   "source": [
    "tb_prediccion[, Predicted := as.numeric(prob > (1/40))]"
   ]
  },
  {
   "cell_type": "code",
   "execution_count": null,
   "metadata": {
    "id": "uZLUbDIJ3tbx"
   },
   "outputs": [],
   "source": [
    "archivo_kaggle <- paste0(\"KA\", PARAM$experimento,\".csv\")\n",
    "\n",
    "# grabo el archivo\n",
    "fwrite( tb_prediccion[, list(numero_de_cliente, Predicted)],\n",
    " file= archivo_kaggle,\n",
    " sep= \",\"\n",
    ")\n"
   ]
  },
  {
   "cell_type": "code",
   "execution_count": null,
   "metadata": {
    "id": "-hciL1Jn3ThU"
   },
   "outputs": [],
   "source": [
    "# subida a Kaggle\n",
    "comando <- \"kaggle competitions submit\"\n",
    "competencia <- \"-c data-mining-analista-sr-2025-b\"\n",
    "arch <- paste( \"-f\", archivo_kaggle)\n",
    "\n",
    "mensaje <- paste0(\"-m 'num.trees=\", PARAM$ranger$num.trees, \"  mtry=\", PARAM$ranger$mtry, \"  min.node.size=\", PARAM$ranger$min.node.size, \" max.depth=\", PARAM$ranger$max.depth, \"'\" )\n",
    "linea <- paste( comando, competencia, arch, mensaje)\n",
    "salida <- system(linea, intern= TRUE)\n",
    "cat(salida)"
   ]
  },
  {
   "cell_type": "code",
   "execution_count": null,
   "metadata": {
    "id": "CeCMEUCWOpLF"
   },
   "outputs": [],
   "source": [
    "format(Sys.time(), \"%a %b %d %X %Y\")"
   ]
  },
  {
   "cell_type": "markdown",
   "metadata": {
    "id": "UMr6Z1enOyd3"
   },
   "source": [
    "\n",
    "\n",
    "---\n",
    "\n"
   ]
  },
  {
   "cell_type": "markdown",
   "metadata": {
    "id": "lO4QwOEU-xPe"
   },
   "source": [
    "### 4.5  Random Forest  optimizacion de hiperparámetros"
   ]
  },
  {
   "cell_type": "markdown",
   "metadata": {
    "id": "75FU3LjSF2uN"
   },
   "source": [
    "Random Forest es un algoritmo que quedó obsoleto luego de la aparición de  XGBoost y LightGBM, debido a lo lento de las librerías que lo implementan.\n",
    "<br> El siguiente script se brinda simplemente a modo pedagógico, advirtiendo a los alumn@s que demanda más de 24 horas para correr, y los resultados son mediocres."
   ]
  },
  {
   "cell_type": "markdown",
   "metadata": {
    "id": "aJBO5Dcb_B7s"
   },
   "source": [
    "limpio el ambiente de R"
   ]
  },
  {
   "cell_type": "code",
   "execution_count": 1,
   "metadata": {
    "id": "Q_E3YLs2Pulh"
   },
   "outputs": [
    {
     "data": {
      "text/html": [
       "'Mon Sep 01 02:47:32 2025'"
      ],
      "text/latex": [
       "'Mon Sep 01 02:47:32 2025'"
      ],
      "text/markdown": [
       "'Mon Sep 01 02:47:32 2025'"
      ],
      "text/plain": [
       "[1] \"Mon Sep 01 02:47:32 2025\""
      ]
     },
     "metadata": {},
     "output_type": "display_data"
    }
   ],
   "source": [
    "format(Sys.time(), \"%a %b %d %X %Y\")"
   ]
  },
  {
   "cell_type": "code",
   "execution_count": 2,
   "metadata": {
    "id": "HPKFI6yP_B7s"
   },
   "outputs": [
    {
     "data": {
      "text/html": [
       "<table class=\"dataframe\">\n",
       "<caption>A matrix: 2 × 6 of type dbl</caption>\n",
       "<thead>\n",
       "\t<tr><th></th><th scope=col>used</th><th scope=col>(Mb)</th><th scope=col>gc trigger</th><th scope=col>(Mb)</th><th scope=col>max used</th><th scope=col>(Mb)</th></tr>\n",
       "</thead>\n",
       "<tbody>\n",
       "\t<tr><th scope=row>Ncells</th><td> 656982</td><td>35.1</td><td>1439402</td><td>76.9</td><td>1431529</td><td>76.5</td></tr>\n",
       "\t<tr><th scope=row>Vcells</th><td>1225133</td><td> 9.4</td><td>8388608</td><td>64.0</td><td>1924955</td><td>14.7</td></tr>\n",
       "</tbody>\n",
       "</table>\n"
      ],
      "text/latex": [
       "A matrix: 2 × 6 of type dbl\n",
       "\\begin{tabular}{r|llllll}\n",
       "  & used & (Mb) & gc trigger & (Mb) & max used & (Mb)\\\\\n",
       "\\hline\n",
       "\tNcells &  656982 & 35.1 & 1439402 & 76.9 & 1431529 & 76.5\\\\\n",
       "\tVcells & 1225133 &  9.4 & 8388608 & 64.0 & 1924955 & 14.7\\\\\n",
       "\\end{tabular}\n"
      ],
      "text/markdown": [
       "\n",
       "A matrix: 2 × 6 of type dbl\n",
       "\n",
       "| <!--/--> | used | (Mb) | gc trigger | (Mb) | max used | (Mb) |\n",
       "|---|---|---|---|---|---|---|\n",
       "| Ncells |  656982 | 35.1 | 1439402 | 76.9 | 1431529 | 76.5 |\n",
       "| Vcells | 1225133 |  9.4 | 8388608 | 64.0 | 1924955 | 14.7 |\n",
       "\n"
      ],
      "text/plain": [
       "       used    (Mb) gc trigger (Mb) max used (Mb)\n",
       "Ncells  656982 35.1 1439402    76.9 1431529  76.5\n",
       "Vcells 1225133  9.4 8388608    64.0 1924955  14.7"
      ]
     },
     "metadata": {},
     "output_type": "display_data"
    }
   ],
   "source": [
    "# limpio la memoria\n",
    "rm(list=ls(all.names=TRUE)) # remove all objects\n",
    "gc(full=TRUE, verbose=FALSE) # garbage collection"
   ]
  },
  {
   "cell_type": "markdown",
   "metadata": {
    "id": "vd4lv_Eb_B7t"
   },
   "source": [
    "**ranger** es una de las muchas librerías en lenguage R que implementa el algoritmo *Random Forest*, tiene la ventaja que corre el paralelo, utilizando todos los nucleos del procesador."
   ]
  },
  {
   "cell_type": "code",
   "execution_count": 3,
   "metadata": {
    "id": "B6X8U6XF_B7t"
   },
   "outputs": [
    {
     "name": "stderr",
     "output_type": "stream",
     "text": [
      "Loading required package: data.table\n",
      "\n",
      "Loading required package: rpart\n",
      "\n",
      "Loading required package: parallel\n",
      "\n",
      "Loading required package: primes\n",
      "\n",
      "Loading required package: rlist\n",
      "\n",
      "Loading required package: ranger\n",
      "\n",
      "Loading required package: randomForest\n",
      "\n",
      "randomForest 4.7-1.2\n",
      "\n",
      "Type rfNews() to see new features/changes/bug fixes.\n",
      "\n",
      "\n",
      "Attaching package: ‘randomForest’\n",
      "\n",
      "\n",
      "The following object is masked from ‘package:ranger’:\n",
      "\n",
      "    importance\n",
      "\n",
      "\n",
      "Loading required package: DiceKriging\n",
      "\n",
      "Loading required package: mlrMBO\n",
      "\n",
      "Loading required package: mlr\n",
      "\n",
      "Loading required package: ParamHelpers\n",
      "\n",
      "Loading required package: smoof\n",
      "\n",
      "Loading required package: checkmate\n",
      "\n",
      "\n",
      "Attaching package: ‘checkmate’\n",
      "\n",
      "\n",
      "The following object is masked from ‘package:DiceKriging’:\n",
      "\n",
      "    checkNames\n",
      "\n",
      "\n"
     ]
    }
   ],
   "source": [
    "# cargo las librerias que necesito\n",
    "require(\"data.table\")\n",
    "require(\"rpart\")\n",
    "require(\"parallel\")\n",
    "\n",
    "if( !require(\"primes\") ) install.packages(\"primes\")\n",
    "require(\"primes\")\n",
    "\n",
    "if( !require(\"rlist\") ) install.packages(\"rlist\")\n",
    "require(\"rlist\")\n",
    "\n",
    "# ranger se usa para procesar\n",
    "if( !require(\"ranger\") ) install.packages(\"ranger\")\n",
    "require(\"ranger\")\n",
    "\n",
    "# randomForest  solo se usa para imputar nulos\n",
    "if( !require(\"randomForest\") ) install.packages(\"randomForest\")\n",
    "require(\"randomForest\")\n",
    "\n",
    "\n",
    "if( !require(\"DiceKriging\") ) install.packages(\"DiceKriging\")\n",
    "require(\"DiceKriging\")\n",
    "\n",
    "if( !require(\"mlrMBO\") ) install.packages(\"mlrMBO\")\n",
    "require(\"mlrMBO\")\n"
   ]
  },
  {
   "cell_type": "markdown",
   "metadata": {
    "id": "_qZHeAHdCJQ2"
   },
   "source": [
    "Aqui debe cargar SU semilla primigenia y"
   ]
  },
  {
   "cell_type": "code",
   "execution_count": 4,
   "metadata": {
    "id": "2y3Ai8F6CJQ2"
   },
   "outputs": [],
   "source": [
    "PARAM <- list()\n",
    "PARAM$experimento <- 450\n",
    "PARAM$semilla_primigenia <- 100183\n",
    "\n",
    "PARAM$hyperparametertuning$iteraciones <- 100\n",
    "PARAM$hyperparametertuning$xval_folds <- 5\n",
    "PARAM$hyperparametertuning$POS_ganancia <- 117000\n",
    "PARAM$hyperparametertuning$NEG_ganancia <- -3000\n",
    "\n",
    "# Estructura que define los hiperparámetros y sus rangos\n",
    "#  la letra L al final significa ENTERO\n",
    "# max.depth 0 significa profundidad infinita\n",
    "PARAM$hyperparametertuning$hs <- makeParamSet(\n",
    "  makeIntegerParam(\"num.trees\", lower= 20L, upper= 500L),\n",
    "  makeIntegerParam(\"max.depth\", lower= 1L, upper= 30L),\n",
    "  makeIntegerParam(\"min.node.size\", lower= 1L, upper= 1000L),\n",
    "  makeIntegerParam(\"mtry\", lower= 2L, upper= 50L)\n",
    ")"
   ]
  },
  {
   "cell_type": "code",
   "execution_count": 5,
   "metadata": {
    "id": "P8YNRVVbCvQT"
   },
   "outputs": [],
   "source": [
    "# graba a un archivo los componentes de lista\n",
    "# para el primer registro, escribe antes los titulos\n",
    "\n",
    "loguear <- function(\n",
    "    reg, arch= NA, folder= \"./work/\",\n",
    "    ext= \".txt\", verbose= TRUE) {\n",
    "\n",
    "  archivo <- arch\n",
    "  if (is.na(arch)) archivo <- paste0(folder, substitute(reg), ext)\n",
    "\n",
    "  if (!file.exists(archivo)) # Escribo los titulos\n",
    "    {\n",
    "      linea <- paste0(\n",
    "        \"fecha\\t\",\n",
    "        paste(list.names(reg), collapse= \"\\t\"), \"\\n\"\n",
    "      )\n",
    "\n",
    "      cat(linea, file= archivo)\n",
    "    }\n",
    "\n",
    "  linea <- paste0(\n",
    "    format(Sys.time(), \"%Y%m%d %H%M%S\"), \"\\t\", # la fecha y hora\n",
    "    gsub(\", \", \"\\t\", toString(reg)), \"\\n\"\n",
    "  )\n",
    "\n",
    "  cat(linea, file= archivo, append= TRUE) # grabo al archivo\n",
    "\n",
    "  if (verbose) cat(linea) # imprimo por pantalla\n",
    "}\n"
   ]
  },
  {
   "cell_type": "code",
   "execution_count": 6,
   "metadata": {
    "id": "NnPKiCHuCwVo"
   },
   "outputs": [],
   "source": [
    "# particionar agrega una columna llamada fold a un dataset\n",
    "#  que consiste en una particion estratificada segun agrupa\n",
    "# particionar( data=dataset, division=c(70,30),\n",
    "#  agrupa=clase_ternaria, seed=semilla)   crea una particion 70, 30\n",
    "# particionar( data=dataset, division=c(1,1,1,1,1),\n",
    "#   agrupa=clase_ternaria, seed=semilla)   divide el dataset en 5 particiones\n",
    "\n",
    "particionar <- function(\n",
    "    data, division, agrupa= \"\",\n",
    "    campo= \"fold\", start= 1, seed= NA) {\n",
    "\n",
    "  if (!is.na(seed)) set.seed(seed)\n",
    "\n",
    "  bloque <- unlist(mapply(function(x, y) {\n",
    "    rep(y, x)\n",
    "  }, division, seq(from= start, length.out= length(division))))\n",
    "\n",
    "  data[, (campo) := sample(rep(bloque, ceiling(.N / length(bloque))))[1:.N],\n",
    "    by= agrupa\n",
    "  ]\n",
    "}\n"
   ]
  },
  {
   "cell_type": "code",
   "execution_count": 7,
   "metadata": {
    "id": "kZSD7pUUCy58"
   },
   "outputs": [],
   "source": [
    "# es un paso del Cross Validation\n",
    "# utiliza el fold  fold_test para testear y el resto para entrenar\n",
    "\n",
    "ranger_Simple <- function(fold_test, pdata, param) {\n",
    "  # genero el modelo\n",
    "\n",
    "  set.seed(PARAM$semillas[2])\n",
    "\n",
    "  modelo <- ranger(\n",
    "    formula= \"clase_binaria ~ .\",\n",
    "    data= pdata[fold != fold_test],\n",
    "    probability= TRUE, # para que devuelva las probabilidades\n",
    "    num.trees= param$num.trees,\n",
    "    mtry= param$mtry,\n",
    "    min.node.size= param$min.node.size,\n",
    "    max.depth= param$max.depth\n",
    "  )\n",
    "\n",
    "  prediccion <- predict(modelo, pdata[fold == fold_test])\n",
    "\n",
    "  ganancia_testing <- pdata[\n",
    "    fold == fold_test,\n",
    "    sum((prediccion$predictions[, \"POS\"] > 1 / 40) *\n",
    "      ifelse(clase_binaria == \"POS\",\n",
    "        PARAM$hyperparametertuning$POS_ganancia,\n",
    "        PARAM$hyperparametertuning$NEG_ganancia\n",
    "      ))\n",
    "  ]\n",
    "\n",
    "  return(ganancia_testing)\n",
    "}\n"
   ]
  },
  {
   "cell_type": "code",
   "execution_count": 8,
   "metadata": {
    "id": "ca7cVnUJC2Yz"
   },
   "outputs": [],
   "source": [
    "# realiza Cross Validation, promediando las ganancias de los folds de testing\n",
    "\n",
    "ranger_CrossValidation <- function(\n",
    "    data, param,\n",
    "    pcampos_buenos, qfolds, pagrupa, semilla) {\n",
    "\n",
    "  divi <- rep(1, qfolds)\n",
    "  particionar(data, divi, seed= semilla, agrupa= pagrupa)\n",
    "\n",
    "  ganancias <- mcmapply(ranger_Simple,\n",
    "    seq(qfolds), # 1 2 3 4 5\n",
    "    MoreArgs= list(data, param),\n",
    "    SIMPLIFY= FALSE,\n",
    "    mc.cores= 1\n",
    "  ) # dejar esto en  1, porque ranger ya corre en paralelo\n",
    "\n",
    "  data[, fold := NULL] # elimino el campo fold\n",
    "\n",
    "  # devuelvo la ganancia promedio normalizada\n",
    "  ganancia_promedio <- mean(unlist(ganancias))\n",
    "  ganancia_promedio_normalizada <- ganancia_promedio * qfolds\n",
    "\n",
    "  return(ganancia_promedio_normalizada)\n",
    "}"
   ]
  },
  {
   "cell_type": "code",
   "execution_count": 9,
   "metadata": {
    "id": "ZXNGJGOiC5lT"
   },
   "outputs": [],
   "source": [
    "# esta funcion solo puede recibir los parametros que se estan optimizando\n",
    "# el resto de los parametros se pasan como variables globales\n",
    "\n",
    "EstimarGanancia_ranger <- function(x) {\n",
    "  GLOBAL_iteracion <<- GLOBAL_iteracion + 1\n",
    "\n",
    "  xval_folds <- PARAM$hyperparametertuning$xval_folds\n",
    "\n",
    "  ganancia <- ranger_CrossValidation(dataset,\n",
    "    param= x,\n",
    "    qfolds= xval_folds,\n",
    "    pagrupa= \"clase_binaria\",\n",
    "    semilla= PARAM$semillas[1]\n",
    "  )\n",
    "\n",
    "  # logueo\n",
    "  xx <- x\n",
    "  xx$xval_folds <- xval_folds\n",
    "  xx$ganancia <- ganancia\n",
    "  xx$iteracion <- GLOBAL_iteracion\n",
    "  loguear(xx, arch= klog)\n",
    "\n",
    "  # si es ganancia superadora la almaceno en mejor\n",
    "  if( ganancia > GLOBAL_mejor ) {\n",
    "    GLOBAL_mejor <<- ganancia\n",
    "    loguear(xx, arch= klog_mejor)\n",
    "  }\n",
    "\n",
    "\n",
    "  return(ganancia)\n",
    "}\n"
   ]
  },
  {
   "cell_type": "markdown",
   "metadata": {
    "id": "P7Pw1KLeE3UH"
   },
   "source": [
    "aqui se inicia el programa"
   ]
  },
  {
   "cell_type": "code",
   "execution_count": 10,
   "metadata": {
    "id": "w1lb19whCJQ3"
   },
   "outputs": [],
   "source": [
    "# carpeta de trabajo\n",
    "setwd(\"/content/buckets/b1/exp\")\n",
    "experimento_folder <- paste0(\"HT\", PARAM$experimento)\n",
    "dir.create(experimento_folder, showWarnings=FALSE)\n",
    "setwd( paste0(\"/content/buckets/b1/exp/\", experimento_folder ))"
   ]
  },
  {
   "cell_type": "code",
   "execution_count": 11,
   "metadata": {
    "id": "fbLF3Vr0DAeJ"
   },
   "outputs": [],
   "source": [
    "# genero numeros primos\n",
    "primos <- generate_primes(min= 100000, max= 1000000)\n",
    "set.seed(PARAM$semilla_primigenia) # inicializo\n",
    "# me quedo con PARAM$qsemillas   semillas\n",
    "PARAM$semillas <- sample(primos, 2 )\n"
   ]
  },
  {
   "cell_type": "code",
   "execution_count": 12,
   "metadata": {
    "id": "xcOJpoFvCJQ3"
   },
   "outputs": [],
   "source": [
    "# lectura del dataset\n",
    "dataset <- fread(\"/content/datasets/dataset_pequeno.csv\", stringsAsFactors= TRUE)"
   ]
  },
  {
   "cell_type": "code",
   "execution_count": 13,
   "metadata": {
    "id": "JorOk_A8EhSy"
   },
   "outputs": [],
   "source": [
    "dataset <- dataset[foto_mes %in% c(202107)]"
   ]
  },
  {
   "cell_type": "code",
   "execution_count": 14,
   "metadata": {
    "id": "lVbXD_l7CJQ4"
   },
   "outputs": [],
   "source": [
    "#  estas dos lineas estan relacionadas con el Data Drifting\n",
    "# asigno un valor muy negativo\n",
    "\n",
    "if( \"Master_Finiciomora\" %in% colnames(dataset) )\n",
    "  dataset[ is.na(Master_Finiciomora) , Master_Finiciomora := -999 ]\n",
    "\n",
    "if( \"Visa_Finiciomora\" %in% colnames(dataset) )\n",
    "  dataset[ is.na(Visa_Finiciomora) , Visa_Finiciomora :=  -999 ]\n"
   ]
  },
  {
   "cell_type": "code",
   "execution_count": 15,
   "metadata": {
    "id": "a82SxgKnCJQ5"
   },
   "outputs": [],
   "source": [
    "set.seed( PARAM$semilla_primigenia ) # Establezco la semilla aleatoria"
   ]
  },
  {
   "cell_type": "code",
   "execution_count": 16,
   "metadata": {
    "id": "CsRYGGeN-1ID"
   },
   "outputs": [],
   "source": [
    "# en estos archivos quedan los resultados\n",
    "kbayesiana <- paste0(\"HT\", PARAM$experimento, \".RDATA\")\n",
    "klog <- paste0(\"HT\", PARAM$experimento, \".txt\")\n",
    "klog_mejor <- paste0(\"HT\", PARAM$experimento, \"_mejor.txt\")\n",
    "\n",
    "GLOBAL_iteracion <- 0 # inicializo la variable global\n",
    "GLOBAL_mejor <- -Inf\n",
    "\n",
    "# si ya existe el archivo log, traigo hasta donde llegue\n",
    "if (file.exists(klog)) {\n",
    "  tabla_log <- fread(klog)\n",
    "  GLOBAL_iteracion <- nrow(tabla_log)\n",
    "}\n"
   ]
  },
  {
   "cell_type": "code",
   "execution_count": 17,
   "metadata": {
    "id": "7G7O-ak-DPPV"
   },
   "outputs": [],
   "source": [
    "# paso a trabajar con clase binaria POS={BAJA+2}   NEG={BAJA+1, CONTINUA}\n",
    "dataset[, clase_binaria :=\n",
    "  as.factor(ifelse(clase_ternaria == \"BAJA+2\", \"POS\", \"NEG\"))]\n",
    "\n",
    "dataset[, clase_ternaria := NULL] # elimino la clase_ternaria, ya no la necesito\n"
   ]
  },
  {
   "cell_type": "code",
   "execution_count": 18,
   "metadata": {
    "id": "tJCnOoiuDV1_"
   },
   "outputs": [],
   "source": [
    "# Ranger NO acepta valores nulos\n",
    "# Leo Breiman, ¿por que le temias a los nulos?\n",
    "# imputo los nulos, ya que ranger no acepta nulos\n",
    "\n",
    "dataset <- na.roughfix(dataset)"
   ]
  },
  {
   "cell_type": "code",
   "execution_count": 19,
   "metadata": {
    "id": "2SOVysbADy9F"
   },
   "outputs": [],
   "source": [
    "# Aqui comienza la configuracion de la Bayesian Optimization\n",
    "\n",
    "configureMlr(show.learner.output = FALSE)\n",
    "\n",
    "funcion_optimizar <- EstimarGanancia_ranger\n",
    "\n",
    "# configuro la busqueda bayesiana,  los hiperparametros que se van a optimizar\n",
    "# por favor, no desesperarse por lo complejo\n",
    "obj.fun <- makeSingleObjectiveFunction(\n",
    "  fn= funcion_optimizar,\n",
    "  minimize= FALSE, # estoy Maximizando la ganancia\n",
    "  noisy= TRUE,\n",
    "  par.set= PARAM$hyperparametertuning$hs,\n",
    "  has.simple.signature= FALSE\n",
    ")\n",
    "\n",
    "ctrl <- makeMBOControl(save.on.disk.at.time= 600, save.file.path= kbayesiana)\n",
    "\n",
    "ctrl <- setMBOControlTermination(\n",
    "  ctrl,\n",
    "  iters= PARAM$hyperparametertuning$iteraciones\n",
    ")\n",
    "\n",
    "ctrl <- setMBOControlInfill(ctrl, crit= makeMBOInfillCritEI())\n",
    "\n",
    "surr.km <- makeLearner(\n",
    "  \"regr.km\",\n",
    "  predict.type= \"se\",\n",
    "  covtype= \"matern3_2\",\n",
    "  control= list(trace= TRUE)\n",
    ")\n"
   ]
  },
  {
   "cell_type": "code",
   "execution_count": 20,
   "metadata": {
    "id": "TissqCCHD1uZ"
   },
   "outputs": [
    {
     "name": "stderr",
     "output_type": "stream",
     "text": [
      "Computing y column(s) for design. Not provided.\n",
      "\n"
     ]
    },
    {
     "name": "stdout",
     "output_type": "stream",
     "text": [
      "Growing trees.. Progress: 25%. Estimated remaining time: 1 minute, 33 seconds.\n",
      "Growing trees.. Progress: 50%. Estimated remaining time: 1 minute, 1 seconds.\n",
      "Growing trees.. Progress: 75%. Estimated remaining time: 30 seconds.\n",
      "Growing trees.. Progress: 99%. Estimated remaining time: 0 seconds.\n",
      "Growing trees.. Progress: 24%. Estimated remaining time: 1 minute, 36 seconds.\n",
      "Growing trees.. Progress: 49%. Estimated remaining time: 1 minute, 5 seconds.\n",
      "Growing trees.. Progress: 75%. Estimated remaining time: 31 seconds.\n",
      "Growing trees.. Progress: 99%. Estimated remaining time: 1 seconds.\n",
      "Growing trees.. Progress: 24%. Estimated remaining time: 1 minute, 36 seconds.\n",
      "Growing trees.. Progress: 49%. Estimated remaining time: 1 minute, 4 seconds.\n",
      "Growing trees.. Progress: 75%. Estimated remaining time: 30 seconds.\n",
      "Growing trees.. Progress: 99%. Estimated remaining time: 1 seconds.\n",
      "Growing trees.. Progress: 25%. Estimated remaining time: 1 minute, 32 seconds.\n",
      "Growing trees.. Progress: 50%. Estimated remaining time: 1 minute, 1 seconds.\n",
      "Growing trees.. Progress: 77%. Estimated remaining time: 28 seconds.\n",
      "Growing trees.. Progress: 24%. Estimated remaining time: 1 minute, 38 seconds.\n",
      "Growing trees.. Progress: 50%. Estimated remaining time: 1 minute, 2 seconds.\n",
      "Growing trees.. Progress: 75%. Estimated remaining time: 32 seconds.\n",
      "Growing trees.. Progress: 99%. Estimated remaining time: 0 seconds.\n",
      "20250901 030055\t326\t7\t299\t39\t5\t53577000\t1\n",
      "20250901 030058\t326\t7\t299\t39\t5\t53577000\t1\n",
      "Growing trees.. Progress: 15%. Estimated remaining time: 2 minutes, 51 seconds.\n",
      "Growing trees.. Progress: 31%. Estimated remaining time: 2 minutes, 21 seconds.\n",
      "Growing trees.. Progress: 47%. Estimated remaining time: 1 minute, 47 seconds.\n",
      "Growing trees.. Progress: 63%. Estimated remaining time: 1 minute, 14 seconds.\n",
      "Growing trees.. Progress: 79%. Estimated remaining time: 42 seconds.\n",
      "Growing trees.. Progress: 95%. Estimated remaining time: 10 seconds.\n",
      "Growing trees.. Progress: 15%. Estimated remaining time: 2 minutes, 55 seconds.\n",
      "Growing trees.. Progress: 30%. Estimated remaining time: 2 minutes, 24 seconds.\n",
      "Growing trees.. Progress: 45%. Estimated remaining time: 1 minute, 53 seconds.\n",
      "Growing trees.. Progress: 61%. Estimated remaining time: 1 minute, 20 seconds.\n",
      "Growing trees.. Progress: 76%. Estimated remaining time: 49 seconds.\n",
      "Growing trees.. Progress: 91%. Estimated remaining time: 18 seconds.\n",
      "Growing trees.. Progress: 15%. Estimated remaining time: 2 minutes, 55 seconds.\n",
      "Growing trees.. Progress: 31%. Estimated remaining time: 2 minutes, 18 seconds.\n",
      "Growing trees.. Progress: 46%. Estimated remaining time: 1 minute, 48 seconds.\n",
      "Growing trees.. Progress: 62%. Estimated remaining time: 1 minute, 16 seconds.\n",
      "Growing trees.. Progress: 78%. Estimated remaining time: 44 seconds.\n",
      "Growing trees.. Progress: 94%. Estimated remaining time: 12 seconds.\n",
      "Growing trees.. Progress: 15%. Estimated remaining time: 2 minutes, 59 seconds.\n",
      "Growing trees.. Progress: 30%. Estimated remaining time: 2 minutes, 24 seconds.\n",
      "Growing trees.. Progress: 45%. Estimated remaining time: 1 minute, 53 seconds.\n",
      "Growing trees.. Progress: 61%. Estimated remaining time: 1 minute, 20 seconds.\n",
      "Growing trees.. Progress: 77%. Estimated remaining time: 47 seconds.\n",
      "Growing trees.. Progress: 92%. Estimated remaining time: 15 seconds.\n",
      "Growing trees.. Progress: 15%. Estimated remaining time: 2 minutes, 51 seconds.\n",
      "Growing trees.. Progress: 31%. Estimated remaining time: 2 minutes, 17 seconds.\n",
      "Growing trees.. Progress: 47%. Estimated remaining time: 1 minute, 44 seconds.\n",
      "Growing trees.. Progress: 63%. Estimated remaining time: 1 minute, 12 seconds.\n",
      "Growing trees.. Progress: 79%. Estimated remaining time: 40 seconds.\n",
      "Growing trees.. Progress: 96%. Estimated remaining time: 8 seconds.\n",
      "20250901 031913\t366\t23\t595\t20\t5\t54600000\t2\n",
      "20250901 031915\t366\t23\t595\t20\t5\t54600000\t2\n",
      "Growing trees.. Progress: 48%. Estimated remaining time: 32 seconds.\n",
      "Growing trees.. Progress: 97%. Estimated remaining time: 1 seconds.\n",
      "Growing trees.. Progress: 46%. Estimated remaining time: 36 seconds.\n",
      "Growing trees.. Progress: 93%. Estimated remaining time: 4 seconds.\n",
      "Growing trees.. Progress: 48%. Estimated remaining time: 34 seconds.\n",
      "Growing trees.. Progress: 98%. Estimated remaining time: 1 seconds.\n",
      "Growing trees.. Progress: 48%. Estimated remaining time: 34 seconds.\n",
      "Growing trees.. Progress: 95%. Estimated remaining time: 2 seconds.\n",
      "Growing trees.. Progress: 47%. Estimated remaining time: 35 seconds.\n",
      "Growing trees.. Progress: 98%. Estimated remaining time: 1 seconds.\n",
      "20250901 032536\t260\t28\t702\t9\t5\t54465000\t3\n",
      "20250901 032650\t29\t9\t353\t25\t5\t53121000\t4\n",
      "Growing trees.. Progress: 13%. Estimated remaining time: 3 minutes, 18 seconds.\n",
      "Growing trees.. Progress: 27%. Estimated remaining time: 2 minutes, 47 seconds.\n",
      "Growing trees.. Progress: 40%. Estimated remaining time: 2 minutes, 18 seconds.\n",
      "Growing trees.. Progress: 54%. Estimated remaining time: 1 minute, 47 seconds.\n",
      "Growing trees.. Progress: 68%. Estimated remaining time: 1 minute, 13 seconds.\n",
      "Growing trees.. Progress: 82%. Estimated remaining time: 41 seconds.\n",
      "Growing trees.. Progress: 96%. Estimated remaining time: 10 seconds.\n",
      "Growing trees.. Progress: 12%. Estimated remaining time: 3 minutes, 37 seconds.\n",
      "Growing trees.. Progress: 25%. Estimated remaining time: 3 minutes, 6 seconds.\n",
      "Growing trees.. Progress: 38%. Estimated remaining time: 2 minutes, 31 seconds.\n",
      "Growing trees.. Progress: 52%. Estimated remaining time: 1 minute, 58 seconds.\n",
      "Growing trees.. Progress: 65%. Estimated remaining time: 1 minute, 24 seconds.\n",
      "Growing trees.. Progress: 79%. Estimated remaining time: 51 seconds.\n",
      "Growing trees.. Progress: 92%. Estimated remaining time: 18 seconds.\n",
      "Growing trees.. Progress: 13%. Estimated remaining time: 3 minutes, 31 seconds.\n",
      "Growing trees.. Progress: 26%. Estimated remaining time: 2 minutes, 56 seconds.\n",
      "Growing trees.. Progress: 40%. Estimated remaining time: 2 minutes, 19 seconds.\n",
      "Growing trees.. Progress: 54%. Estimated remaining time: 1 minute, 47 seconds.\n",
      "Growing trees.. Progress: 68%. Estimated remaining time: 1 minute, 14 seconds.\n",
      "Growing trees.. Progress: 82%. Estimated remaining time: 42 seconds.\n",
      "Growing trees.. Progress: 96%. Estimated remaining time: 10 seconds.\n",
      "Growing trees.. Progress: 12%. Estimated remaining time: 3 minutes, 44 seconds.\n",
      "Growing trees.. Progress: 26%. Estimated remaining time: 3 minutes, 3 seconds.\n",
      "Growing trees.. Progress: 39%. Estimated remaining time: 2 minutes, 26 seconds.\n",
      "Growing trees.. Progress: 52%. Estimated remaining time: 1 minute, 56 seconds.\n",
      "Growing trees.. Progress: 65%. Estimated remaining time: 1 minute, 23 seconds.\n",
      "Growing trees.. Progress: 79%. Estimated remaining time: 49 seconds.\n",
      "Growing trees.. Progress: 92%. Estimated remaining time: 18 seconds.\n",
      "Growing trees.. Progress: 13%. Estimated remaining time: 3 minutes, 31 seconds.\n",
      "Growing trees.. Progress: 27%. Estimated remaining time: 2 minutes, 50 seconds.\n",
      "Growing trees.. Progress: 41%. Estimated remaining time: 2 minutes, 12 seconds.\n",
      "Growing trees.. Progress: 55%. Estimated remaining time: 1 minute, 39 seconds.\n",
      "Growing trees.. Progress: 70%. Estimated remaining time: 1 minute, 7 seconds.\n",
      "Growing trees.. Progress: 84%. Estimated remaining time: 36 seconds.\n",
      "Growing trees.. Progress: 98%. Estimated remaining time: 5 seconds.\n",
      "20250901 034724\t289\t24\t644\t29\t5\t54513000\t5\n",
      "Growing trees.. Progress: 32%. Estimated remaining time: 1 minute, 5 seconds.\n",
      "Growing trees.. Progress: 65%. Estimated remaining time: 33 seconds.\n",
      "Growing trees.. Progress: 98%. Estimated remaining time: 1 seconds.\n",
      "Growing trees.. Progress: 32%. Estimated remaining time: 1 minute, 5 seconds.\n",
      "Growing trees.. Progress: 65%. Estimated remaining time: 33 seconds.\n",
      "Growing trees.. Progress: 99%. Estimated remaining time: 1 seconds.\n",
      "Growing trees.. Progress: 32%. Estimated remaining time: 1 minute, 7 seconds.\n",
      "Growing trees.. Progress: 65%. Estimated remaining time: 34 seconds.\n",
      "Growing trees.. Progress: 97%. Estimated remaining time: 2 seconds.\n",
      "Growing trees.. Progress: 32%. Estimated remaining time: 1 minute, 5 seconds.\n",
      "Growing trees.. Progress: 65%. Estimated remaining time: 32 seconds.\n",
      "Growing trees.. Progress: 98%. Estimated remaining time: 1 seconds.\n",
      "Growing trees.. Progress: 32%. Estimated remaining time: 1 minute, 5 seconds.\n",
      "Growing trees.. Progress: 66%. Estimated remaining time: 32 seconds.\n",
      "Growing trees.. Progress: 100%. Estimated remaining time: 0 seconds.\n",
      "20250901 035559\t437\t5\t514\t34\t5\t53496000\t6\n",
      "Growing trees.. Progress: 43%. Estimated remaining time: 40 seconds.\n",
      "Growing trees.. Progress: 88%. Estimated remaining time: 8 seconds.\n",
      "Growing trees.. Progress: 43%. Estimated remaining time: 40 seconds.\n",
      "Growing trees.. Progress: 88%. Estimated remaining time: 8 seconds.\n",
      "Growing trees.. Progress: 42%. Estimated remaining time: 43 seconds.\n",
      "Growing trees.. Progress: 86%. Estimated remaining time: 10 seconds.\n",
      "Growing trees.. Progress: 42%. Estimated remaining time: 43 seconds.\n",
      "Growing trees.. Progress: 86%. Estimated remaining time: 9 seconds.\n",
      "Growing trees.. Progress: 45%. Estimated remaining time: 38 seconds.\n",
      "Growing trees.. Progress: 86%. Estimated remaining time: 10 seconds.\n",
      "20250901 040228\t65\t15\t771\t48\t5\t53202000\t7\n",
      "Growing trees.. Progress: 25%. Estimated remaining time: 1 minute, 33 seconds.\n",
      "Growing trees.. Progress: 49%. Estimated remaining time: 1 minute, 3 seconds.\n",
      "Growing trees.. Progress: 73%. Estimated remaining time: 34 seconds.\n",
      "Growing trees.. Progress: 97%. Estimated remaining time: 3 seconds.\n",
      "Growing trees.. Progress: 22%. Estimated remaining time: 1 minute, 48 seconds.\n",
      "Growing trees.. Progress: 46%. Estimated remaining time: 1 minute, 12 seconds.\n",
      "Growing trees.. Progress: 70%. Estimated remaining time: 39 seconds.\n",
      "Growing trees.. Progress: 96%. Estimated remaining time: 5 seconds.\n",
      "Growing trees.. Progress: 24%. Estimated remaining time: 1 minute, 38 seconds.\n",
      "Growing trees.. Progress: 50%. Estimated remaining time: 1 minute, 2 seconds.\n",
      "Growing trees.. Progress: 76%. Estimated remaining time: 29 seconds.\n",
      "Growing trees.. Progress: 99%. Estimated remaining time: 1 seconds.\n",
      "Growing trees.. Progress: 23%. Estimated remaining time: 1 minute, 42 seconds.\n",
      "Growing trees.. Progress: 47%. Estimated remaining time: 1 minute, 9 seconds.\n",
      "Growing trees.. Progress: 71%. Estimated remaining time: 37 seconds.\n",
      "Growing trees.. Progress: 96%. Estimated remaining time: 4 seconds.\n",
      "Growing trees.. Progress: 26%. Estimated remaining time: 1 minute, 26 seconds.\n",
      "Growing trees.. Progress: 52%. Estimated remaining time: 57 seconds.\n",
      "Growing trees.. Progress: 78%. Estimated remaining time: 26 seconds.\n",
      "20250901 041418\t293\t26\t221\t14\t5\t55710000\t8\n",
      "20250901 041420\t293\t26\t221\t14\t5\t55710000\t8\n",
      "20250901 041615\t118\t4\t95\t31\t5\t52569000\t9\n",
      "Growing trees.. Progress: 70%. Estimated remaining time: 13 seconds.\n",
      "Growing trees.. Progress: 69%. Estimated remaining time: 13 seconds.\n",
      "Growing trees.. Progress: 67%. Estimated remaining time: 15 seconds.\n",
      "Growing trees.. Progress: 69%. Estimated remaining time: 13 seconds.\n",
      "Growing trees.. Progress: 70%. Estimated remaining time: 13 seconds.\n",
      "20250901 042040\t161\t18\t992\t11\t5\t54405000\t10\n",
      "Growing trees.. Progress: 14%. Estimated remaining time: 3 minutes, 24 seconds.\n",
      "Growing trees.. Progress: 27%. Estimated remaining time: 2 minutes, 58 seconds.\n",
      "Growing trees.. Progress: 41%. Estimated remaining time: 2 minutes, 23 seconds.\n",
      "Growing trees.. Progress: 54%. Estimated remaining time: 1 minute, 50 seconds.\n",
      "Growing trees.. Progress: 67%. Estimated remaining time: 1 minute, 19 seconds.\n",
      "Growing trees.. Progress: 81%. Estimated remaining time: 46 seconds.\n",
      "Growing trees.. Progress: 94%. Estimated remaining time: 14 seconds.\n",
      "Growing trees.. Progress: 12%. Estimated remaining time: 3 minutes, 57 seconds.\n",
      "Growing trees.. Progress: 24%. Estimated remaining time: 3 minutes, 15 seconds.\n",
      "Growing trees.. Progress: 37%. Estimated remaining time: 2 minutes, 41 seconds.\n",
      "Growing trees.. Progress: 50%. Estimated remaining time: 2 minutes, 7 seconds.\n",
      "Growing trees.. Progress: 63%. Estimated remaining time: 1 minute, 32 seconds.\n",
      "Growing trees.. Progress: 76%. Estimated remaining time: 59 seconds.\n",
      "Growing trees.. Progress: 89%. Estimated remaining time: 26 seconds.\n",
      "Growing trees.. Progress: 98%. Estimated remaining time: 4 seconds.\n",
      "Growing trees.. Progress: 12%. Estimated remaining time: 3 minutes, 45 seconds.\n",
      "Growing trees.. Progress: 25%. Estimated remaining time: 3 minutes, 10 seconds.\n",
      "Growing trees.. Progress: 38%. Estimated remaining time: 2 minutes, 34 seconds.\n",
      "Growing trees.. Progress: 51%. Estimated remaining time: 2 minutes, 0 seconds.\n",
      "Growing trees.. Progress: 65%. Estimated remaining time: 1 minute, 26 seconds.\n",
      "Growing trees.. Progress: 78%. Estimated remaining time: 52 seconds.\n",
      "Growing trees.. Progress: 92%. Estimated remaining time: 19 seconds.\n",
      "Growing trees.. Progress: 12%. Estimated remaining time: 3 minutes, 38 seconds.\n",
      "Growing trees.. Progress: 25%. Estimated remaining time: 3 minutes, 13 seconds.\n",
      "Growing trees.. Progress: 38%. Estimated remaining time: 2 minutes, 36 seconds.\n",
      "Growing trees.. Progress: 51%. Estimated remaining time: 2 minutes, 2 seconds.\n",
      "Growing trees.. Progress: 64%. Estimated remaining time: 1 minute, 28 seconds.\n",
      "Growing trees.. Progress: 78%. Estimated remaining time: 54 seconds.\n",
      "Growing trees.. Progress: 91%. Estimated remaining time: 22 seconds.\n",
      "Growing trees.. Progress: 13%. Estimated remaining time: 3 minutes, 34 seconds.\n",
      "Growing trees.. Progress: 27%. Estimated remaining time: 2 minutes, 52 seconds.\n",
      "Growing trees.. Progress: 41%. Estimated remaining time: 2 minutes, 17 seconds.\n",
      "Growing trees.. Progress: 54%. Estimated remaining time: 1 minute, 47 seconds.\n",
      "Growing trees.. Progress: 69%. Estimated remaining time: 1 minute, 13 seconds.\n",
      "Growing trees.. Progress: 83%. Estimated remaining time: 38 seconds.\n",
      "Growing trees.. Progress: 97%. Estimated remaining time: 7 seconds.\n",
      "20250901 044213\t185\t29\t422\t43\t5\t51600000\t11\n",
      "Growing trees.. Progress: 51%. Estimated remaining time: 29 seconds.\n",
      "Growing trees.. Progress: 51%. Estimated remaining time: 29 seconds.\n",
      "Growing trees.. Progress: 100%. Estimated remaining time: 0 seconds.\n",
      "Growing trees.. Progress: 50%. Estimated remaining time: 30 seconds.\n",
      "Growing trees.. Progress: 99%. Estimated remaining time: 0 seconds.\n",
      "Growing trees.. Progress: 49%. Estimated remaining time: 31 seconds.\n",
      "Growing trees.. Progress: 98%. Estimated remaining time: 1 seconds.\n",
      "Growing trees.. Progress: 49%. Estimated remaining time: 31 seconds.\n",
      "Growing trees.. Progress: 100%. Estimated remaining time: 0 seconds.\n",
      "20250901 044852\t484\t16\t475\t4\t5\t53988000\t12\n",
      "20250901 044940\t223\t1\t843\t20\t5\t40140000\t13\n",
      "Growing trees.. Progress: 9%. Estimated remaining time: 5 minutes, 19 seconds.\n",
      "Growing trees.. Progress: 18%. Estimated remaining time: 4 minutes, 39 seconds.\n",
      "Growing trees.. Progress: 28%. Estimated remaining time: 4 minutes, 3 seconds.\n",
      "Growing trees.. Progress: 37%. Estimated remaining time: 3 minutes, 33 seconds.\n",
      "Growing trees.. Progress: 46%. Estimated remaining time: 3 minutes, 1 seconds.\n",
      "Growing trees.. Progress: 56%. Estimated remaining time: 2 minutes, 28 seconds.\n",
      "Growing trees.. Progress: 66%. Estimated remaining time: 1 minute, 55 seconds.\n",
      "Growing trees.. Progress: 75%. Estimated remaining time: 1 minute, 22 seconds.\n",
      "Growing trees.. Progress: 85%. Estimated remaining time: 49 seconds.\n",
      "Growing trees.. Progress: 95%. Estimated remaining time: 16 seconds.\n",
      "Growing trees.. Progress: 10%. Estimated remaining time: 4 minutes, 55 seconds.\n",
      "Growing trees.. Progress: 19%. Estimated remaining time: 4 minutes, 31 seconds.\n",
      "Growing trees.. Progress: 28%. Estimated remaining time: 4 minutes, 3 seconds.\n",
      "Growing trees.. Progress: 37%. Estimated remaining time: 3 minutes, 31 seconds.\n",
      "Growing trees.. Progress: 46%. Estimated remaining time: 2 minutes, 59 seconds.\n",
      "Growing trees.. Progress: 56%. Estimated remaining time: 2 minutes, 28 seconds.\n",
      "Growing trees.. Progress: 65%. Estimated remaining time: 1 minute, 56 seconds.\n",
      "Growing trees.. Progress: 74%. Estimated remaining time: 1 minute, 26 seconds.\n",
      "Growing trees.. Progress: 84%. Estimated remaining time: 55 seconds.\n",
      "Growing trees.. Progress: 93%. Estimated remaining time: 24 seconds.\n",
      "Growing trees.. Progress: 100%. Estimated remaining time: 0 seconds.\n",
      "Growing trees.. Progress: 8%. Estimated remaining time: 6 minutes, 7 seconds.\n",
      "Growing trees.. Progress: 17%. Estimated remaining time: 5 minutes, 10 seconds.\n",
      "Growing trees.. Progress: 26%. Estimated remaining time: 4 minutes, 28 seconds.\n",
      "Growing trees.. Progress: 35%. Estimated remaining time: 3 minutes, 52 seconds.\n",
      "Growing trees.. Progress: 44%. Estimated remaining time: 3 minutes, 17 seconds.\n",
      "Growing trees.. Progress: 53%. Estimated remaining time: 2 minutes, 44 seconds.\n",
      "Growing trees.. Progress: 63%. Estimated remaining time: 2 minutes, 10 seconds.\n",
      "Growing trees.. Progress: 72%. Estimated remaining time: 1 minute, 37 seconds.\n",
      "Growing trees.. Progress: 81%. Estimated remaining time: 1 minute, 4 seconds.\n",
      "Growing trees.. Progress: 91%. Estimated remaining time: 30 seconds.\n",
      "Growing trees.. Progress: 98%. Estimated remaining time: 6 seconds.\n",
      "Growing trees.. Progress: 9%. Estimated remaining time: 5 minutes, 10 seconds.\n",
      "Growing trees.. Progress: 18%. Estimated remaining time: 4 minutes, 40 seconds.\n",
      "Growing trees.. Progress: 28%. Estimated remaining time: 4 minutes, 3 seconds.\n",
      "Growing trees.. Progress: 37%. Estimated remaining time: 3 minutes, 31 seconds.\n",
      "Growing trees.. Progress: 47%. Estimated remaining time: 3 minutes, 0 seconds.\n",
      "Growing trees.. Progress: 56%. Estimated remaining time: 2 minutes, 27 seconds.\n",
      "Growing trees.. Progress: 66%. Estimated remaining time: 1 minute, 52 seconds.\n",
      "Growing trees.. Progress: 76%. Estimated remaining time: 1 minute, 20 seconds.\n",
      "Growing trees.. Progress: 86%. Estimated remaining time: 48 seconds.\n",
      "Growing trees.. Progress: 95%. Estimated remaining time: 17 seconds.\n",
      "Growing trees.. Progress: 9%. Estimated remaining time: 5 minutes, 19 seconds.\n",
      "Growing trees.. Progress: 18%. Estimated remaining time: 4 minutes, 35 seconds.\n",
      "Growing trees.. Progress: 28%. Estimated remaining time: 3 minutes, 58 seconds.\n",
      "Growing trees.. Progress: 38%. Estimated remaining time: 3 minutes, 27 seconds.\n",
      "Growing trees.. Progress: 47%. Estimated remaining time: 2 minutes, 56 seconds.\n",
      "Growing trees.. Progress: 57%. Estimated remaining time: 2 minutes, 24 seconds.\n",
      "Growing trees.. Progress: 66%. Estimated remaining time: 1 minute, 52 seconds.\n",
      "Growing trees.. Progress: 76%. Estimated remaining time: 1 minute, 21 seconds.\n",
      "Growing trees.. Progress: 86%. Estimated remaining time: 48 seconds.\n",
      "Growing trees.. Progress: 95%. Estimated remaining time: 15 seconds.\n",
      "20250901 051927\t463\t12\t8\t38\t5\t54039000\t14\n",
      "Growing trees.. Progress: 6%. Estimated remaining time: 7 minutes, 57 seconds.\n",
      "Growing trees.. Progress: 13%. Estimated remaining time: 7 minutes, 8 seconds.\n",
      "Growing trees.. Progress: 19%. Estimated remaining time: 6 minutes, 42 seconds.\n",
      "Growing trees.. Progress: 26%. Estimated remaining time: 6 minutes, 3 seconds.\n",
      "Growing trees.. Progress: 32%. Estimated remaining time: 5 minutes, 31 seconds.\n",
      "Growing trees.. Progress: 39%. Estimated remaining time: 4 minutes, 59 seconds.\n",
      "Growing trees.. Progress: 46%. Estimated remaining time: 4 minutes, 24 seconds.\n",
      "Growing trees.. Progress: 52%. Estimated remaining time: 3 minutes, 52 seconds.\n",
      "Growing trees.. Progress: 59%. Estimated remaining time: 3 minutes, 19 seconds.\n",
      "Growing trees.. Progress: 65%. Estimated remaining time: 2 minutes, 48 seconds.\n",
      "Growing trees.. Progress: 72%. Estimated remaining time: 2 minutes, 15 seconds.\n",
      "Growing trees.. Progress: 79%. Estimated remaining time: 1 minute, 43 seconds.\n",
      "Growing trees.. Progress: 85%. Estimated remaining time: 1 minute, 11 seconds.\n",
      "Growing trees.. Progress: 92%. Estimated remaining time: 40 seconds.\n",
      "Growing trees.. Progress: 97%. Estimated remaining time: 12 seconds.\n",
      "Growing trees.. Progress: 6%. Estimated remaining time: 8 minutes, 12 seconds.\n",
      "Growing trees.. Progress: 13%. Estimated remaining time: 7 minutes, 32 seconds.\n",
      "Growing trees.. Progress: 19%. Estimated remaining time: 6 minutes, 57 seconds.\n",
      "Growing trees.. Progress: 25%. Estimated remaining time: 6 minutes, 26 seconds.\n",
      "Growing trees.. Progress: 31%. Estimated remaining time: 5 minutes, 53 seconds.\n",
      "Growing trees.. Progress: 37%. Estimated remaining time: 5 minutes, 19 seconds.\n",
      "Growing trees.. Progress: 44%. Estimated remaining time: 4 minutes, 45 seconds.\n",
      "Growing trees.. Progress: 51%. Estimated remaining time: 4 minutes, 9 seconds.\n",
      "Growing trees.. Progress: 57%. Estimated remaining time: 3 minutes, 38 seconds.\n",
      "Growing trees.. Progress: 63%. Estimated remaining time: 3 minutes, 4 seconds.\n",
      "Growing trees.. Progress: 70%. Estimated remaining time: 2 minutes, 31 seconds.\n",
      "Growing trees.. Progress: 76%. Estimated remaining time: 1 minute, 58 seconds.\n",
      "Growing trees.. Progress: 83%. Estimated remaining time: 1 minute, 25 seconds.\n",
      "Growing trees.. Progress: 89%. Estimated remaining time: 52 seconds.\n",
      "Growing trees.. Progress: 96%. Estimated remaining time: 20 seconds.\n",
      "Growing trees.. Progress: 100%. Estimated remaining time: 1 seconds.\n",
      "Growing trees.. Progress: 6%. Estimated remaining time: 8 minutes, 3 seconds.\n",
      "Growing trees.. Progress: 13%. Estimated remaining time: 7 minutes, 18 seconds.\n",
      "Growing trees.. Progress: 19%. Estimated remaining time: 6 minutes, 46 seconds.\n",
      "Growing trees.. Progress: 25%. Estimated remaining time: 6 minutes, 16 seconds.\n",
      "Growing trees.. Progress: 32%. Estimated remaining time: 5 minutes, 39 seconds.\n",
      "Growing trees.. Progress: 38%. Estimated remaining time: 5 minutes, 4 seconds.\n",
      "Growing trees.. Progress: 45%. Estimated remaining time: 4 minutes, 31 seconds.\n",
      "Growing trees.. Progress: 52%. Estimated remaining time: 3 minutes, 59 seconds.\n",
      "Growing trees.. Progress: 58%. Estimated remaining time: 3 minutes, 28 seconds.\n",
      "Growing trees.. Progress: 64%. Estimated remaining time: 2 minutes, 57 seconds.\n",
      "Growing trees.. Progress: 71%. Estimated remaining time: 2 minutes, 24 seconds.\n",
      "Growing trees.. Progress: 77%. Estimated remaining time: 1 minute, 52 seconds.\n",
      "Growing trees.. Progress: 84%. Estimated remaining time: 1 minute, 20 seconds.\n",
      "Growing trees.. Progress: 90%. Estimated remaining time: 46 seconds.\n",
      "Growing trees.. Progress: 97%. Estimated remaining time: 14 seconds.\n",
      "Growing trees.. Progress: 6%. Estimated remaining time: 7 minutes, 57 seconds.\n",
      "Growing trees.. Progress: 13%. Estimated remaining time: 7 minutes, 8 seconds.\n",
      "Growing trees.. Progress: 19%. Estimated remaining time: 6 minutes, 49 seconds.\n",
      "Growing trees.. Progress: 25%. Estimated remaining time: 6 minutes, 16 seconds.\n",
      "Growing trees.. Progress: 32%. Estimated remaining time: 5 minutes, 39 seconds.\n",
      "Growing trees.. Progress: 38%. Estimated remaining time: 5 minutes, 5 seconds.\n",
      "Growing trees.. Progress: 45%. Estimated remaining time: 4 minutes, 34 seconds.\n",
      "Growing trees.. Progress: 51%. Estimated remaining time: 4 minutes, 3 seconds.\n",
      "Growing trees.. Progress: 58%. Estimated remaining time: 3 minutes, 28 seconds.\n",
      "Growing trees.. Progress: 64%. Estimated remaining time: 2 minutes, 55 seconds.\n",
      "Growing trees.. Progress: 71%. Estimated remaining time: 2 minutes, 23 seconds.\n",
      "Growing trees.. Progress: 77%. Estimated remaining time: 1 minute, 51 seconds.\n",
      "Growing trees.. Progress: 84%. Estimated remaining time: 1 minute, 20 seconds.\n",
      "Growing trees.. Progress: 90%. Estimated remaining time: 48 seconds.\n",
      "Growing trees.. Progress: 96%. Estimated remaining time: 17 seconds.\n",
      "Growing trees.. Progress: 100%. Estimated remaining time: 1 seconds.\n",
      "Growing trees.. Progress: 6%. Estimated remaining time: 7 minutes, 42 seconds.\n",
      "Growing trees.. Progress: 13%. Estimated remaining time: 7 minutes, 5 seconds.\n",
      "Growing trees.. Progress: 20%. Estimated remaining time: 6 minutes, 23 seconds.\n",
      "Growing trees.. Progress: 26%. Estimated remaining time: 5 minutes, 57 seconds.\n",
      "Growing trees.. Progress: 33%. Estimated remaining time: 5 minutes, 22 seconds.\n",
      "Growing trees.. Progress: 40%. Estimated remaining time: 4 minutes, 47 seconds.\n",
      "Growing trees.. Progress: 47%. Estimated remaining time: 4 minutes, 13 seconds.\n",
      "Growing trees.. Progress: 54%. Estimated remaining time: 3 minutes, 40 seconds.\n",
      "Growing trees.. Progress: 60%. Estimated remaining time: 3 minutes, 7 seconds.\n",
      "Growing trees.. Progress: 67%. Estimated remaining time: 2 minutes, 36 seconds.\n",
      "Growing trees.. Progress: 73%. Estimated remaining time: 2 minutes, 7 seconds.\n",
      "Growing trees.. Progress: 80%. Estimated remaining time: 1 minute, 35 seconds.\n",
      "Growing trees.. Progress: 87%. Estimated remaining time: 1 minute, 2 seconds.\n",
      "Growing trees.. Progress: 93%. Estimated remaining time: 32 seconds.\n",
      "Growing trees.. Progress: 99%. Estimated remaining time: 4 seconds.\n",
      "20250901 060238\t398\t20\t936\t47\t5\t54804000\t15\n",
      "20250901 060412\t84\t13\t150\t6\t5\t53088000\t16\n"
     ]
    },
    {
     "name": "stderr",
     "output_type": "stream",
     "text": [
      "[mbo] 0: num.trees=326; max.depth=7; min.node.size=299; mtry=39 : y = 5.36e+07 : 671.6 secs : initdesign\n",
      "\n",
      "[mbo] 0: num.trees=366; max.depth=23; min.node.size=595; mtry=20 : y = 5.46e+07 : 1096.6 secs : initdesign\n",
      "\n",
      "[mbo] 0: num.trees=260; max.depth=28; min.node.size=702; mtry=9 : y = 5.45e+07 : 380.6 secs : initdesign\n",
      "\n",
      "[mbo] 0: num.trees=29; max.depth=9; min.node.size=353; mtry=25 : y = 5.31e+07 : 73.8 secs : initdesign\n",
      "\n",
      "[mbo] 0: num.trees=289; max.depth=24; min.node.size=644; mtry=29 : y = 5.45e+07 : 1235.3 secs : initdesign\n",
      "\n",
      "[mbo] 0: num.trees=437; max.depth=5; min.node.size=514; mtry=34 : y = 5.35e+07 : 514.2 secs : initdesign\n",
      "\n",
      "[mbo] 0: num.trees=65; max.depth=15; min.node.size=771; mtry=48 : y = 5.32e+07 : 389.4 secs : initdesign\n",
      "\n",
      "[mbo] 0: num.trees=293; max.depth=26; min.node.size=221; mtry=14 : y = 5.57e+07 : 712.4 secs : initdesign\n",
      "\n",
      "[mbo] 0: num.trees=118; max.depth=4; min.node.size=95; mtry=31 : y = 5.26e+07 : 113.6 secs : initdesign\n",
      "\n",
      "[mbo] 0: num.trees=161; max.depth=18; min.node.size=992; mtry=11 : y = 5.44e+07 : 265.5 secs : initdesign\n",
      "\n",
      "[mbo] 0: num.trees=185; max.depth=29; min.node.size=422; mtry=43 : y = 5.16e+07 : 1293.2 secs : initdesign\n",
      "\n",
      "[mbo] 0: num.trees=484; max.depth=16; min.node.size=475; mtry=4 : y = 5.4e+07 : 398.7 secs : initdesign\n",
      "\n",
      "[mbo] 0: num.trees=223; max.depth=1; min.node.size=843; mtry=20 : y = 4.01e+07 : 47.4 secs : initdesign\n",
      "\n",
      "[mbo] 0: num.trees=463; max.depth=12; min.node.size=8; mtry=38 : y = 5.4e+07 : 1788.2 secs : initdesign\n",
      "\n",
      "[mbo] 0: num.trees=398; max.depth=20; min.node.size=936; mtry=47 : y = 5.48e+07 : 2590.1 secs : initdesign\n",
      "\n",
      "[mbo] 0: num.trees=84; max.depth=13; min.node.size=150; mtry=6 : y = 5.31e+07 : 95.1 secs : initdesign\n",
      "\n",
      "Saved the current state after iteration 1 in the file HT450.RDATA.\n",
      "\n",
      "Warning message in generateDesign(control$infill.opt.focussearch.points, ps.local, :\n",
      "“generateDesign could only produce 690 points instead of 1000!”\n"
     ]
    },
    {
     "name": "stdout",
     "output_type": "stream",
     "text": [
      "Growing trees.. Progress: 70%. Estimated remaining time: 13 seconds.\n",
      "Growing trees.. Progress: 67%. Estimated remaining time: 14 seconds.\n",
      "Growing trees.. Progress: 68%. Estimated remaining time: 14 seconds.\n",
      "Growing trees.. Progress: 71%. Estimated remaining time: 12 seconds.\n",
      "Growing trees.. Progress: 71%. Estimated remaining time: 12 seconds.\n",
      "20250901 060936\t500\t26\t958\t2\t5\t53283000\t17\n"
     ]
    },
    {
     "name": "stderr",
     "output_type": "stream",
     "text": [
      "[mbo] 1: num.trees=500; max.depth=26; min.node.size=958; mtry=2 : y = 5.33e+07 : 319.2 secs : infill_ei\n",
      "\n",
      "Warning message in generateDesign(control$infill.opt.focussearch.points, ps.local, :\n",
      "“generateDesign could only produce 390 points instead of 1000!”\n",
      "Warning message in generateDesign(control$infill.opt.focussearch.points, ps.local, :\n",
      "“generateDesign could only produce 420 points instead of 1000!”\n",
      "Warning message in generateDesign(control$infill.opt.focussearch.points, ps.local, :\n",
      "“generateDesign could only produce 540 points instead of 1000!”\n"
     ]
    },
    {
     "name": "stdout",
     "output_type": "stream",
     "text": [
      "20250901 061007\t20\t25\t1\t2\t5\t41166000\t18\n"
     ]
    },
    {
     "name": "stderr",
     "output_type": "stream",
     "text": [
      "[mbo] 2: num.trees=20; max.depth=25; min.node.size=1; mtry=2 : y = 4.12e+07 : 30.4 secs : infill_ei\n",
      "\n"
     ]
    },
    {
     "name": "stdout",
     "output_type": "stream",
     "text": [
      "Growing trees.. Progress: 10%. Estimated remaining time: 4 minutes, 39 seconds.\n",
      "Growing trees.. Progress: 20%. Estimated remaining time: 4 minutes, 7 seconds.\n",
      "Growing trees.. Progress: 31%. Estimated remaining time: 3 minutes, 30 seconds.\n",
      "Growing trees.. Progress: 42%. Estimated remaining time: 2 minutes, 55 seconds.\n",
      "Growing trees.. Progress: 53%. Estimated remaining time: 2 minutes, 22 seconds.\n",
      "Growing trees.. Progress: 64%. Estimated remaining time: 1 minute, 49 seconds.\n",
      "Growing trees.. Progress: 74%. Estimated remaining time: 1 minute, 16 seconds.\n",
      "Growing trees.. Progress: 85%. Estimated remaining time: 43 seconds.\n",
      "Growing trees.. Progress: 96%. Estimated remaining time: 11 seconds.\n",
      "Growing trees.. Progress: 10%. Estimated remaining time: 4 minutes, 39 seconds.\n",
      "Growing trees.. Progress: 20%. Estimated remaining time: 4 minutes, 3 seconds.\n",
      "Growing trees.. Progress: 31%. Estimated remaining time: 3 minutes, 32 seconds.\n",
      "Growing trees.. Progress: 41%. Estimated remaining time: 2 minutes, 57 seconds.\n",
      "Growing trees.. Progress: 52%. Estimated remaining time: 2 minutes, 23 seconds.\n",
      "Growing trees.. Progress: 63%. Estimated remaining time: 1 minute, 50 seconds.\n",
      "Growing trees.. Progress: 74%. Estimated remaining time: 1 minute, 19 seconds.\n",
      "Growing trees.. Progress: 84%. Estimated remaining time: 47 seconds.\n",
      "Growing trees.. Progress: 95%. Estimated remaining time: 15 seconds.\n",
      "Growing trees.. Progress: 10%. Estimated remaining time: 4 minutes, 48 seconds.\n",
      "Growing trees.. Progress: 20%. Estimated remaining time: 4 minutes, 7 seconds.\n",
      "Growing trees.. Progress: 31%. Estimated remaining time: 3 minutes, 32 seconds.\n",
      "Growing trees.. Progress: 41%. Estimated remaining time: 2 minutes, 57 seconds.\n",
      "Growing trees.. Progress: 52%. Estimated remaining time: 2 minutes, 26 seconds.\n",
      "Growing trees.. Progress: 63%. Estimated remaining time: 1 minute, 52 seconds.\n",
      "Growing trees.. Progress: 74%. Estimated remaining time: 1 minute, 18 seconds.\n",
      "Growing trees.. Progress: 85%. Estimated remaining time: 44 seconds.\n",
      "Growing trees.. Progress: 96%. Estimated remaining time: 12 seconds.\n",
      "Growing trees.. Progress: 10%. Estimated remaining time: 4 minutes, 39 seconds.\n",
      "Growing trees.. Progress: 20%. Estimated remaining time: 4 minutes, 7 seconds.\n",
      "Growing trees.. Progress: 31%. Estimated remaining time: 3 minutes, 35 seconds.\n",
      "Growing trees.. Progress: 41%. Estimated remaining time: 3 minutes, 0 seconds.\n",
      "Growing trees.. Progress: 52%. Estimated remaining time: 2 minutes, 27 seconds.\n",
      "Growing trees.. Progress: 63%. Estimated remaining time: 1 minute, 52 seconds.\n",
      "Growing trees.. Progress: 74%. Estimated remaining time: 1 minute, 19 seconds.\n",
      "Growing trees.. Progress: 84%. Estimated remaining time: 47 seconds.\n",
      "Growing trees.. Progress: 95%. Estimated remaining time: 15 seconds.\n",
      "Growing trees.. Progress: 9%. Estimated remaining time: 5 minutes, 20 seconds.\n",
      "Growing trees.. Progress: 19%. Estimated remaining time: 4 minutes, 31 seconds.\n",
      "Growing trees.. Progress: 29%. Estimated remaining time: 3 minutes, 54 seconds.\n",
      "Growing trees.. Progress: 39%. Estimated remaining time: 3 minutes, 18 seconds.\n",
      "Growing trees.. Progress: 49%. Estimated remaining time: 2 minutes, 42 seconds.\n",
      "Growing trees.. Progress: 60%. Estimated remaining time: 2 minutes, 8 seconds.\n",
      "Growing trees.. Progress: 70%. Estimated remaining time: 1 minute, 34 seconds.\n",
      "Growing trees.. Progress: 80%. Estimated remaining time: 1 minute, 3 seconds.\n",
      "Growing trees.. Progress: 91%. Estimated remaining time: 29 seconds.\n",
      "Growing trees.. Progress: 99%. Estimated remaining time: 4 seconds.\n",
      "20250901 063654\t340\t16\t1\t34\t5\t52077000\t19\n"
     ]
    },
    {
     "name": "stderr",
     "output_type": "stream",
     "text": [
      "[mbo] 3: num.trees=340; max.depth=16; min.node.size=1; mtry=34 : y = 5.21e+07 : 1606.1 secs : infill_ei\n",
      "\n",
      "Saved the current state after iteration 4 in the file HT450.RDATA.\n",
      "\n"
     ]
    },
    {
     "name": "stdout",
     "output_type": "stream",
     "text": [
      "Growing trees.. Progress: 7%. Estimated remaining time: 6 minutes, 51 seconds.\n",
      "Growing trees.. Progress: 14%. Estimated remaining time: 6 minutes, 20 seconds.\n",
      "Growing trees.. Progress: 21%. Estimated remaining time: 5 minutes, 48 seconds.\n",
      "Growing trees.. Progress: 28%. Estimated remaining time: 5 minutes, 20 seconds.\n",
      "Growing trees.. Progress: 35%. Estimated remaining time: 4 minutes, 46 seconds.\n",
      "Growing trees.. Progress: 43%. Estimated remaining time: 4 minutes, 16 seconds.\n",
      "Growing trees.. Progress: 50%. Estimated remaining time: 3 minutes, 41 seconds.\n",
      "Growing trees.. Progress: 57%. Estimated remaining time: 3 minutes, 10 seconds.\n",
      "Growing trees.. Progress: 64%. Estimated remaining time: 2 minutes, 38 seconds.\n",
      "Growing trees.. Progress: 71%. Estimated remaining time: 2 minutes, 7 seconds.\n",
      "Growing trees.. Progress: 78%. Estimated remaining time: 1 minute, 36 seconds.\n",
      "Growing trees.. Progress: 85%. Estimated remaining time: 1 minute, 4 seconds.\n",
      "Growing trees.. Progress: 93%. Estimated remaining time: 32 seconds.\n",
      "Growing trees.. Progress: 99%. Estimated remaining time: 2 seconds.\n",
      "Growing trees.. Progress: 7%. Estimated remaining time: 7 minutes, 32 seconds.\n",
      "Growing trees.. Progress: 13%. Estimated remaining time: 6 minutes, 47 seconds.\n",
      "Growing trees.. Progress: 20%. Estimated remaining time: 6 minutes, 11 seconds.\n",
      "Growing trees.. Progress: 27%. Estimated remaining time: 5 minutes, 44 seconds.\n",
      "Growing trees.. Progress: 34%. Estimated remaining time: 5 minutes, 7 seconds.\n",
      "Growing trees.. Progress: 40%. Estimated remaining time: 4 minutes, 37 seconds.\n",
      "Growing trees.. Progress: 47%. Estimated remaining time: 4 minutes, 6 seconds.\n",
      "Growing trees.. Progress: 54%. Estimated remaining time: 3 minutes, 34 seconds.\n",
      "Growing trees.. Progress: 61%. Estimated remaining time: 3 minutes, 0 seconds.\n",
      "Growing trees.. Progress: 68%. Estimated remaining time: 2 minutes, 26 seconds.\n",
      "Growing trees.. Progress: 75%. Estimated remaining time: 1 minute, 55 seconds.\n",
      "Growing trees.. Progress: 82%. Estimated remaining time: 1 minute, 24 seconds.\n",
      "Growing trees.. Progress: 89%. Estimated remaining time: 52 seconds.\n",
      "Growing trees.. Progress: 95%. Estimated remaining time: 21 seconds.\n",
      "Growing trees.. Progress: 7%. Estimated remaining time: 7 minutes, 18 seconds.\n",
      "Growing trees.. Progress: 13%. Estimated remaining time: 6 minutes, 47 seconds.\n",
      "Growing trees.. Progress: 20%. Estimated remaining time: 6 minutes, 15 seconds.\n",
      "Growing trees.. Progress: 27%. Estimated remaining time: 5 minutes, 40 seconds.\n",
      "Growing trees.. Progress: 34%. Estimated remaining time: 5 minutes, 3 seconds.\n",
      "Growing trees.. Progress: 41%. Estimated remaining time: 4 minutes, 33 seconds.\n",
      "Growing trees.. Progress: 48%. Estimated remaining time: 4 minutes, 2 seconds.\n",
      "Growing trees.. Progress: 55%. Estimated remaining time: 3 minutes, 30 seconds.\n",
      "Growing trees.. Progress: 62%. Estimated remaining time: 2 minutes, 56 seconds.\n",
      "Growing trees.. Progress: 69%. Estimated remaining time: 2 minutes, 25 seconds.\n",
      "Growing trees.. Progress: 76%. Estimated remaining time: 1 minute, 52 seconds.\n",
      "Growing trees.. Progress: 82%. Estimated remaining time: 1 minute, 22 seconds.\n",
      "Growing trees.. Progress: 89%. Estimated remaining time: 48 seconds.\n",
      "Growing trees.. Progress: 96%. Estimated remaining time: 18 seconds.\n",
      "Growing trees.. Progress: 7%. Estimated remaining time: 6 minutes, 51 seconds.\n",
      "Growing trees.. Progress: 14%. Estimated remaining time: 6 minutes, 33 seconds.\n",
      "Growing trees.. Progress: 20%. Estimated remaining time: 6 minutes, 11 seconds.\n",
      "Growing trees.. Progress: 27%. Estimated remaining time: 5 minutes, 41 seconds.\n",
      "Growing trees.. Progress: 33%. Estimated remaining time: 5 minutes, 11 seconds.\n",
      "Growing trees.. Progress: 40%. Estimated remaining time: 4 minutes, 39 seconds.\n",
      "Growing trees.. Progress: 47%. Estimated remaining time: 4 minutes, 8 seconds.\n",
      "Growing trees.. Progress: 54%. Estimated remaining time: 3 minutes, 35 seconds.\n",
      "Growing trees.. Progress: 61%. Estimated remaining time: 3 minutes, 2 seconds.\n",
      "Growing trees.. Progress: 67%. Estimated remaining time: 2 minutes, 32 seconds.\n",
      "Growing trees.. Progress: 75%. Estimated remaining time: 1 minute, 58 seconds.\n",
      "Growing trees.. Progress: 81%. Estimated remaining time: 1 minute, 28 seconds.\n",
      "Growing trees.. Progress: 88%. Estimated remaining time: 57 seconds.\n",
      "Growing trees.. Progress: 95%. Estimated remaining time: 23 seconds.\n",
      "Growing trees.. Progress: 7%. Estimated remaining time: 6 minutes, 51 seconds.\n",
      "Growing trees.. Progress: 14%. Estimated remaining time: 6 minutes, 20 seconds.\n",
      "Growing trees.. Progress: 21%. Estimated remaining time: 5 minutes, 53 seconds.\n",
      "Growing trees.. Progress: 28%. Estimated remaining time: 5 minutes, 21 seconds.\n",
      "Growing trees.. Progress: 35%. Estimated remaining time: 4 minutes, 49 seconds.\n",
      "Growing trees.. Progress: 42%. Estimated remaining time: 4 minutes, 16 seconds.\n",
      "Growing trees.. Progress: 49%. Estimated remaining time: 3 minutes, 45 seconds.\n",
      "Growing trees.. Progress: 56%. Estimated remaining time: 3 minutes, 15 seconds.\n",
      "Growing trees.. Progress: 63%. Estimated remaining time: 2 minutes, 43 seconds.\n",
      "Growing trees.. Progress: 70%. Estimated remaining time: 2 minutes, 11 seconds.\n",
      "Growing trees.. Progress: 78%. Estimated remaining time: 1 minute, 39 seconds.\n",
      "Growing trees.. Progress: 85%. Estimated remaining time: 1 minute, 8 seconds.\n",
      "Growing trees.. Progress: 92%. Estimated remaining time: 36 seconds.\n",
      "Growing trees.. Progress: 99%. Estimated remaining time: 3 seconds.\n",
      "20250901 071632\t500\t20\t236\t31\t5\t53301000\t20\n"
     ]
    },
    {
     "name": "stderr",
     "output_type": "stream",
     "text": [
      "[mbo] 4: num.trees=500; max.depth=20; min.node.size=236; mtry=31 : y = 5.33e+07 : 2370.5 secs : infill_ei\n",
      "\n",
      "Saved the current state after iteration 5 in the file HT450.RDATA.\n",
      "\n"
     ]
    },
    {
     "name": "stdout",
     "output_type": "stream",
     "text": [
      "Growing trees.. Progress: 15%. Estimated remaining time: 2 minutes, 49 seconds.\n",
      "Growing trees.. Progress: 32%. Estimated remaining time: 2 minutes, 13 seconds.\n",
      "Growing trees.. Progress: 48%. Estimated remaining time: 1 minute, 40 seconds.\n",
      "Growing trees.. Progress: 65%. Estimated remaining time: 1 minute, 8 seconds.\n",
      "Growing trees.. Progress: 81%. Estimated remaining time: 36 seconds.\n",
      "Growing trees.. Progress: 99%. Estimated remaining time: 2 seconds.\n",
      "Growing trees.. Progress: 17%. Estimated remaining time: 2 minutes, 36 seconds.\n",
      "Growing trees.. Progress: 33%. Estimated remaining time: 2 minutes, 8 seconds.\n",
      "Growing trees.. Progress: 49%. Estimated remaining time: 1 minute, 39 seconds.\n",
      "Growing trees.. Progress: 65%. Estimated remaining time: 1 minute, 6 seconds.\n",
      "Growing trees.. Progress: 81%. Estimated remaining time: 37 seconds.\n",
      "Growing trees.. Progress: 97%. Estimated remaining time: 6 seconds.\n",
      "Growing trees.. Progress: 17%. Estimated remaining time: 2 minutes, 32 seconds.\n",
      "Growing trees.. Progress: 34%. Estimated remaining time: 2 minutes, 3 seconds.\n",
      "Growing trees.. Progress: 50%. Estimated remaining time: 1 minute, 34 seconds.\n",
      "Growing trees.. Progress: 66%. Estimated remaining time: 1 minute, 3 seconds.\n",
      "Growing trees.. Progress: 83%. Estimated remaining time: 31 seconds.\n",
      "Growing trees.. Progress: 99%. Estimated remaining time: 1 seconds.\n",
      "Growing trees.. Progress: 16%. Estimated remaining time: 2 minutes, 42 seconds.\n",
      "Growing trees.. Progress: 32%. Estimated remaining time: 2 minutes, 13 seconds.\n",
      "Growing trees.. Progress: 48%. Estimated remaining time: 1 minute, 43 seconds.\n",
      "Growing trees.. Progress: 65%. Estimated remaining time: 1 minute, 7 seconds.\n",
      "Growing trees.. Progress: 81%. Estimated remaining time: 36 seconds.\n",
      "Growing trees.. Progress: 97%. Estimated remaining time: 6 seconds.\n",
      "Growing trees.. Progress: 16%. Estimated remaining time: 2 minutes, 39 seconds.\n",
      "Growing trees.. Progress: 33%. Estimated remaining time: 2 minutes, 6 seconds.\n",
      "Growing trees.. Progress: 49%. Estimated remaining time: 1 minute, 35 seconds.\n",
      "Growing trees.. Progress: 66%. Estimated remaining time: 1 minute, 3 seconds.\n",
      "Growing trees.. Progress: 83%. Estimated remaining time: 32 seconds.\n",
      "Growing trees.. Progress: 100%. Estimated remaining time: 0 seconds.\n",
      "20250901 073347\t350\t29\t251\t18\t5\t52854000\t21\n"
     ]
    },
    {
     "name": "stderr",
     "output_type": "stream",
     "text": [
      "[mbo] 5: num.trees=350; max.depth=29; min.node.size=251; mtry=18 : y = 5.29e+07 : 1030.7 secs : infill_ei\n",
      "\n",
      "Saved the current state after iteration 6 in the file HT450.RDATA.\n",
      "\n"
     ]
    },
    {
     "name": "stdout",
     "output_type": "stream",
     "text": [
      "Growing trees.. Progress: 81%. Estimated remaining time: 7 seconds.\n",
      "Growing trees.. Progress: 82%. Estimated remaining time: 6 seconds.\n",
      "Growing trees.. Progress: 80%. Estimated remaining time: 7 seconds.\n",
      "Growing trees.. Progress: 78%. Estimated remaining time: 8 seconds.\n",
      "Growing trees.. Progress: 76%. Estimated remaining time: 10 seconds.\n",
      "20250901 073835\t426\t22\t696\t2\t5\t53043000\t22\n"
     ]
    },
    {
     "name": "stderr",
     "output_type": "stream",
     "text": [
      "[mbo] 6: num.trees=426; max.depth=22; min.node.size=696; mtry=2 : y = 5.3e+07 : 283.1 secs : infill_ei\n",
      "\n"
     ]
    },
    {
     "name": "stdout",
     "output_type": "stream",
     "text": [
      "Growing trees.. Progress: 11%. Estimated remaining time: 4 minutes, 13 seconds.\n",
      "Growing trees.. Progress: 22%. Estimated remaining time: 3 minutes, 39 seconds.\n",
      "Growing trees.. Progress: 33%. Estimated remaining time: 3 minutes, 9 seconds.\n",
      "Growing trees.. Progress: 44%. Estimated remaining time: 2 minutes, 40 seconds.\n",
      "Growing trees.. Progress: 55%. Estimated remaining time: 2 minutes, 6 seconds.\n",
      "Growing trees.. Progress: 66%. Estimated remaining time: 1 minute, 35 seconds.\n",
      "Growing trees.. Progress: 78%. Estimated remaining time: 1 minute, 3 seconds.\n",
      "Growing trees.. Progress: 89%. Estimated remaining time: 32 seconds.\n",
      "Growing trees.. Progress: 100%. Estimated remaining time: 0 seconds.\n",
      "Growing trees.. Progress: 11%. Estimated remaining time: 4 minutes, 15 seconds.\n",
      "Growing trees.. Progress: 23%. Estimated remaining time: 3 minutes, 39 seconds.\n",
      "Growing trees.. Progress: 34%. Estimated remaining time: 3 minutes, 4 seconds.\n",
      "Growing trees.. Progress: 45%. Estimated remaining time: 2 minutes, 36 seconds.\n",
      "Growing trees.. Progress: 56%. Estimated remaining time: 2 minutes, 3 seconds.\n",
      "Growing trees.. Progress: 67%. Estimated remaining time: 1 minute, 33 seconds.\n",
      "Growing trees.. Progress: 78%. Estimated remaining time: 1 minute, 1 seconds.\n",
      "Growing trees.. Progress: 89%. Estimated remaining time: 31 seconds.\n",
      "Growing trees.. Progress: 100%. Estimated remaining time: 0 seconds.\n",
      "Growing trees.. Progress: 11%. Estimated remaining time: 4 minutes, 13 seconds.\n",
      "Growing trees.. Progress: 22%. Estimated remaining time: 3 minutes, 46 seconds.\n",
      "Growing trees.. Progress: 32%. Estimated remaining time: 3 minutes, 14 seconds.\n",
      "Growing trees.. Progress: 44%. Estimated remaining time: 2 minutes, 40 seconds.\n",
      "Growing trees.. Progress: 55%. Estimated remaining time: 2 minutes, 5 seconds.\n",
      "Growing trees.. Progress: 67%. Estimated remaining time: 1 minute, 34 seconds.\n",
      "Growing trees.. Progress: 77%. Estimated remaining time: 1 minute, 4 seconds.\n",
      "Growing trees.. Progress: 89%. Estimated remaining time: 32 seconds.\n",
      "Growing trees.. Progress: 100%. Estimated remaining time: 0 seconds.\n",
      "Growing trees.. Progress: 11%. Estimated remaining time: 4 minutes, 0 seconds.\n",
      "Growing trees.. Progress: 23%. Estimated remaining time: 3 minutes, 36 seconds.\n",
      "Growing trees.. Progress: 34%. Estimated remaining time: 3 minutes, 5 seconds.\n",
      "Growing trees.. Progress: 45%. Estimated remaining time: 2 minutes, 33 seconds.\n",
      "Growing trees.. Progress: 56%. Estimated remaining time: 2 minutes, 2 seconds.\n",
      "Growing trees.. Progress: 67%. Estimated remaining time: 1 minute, 32 seconds.\n",
      "Growing trees.. Progress: 78%. Estimated remaining time: 1 minute, 1 seconds.\n",
      "Growing trees.. Progress: 90%. Estimated remaining time: 29 seconds.\n",
      "Growing trees.. Progress: 100%. Estimated remaining time: 0 seconds.\n",
      "Growing trees.. Progress: 11%. Estimated remaining time: 4 minutes, 13 seconds.\n",
      "Growing trees.. Progress: 22%. Estimated remaining time: 3 minutes, 43 seconds.\n",
      "Growing trees.. Progress: 33%. Estimated remaining time: 3 minutes, 9 seconds.\n",
      "Growing trees.. Progress: 44%. Estimated remaining time: 2 minutes, 40 seconds.\n",
      "Growing trees.. Progress: 55%. Estimated remaining time: 2 minutes, 8 seconds.\n",
      "Growing trees.. Progress: 66%. Estimated remaining time: 1 minute, 35 seconds.\n",
      "Growing trees.. Progress: 77%. Estimated remaining time: 1 minute, 4 seconds.\n",
      "Growing trees.. Progress: 88%. Estimated remaining time: 34 seconds.\n",
      "Growing trees.. Progress: 99%. Estimated remaining time: 2 seconds.\n",
      "20250901 080315\t386\t10\t991\t49\t5\t54633000\t23\n"
     ]
    },
    {
     "name": "stderr",
     "output_type": "stream",
     "text": [
      "[mbo] 7: num.trees=386; max.depth=10; min.node.size=991; mtry=49 : y = 5.46e+07 : 1477.8 secs : infill_ei\n",
      "\n",
      "Saved the current state after iteration 8 in the file HT450.RDATA.\n",
      "\n"
     ]
    },
    {
     "name": "stdout",
     "output_type": "stream",
     "text": [
      "20250901 080644\t308\t26\t987\t2\t5\t53322000\t24\n"
     ]
    },
    {
     "name": "stderr",
     "output_type": "stream",
     "text": [
      "[mbo] 8: num.trees=308; max.depth=26; min.node.size=987; mtry=2 : y = 5.33e+07 : 204.8 secs : infill_ei\n",
      "\n"
     ]
    },
    {
     "name": "stdout",
     "output_type": "stream",
     "text": [
      "Growing trees.. Progress: 47%. Estimated remaining time: 35 seconds.\n",
      "Growing trees.. Progress: 91%. Estimated remaining time: 5 seconds.\n",
      "Growing trees.. Progress: 46%. Estimated remaining time: 35 seconds.\n",
      "Growing trees.. Progress: 93%. Estimated remaining time: 4 seconds.\n",
      "Growing trees.. Progress: 45%. Estimated remaining time: 37 seconds.\n",
      "Growing trees.. Progress: 91%. Estimated remaining time: 6 seconds.\n",
      "Growing trees.. Progress: 46%. Estimated remaining time: 36 seconds.\n",
      "Growing trees.. Progress: 92%. Estimated remaining time: 5 seconds.\n",
      "Growing trees.. Progress: 51%. Estimated remaining time: 29 seconds.\n",
      "Growing trees.. Progress: 99%. Estimated remaining time: 0 seconds.\n",
      "20250901 081320\t269\t25\t1\t7\t5\t50814000\t25\n"
     ]
    },
    {
     "name": "stderr",
     "output_type": "stream",
     "text": [
      "[mbo] 9: num.trees=269; max.depth=25; min.node.size=1; mtry=7 : y = 5.08e+07 : 395.4 secs : infill_ei\n",
      "\n",
      "Saved the current state after iteration 10 in the file HT450.RDATA.\n",
      "\n"
     ]
    },
    {
     "name": "stdout",
     "output_type": "stream",
     "text": [
      "Growing trees.. Progress: 8%. Estimated remaining time: 6 minutes, 26 seconds.\n",
      "Growing trees.. Progress: 16%. Estimated remaining time: 5 minutes, 36 seconds.\n",
      "Growing trees.. Progress: 24%. Estimated remaining time: 5 minutes, 10 seconds.\n",
      "Growing trees.. Progress: 31%. Estimated remaining time: 4 minutes, 42 seconds.\n",
      "Growing trees.. Progress: 39%. Estimated remaining time: 4 minutes, 5 seconds.\n",
      "Growing trees.. Progress: 47%. Estimated remaining time: 3 minutes, 36 seconds.\n",
      "Growing trees.. Progress: 55%. Estimated remaining time: 3 minutes, 4 seconds.\n",
      "Growing trees.. Progress: 62%. Estimated remaining time: 2 minutes, 35 seconds.\n",
      "Growing trees.. Progress: 70%. Estimated remaining time: 2 minutes, 4 seconds.\n",
      "Growing trees.. Progress: 78%. Estimated remaining time: 1 minute, 31 seconds.\n",
      "Growing trees.. Progress: 85%. Estimated remaining time: 1 minute, 1 seconds.\n",
      "Growing trees.. Progress: 93%. Estimated remaining time: 29 seconds.\n",
      "Growing trees.. Progress: 7%. Estimated remaining time: 6 minutes, 27 seconds.\n",
      "Growing trees.. Progress: 15%. Estimated remaining time: 5 minutes, 56 seconds.\n",
      "Growing trees.. Progress: 22%. Estimated remaining time: 5 minutes, 25 seconds.\n",
      "Growing trees.. Progress: 29%. Estimated remaining time: 5 minutes, 0 seconds.\n",
      "Growing trees.. Progress: 37%. Estimated remaining time: 4 minutes, 24 seconds.\n",
      "Growing trees.. Progress: 45%. Estimated remaining time: 3 minutes, 46 seconds.\n",
      "Growing trees.. Progress: 53%. Estimated remaining time: 3 minutes, 13 seconds.\n",
      "Growing trees.. Progress: 61%. Estimated remaining time: 2 minutes, 40 seconds.\n",
      "Growing trees.. Progress: 69%. Estimated remaining time: 2 minutes, 7 seconds.\n",
      "Growing trees.. Progress: 77%. Estimated remaining time: 1 minute, 35 seconds.\n",
      "Growing trees.. Progress: 84%. Estimated remaining time: 1 minute, 3 seconds.\n",
      "Growing trees.. Progress: 92%. Estimated remaining time: 31 seconds.\n",
      "Growing trees.. Progress: 100%. Estimated remaining time: 0 seconds.\n",
      "Growing trees.. Progress: 8%. Estimated remaining time: 6 minutes, 2 seconds.\n",
      "Growing trees.. Progress: 16%. Estimated remaining time: 5 minutes, 37 seconds.\n",
      "Growing trees.. Progress: 23%. Estimated remaining time: 5 minutes, 16 seconds.\n",
      "Growing trees.. Progress: 31%. Estimated remaining time: 4 minutes, 46 seconds.\n",
      "Growing trees.. Progress: 38%. Estimated remaining time: 4 minutes, 21 seconds.\n",
      "Growing trees.. Progress: 45%. Estimated remaining time: 3 minutes, 50 seconds.\n",
      "Growing trees.. Progress: 53%. Estimated remaining time: 3 minutes, 17 seconds.\n",
      "Growing trees.. Progress: 60%. Estimated remaining time: 2 minutes, 46 seconds.\n",
      "Growing trees.. Progress: 68%. Estimated remaining time: 2 minutes, 12 seconds.\n",
      "Growing trees.. Progress: 76%. Estimated remaining time: 1 minute, 41 seconds.\n",
      "Growing trees.. Progress: 84%. Estimated remaining time: 1 minute, 7 seconds.\n",
      "Growing trees.. Progress: 91%. Estimated remaining time: 38 seconds.\n",
      "Growing trees.. Progress: 99%. Estimated remaining time: 4 seconds.\n",
      "Growing trees.. Progress: 7%. Estimated remaining time: 6 minutes, 41 seconds.\n",
      "Growing trees.. Progress: 15%. Estimated remaining time: 5 minutes, 43 seconds.\n",
      "Growing trees.. Progress: 22%. Estimated remaining time: 5 minutes, 21 seconds.\n",
      "Growing trees.. Progress: 30%. Estimated remaining time: 4 minutes, 50 seconds.\n",
      "Growing trees.. Progress: 38%. Estimated remaining time: 4 minutes, 16 seconds.\n",
      "Growing trees.. Progress: 46%. Estimated remaining time: 3 minutes, 41 seconds.\n",
      "Growing trees.. Progress: 54%. Estimated remaining time: 3 minutes, 7 seconds.\n",
      "Growing trees.. Progress: 62%. Estimated remaining time: 2 minutes, 36 seconds.\n",
      "Growing trees.. Progress: 69%. Estimated remaining time: 2 minutes, 4 seconds.\n",
      "Growing trees.. Progress: 77%. Estimated remaining time: 1 minute, 33 seconds.\n",
      "Growing trees.. Progress: 84%. Estimated remaining time: 1 minute, 3 seconds.\n",
      "Growing trees.. Progress: 92%. Estimated remaining time: 31 seconds.\n",
      "Growing trees.. Progress: 100%. Estimated remaining time: 0 seconds.\n",
      "Growing trees.. Progress: 8%. Estimated remaining time: 6 minutes, 26 seconds.\n",
      "Growing trees.. Progress: 16%. Estimated remaining time: 5 minutes, 48 seconds.\n",
      "Growing trees.. Progress: 23%. Estimated remaining time: 5 minutes, 11 seconds.\n",
      "Growing trees.. Progress: 31%. Estimated remaining time: 4 minutes, 39 seconds.\n",
      "Growing trees.. Progress: 39%. Estimated remaining time: 4 minutes, 5 seconds.\n",
      "Growing trees.. Progress: 47%. Estimated remaining time: 3 minutes, 31 seconds.\n",
      "Growing trees.. Progress: 55%. Estimated remaining time: 3 minutes, 0 seconds.\n",
      "Growing trees.. Progress: 63%. Estimated remaining time: 2 minutes, 26 seconds.\n",
      "Growing trees.. Progress: 71%. Estimated remaining time: 1 minute, 55 seconds.\n",
      "Growing trees.. Progress: 79%. Estimated remaining time: 1 minute, 23 seconds.\n",
      "Growing trees.. Progress: 87%. Estimated remaining time: 54 seconds.\n",
      "Growing trees.. Progress: 95%. Estimated remaining time: 19 seconds.\n",
      "20250901 084841\t432\t12\t536\t50\t5\t54774000\t26\n"
     ]
    },
    {
     "name": "stderr",
     "output_type": "stream",
     "text": [
      "[mbo] 10: num.trees=432; max.depth=12; min.node.size=536; mtry=50 : y = 5.48e+07 : 2118.5 secs : infill_ei\n",
      "\n",
      "Saved the current state after iteration 11 in the file HT450.RDATA.\n",
      "\n"
     ]
    },
    {
     "name": "stdout",
     "output_type": "stream",
     "text": [
      "Growing trees.. Progress: 33%. Estimated remaining time: 1 minute, 2 seconds.\n",
      "Growing trees.. Progress: 67%. Estimated remaining time: 30 seconds.\n",
      "Growing trees.. Progress: 100%. Estimated remaining time: 0 seconds.\n",
      "Growing trees.. Progress: 32%. Estimated remaining time: 1 minute, 5 seconds.\n",
      "Growing trees.. Progress: 65%. Estimated remaining time: 33 seconds.\n",
      "Growing trees.. Progress: 96%. Estimated remaining time: 3 seconds.\n",
      "Growing trees.. Progress: 33%. Estimated remaining time: 1 minute, 3 seconds.\n",
      "Growing trees.. Progress: 66%. Estimated remaining time: 31 seconds.\n",
      "Growing trees.. Progress: 99%. Estimated remaining time: 0 seconds.\n",
      "Growing trees.. Progress: 32%. Estimated remaining time: 1 minute, 5 seconds.\n",
      "Growing trees.. Progress: 64%. Estimated remaining time: 35 seconds.\n",
      "Growing trees.. Progress: 96%. Estimated remaining time: 3 seconds.\n",
      "Growing trees.. Progress: 34%. Estimated remaining time: 59 seconds.\n",
      "Growing trees.. Progress: 68%. Estimated remaining time: 28 seconds.\n",
      "20250901 085737\t307\t26\t400\t12\t5\t55671000\t27\n"
     ]
    },
    {
     "name": "stderr",
     "output_type": "stream",
     "text": [
      "[mbo] 11: num.trees=307; max.depth=26; min.node.size=400; mtry=12 : y = 5.57e+07 : 530.0 secs : infill_ei\n",
      "\n"
     ]
    },
    {
     "name": "stdout",
     "output_type": "stream",
     "text": [
      "Growing trees.. Progress: 9%. Estimated remaining time: 5 minutes, 16 seconds.\n",
      "Growing trees.. Progress: 18%. Estimated remaining time: 4 minutes, 50 seconds.\n",
      "Growing trees.. Progress: 27%. Estimated remaining time: 4 minutes, 17 seconds.\n",
      "Growing trees.. Progress: 36%. Estimated remaining time: 3 minutes, 45 seconds.\n",
      "Growing trees.. Progress: 45%. Estimated remaining time: 3 minutes, 15 seconds.\n",
      "Growing trees.. Progress: 53%. Estimated remaining time: 2 minutes, 43 seconds.\n",
      "Growing trees.. Progress: 62%. Estimated remaining time: 2 minutes, 11 seconds.\n",
      "Growing trees.. Progress: 71%. Estimated remaining time: 1 minute, 40 seconds.\n",
      "Growing trees.. Progress: 80%. Estimated remaining time: 1 minute, 10 seconds.\n",
      "Growing trees.. Progress: 89%. Estimated remaining time: 39 seconds.\n",
      "Growing trees.. Progress: 97%. Estimated remaining time: 11 seconds.\n",
      "Growing trees.. Progress: 7%. Estimated remaining time: 6 minutes, 54 seconds.\n",
      "Growing trees.. Progress: 14%. Estimated remaining time: 6 minutes, 6 seconds.\n",
      "Growing trees.. Progress: 22%. Estimated remaining time: 5 minutes, 35 seconds.\n",
      "Growing trees.. Progress: 29%. Estimated remaining time: 5 minutes, 8 seconds.\n",
      "Growing trees.. Progress: 36%. Estimated remaining time: 4 minutes, 33 seconds.\n",
      "Growing trees.. Progress: 43%. Estimated remaining time: 4 minutes, 4 seconds.\n",
      "Growing trees.. Progress: 51%. Estimated remaining time: 3 minutes, 28 seconds.\n",
      "Growing trees.. Progress: 60%. Estimated remaining time: 2 minutes, 50 seconds.\n",
      "Growing trees.. Progress: 68%. Estimated remaining time: 2 minutes, 12 seconds.\n",
      "Growing trees.. Progress: 76%. Estimated remaining time: 1 minute, 37 seconds.\n",
      "Growing trees.. Progress: 85%. Estimated remaining time: 59 seconds.\n",
      "Growing trees.. Progress: 94%. Estimated remaining time: 23 seconds.\n",
      "Growing trees.. Progress: 8%. Estimated remaining time: 5 minutes, 39 seconds.\n",
      "Growing trees.. Progress: 17%. Estimated remaining time: 4 minutes, 57 seconds.\n",
      "Growing trees.. Progress: 26%. Estimated remaining time: 4 minutes, 25 seconds.\n",
      "Growing trees.. Progress: 35%. Estimated remaining time: 3 minutes, 51 seconds.\n",
      "Growing trees.. Progress: 44%. Estimated remaining time: 3 minutes, 18 seconds.\n",
      "Growing trees.. Progress: 52%. Estimated remaining time: 2 minutes, 54 seconds.\n",
      "Growing trees.. Progress: 60%. Estimated remaining time: 2 minutes, 28 seconds.\n",
      "Growing trees.. Progress: 68%. Estimated remaining time: 1 minute, 59 seconds.\n",
      "Growing trees.. Progress: 76%. Estimated remaining time: 1 minute, 30 seconds.\n",
      "Growing trees.. Progress: 84%. Estimated remaining time: 59 seconds.\n",
      "Growing trees.. Progress: 93%. Estimated remaining time: 27 seconds.\n",
      "Growing trees.. Progress: 8%. Estimated remaining time: 6 minutes, 4 seconds.\n",
      "Growing trees.. Progress: 16%. Estimated remaining time: 5 minutes, 32 seconds.\n",
      "Growing trees.. Progress: 24%. Estimated remaining time: 5 minutes, 0 seconds.\n",
      "Growing trees.. Progress: 32%. Estimated remaining time: 4 minutes, 29 seconds.\n",
      "Growing trees.. Progress: 40%. Estimated remaining time: 3 minutes, 55 seconds.\n",
      "Growing trees.. Progress: 48%. Estimated remaining time: 3 minutes, 24 seconds.\n",
      "Growing trees.. Progress: 56%. Estimated remaining time: 2 minutes, 54 seconds.\n",
      "Growing trees.. Progress: 64%. Estimated remaining time: 2 minutes, 23 seconds.\n",
      "Growing trees.. Progress: 72%. Estimated remaining time: 1 minute, 50 seconds.\n",
      "Growing trees.. Progress: 80%. Estimated remaining time: 1 minute, 18 seconds.\n",
      "Growing trees.. Progress: 88%. Estimated remaining time: 47 seconds.\n",
      "Growing trees.. Progress: 96%. Estimated remaining time: 14 seconds.\n",
      "Growing trees.. Progress: 8%. Estimated remaining time: 6 minutes, 21 seconds.\n",
      "Growing trees.. Progress: 16%. Estimated remaining time: 5 minutes, 46 seconds.\n",
      "Growing trees.. Progress: 24%. Estimated remaining time: 5 minutes, 9 seconds.\n",
      "Growing trees.. Progress: 31%. Estimated remaining time: 4 minutes, 40 seconds.\n",
      "Growing trees.. Progress: 39%. Estimated remaining time: 4 minutes, 10 seconds.\n",
      "Growing trees.. Progress: 47%. Estimated remaining time: 3 minutes, 34 seconds.\n",
      "Growing trees.. Progress: 55%. Estimated remaining time: 3 minutes, 3 seconds.\n",
      "Growing trees.. Progress: 63%. Estimated remaining time: 2 minutes, 31 seconds.\n",
      "Growing trees.. Progress: 71%. Estimated remaining time: 1 minute, 58 seconds.\n",
      "Growing trees.. Progress: 78%. Estimated remaining time: 1 minute, 27 seconds.\n",
      "Growing trees.. Progress: 86%. Estimated remaining time: 55 seconds.\n",
      "Growing trees.. Progress: 94%. Estimated remaining time: 24 seconds.\n",
      "Growing trees.. Progress: 99%. Estimated remaining time: 2 seconds.\n",
      "20250901 093126\t359\t26\t312\t36\t5\t52155000\t28\n"
     ]
    },
    {
     "name": "stderr",
     "output_type": "stream",
     "text": [
      "[mbo] 12: num.trees=359; max.depth=26; min.node.size=312; mtry=36 : y = 5.22e+07 : 2027.1 secs : infill_ei\n",
      "\n",
      "Saved the current state after iteration 13 in the file HT450.RDATA.\n",
      "\n"
     ]
    },
    {
     "name": "stdout",
     "output_type": "stream",
     "text": [
      "Growing trees.. Progress: 29%. Estimated remaining time: 1 minute, 14 seconds.\n",
      "Growing trees.. Progress: 58%. Estimated remaining time: 44 seconds.\n",
      "Growing trees.. Progress: 85%. Estimated remaining time: 16 seconds.\n",
      "Growing trees.. Progress: 28%. Estimated remaining time: 1 minute, 20 seconds.\n",
      "Growing trees.. Progress: 56%. Estimated remaining time: 48 seconds.\n",
      "Growing trees.. Progress: 83%. Estimated remaining time: 19 seconds.\n",
      "Growing trees.. Progress: 30%. Estimated remaining time: 1 minute, 12 seconds.\n",
      "Growing trees.. Progress: 59%. Estimated remaining time: 43 seconds.\n",
      "Growing trees.. Progress: 87%. Estimated remaining time: 14 seconds.\n",
      "Growing trees.. Progress: 28%. Estimated remaining time: 1 minute, 21 seconds.\n",
      "Growing trees.. Progress: 55%. Estimated remaining time: 49 seconds.\n",
      "Growing trees.. Progress: 84%. Estimated remaining time: 17 seconds.\n",
      "Growing trees.. Progress: 30%. Estimated remaining time: 1 minute, 13 seconds.\n",
      "Growing trees.. Progress: 60%. Estimated remaining time: 41 seconds.\n",
      "Growing trees.. Progress: 90%. Estimated remaining time: 10 seconds.\n",
      "20250901 094136\t294\t25\t993\t14\t5\t55170000\t29\n"
     ]
    },
    {
     "name": "stderr",
     "output_type": "stream",
     "text": [
      "[mbo] 13: num.trees=294; max.depth=25; min.node.size=993; mtry=14 : y = 5.52e+07 : 605.4 secs : infill_ei\n",
      "\n",
      "Saved the current state after iteration 14 in the file HT450.RDATA.\n",
      "\n"
     ]
    },
    {
     "name": "stdout",
     "output_type": "stream",
     "text": [
      "Growing trees.. Progress: 25%. Estimated remaining time: 1 minute, 33 seconds.\n",
      "Growing trees.. Progress: 51%. Estimated remaining time: 1 minute, 1 seconds.\n",
      "Growing trees.. Progress: 75%. Estimated remaining time: 31 seconds.\n",
      "Growing trees.. Progress: 100%. Estimated remaining time: 0 seconds.\n",
      "Growing trees.. Progress: 25%. Estimated remaining time: 1 minute, 31 seconds.\n",
      "Growing trees.. Progress: 51%. Estimated remaining time: 1 minute, 1 seconds.\n",
      "Growing trees.. Progress: 77%. Estimated remaining time: 28 seconds.\n",
      "Growing trees.. Progress: 26%. Estimated remaining time: 1 minute, 29 seconds.\n",
      "Growing trees.. Progress: 52%. Estimated remaining time: 58 seconds.\n",
      "Growing trees.. Progress: 76%. Estimated remaining time: 29 seconds.\n",
      "Growing trees.. Progress: 26%. Estimated remaining time: 1 minute, 29 seconds.\n",
      "Growing trees.. Progress: 50%. Estimated remaining time: 1 minute, 1 seconds.\n",
      "Growing trees.. Progress: 74%. Estimated remaining time: 32 seconds.\n",
      "Growing trees.. Progress: 98%. Estimated remaining time: 2 seconds.\n",
      "Growing trees.. Progress: 27%. Estimated remaining time: 1 minute, 24 seconds.\n",
      "Growing trees.. Progress: 52%. Estimated remaining time: 57 seconds.\n",
      "Growing trees.. Progress: 77%. Estimated remaining time: 28 seconds.\n",
      "20250901 095306\t308\t20\t295\t14\t5\t54483000\t30\n"
     ]
    },
    {
     "name": "stderr",
     "output_type": "stream",
     "text": [
      "[mbo] 14: num.trees=308; max.depth=20; min.node.size=295; mtry=14 : y = 5.45e+07 : 685.5 secs : infill_ei\n",
      "\n",
      "Saved the current state after iteration 15 in the file HT450.RDATA.\n",
      "\n"
     ]
    },
    {
     "name": "stdout",
     "output_type": "stream",
     "text": [
      "Growing trees.. Progress: 7%. Estimated remaining time: 6 minutes, 40 seconds.\n",
      "Growing trees.. Progress: 15%. Estimated remaining time: 6 minutes, 2 seconds.\n",
      "Growing trees.. Progress: 23%. Estimated remaining time: 5 minutes, 28 seconds.\n",
      "Growing trees.. Progress: 30%. Estimated remaining time: 4 minutes, 56 seconds.\n",
      "Growing trees.. Progress: 37%. Estimated remaining time: 4 minutes, 28 seconds.\n",
      "Growing trees.. Progress: 44%. Estimated remaining time: 3 minutes, 57 seconds.\n",
      "Growing trees.. Progress: 52%. Estimated remaining time: 3 minutes, 23 seconds.\n",
      "Growing trees.. Progress: 59%. Estimated remaining time: 2 minutes, 53 seconds.\n",
      "Growing trees.. Progress: 66%. Estimated remaining time: 2 minutes, 23 seconds.\n",
      "Growing trees.. Progress: 74%. Estimated remaining time: 1 minute, 51 seconds.\n",
      "Growing trees.. Progress: 81%. Estimated remaining time: 1 minute, 20 seconds.\n",
      "Growing trees.. Progress: 89%. Estimated remaining time: 46 seconds.\n",
      "Growing trees.. Progress: 96%. Estimated remaining time: 17 seconds.\n",
      "Growing trees.. Progress: 7%. Estimated remaining time: 6 minutes, 51 seconds.\n",
      "Growing trees.. Progress: 15%. Estimated remaining time: 6 minutes, 14 seconds.\n",
      "Growing trees.. Progress: 22%. Estimated remaining time: 5 minutes, 40 seconds.\n",
      "Growing trees.. Progress: 29%. Estimated remaining time: 5 minutes, 4 seconds.\n",
      "Growing trees.. Progress: 37%. Estimated remaining time: 4 minutes, 33 seconds.\n",
      "Growing trees.. Progress: 44%. Estimated remaining time: 4 minutes, 1 seconds.\n",
      "Growing trees.. Progress: 52%. Estimated remaining time: 3 minutes, 28 seconds.\n",
      "Growing trees.. Progress: 58%. Estimated remaining time: 3 minutes, 0 seconds.\n",
      "Growing trees.. Progress: 66%. Estimated remaining time: 2 minutes, 28 seconds.\n",
      "Growing trees.. Progress: 73%. Estimated remaining time: 1 minute, 57 seconds.\n",
      "Growing trees.. Progress: 80%. Estimated remaining time: 1 minute, 24 seconds.\n",
      "Growing trees.. Progress: 87%. Estimated remaining time: 55 seconds.\n",
      "Growing trees.. Progress: 94%. Estimated remaining time: 25 seconds.\n",
      "Growing trees.. Progress: 7%. Estimated remaining time: 6 minutes, 51 seconds.\n",
      "Growing trees.. Progress: 14%. Estimated remaining time: 6 minutes, 33 seconds.\n",
      "Growing trees.. Progress: 20%. Estimated remaining time: 6 minutes, 6 seconds.\n",
      "Growing trees.. Progress: 26%. Estimated remaining time: 5 minutes, 52 seconds.\n",
      "Growing trees.. Progress: 33%. Estimated remaining time: 5 minutes, 16 seconds.\n",
      "Growing trees.. Progress: 40%. Estimated remaining time: 4 minutes, 42 seconds.\n",
      "Growing trees.. Progress: 47%. Estimated remaining time: 4 minutes, 8 seconds.\n",
      "Growing trees.. Progress: 54%. Estimated remaining time: 3 minutes, 35 seconds.\n",
      "Growing trees.. Progress: 61%. Estimated remaining time: 2 minutes, 59 seconds.\n",
      "Growing trees.. Progress: 69%. Estimated remaining time: 2 minutes, 24 seconds.\n",
      "Growing trees.. Progress: 76%. Estimated remaining time: 1 minute, 50 seconds.\n",
      "Growing trees.. Progress: 83%. Estimated remaining time: 1 minute, 18 seconds.\n",
      "Growing trees.. Progress: 90%. Estimated remaining time: 43 seconds.\n",
      "Growing trees.. Progress: 98%. Estimated remaining time: 10 seconds.\n",
      "Growing trees.. Progress: 7%. Estimated remaining time: 6 minutes, 39 seconds.\n",
      "Growing trees.. Progress: 15%. Estimated remaining time: 6 minutes, 2 seconds.\n",
      "Growing trees.. Progress: 22%. Estimated remaining time: 5 minutes, 37 seconds.\n",
      "Growing trees.. Progress: 29%. Estimated remaining time: 5 minutes, 6 seconds.\n",
      "Growing trees.. Progress: 36%. Estimated remaining time: 4 minutes, 34 seconds.\n",
      "Growing trees.. Progress: 44%. Estimated remaining time: 3 minutes, 57 seconds.\n",
      "Growing trees.. Progress: 52%. Estimated remaining time: 3 minutes, 18 seconds.\n",
      "Growing trees.. Progress: 61%. Estimated remaining time: 2 minutes, 43 seconds.\n",
      "Growing trees.. Progress: 68%. Estimated remaining time: 2 minutes, 11 seconds.\n",
      "Growing trees.. Progress: 75%. Estimated remaining time: 1 minute, 42 seconds.\n",
      "Growing trees.. Progress: 82%. Estimated remaining time: 1 minute, 13 seconds.\n",
      "Growing trees.. Progress: 90%. Estimated remaining time: 42 seconds.\n",
      "Growing trees.. Progress: 97%. Estimated remaining time: 14 seconds.\n",
      "Growing trees.. Progress: 7%. Estimated remaining time: 6 minutes, 40 seconds.\n",
      "Growing trees.. Progress: 14%. Estimated remaining time: 6 minutes, 14 seconds.\n",
      "Growing trees.. Progress: 21%. Estimated remaining time: 5 minutes, 48 seconds.\n",
      "Growing trees.. Progress: 29%. Estimated remaining time: 5 minutes, 14 seconds.\n",
      "Growing trees.. Progress: 36%. Estimated remaining time: 4 minutes, 39 seconds.\n",
      "Growing trees.. Progress: 43%. Estimated remaining time: 4 minutes, 6 seconds.\n",
      "Growing trees.. Progress: 51%. Estimated remaining time: 3 minutes, 34 seconds.\n",
      "Growing trees.. Progress: 58%. Estimated remaining time: 2 minutes, 59 seconds.\n",
      "Growing trees.. Progress: 66%. Estimated remaining time: 2 minutes, 26 seconds.\n",
      "Growing trees.. Progress: 73%. Estimated remaining time: 1 minute, 54 seconds.\n",
      "Growing trees.. Progress: 81%. Estimated remaining time: 1 minute, 23 seconds.\n",
      "Growing trees.. Progress: 88%. Estimated remaining time: 51 seconds.\n",
      "Growing trees.. Progress: 95%. Estimated remaining time: 22 seconds.\n",
      "20250901 103050\t500\t13\t1000\t42\t5\t54627000\t31\n"
     ]
    },
    {
     "name": "stderr",
     "output_type": "stream",
     "text": [
      "[mbo] 15: num.trees=500; max.depth=13; min.node.size=1000; mtry=42 : y = 5.46e+07 : 2256.9 secs : infill_ei\n",
      "\n",
      "Saved the current state after iteration 16 in the file HT450.RDATA.\n",
      "\n"
     ]
    },
    {
     "name": "stdout",
     "output_type": "stream",
     "text": [
      "Growing trees.. Progress: 27%. Estimated remaining time: 1 minute, 23 seconds.\n",
      "Growing trees.. Progress: 54%. Estimated remaining time: 53 seconds.\n",
      "Growing trees.. Progress: 82%. Estimated remaining time: 20 seconds.\n",
      "Growing trees.. Progress: 25%. Estimated remaining time: 1 minute, 33 seconds.\n",
      "Growing trees.. Progress: 50%. Estimated remaining time: 1 minute, 2 seconds.\n",
      "Growing trees.. Progress: 76%. Estimated remaining time: 29 seconds.\n",
      "Growing trees.. Progress: 26%. Estimated remaining time: 1 minute, 26 seconds.\n",
      "Growing trees.. Progress: 54%. Estimated remaining time: 53 seconds.\n",
      "Growing trees.. Progress: 81%. Estimated remaining time: 22 seconds.\n",
      "Growing trees.. Progress: 25%. Estimated remaining time: 1 minute, 31 seconds.\n",
      "Growing trees.. Progress: 51%. Estimated remaining time: 59 seconds.\n",
      "Growing trees.. Progress: 78%. Estimated remaining time: 26 seconds.\n",
      "Growing trees.. Progress: 26%. Estimated remaining time: 1 minute, 28 seconds.\n",
      "Growing trees.. Progress: 53%. Estimated remaining time: 53 seconds.\n",
      "Growing trees.. Progress: 81%. Estimated remaining time: 22 seconds.\n",
      "20250901 104146\t273\t26\t553\t15\t5\t55542000\t32\n"
     ]
    },
    {
     "name": "stderr",
     "output_type": "stream",
     "text": [
      "[mbo] 16: num.trees=273; max.depth=26; min.node.size=553; mtry=15 : y = 5.55e+07 : 652.5 secs : infill_ei\n",
      "\n",
      "Saved the current state after iteration 17 in the file HT450.RDATA.\n",
      "\n"
     ]
    },
    {
     "name": "stdout",
     "output_type": "stream",
     "text": [
      "Growing trees.. Progress: 20%. Estimated remaining time: 2 minutes, 7 seconds.\n",
      "Growing trees.. Progress: 40%. Estimated remaining time: 1 minute, 32 seconds.\n",
      "Growing trees.. Progress: 59%. Estimated remaining time: 1 minute, 3 seconds.\n",
      "Growing trees.. Progress: 79%. Estimated remaining time: 32 seconds.\n",
      "Growing trees.. Progress: 100%. Estimated remaining time: 0 seconds.\n",
      "Growing trees.. Progress: 20%. Estimated remaining time: 2 minutes, 7 seconds.\n",
      "Growing trees.. Progress: 39%. Estimated remaining time: 1 minute, 36 seconds.\n",
      "Growing trees.. Progress: 58%. Estimated remaining time: 1 minute, 6 seconds.\n",
      "Growing trees.. Progress: 78%. Estimated remaining time: 35 seconds.\n",
      "Growing trees.. Progress: 98%. Estimated remaining time: 3 seconds.\n",
      "Growing trees.. Progress: 19%. Estimated remaining time: 2 minutes, 13 seconds.\n",
      "Growing trees.. Progress: 39%. Estimated remaining time: 1 minute, 36 seconds.\n",
      "Growing trees.. Progress: 59%. Estimated remaining time: 1 minute, 4 seconds.\n",
      "Growing trees.. Progress: 79%. Estimated remaining time: 32 seconds.\n",
      "Growing trees.. Progress: 99%. Estimated remaining time: 1 seconds.\n",
      "Growing trees.. Progress: 20%. Estimated remaining time: 2 minutes, 4 seconds.\n",
      "Growing trees.. Progress: 40%. Estimated remaining time: 1 minute, 33 seconds.\n",
      "Growing trees.. Progress: 60%. Estimated remaining time: 1 minute, 2 seconds.\n",
      "Growing trees.. Progress: 80%. Estimated remaining time: 32 seconds.\n",
      "Growing trees.. Progress: 99%. Estimated remaining time: 2 seconds.\n",
      "Growing trees.. Progress: 20%. Estimated remaining time: 2 minutes, 5 seconds.\n",
      "Growing trees.. Progress: 38%. Estimated remaining time: 1 minute, 40 seconds.\n",
      "Growing trees.. Progress: 58%. Estimated remaining time: 1 minute, 6 seconds.\n",
      "Growing trees.. Progress: 78%. Estimated remaining time: 35 seconds.\n",
      "Growing trees.. Progress: 98%. Estimated remaining time: 3 seconds.\n",
      "20250901 105542\t500\t5\t91\t47\t5\t53115000\t33\n"
     ]
    },
    {
     "name": "stderr",
     "output_type": "stream",
     "text": [
      "[mbo] 17: num.trees=500; max.depth=5; min.node.size=91; mtry=47 : y = 5.31e+07 : 831.2 secs : infill_ei\n",
      "\n",
      "Saved the current state after iteration 18 in the file HT450.RDATA.\n",
      "\n"
     ]
    },
    {
     "name": "stdout",
     "output_type": "stream",
     "text": [
      "Growing trees.. Progress: 55%. Estimated remaining time: 25 seconds.\n",
      "Growing trees.. Progress: 53%. Estimated remaining time: 27 seconds.\n",
      "Growing trees.. Progress: 56%. Estimated remaining time: 24 seconds.\n",
      "Growing trees.. Progress: 55%. Estimated remaining time: 25 seconds.\n",
      "Growing trees.. Progress: 57%. Estimated remaining time: 23 seconds.\n",
      "20250901 110130\t317\t14\t992\t7\t5\t54030000\t34\n"
     ]
    },
    {
     "name": "stderr",
     "output_type": "stream",
     "text": [
      "[mbo] 18: num.trees=317; max.depth=14; min.node.size=992; mtry=7 : y = 5.4e+07 : 344.2 secs : infill_ei\n",
      "\n"
     ]
    },
    {
     "name": "stdout",
     "output_type": "stream",
     "text": [
      "20250901 110256\t20\t11\t590\t34\t5\t51633000\t35\n"
     ]
    },
    {
     "name": "stderr",
     "output_type": "stream",
     "text": [
      "[mbo] 19: num.trees=20; max.depth=11; min.node.size=590; mtry=34 : y = 5.16e+07 : 85.4 secs : infill_ei\n",
      "\n"
     ]
    },
    {
     "name": "stdout",
     "output_type": "stream",
     "text": [
      "Growing trees.. Progress: 15%. Estimated remaining time: 3 minutes, 0 seconds.\n",
      "Growing trees.. Progress: 29%. Estimated remaining time: 2 minutes, 29 seconds.\n",
      "Growing trees.. Progress: 44%. Estimated remaining time: 1 minute, 56 seconds.\n",
      "Growing trees.. Progress: 59%. Estimated remaining time: 1 minute, 26 seconds.\n",
      "Growing trees.. Progress: 74%. Estimated remaining time: 53 seconds.\n",
      "Growing trees.. Progress: 90%. Estimated remaining time: 21 seconds.\n",
      "Growing trees.. Progress: 14%. Estimated remaining time: 3 minutes, 6 seconds.\n",
      "Growing trees.. Progress: 29%. Estimated remaining time: 2 minutes, 35 seconds.\n",
      "Growing trees.. Progress: 44%. Estimated remaining time: 2 minutes, 0 seconds.\n",
      "Growing trees.. Progress: 58%. Estimated remaining time: 1 minute, 31 seconds.\n",
      "Growing trees.. Progress: 72%. Estimated remaining time: 1 minute, 1 seconds.\n",
      "Growing trees.. Progress: 86%. Estimated remaining time: 30 seconds.\n",
      "Growing trees.. Progress: 99%. Estimated remaining time: 1 seconds.\n",
      "Growing trees.. Progress: 14%. Estimated remaining time: 3 minutes, 16 seconds.\n",
      "Growing trees.. Progress: 28%. Estimated remaining time: 2 minutes, 38 seconds.\n",
      "Growing trees.. Progress: 43%. Estimated remaining time: 2 minutes, 5 seconds.\n",
      "Growing trees.. Progress: 58%. Estimated remaining time: 1 minute, 30 seconds.\n",
      "Growing trees.. Progress: 73%. Estimated remaining time: 56 seconds.\n",
      "Growing trees.. Progress: 89%. Estimated remaining time: 23 seconds.\n",
      "Growing trees.. Progress: 100%. Estimated remaining time: 0 seconds.\n",
      "Growing trees.. Progress: 14%. Estimated remaining time: 3 minutes, 12 seconds.\n",
      "Growing trees.. Progress: 29%. Estimated remaining time: 2 minutes, 35 seconds.\n",
      "Growing trees.. Progress: 43%. Estimated remaining time: 2 minutes, 5 seconds.\n",
      "Growing trees.. Progress: 58%. Estimated remaining time: 1 minute, 31 seconds.\n",
      "Growing trees.. Progress: 72%. Estimated remaining time: 1 minute, 1 seconds.\n",
      "Growing trees.. Progress: 86%. Estimated remaining time: 29 seconds.\n",
      "Growing trees.. Progress: 99%. Estimated remaining time: 2 seconds.\n",
      "Growing trees.. Progress: 15%. Estimated remaining time: 2 minutes, 54 seconds.\n",
      "Growing trees.. Progress: 30%. Estimated remaining time: 2 minutes, 25 seconds.\n",
      "Growing trees.. Progress: 46%. Estimated remaining time: 1 minute, 52 seconds.\n",
      "Growing trees.. Progress: 62%. Estimated remaining time: 1 minute, 17 seconds.\n",
      "Growing trees.. Progress: 78%. Estimated remaining time: 45 seconds.\n",
      "Growing trees.. Progress: 94%. Estimated remaining time: 12 seconds.\n",
      "20250901 112234\t498\t25\t270\t14\t5\t53643000\t36\n"
     ]
    },
    {
     "name": "stderr",
     "output_type": "stream",
     "text": [
      "[mbo] 20: num.trees=498; max.depth=25; min.node.size=270; mtry=14 : y = 5.36e+07 : 1177.7 secs : infill_ei\n",
      "\n",
      "Saved the current state after iteration 21 in the file HT450.RDATA.\n",
      "\n"
     ]
    },
    {
     "name": "stdout",
     "output_type": "stream",
     "text": [
      "Growing trees.. Progress: 27%. Estimated remaining time: 1 minute, 25 seconds.\n",
      "Growing trees.. Progress: 55%. Estimated remaining time: 51 seconds.\n",
      "Growing trees.. Progress: 84%. Estimated remaining time: 17 seconds.\n",
      "Growing trees.. Progress: 27%. Estimated remaining time: 1 minute, 25 seconds.\n",
      "Growing trees.. Progress: 53%. Estimated remaining time: 55 seconds.\n",
      "Growing trees.. Progress: 80%. Estimated remaining time: 23 seconds.\n",
      "Growing trees.. Progress: 27%. Estimated remaining time: 1 minute, 25 seconds.\n",
      "Growing trees.. Progress: 54%. Estimated remaining time: 53 seconds.\n",
      "Growing trees.. Progress: 83%. Estimated remaining time: 19 seconds.\n",
      "Growing trees.. Progress: 27%. Estimated remaining time: 1 minute, 25 seconds.\n",
      "Growing trees.. Progress: 54%. Estimated remaining time: 53 seconds.\n",
      "Growing trees.. Progress: 81%. Estimated remaining time: 22 seconds.\n",
      "Growing trees.. Progress: 28%. Estimated remaining time: 1 minute, 20 seconds.\n",
      "Growing trees.. Progress: 55%. Estimated remaining time: 49 seconds.\n",
      "Growing trees.. Progress: 84%. Estimated remaining time: 17 seconds.\n",
      "20250901 113303\t173\t20\t999\t25\t5\t53655000\t37\n"
     ]
    },
    {
     "name": "stderr",
     "output_type": "stream",
     "text": [
      "[mbo] 21: num.trees=173; max.depth=20; min.node.size=999; mtry=25 : y = 5.37e+07 : 623.5 secs : infill_ei\n",
      "\n",
      "Saved the current state after iteration 22 in the file HT450.RDATA.\n",
      "\n",
      "Warning message in generateDesign(control$infill.opt.focussearch.points, ps.local, :\n",
      "“generateDesign could only produce 997 points instead of 1000!”\n"
     ]
    },
    {
     "name": "stdout",
     "output_type": "stream",
     "text": [
      "Growing trees.. Progress: 5%. Estimated remaining time: 9 minutes, 25 seconds.\n",
      "Growing trees.. Progress: 10%. Estimated remaining time: 8 minutes, 54 seconds.\n",
      "Growing trees.. Progress: 16%. Estimated remaining time: 8 minutes, 28 seconds.\n",
      "Growing trees.. Progress: 21%. Estimated remaining time: 7 minutes, 50 seconds.\n",
      "Growing trees.. Progress: 26%. Estimated remaining time: 7 minutes, 17 seconds.\n",
      "Growing trees.. Progress: 32%. Estimated remaining time: 6 minutes, 43 seconds.\n",
      "Growing trees.. Progress: 37%. Estimated remaining time: 6 minutes, 11 seconds.\n",
      "Growing trees.. Progress: 43%. Estimated remaining time: 5 minutes, 36 seconds.\n",
      "Growing trees.. Progress: 48%. Estimated remaining time: 5 minutes, 6 seconds.\n",
      "Growing trees.. Progress: 53%. Estimated remaining time: 4 minutes, 34 seconds.\n",
      "Growing trees.. Progress: 59%. Estimated remaining time: 4 minutes, 1 seconds.\n",
      "Growing trees.. Progress: 64%. Estimated remaining time: 3 minutes, 28 seconds.\n",
      "Growing trees.. Progress: 70%. Estimated remaining time: 2 minutes, 54 seconds.\n",
      "Growing trees.. Progress: 76%. Estimated remaining time: 2 minutes, 22 seconds.\n",
      "Growing trees.. Progress: 81%. Estimated remaining time: 1 minute, 49 seconds.\n",
      "Growing trees.. Progress: 87%. Estimated remaining time: 1 minute, 17 seconds.\n",
      "Growing trees.. Progress: 92%. Estimated remaining time: 45 seconds.\n",
      "Growing trees.. Progress: 98%. Estimated remaining time: 12 seconds.\n",
      "Growing trees.. Progress: 5%. Estimated remaining time: 10 minutes, 8 seconds.\n",
      "Growing trees.. Progress: 10%. Estimated remaining time: 9 minutes, 39 seconds.\n",
      "Growing trees.. Progress: 15%. Estimated remaining time: 9 minutes, 12 seconds.\n",
      "Growing trees.. Progress: 20%. Estimated remaining time: 8 minutes, 32 seconds.\n",
      "Growing trees.. Progress: 25%. Estimated remaining time: 7 minutes, 54 seconds.\n",
      "Growing trees.. Progress: 30%. Estimated remaining time: 7 minutes, 21 seconds.\n",
      "Growing trees.. Progress: 36%. Estimated remaining time: 6 minutes, 38 seconds.\n",
      "Growing trees.. Progress: 41%. Estimated remaining time: 6 minutes, 8 seconds.\n",
      "Growing trees.. Progress: 46%. Estimated remaining time: 5 minutes, 39 seconds.\n",
      "Growing trees.. Progress: 51%. Estimated remaining time: 5 minutes, 5 seconds.\n",
      "Growing trees.. Progress: 56%. Estimated remaining time: 4 minutes, 32 seconds.\n",
      "Growing trees.. Progress: 62%. Estimated remaining time: 3 minutes, 58 seconds.\n",
      "Growing trees.. Progress: 67%. Estimated remaining time: 3 minutes, 23 seconds.\n",
      "Growing trees.. Progress: 73%. Estimated remaining time: 2 minutes, 48 seconds.\n",
      "Growing trees.. Progress: 78%. Estimated remaining time: 2 minutes, 14 seconds.\n",
      "Growing trees.. Progress: 84%. Estimated remaining time: 1 minute, 40 seconds.\n",
      "Growing trees.. Progress: 89%. Estimated remaining time: 1 minute, 9 seconds.\n",
      "Growing trees.. Progress: 93%. Estimated remaining time: 44 seconds.\n",
      "Growing trees.. Progress: 97%. Estimated remaining time: 17 seconds.\n",
      "Growing trees.. Progress: 4%. Estimated remaining time: 11 minutes, 47 seconds.\n",
      "Growing trees.. Progress: 9%. Estimated remaining time: 10 minutes, 37 seconds.\n",
      "Growing trees.. Progress: 14%. Estimated remaining time: 9 minutes, 43 seconds.\n",
      "Growing trees.. Progress: 19%. Estimated remaining time: 8 minutes, 54 seconds.\n",
      "Growing trees.. Progress: 25%. Estimated remaining time: 7 minutes, 59 seconds.\n",
      "Growing trees.. Progress: 30%. Estimated remaining time: 7 minutes, 19 seconds.\n",
      "Growing trees.. Progress: 36%. Estimated remaining time: 6 minutes, 38 seconds.\n",
      "Growing trees.. Progress: 41%. Estimated remaining time: 6 minutes, 1 seconds.\n",
      "Growing trees.. Progress: 47%. Estimated remaining time: 5 minutes, 23 seconds.\n",
      "Growing trees.. Progress: 52%. Estimated remaining time: 4 minutes, 47 seconds.\n",
      "Growing trees.. Progress: 58%. Estimated remaining time: 4 minutes, 12 seconds.\n",
      "Growing trees.. Progress: 64%. Estimated remaining time: 3 minutes, 38 seconds.\n",
      "Growing trees.. Progress: 69%. Estimated remaining time: 3 minutes, 3 seconds.\n",
      "Growing trees.. Progress: 75%. Estimated remaining time: 2 minutes, 29 seconds.\n",
      "Growing trees.. Progress: 80%. Estimated remaining time: 1 minute, 56 seconds.\n",
      "Growing trees.. Progress: 86%. Estimated remaining time: 1 minute, 22 seconds.\n",
      "Growing trees.. Progress: 92%. Estimated remaining time: 49 seconds.\n",
      "Growing trees.. Progress: 97%. Estimated remaining time: 16 seconds.\n",
      "Growing trees.. Progress: 5%. Estimated remaining time: 9 minutes, 3 seconds.\n",
      "Growing trees.. Progress: 11%. Estimated remaining time: 8 minutes, 21 seconds.\n",
      "Growing trees.. Progress: 17%. Estimated remaining time: 7 minutes, 47 seconds.\n",
      "Growing trees.. Progress: 22%. Estimated remaining time: 7 minutes, 23 seconds.\n",
      "Growing trees.. Progress: 28%. Estimated remaining time: 6 minutes, 49 seconds.\n",
      "Growing trees.. Progress: 33%. Estimated remaining time: 6 minutes, 21 seconds.\n",
      "Growing trees.. Progress: 38%. Estimated remaining time: 5 minutes, 51 seconds.\n",
      "Growing trees.. Progress: 44%. Estimated remaining time: 5 minutes, 19 seconds.\n",
      "Growing trees.. Progress: 50%. Estimated remaining time: 4 minutes, 48 seconds.\n",
      "Growing trees.. Progress: 55%. Estimated remaining time: 4 minutes, 16 seconds.\n",
      "Growing trees.. Progress: 61%. Estimated remaining time: 3 minutes, 44 seconds.\n",
      "Growing trees.. Progress: 67%. Estimated remaining time: 3 minutes, 10 seconds.\n",
      "Growing trees.. Progress: 72%. Estimated remaining time: 2 minutes, 38 seconds.\n",
      "Growing trees.. Progress: 78%. Estimated remaining time: 2 minutes, 6 seconds.\n",
      "Growing trees.. Progress: 83%. Estimated remaining time: 1 minute, 34 seconds.\n",
      "Growing trees.. Progress: 89%. Estimated remaining time: 1 minute, 1 seconds.\n",
      "Growing trees.. Progress: 95%. Estimated remaining time: 29 seconds.\n",
      "Growing trees.. Progress: 5%. Estimated remaining time: 9 minutes, 3 seconds.\n",
      "Growing trees.. Progress: 11%. Estimated remaining time: 8 minutes, 19 seconds.\n",
      "Growing trees.. Progress: 17%. Estimated remaining time: 7 minutes, 50 seconds.\n",
      "Growing trees.. Progress: 22%. Estimated remaining time: 7 minutes, 19 seconds.\n",
      "Growing trees.. Progress: 28%. Estimated remaining time: 6 minutes, 48 seconds.\n",
      "Growing trees.. Progress: 34%. Estimated remaining time: 6 minutes, 15 seconds.\n",
      "Growing trees.. Progress: 39%. Estimated remaining time: 5 minutes, 44 seconds.\n",
      "Growing trees.. Progress: 45%. Estimated remaining time: 5 minutes, 12 seconds.\n",
      "Growing trees.. Progress: 51%. Estimated remaining time: 4 minutes, 38 seconds.\n",
      "Growing trees.. Progress: 56%. Estimated remaining time: 4 minutes, 5 seconds.\n",
      "Growing trees.. Progress: 62%. Estimated remaining time: 3 minutes, 33 seconds.\n",
      "Growing trees.. Progress: 68%. Estimated remaining time: 3 minutes, 1 seconds.\n",
      "Growing trees.. Progress: 74%. Estimated remaining time: 2 minutes, 27 seconds.\n",
      "Growing trees.. Progress: 80%. Estimated remaining time: 1 minute, 54 seconds.\n",
      "Growing trees.. Progress: 85%. Estimated remaining time: 1 minute, 21 seconds.\n",
      "Growing trees.. Progress: 91%. Estimated remaining time: 50 seconds.\n",
      "Growing trees.. Progress: 97%. Estimated remaining time: 17 seconds.\n",
      "20250901 122320\t500\t16\t987\t50\t5\t54579000\t38\n"
     ]
    },
    {
     "name": "stderr",
     "output_type": "stream",
     "text": [
      "[mbo] 22: num.trees=500; max.depth=16; min.node.size=987; mtry=50 : y = 5.46e+07 : 3013.0 secs : infill_ei\n",
      "\n",
      "Saved the current state after iteration 23 in the file HT450.RDATA.\n",
      "\n"
     ]
    },
    {
     "name": "stdout",
     "output_type": "stream",
     "text": [
      "Growing trees.. Progress: 16%. Estimated remaining time: 2 minutes, 47 seconds.\n",
      "Growing trees.. Progress: 31%. Estimated remaining time: 2 minutes, 16 seconds.\n",
      "Growing trees.. Progress: 47%. Estimated remaining time: 1 minute, 44 seconds.\n",
      "Growing trees.. Progress: 63%. Estimated remaining time: 1 minute, 14 seconds.\n",
      "Growing trees.. Progress: 79%. Estimated remaining time: 42 seconds.\n",
      "Growing trees.. Progress: 94%. Estimated remaining time: 11 seconds.\n",
      "Growing trees.. Progress: 16%. Estimated remaining time: 2 minutes, 45 seconds.\n",
      "Growing trees.. Progress: 32%. Estimated remaining time: 2 minutes, 12 seconds.\n",
      "Growing trees.. Progress: 47%. Estimated remaining time: 1 minute, 43 seconds.\n",
      "Growing trees.. Progress: 63%. Estimated remaining time: 1 minute, 13 seconds.\n",
      "Growing trees.. Progress: 79%. Estimated remaining time: 42 seconds.\n",
      "Growing trees.. Progress: 94%. Estimated remaining time: 11 seconds.\n",
      "Growing trees.. Progress: 15%. Estimated remaining time: 2 minutes, 52 seconds.\n",
      "Growing trees.. Progress: 31%. Estimated remaining time: 2 minutes, 18 seconds.\n",
      "Growing trees.. Progress: 47%. Estimated remaining time: 1 minute, 45 seconds.\n",
      "Growing trees.. Progress: 63%. Estimated remaining time: 1 minute, 14 seconds.\n",
      "Growing trees.. Progress: 78%. Estimated remaining time: 43 seconds.\n",
      "Growing trees.. Progress: 94%. Estimated remaining time: 12 seconds.\n",
      "Growing trees.. Progress: 16%. Estimated remaining time: 2 minutes, 45 seconds.\n",
      "Growing trees.. Progress: 31%. Estimated remaining time: 2 minutes, 17 seconds.\n",
      "Growing trees.. Progress: 47%. Estimated remaining time: 1 minute, 46 seconds.\n",
      "Growing trees.. Progress: 63%. Estimated remaining time: 1 minute, 14 seconds.\n",
      "Growing trees.. Progress: 78%. Estimated remaining time: 43 seconds.\n",
      "Growing trees.. Progress: 94%. Estimated remaining time: 12 seconds.\n",
      "Growing trees.. Progress: 15%. Estimated remaining time: 2 minutes, 50 seconds.\n",
      "Growing trees.. Progress: 31%. Estimated remaining time: 2 minutes, 18 seconds.\n",
      "Growing trees.. Progress: 46%. Estimated remaining time: 1 minute, 47 seconds.\n",
      "Growing trees.. Progress: 62%. Estimated remaining time: 1 minute, 16 seconds.\n",
      "Growing trees.. Progress: 78%. Estimated remaining time: 44 seconds.\n",
      "Growing trees.. Progress: 93%. Estimated remaining time: 14 seconds.\n",
      "20250901 124105\t500\t9\t88\t30\t5\t55014000\t39\n"
     ]
    },
    {
     "name": "stderr",
     "output_type": "stream",
     "text": [
      "[mbo] 23: num.trees=500; max.depth=9; min.node.size=88; mtry=30 : y = 5.5e+07 : 1061.1 secs : infill_ei\n",
      "\n",
      "Saved the current state after iteration 24 in the file HT450.RDATA.\n",
      "\n",
      "Warning message in generateDesign(control$infill.opt.focussearch.points, ps.local, :\n",
      "“generateDesign could only produce 999 points instead of 1000!”\n"
     ]
    },
    {
     "name": "stdout",
     "output_type": "stream",
     "text": [
      "Growing trees.. Progress: 11%. Estimated remaining time: 4 minutes, 12 seconds.\n",
      "Growing trees.. Progress: 22%. Estimated remaining time: 3 minutes, 38 seconds.\n",
      "Growing trees.. Progress: 34%. Estimated remaining time: 3 minutes, 4 seconds.\n",
      "Growing trees.. Progress: 45%. Estimated remaining time: 2 minutes, 32 seconds.\n",
      "Growing trees.. Progress: 56%. Estimated remaining time: 2 minutes, 3 seconds.\n",
      "Growing trees.. Progress: 67%. Estimated remaining time: 1 minute, 34 seconds.\n",
      "Growing trees.. Progress: 77%. Estimated remaining time: 1 minute, 5 seconds.\n",
      "Growing trees.. Progress: 88%. Estimated remaining time: 34 seconds.\n",
      "Growing trees.. Progress: 100%. Estimated remaining time: 1 seconds.\n",
      "Growing trees.. Progress: 11%. Estimated remaining time: 4 minutes, 28 seconds.\n",
      "Growing trees.. Progress: 21%. Estimated remaining time: 3 minutes, 58 seconds.\n",
      "Growing trees.. Progress: 32%. Estimated remaining time: 3 minutes, 20 seconds.\n",
      "Growing trees.. Progress: 43%. Estimated remaining time: 2 minutes, 46 seconds.\n",
      "Growing trees.. Progress: 55%. Estimated remaining time: 2 minutes, 12 seconds.\n",
      "Growing trees.. Progress: 65%. Estimated remaining time: 1 minute, 41 seconds.\n",
      "Growing trees.. Progress: 76%. Estimated remaining time: 1 minute, 9 seconds.\n",
      "Growing trees.. Progress: 87%. Estimated remaining time: 37 seconds.\n",
      "Growing trees.. Progress: 98%. Estimated remaining time: 5 seconds.\n",
      "Growing trees.. Progress: 11%. Estimated remaining time: 4 minutes, 12 seconds.\n",
      "Growing trees.. Progress: 22%. Estimated remaining time: 3 minutes, 38 seconds.\n",
      "Growing trees.. Progress: 34%. Estimated remaining time: 3 minutes, 4 seconds.\n",
      "Growing trees.. Progress: 45%. Estimated remaining time: 2 minutes, 34 seconds.\n",
      "Growing trees.. Progress: 57%. Estimated remaining time: 2 minutes, 2 seconds.\n",
      "Growing trees.. Progress: 68%. Estimated remaining time: 1 minute, 29 seconds.\n",
      "Growing trees.. Progress: 80%. Estimated remaining time: 57 seconds.\n",
      "Growing trees.. Progress: 90%. Estimated remaining time: 26 seconds.\n",
      "Growing trees.. Progress: 11%. Estimated remaining time: 4 minutes, 12 seconds.\n",
      "Growing trees.. Progress: 22%. Estimated remaining time: 3 minutes, 44 seconds.\n",
      "Growing trees.. Progress: 33%. Estimated remaining time: 3 minutes, 10 seconds.\n",
      "Growing trees.. Progress: 45%. Estimated remaining time: 2 minutes, 37 seconds.\n",
      "Growing trees.. Progress: 56%. Estimated remaining time: 2 minutes, 4 seconds.\n",
      "Growing trees.. Progress: 68%. Estimated remaining time: 1 minute, 31 seconds.\n",
      "Growing trees.. Progress: 79%. Estimated remaining time: 1 minute, 1 seconds.\n",
      "Growing trees.. Progress: 90%. Estimated remaining time: 29 seconds.\n",
      "Growing trees.. Progress: 100%. Estimated remaining time: 0 seconds.\n",
      "Growing trees.. Progress: 11%. Estimated remaining time: 4 minutes, 0 seconds.\n",
      "Growing trees.. Progress: 23%. Estimated remaining time: 3 minutes, 27 seconds.\n",
      "Growing trees.. Progress: 35%. Estimated remaining time: 2 minutes, 52 seconds.\n",
      "Growing trees.. Progress: 47%. Estimated remaining time: 2 minutes, 22 seconds.\n",
      "Growing trees.. Progress: 58%. Estimated remaining time: 1 minute, 53 seconds.\n",
      "Growing trees.. Progress: 70%. Estimated remaining time: 1 minute, 20 seconds.\n",
      "Growing trees.. Progress: 81%. Estimated remaining time: 50 seconds.\n",
      "Growing trees.. Progress: 93%. Estimated remaining time: 18 seconds.\n",
      "20250901 130540\t210\t23\t1000\t50\t5\t53928000\t40\n"
     ]
    },
    {
     "name": "stderr",
     "output_type": "stream",
     "text": [
      "[mbo] 24: num.trees=210; max.depth=23; min.node.size=1000; mtry=50 : y = 5.39e+07 : 1470.2 secs : infill_ei\n",
      "\n",
      "Saved the current state after iteration 25 in the file HT450.RDATA.\n",
      "\n"
     ]
    },
    {
     "name": "stdout",
     "output_type": "stream",
     "text": [
      "Growing trees.. Progress: 20%. Estimated remaining time: 2 minutes, 4 seconds.\n",
      "Growing trees.. Progress: 40%. Estimated remaining time: 1 minute, 33 seconds.\n",
      "Growing trees.. Progress: 60%. Estimated remaining time: 1 minute, 3 seconds.\n",
      "Growing trees.. Progress: 79%. Estimated remaining time: 32 seconds.\n",
      "Growing trees.. Progress: 100%. Estimated remaining time: 0 seconds.\n",
      "Growing trees.. Progress: 19%. Estimated remaining time: 2 minutes, 11 seconds.\n",
      "Growing trees.. Progress: 39%. Estimated remaining time: 1 minute, 36 seconds.\n",
      "Growing trees.. Progress: 59%. Estimated remaining time: 1 minute, 5 seconds.\n",
      "Growing trees.. Progress: 78%. Estimated remaining time: 35 seconds.\n",
      "Growing trees.. Progress: 97%. Estimated remaining time: 4 seconds.\n",
      "Growing trees.. Progress: 20%. Estimated remaining time: 2 minutes, 7 seconds.\n",
      "Growing trees.. Progress: 40%. Estimated remaining time: 1 minute, 32 seconds.\n",
      "Growing trees.. Progress: 61%. Estimated remaining time: 1 minute, 0 seconds.\n",
      "Growing trees.. Progress: 81%. Estimated remaining time: 28 seconds.\n",
      "Growing trees.. Progress: 20%. Estimated remaining time: 2 minutes, 4 seconds.\n",
      "Growing trees.. Progress: 39%. Estimated remaining time: 1 minute, 36 seconds.\n",
      "Growing trees.. Progress: 56%. Estimated remaining time: 1 minute, 13 seconds.\n",
      "Growing trees.. Progress: 75%. Estimated remaining time: 41 seconds.\n",
      "Growing trees.. Progress: 94%. Estimated remaining time: 9 seconds.\n",
      "Growing trees.. Progress: 20%. Estimated remaining time: 2 minutes, 1 seconds.\n",
      "Growing trees.. Progress: 41%. Estimated remaining time: 1 minute, 27 seconds.\n",
      "Growing trees.. Progress: 62%. Estimated remaining time: 57 seconds.\n",
      "Growing trees.. Progress: 83%. Estimated remaining time: 24 seconds.\n",
      "20250901 131951\t241\t24\t205\t23\t5\t51411000\t41\n"
     ]
    },
    {
     "name": "stderr",
     "output_type": "stream",
     "text": [
      "[mbo] 25: num.trees=241; max.depth=24; min.node.size=205; mtry=23 : y = 5.14e+07 : 844.8 secs : infill_ei\n",
      "\n",
      "Saved the current state after iteration 26 in the file HT450.RDATA.\n",
      "\n"
     ]
    },
    {
     "name": "stdout",
     "output_type": "stream",
     "text": [
      "Growing trees.. Progress: 28%. Estimated remaining time: 1 minute, 18 seconds.\n",
      "Growing trees.. Progress: 57%. Estimated remaining time: 46 seconds.\n",
      "Growing trees.. Progress: 86%. Estimated remaining time: 15 seconds.\n",
      "Growing trees.. Progress: 28%. Estimated remaining time: 1 minute, 20 seconds.\n",
      "Growing trees.. Progress: 56%. Estimated remaining time: 47 seconds.\n",
      "Growing trees.. Progress: 85%. Estimated remaining time: 16 seconds.\n",
      "Growing trees.. Progress: 29%. Estimated remaining time: 1 minute, 16 seconds.\n",
      "Growing trees.. Progress: 58%. Estimated remaining time: 44 seconds.\n",
      "Growing trees.. Progress: 86%. Estimated remaining time: 14 seconds.\n",
      "Growing trees.. Progress: 28%. Estimated remaining time: 1 minute, 18 seconds.\n",
      "Growing trees.. Progress: 57%. Estimated remaining time: 46 seconds.\n",
      "Growing trees.. Progress: 85%. Estimated remaining time: 16 seconds.\n",
      "Growing trees.. Progress: 29%. Estimated remaining time: 1 minute, 16 seconds.\n",
      "Growing trees.. Progress: 57%. Estimated remaining time: 45 seconds.\n",
      "Growing trees.. Progress: 86%. Estimated remaining time: 15 seconds.\n",
      "20250901 132958\t395\t10\t262\t17\t5\t55002000\t42\n"
     ]
    },
    {
     "name": "stderr",
     "output_type": "stream",
     "text": [
      "[mbo] 26: num.trees=395; max.depth=10; min.node.size=262; mtry=17 : y = 5.5e+07 : 604.0 secs : infill_ei\n",
      "\n",
      "Saved the current state after iteration 27 in the file HT450.RDATA.\n",
      "\n"
     ]
    },
    {
     "name": "stdout",
     "output_type": "stream",
     "text": [
      "Growing trees.. Progress: 16%. Estimated remaining time: 2 minutes, 45 seconds.\n",
      "Growing trees.. Progress: 32%. Estimated remaining time: 2 minutes, 14 seconds.\n",
      "Growing trees.. Progress: 48%. Estimated remaining time: 1 minute, 41 seconds.\n",
      "Growing trees.. Progress: 64%. Estimated remaining time: 1 minute, 9 seconds.\n",
      "Growing trees.. Progress: 81%. Estimated remaining time: 37 seconds.\n",
      "Growing trees.. Progress: 97%. Estimated remaining time: 6 seconds.\n",
      "Growing trees.. Progress: 16%. Estimated remaining time: 2 minutes, 48 seconds.\n",
      "Growing trees.. Progress: 32%. Estimated remaining time: 2 minutes, 12 seconds.\n",
      "Growing trees.. Progress: 48%. Estimated remaining time: 1 minute, 42 seconds.\n",
      "Growing trees.. Progress: 63%. Estimated remaining time: 1 minute, 11 seconds.\n",
      "Growing trees.. Progress: 80%. Estimated remaining time: 39 seconds.\n",
      "Growing trees.. Progress: 96%. Estimated remaining time: 8 seconds.\n",
      "Growing trees.. Progress: 16%. Estimated remaining time: 2 minutes, 45 seconds.\n",
      "Growing trees.. Progress: 32%. Estimated remaining time: 2 minutes, 12 seconds.\n",
      "Growing trees.. Progress: 48%. Estimated remaining time: 1 minute, 41 seconds.\n",
      "Growing trees.. Progress: 64%. Estimated remaining time: 1 minute, 9 seconds.\n",
      "Growing trees.. Progress: 81%. Estimated remaining time: 37 seconds.\n",
      "Growing trees.. Progress: 97%. Estimated remaining time: 6 seconds.\n",
      "Growing trees.. Progress: 16%. Estimated remaining time: 2 minutes, 48 seconds.\n",
      "Growing trees.. Progress: 32%. Estimated remaining time: 2 minutes, 12 seconds.\n",
      "Growing trees.. Progress: 48%. Estimated remaining time: 1 minute, 42 seconds.\n",
      "Growing trees.. Progress: 64%. Estimated remaining time: 1 minute, 9 seconds.\n",
      "Growing trees.. Progress: 80%. Estimated remaining time: 38 seconds.\n",
      "Growing trees.. Progress: 96%. Estimated remaining time: 7 seconds.\n",
      "Growing trees.. Progress: 16%. Estimated remaining time: 2 minutes, 42 seconds.\n",
      "Growing trees.. Progress: 33%. Estimated remaining time: 2 minutes, 6 seconds.\n",
      "Growing trees.. Progress: 50%. Estimated remaining time: 1 minute, 34 seconds.\n",
      "Growing trees.. Progress: 66%. Estimated remaining time: 1 minute, 4 seconds.\n",
      "Growing trees.. Progress: 83%. Estimated remaining time: 32 seconds.\n",
      "Growing trees.. Progress: 99%. Estimated remaining time: 0 seconds.\n",
      "20250901 134718\t380\t17\t1000\t22\t5\t54213000\t43\n"
     ]
    },
    {
     "name": "stderr",
     "output_type": "stream",
     "text": [
      "[mbo] 27: num.trees=380; max.depth=17; min.node.size=1000; mtry=22 : y = 5.42e+07 : 1033.2 secs : infill_ei\n",
      "\n",
      "Saved the current state after iteration 28 in the file HT450.RDATA.\n",
      "\n"
     ]
    },
    {
     "name": "stdout",
     "output_type": "stream",
     "text": [
      "Growing trees.. Progress: 9%. Estimated remaining time: 4 minutes, 58 seconds.\n",
      "Growing trees.. Progress: 19%. Estimated remaining time: 4 minutes, 26 seconds.\n",
      "Growing trees.. Progress: 29%. Estimated remaining time: 3 minutes, 58 seconds.\n",
      "Growing trees.. Progress: 38%. Estimated remaining time: 3 minutes, 26 seconds.\n",
      "Growing trees.. Progress: 48%. Estimated remaining time: 2 minutes, 53 seconds.\n",
      "Growing trees.. Progress: 57%. Estimated remaining time: 2 minutes, 22 seconds.\n",
      "Growing trees.. Progress: 67%. Estimated remaining time: 1 minute, 50 seconds.\n",
      "Growing trees.. Progress: 77%. Estimated remaining time: 1 minute, 16 seconds.\n",
      "Growing trees.. Progress: 86%. Estimated remaining time: 45 seconds.\n",
      "Growing trees.. Progress: 96%. Estimated remaining time: 14 seconds.\n",
      "Growing trees.. Progress: 9%. Estimated remaining time: 5 minutes, 21 seconds.\n",
      "Growing trees.. Progress: 18%. Estimated remaining time: 4 minutes, 38 seconds.\n",
      "Growing trees.. Progress: 28%. Estimated remaining time: 3 minutes, 59 seconds.\n",
      "Growing trees.. Progress: 38%. Estimated remaining time: 3 minutes, 27 seconds.\n",
      "Growing trees.. Progress: 47%. Estimated remaining time: 2 minutes, 58 seconds.\n",
      "Growing trees.. Progress: 56%. Estimated remaining time: 2 minutes, 27 seconds.\n",
      "Growing trees.. Progress: 66%. Estimated remaining time: 1 minute, 54 seconds.\n",
      "Growing trees.. Progress: 75%. Estimated remaining time: 1 minute, 23 seconds.\n",
      "Growing trees.. Progress: 85%. Estimated remaining time: 51 seconds.\n",
      "Growing trees.. Progress: 94%. Estimated remaining time: 20 seconds.\n",
      "Growing trees.. Progress: 9%. Estimated remaining time: 5 minutes, 11 seconds.\n",
      "Growing trees.. Progress: 18%. Estimated remaining time: 4 minutes, 33 seconds.\n",
      "Growing trees.. Progress: 28%. Estimated remaining time: 4 minutes, 6 seconds.\n",
      "Growing trees.. Progress: 37%. Estimated remaining time: 3 minutes, 32 seconds.\n",
      "Growing trees.. Progress: 47%. Estimated remaining time: 3 minutes, 0 seconds.\n",
      "Growing trees.. Progress: 56%. Estimated remaining time: 2 minutes, 28 seconds.\n",
      "Growing trees.. Progress: 65%. Estimated remaining time: 1 minute, 56 seconds.\n",
      "Growing trees.. Progress: 75%. Estimated remaining time: 1 minute, 24 seconds.\n",
      "Growing trees.. Progress: 85%. Estimated remaining time: 51 seconds.\n",
      "Growing trees.. Progress: 94%. Estimated remaining time: 19 seconds.\n",
      "Growing trees.. Progress: 9%. Estimated remaining time: 4 minutes, 58 seconds.\n",
      "Growing trees.. Progress: 19%. Estimated remaining time: 4 minutes, 26 seconds.\n",
      "Growing trees.. Progress: 29%. Estimated remaining time: 3 minutes, 54 seconds.\n",
      "Growing trees.. Progress: 38%. Estimated remaining time: 3 minutes, 23 seconds.\n",
      "Growing trees.. Progress: 48%. Estimated remaining time: 2 minutes, 52 seconds.\n",
      "Growing trees.. Progress: 57%. Estimated remaining time: 2 minutes, 24 seconds.\n",
      "Growing trees.. Progress: 66%. Estimated remaining time: 1 minute, 52 seconds.\n",
      "Growing trees.. Progress: 76%. Estimated remaining time: 1 minute, 20 seconds.\n",
      "Growing trees.. Progress: 85%. Estimated remaining time: 49 seconds.\n",
      "Growing trees.. Progress: 95%. Estimated remaining time: 17 seconds.\n",
      "Growing trees.. Progress: 10%. Estimated remaining time: 4 minutes, 56 seconds.\n",
      "Growing trees.. Progress: 19%. Estimated remaining time: 4 minutes, 20 seconds.\n",
      "Growing trees.. Progress: 29%. Estimated remaining time: 3 minutes, 52 seconds.\n",
      "Growing trees.. Progress: 39%. Estimated remaining time: 3 minutes, 19 seconds.\n",
      "Growing trees.. Progress: 49%. Estimated remaining time: 2 minutes, 47 seconds.\n",
      "Growing trees.. Progress: 58%. Estimated remaining time: 2 minutes, 17 seconds.\n",
      "Growing trees.. Progress: 67%. Estimated remaining time: 1 minute, 46 seconds.\n",
      "Growing trees.. Progress: 77%. Estimated remaining time: 1 minute, 14 seconds.\n",
      "Growing trees.. Progress: 87%. Estimated remaining time: 42 seconds.\n",
      "Growing trees.. Progress: 97%. Estimated remaining time: 10 seconds.\n",
      "20250901 141602\t298\t16\t989\t50\t5\t54330000\t44\n"
     ]
    },
    {
     "name": "stderr",
     "output_type": "stream",
     "text": [
      "[mbo] 28: num.trees=298; max.depth=16; min.node.size=989; mtry=50 : y = 5.43e+07 : 1718.7 secs : infill_ei\n",
      "\n",
      "Saved the current state after iteration 29 in the file HT450.RDATA.\n",
      "\n"
     ]
    },
    {
     "name": "stdout",
     "output_type": "stream",
     "text": [
      "Growing trees.. Progress: 19%. Estimated remaining time: 2 minutes, 10 seconds.\n",
      "Growing trees.. Progress: 38%. Estimated remaining time: 1 minute, 39 seconds.\n",
      "Growing trees.. Progress: 58%. Estimated remaining time: 1 minute, 7 seconds.\n",
      "Growing trees.. Progress: 77%. Estimated remaining time: 36 seconds.\n",
      "Growing trees.. Progress: 97%. Estimated remaining time: 5 seconds.\n",
      "Growing trees.. Progress: 19%. Estimated remaining time: 2 minutes, 13 seconds.\n",
      "Growing trees.. Progress: 38%. Estimated remaining time: 1 minute, 41 seconds.\n",
      "Growing trees.. Progress: 57%. Estimated remaining time: 1 minute, 9 seconds.\n",
      "Growing trees.. Progress: 76%. Estimated remaining time: 38 seconds.\n",
      "Growing trees.. Progress: 96%. Estimated remaining time: 7 seconds.\n",
      "Growing trees.. Progress: 19%. Estimated remaining time: 2 minutes, 13 seconds.\n",
      "Growing trees.. Progress: 38%. Estimated remaining time: 1 minute, 42 seconds.\n",
      "Growing trees.. Progress: 57%. Estimated remaining time: 1 minute, 9 seconds.\n",
      "Growing trees.. Progress: 76%. Estimated remaining time: 39 seconds.\n",
      "Growing trees.. Progress: 95%. Estimated remaining time: 7 seconds.\n",
      "Growing trees.. Progress: 19%. Estimated remaining time: 2 minutes, 12 seconds.\n",
      "Growing trees.. Progress: 38%. Estimated remaining time: 1 minute, 40 seconds.\n",
      "Growing trees.. Progress: 57%. Estimated remaining time: 1 minute, 9 seconds.\n",
      "Growing trees.. Progress: 76%. Estimated remaining time: 38 seconds.\n",
      "Growing trees.. Progress: 96%. Estimated remaining time: 7 seconds.\n",
      "Growing trees.. Progress: 19%. Estimated remaining time: 2 minutes, 10 seconds.\n",
      "Growing trees.. Progress: 38%. Estimated remaining time: 1 minute, 39 seconds.\n",
      "Growing trees.. Progress: 58%. Estimated remaining time: 1 minute, 7 seconds.\n",
      "Growing trees.. Progress: 77%. Estimated remaining time: 37 seconds.\n",
      "Growing trees.. Progress: 96%. Estimated remaining time: 5 seconds.\n",
      "20250901 143043\t500\t10\t520\t21\t5\t55152000\t45\n"
     ]
    },
    {
     "name": "stderr",
     "output_type": "stream",
     "text": [
      "[mbo] 29: num.trees=500; max.depth=10; min.node.size=520; mtry=21 : y = 5.52e+07 : 877.7 secs : infill_ei\n",
      "\n",
      "Saved the current state after iteration 30 in the file HT450.RDATA.\n",
      "\n"
     ]
    },
    {
     "name": "stdout",
     "output_type": "stream",
     "text": [
      "Growing trees.. Progress: 41%. Estimated remaining time: 43 seconds.\n",
      "Growing trees.. Progress: 83%. Estimated remaining time: 12 seconds.\n",
      "Growing trees.. Progress: 41%. Estimated remaining time: 43 seconds.\n",
      "Growing trees.. Progress: 83%. Estimated remaining time: 12 seconds.\n",
      "Growing trees.. Progress: 41%. Estimated remaining time: 43 seconds.\n",
      "Growing trees.. Progress: 83%. Estimated remaining time: 12 seconds.\n",
      "Growing trees.. Progress: 41%. Estimated remaining time: 43 seconds.\n",
      "Growing trees.. Progress: 83%. Estimated remaining time: 12 seconds.\n",
      "Growing trees.. Progress: 41%. Estimated remaining time: 43 seconds.\n",
      "Growing trees.. Progress: 83%. Estimated remaining time: 12 seconds.\n",
      "20250901 143730\t104\t10\t199\t50\t5\t53751000\t46\n"
     ]
    },
    {
     "name": "stderr",
     "output_type": "stream",
     "text": [
      "[mbo] 30: num.trees=104; max.depth=10; min.node.size=199; mtry=50 : y = 5.38e+07 : 403.2 secs : infill_ei\n",
      "\n",
      "Warning message in generateDesign(control$infill.opt.focussearch.points, ps.local, :\n",
      "“generateDesign could only produce 378 points instead of 1000!”\n"
     ]
    },
    {
     "name": "stdout",
     "output_type": "stream",
     "text": [
      "Growing trees.. Progress: 26%. Estimated remaining time: 1 minute, 26 seconds.\n",
      "Growing trees.. Progress: 53%. Estimated remaining time: 54 seconds.\n",
      "Growing trees.. Progress: 80%. Estimated remaining time: 23 seconds.\n",
      "Growing trees.. Progress: 25%. Estimated remaining time: 1 minute, 31 seconds.\n",
      "Growing trees.. Progress: 51%. Estimated remaining time: 59 seconds.\n",
      "Growing trees.. Progress: 76%. Estimated remaining time: 28 seconds.\n",
      "Growing trees.. Progress: 26%. Estimated remaining time: 1 minute, 29 seconds.\n",
      "Growing trees.. Progress: 52%. Estimated remaining time: 57 seconds.\n",
      "Growing trees.. Progress: 78%. Estimated remaining time: 25 seconds.\n",
      "Growing trees.. Progress: 26%. Estimated remaining time: 1 minute, 29 seconds.\n",
      "Growing trees.. Progress: 52%. Estimated remaining time: 57 seconds.\n",
      "Growing trees.. Progress: 77%. Estimated remaining time: 27 seconds.\n",
      "Growing trees.. Progress: 26%. Estimated remaining time: 1 minute, 26 seconds.\n",
      "Growing trees.. Progress: 53%. Estimated remaining time: 54 seconds.\n",
      "Growing trees.. Progress: 80%. Estimated remaining time: 23 seconds.\n",
      "20250901 144824\t292\t27\t340\t15\t5\t54636000\t47\n"
     ]
    },
    {
     "name": "stderr",
     "output_type": "stream",
     "text": [
      "[mbo] 31: num.trees=292; max.depth=27; min.node.size=340; mtry=15 : y = 5.46e+07 : 652.5 secs : infill_ei\n",
      "\n",
      "Saved the current state after iteration 32 in the file HT450.RDATA.\n",
      "\n"
     ]
    },
    {
     "name": "stdout",
     "output_type": "stream",
     "text": [
      "Growing trees.. Progress: 42%. Estimated remaining time: 42 seconds.\n",
      "Growing trees.. Progress: 84%. Estimated remaining time: 11 seconds.\n",
      "Growing trees.. Progress: 41%. Estimated remaining time: 43 seconds.\n",
      "Growing trees.. Progress: 83%. Estimated remaining time: 12 seconds.\n",
      "Growing trees.. Progress: 42%. Estimated remaining time: 42 seconds.\n",
      "Growing trees.. Progress: 85%. Estimated remaining time: 10 seconds.\n",
      "Growing trees.. Progress: 40%. Estimated remaining time: 45 seconds.\n",
      "Growing trees.. Progress: 82%. Estimated remaining time: 13 seconds.\n",
      "Growing trees.. Progress: 42%. Estimated remaining time: 42 seconds.\n",
      "Growing trees.. Progress: 86%. Estimated remaining time: 10 seconds.\n",
      "20250901 145539\t319\t26\t226\t8\t5\t55182000\t48\n"
     ]
    },
    {
     "name": "stderr",
     "output_type": "stream",
     "text": [
      "[mbo] 32: num.trees=319; max.depth=26; min.node.size=226; mtry=8 : y = 5.52e+07 : 431.0 secs : infill_ei\n",
      "\n"
     ]
    },
    {
     "name": "stdout",
     "output_type": "stream",
     "text": [
      "Growing trees.. Progress: 30%. Estimated remaining time: 1 minute, 11 seconds.\n",
      "Growing trees.. Progress: 61%. Estimated remaining time: 39 seconds.\n",
      "Growing trees.. Progress: 92%. Estimated remaining time: 7 seconds.\n",
      "Growing trees.. Progress: 30%. Estimated remaining time: 1 minute, 11 seconds.\n",
      "Growing trees.. Progress: 61%. Estimated remaining time: 40 seconds.\n",
      "Growing trees.. Progress: 91%. Estimated remaining time: 9 seconds.\n",
      "Growing trees.. Progress: 31%. Estimated remaining time: 1 minute, 8 seconds.\n",
      "Growing trees.. Progress: 62%. Estimated remaining time: 38 seconds.\n",
      "Growing trees.. Progress: 91%. Estimated remaining time: 8 seconds.\n",
      "Growing trees.. Progress: 29%. Estimated remaining time: 1 minute, 17 seconds.\n",
      "Growing trees.. Progress: 57%. Estimated remaining time: 47 seconds.\n",
      "Growing trees.. Progress: 86%. Estimated remaining time: 15 seconds.\n",
      "Growing trees.. Progress: 30%. Estimated remaining time: 1 minute, 10 seconds.\n",
      "Growing trees.. Progress: 62%. Estimated remaining time: 38 seconds.\n",
      "Growing trees.. Progress: 92%. Estimated remaining time: 7 seconds.\n",
      "20250901 150515\t305\t25\t705\t13\t5\t54693000\t49\n"
     ]
    },
    {
     "name": "stderr",
     "output_type": "stream",
     "text": [
      "[mbo] 33: num.trees=305; max.depth=25; min.node.size=705; mtry=13 : y = 5.47e+07 : 574.7 secs : infill_ei\n",
      "\n",
      "Saved the current state after iteration 34 in the file HT450.RDATA.\n",
      "\n",
      "Warning message in generateDesign(control$infill.opt.focussearch.points, ps.local, :\n",
      "“generateDesign could only produce 983 points instead of 1000!”\n"
     ]
    },
    {
     "name": "stdout",
     "output_type": "stream",
     "text": [
      "Growing trees.. Progress: 12%. Estimated remaining time: 3 minutes, 56 seconds.\n",
      "Growing trees.. Progress: 23%. Estimated remaining time: 3 minutes, 22 seconds.\n",
      "Growing trees.. Progress: 36%. Estimated remaining time: 2 minutes, 48 seconds.\n",
      "Growing trees.. Progress: 48%. Estimated remaining time: 2 minutes, 16 seconds.\n",
      "Growing trees.. Progress: 60%. Estimated remaining time: 1 minute, 44 seconds.\n",
      "Growing trees.. Progress: 72%. Estimated remaining time: 1 minute, 12 seconds.\n",
      "Growing trees.. Progress: 85%. Estimated remaining time: 39 seconds.\n",
      "Growing trees.. Progress: 97%. Estimated remaining time: 7 seconds.\n",
      "Growing trees.. Progress: 12%. Estimated remaining time: 4 minutes, 4 seconds.\n",
      "Growing trees.. Progress: 23%. Estimated remaining time: 3 minutes, 29 seconds.\n",
      "Growing trees.. Progress: 35%. Estimated remaining time: 2 minutes, 54 seconds.\n",
      "Growing trees.. Progress: 47%. Estimated remaining time: 2 minutes, 22 seconds.\n",
      "Growing trees.. Progress: 59%. Estimated remaining time: 1 minute, 50 seconds.\n",
      "Growing trees.. Progress: 71%. Estimated remaining time: 1 minute, 17 seconds.\n",
      "Growing trees.. Progress: 83%. Estimated remaining time: 45 seconds.\n",
      "Growing trees.. Progress: 95%. Estimated remaining time: 12 seconds.\n",
      "Growing trees.. Progress: 12%. Estimated remaining time: 3 minutes, 50 seconds.\n",
      "Growing trees.. Progress: 24%. Estimated remaining time: 3 minutes, 15 seconds.\n",
      "Growing trees.. Progress: 36%. Estimated remaining time: 2 minutes, 41 seconds.\n",
      "Growing trees.. Progress: 49%. Estimated remaining time: 2 minutes, 10 seconds.\n",
      "Growing trees.. Progress: 61%. Estimated remaining time: 1 minute, 40 seconds.\n",
      "Growing trees.. Progress: 73%. Estimated remaining time: 1 minute, 10 seconds.\n",
      "Growing trees.. Progress: 85%. Estimated remaining time: 38 seconds.\n",
      "Growing trees.. Progress: 97%. Estimated remaining time: 8 seconds.\n",
      "Growing trees.. Progress: 12%. Estimated remaining time: 3 minutes, 56 seconds.\n",
      "Growing trees.. Progress: 24%. Estimated remaining time: 3 minutes, 19 seconds.\n",
      "Growing trees.. Progress: 36%. Estimated remaining time: 2 minutes, 47 seconds.\n",
      "Growing trees.. Progress: 48%. Estimated remaining time: 2 minutes, 15 seconds.\n",
      "Growing trees.. Progress: 61%. Estimated remaining time: 1 minute, 43 seconds.\n",
      "Growing trees.. Progress: 72%. Estimated remaining time: 1 minute, 12 seconds.\n",
      "Growing trees.. Progress: 84%. Estimated remaining time: 41 seconds.\n",
      "Growing trees.. Progress: 96%. Estimated remaining time: 10 seconds.\n",
      "Growing trees.. Progress: 12%. Estimated remaining time: 3 minutes, 37 seconds.\n",
      "Growing trees.. Progress: 25%. Estimated remaining time: 3 minutes, 9 seconds.\n",
      "Growing trees.. Progress: 38%. Estimated remaining time: 2 minutes, 35 seconds.\n",
      "Growing trees.. Progress: 50%. Estimated remaining time: 2 minutes, 4 seconds.\n",
      "Growing trees.. Progress: 63%. Estimated remaining time: 1 minute, 33 seconds.\n",
      "Growing trees.. Progress: 75%. Estimated remaining time: 1 minute, 1 seconds.\n",
      "Growing trees.. Progress: 88%. Estimated remaining time: 30 seconds.\n",
      "Growing trees.. Progress: 100%. Estimated remaining time: 0 seconds.\n",
      "20250901 152800\t337\t22\t1000\t30\t5\t55371000\t50\n"
     ]
    },
    {
     "name": "stderr",
     "output_type": "stream",
     "text": [
      "[mbo] 34: num.trees=337; max.depth=22; min.node.size=1000; mtry=30 : y = 5.54e+07 : 1361.0 secs : infill_ei\n",
      "\n",
      "Saved the current state after iteration 35 in the file HT450.RDATA.\n",
      "\n"
     ]
    },
    {
     "name": "stdout",
     "output_type": "stream",
     "text": [
      "Growing trees.. Progress: 30%. Estimated remaining time: 1 minute, 11 seconds.\n",
      "Growing trees.. Progress: 61%. Estimated remaining time: 39 seconds.\n",
      "Growing trees.. Progress: 91%. Estimated remaining time: 9 seconds.\n",
      "Growing trees.. Progress: 29%. Estimated remaining time: 1 minute, 16 seconds.\n",
      "Growing trees.. Progress: 58%. Estimated remaining time: 45 seconds.\n",
      "Growing trees.. Progress: 87%. Estimated remaining time: 14 seconds.\n",
      "Growing trees.. Progress: 30%. Estimated remaining time: 1 minute, 12 seconds.\n",
      "Growing trees.. Progress: 60%. Estimated remaining time: 41 seconds.\n",
      "Growing trees.. Progress: 90%. Estimated remaining time: 10 seconds.\n",
      "Growing trees.. Progress: 29%. Estimated remaining time: 1 minute, 14 seconds.\n",
      "Growing trees.. Progress: 59%. Estimated remaining time: 42 seconds.\n",
      "Growing trees.. Progress: 89%. Estimated remaining time: 11 seconds.\n",
      "Growing trees.. Progress: 31%. Estimated remaining time: 1 minute, 9 seconds.\n",
      "Growing trees.. Progress: 62%. Estimated remaining time: 38 seconds.\n",
      "Growing trees.. Progress: 92%. Estimated remaining time: 7 seconds.\n",
      "20250901 153752\t396\t19\t1000\t11\t5\t54543000\t51\n"
     ]
    },
    {
     "name": "stderr",
     "output_type": "stream",
     "text": [
      "[mbo] 35: num.trees=396; max.depth=19; min.node.size=1000; mtry=11 : y = 5.45e+07 : 587.3 secs : infill_ei\n",
      "\n",
      "Warning message in generateDesign(control$infill.opt.focussearch.points, ps.local, :\n",
      "“generateDesign could only produce 336 points instead of 1000!”\n"
     ]
    },
    {
     "name": "stdout",
     "output_type": "stream",
     "text": [
      "Growing trees.. Progress: 23%. Estimated remaining time: 1 minute, 44 seconds.\n",
      "Growing trees.. Progress: 46%. Estimated remaining time: 1 minute, 12 seconds.\n",
      "Growing trees.. Progress: 70%. Estimated remaining time: 40 seconds.\n",
      "Growing trees.. Progress: 93%. Estimated remaining time: 9 seconds.\n",
      "Growing trees.. Progress: 22%. Estimated remaining time: 1 minute, 50 seconds.\n",
      "Growing trees.. Progress: 44%. Estimated remaining time: 1 minute, 17 seconds.\n",
      "Growing trees.. Progress: 67%. Estimated remaining time: 46 seconds.\n",
      "Growing trees.. Progress: 89%. Estimated remaining time: 15 seconds.\n",
      "Growing trees.. Progress: 22%. Estimated remaining time: 1 minute, 50 seconds.\n",
      "Growing trees.. Progress: 44%. Estimated remaining time: 1 minute, 18 seconds.\n",
      "Growing trees.. Progress: 67%. Estimated remaining time: 46 seconds.\n",
      "Growing trees.. Progress: 90%. Estimated remaining time: 13 seconds.\n",
      "Growing trees.. Progress: 22%. Estimated remaining time: 1 minute, 50 seconds.\n",
      "Growing trees.. Progress: 44%. Estimated remaining time: 1 minute, 18 seconds.\n",
      "Growing trees.. Progress: 66%. Estimated remaining time: 47 seconds.\n",
      "Growing trees.. Progress: 89%. Estimated remaining time: 15 seconds.\n",
      "Growing trees.. Progress: 23%. Estimated remaining time: 1 minute, 44 seconds.\n",
      "Growing trees.. Progress: 46%. Estimated remaining time: 1 minute, 12 seconds.\n",
      "Growing trees.. Progress: 70%. Estimated remaining time: 40 seconds.\n",
      "Growing trees.. Progress: 93%. Estimated remaining time: 9 seconds.\n",
      "20250901 155022\t324\t26\t868\t17\t5\t55806000\t52\n",
      "20250901 155023\t324\t26\t868\t17\t5\t55806000\t52\n"
     ]
    },
    {
     "name": "stderr",
     "output_type": "stream",
     "text": [
      "[mbo] 36: num.trees=324; max.depth=26; min.node.size=868; mtry=17 : y = 5.58e+07 : 749.4 secs : infill_ei\n",
      "\n",
      "Saved the current state after iteration 37 in the file HT450.RDATA.\n",
      "\n"
     ]
    },
    {
     "name": "stdout",
     "output_type": "stream",
     "text": [
      "20250901 155318\t495\t9\t445\t2\t5\t51477000\t53\n"
     ]
    },
    {
     "name": "stderr",
     "output_type": "stream",
     "text": [
      "[mbo] 37: num.trees=495; max.depth=9; min.node.size=445; mtry=2 : y = 5.15e+07 : 170.6 secs : infill_ei\n",
      "\n",
      "Warning message in generateDesign(control$infill.opt.focussearch.points, ps.local, :\n",
      "“generateDesign could only produce 552 points instead of 1000!”\n"
     ]
    },
    {
     "name": "stdout",
     "output_type": "stream",
     "text": [
      "Growing trees.. Progress: 9%. Estimated remaining time: 5 minutes, 13 seconds.\n",
      "Growing trees.. Progress: 18%. Estimated remaining time: 4 minutes, 43 seconds.\n",
      "Growing trees.. Progress: 27%. Estimated remaining time: 4 minutes, 9 seconds.\n",
      "Growing trees.. Progress: 37%. Estimated remaining time: 3 minutes, 38 seconds.\n",
      "Growing trees.. Progress: 46%. Estimated remaining time: 3 minutes, 6 seconds.\n",
      "Growing trees.. Progress: 55%. Estimated remaining time: 2 minutes, 35 seconds.\n",
      "Growing trees.. Progress: 64%. Estimated remaining time: 2 minutes, 3 seconds.\n",
      "Growing trees.. Progress: 73%. Estimated remaining time: 1 minute, 32 seconds.\n",
      "Growing trees.. Progress: 82%. Estimated remaining time: 1 minute, 1 seconds.\n",
      "Growing trees.. Progress: 91%. Estimated remaining time: 30 seconds.\n",
      "Growing trees.. Progress: 9%. Estimated remaining time: 5 minutes, 13 seconds.\n",
      "Growing trees.. Progress: 18%. Estimated remaining time: 4 minutes, 42 seconds.\n",
      "Growing trees.. Progress: 27%. Estimated remaining time: 4 minutes, 11 seconds.\n",
      "Growing trees.. Progress: 36%. Estimated remaining time: 3 minutes, 42 seconds.\n",
      "Growing trees.. Progress: 45%. Estimated remaining time: 3 minutes, 11 seconds.\n",
      "Growing trees.. Progress: 54%. Estimated remaining time: 2 minutes, 40 seconds.\n",
      "Growing trees.. Progress: 63%. Estimated remaining time: 2 minutes, 9 seconds.\n",
      "Growing trees.. Progress: 72%. Estimated remaining time: 1 minute, 37 seconds.\n",
      "Growing trees.. Progress: 81%. Estimated remaining time: 1 minute, 5 seconds.\n",
      "Growing trees.. Progress: 90%. Estimated remaining time: 33 seconds.\n",
      "Growing trees.. Progress: 99%. Estimated remaining time: 2 seconds.\n",
      "Growing trees.. Progress: 9%. Estimated remaining time: 5 minutes, 13 seconds.\n",
      "Growing trees.. Progress: 18%. Estimated remaining time: 4 minutes, 43 seconds.\n",
      "Growing trees.. Progress: 27%. Estimated remaining time: 4 minutes, 9 seconds.\n",
      "Growing trees.. Progress: 37%. Estimated remaining time: 3 minutes, 38 seconds.\n",
      "Growing trees.. Progress: 46%. Estimated remaining time: 3 minutes, 5 seconds.\n",
      "Growing trees.. Progress: 55%. Estimated remaining time: 2 minutes, 34 seconds.\n",
      "Growing trees.. Progress: 64%. Estimated remaining time: 2 minutes, 2 seconds.\n",
      "Growing trees.. Progress: 73%. Estimated remaining time: 1 minute, 31 seconds.\n",
      "Growing trees.. Progress: 83%. Estimated remaining time: 59 seconds.\n",
      "Growing trees.. Progress: 92%. Estimated remaining time: 28 seconds.\n",
      "Growing trees.. Progress: 9%. Estimated remaining time: 5 minutes, 29 seconds.\n",
      "Growing trees.. Progress: 17%. Estimated remaining time: 4 minutes, 54 seconds.\n",
      "Growing trees.. Progress: 27%. Estimated remaining time: 4 minutes, 19 seconds.\n",
      "Growing trees.. Progress: 36%. Estimated remaining time: 3 minutes, 46 seconds.\n",
      "Growing trees.. Progress: 44%. Estimated remaining time: 3 minutes, 15 seconds.\n",
      "Growing trees.. Progress: 53%. Estimated remaining time: 2 minutes, 44 seconds.\n",
      "Growing trees.. Progress: 62%. Estimated remaining time: 2 minutes, 13 seconds.\n",
      "Growing trees.. Progress: 71%. Estimated remaining time: 1 minute, 42 seconds.\n",
      "Growing trees.. Progress: 80%. Estimated remaining time: 1 minute, 10 seconds.\n",
      "Growing trees.. Progress: 89%. Estimated remaining time: 38 seconds.\n",
      "Growing trees.. Progress: 98%. Estimated remaining time: 6 seconds.\n",
      "Growing trees.. Progress: 9%. Estimated remaining time: 5 minutes, 21 seconds.\n",
      "Growing trees.. Progress: 18%. Estimated remaining time: 4 minutes, 50 seconds.\n",
      "Growing trees.. Progress: 27%. Estimated remaining time: 4 minutes, 16 seconds.\n",
      "Growing trees.. Progress: 36%. Estimated remaining time: 3 minutes, 45 seconds.\n",
      "Growing trees.. Progress: 45%. Estimated remaining time: 3 minutes, 15 seconds.\n",
      "Growing trees.. Progress: 53%. Estimated remaining time: 2 minutes, 44 seconds.\n",
      "Growing trees.. Progress: 62%. Estimated remaining time: 2 minutes, 13 seconds.\n",
      "Growing trees.. Progress: 71%. Estimated remaining time: 1 minute, 41 seconds.\n",
      "Growing trees.. Progress: 80%. Estimated remaining time: 1 minute, 8 seconds.\n",
      "Growing trees.. Progress: 90%. Estimated remaining time: 36 seconds.\n",
      "Growing trees.. Progress: 99%. Estimated remaining time: 4 seconds.\n",
      "20250901 162327\t500\t10\t259\t48\t5\t54936000\t54\n"
     ]
    },
    {
     "name": "stderr",
     "output_type": "stream",
     "text": [
      "[mbo] 38: num.trees=500; max.depth=10; min.node.size=259; mtry=48 : y = 5.49e+07 : 1808.0 secs : infill_ei\n",
      "\n",
      "Saved the current state after iteration 39 in the file HT450.RDATA.\n",
      "\n"
     ]
    },
    {
     "name": "stdout",
     "output_type": "stream",
     "text": [
      "Growing trees.. Progress: 14%. Estimated remaining time: 3 minutes, 6 seconds.\n",
      "Growing trees.. Progress: 28%. Estimated remaining time: 2 minutes, 38 seconds.\n",
      "Growing trees.. Progress: 43%. Estimated remaining time: 2 minutes, 3 seconds.\n",
      "Growing trees.. Progress: 58%. Estimated remaining time: 1 minute, 33 seconds.\n",
      "Growing trees.. Progress: 72%. Estimated remaining time: 1 minute, 1 seconds.\n",
      "Growing trees.. Progress: 86%. Estimated remaining time: 31 seconds.\n",
      "Growing trees.. Progress: 100%. Estimated remaining time: 0 seconds.\n",
      "Growing trees.. Progress: 13%. Estimated remaining time: 3 minutes, 19 seconds.\n",
      "Growing trees.. Progress: 28%. Estimated remaining time: 2 minutes, 44 seconds.\n",
      "Growing trees.. Progress: 41%. Estimated remaining time: 2 minutes, 13 seconds.\n",
      "Growing trees.. Progress: 55%. Estimated remaining time: 1 minute, 41 seconds.\n",
      "Growing trees.. Progress: 69%. Estimated remaining time: 1 minute, 10 seconds.\n",
      "Growing trees.. Progress: 83%. Estimated remaining time: 38 seconds.\n",
      "Growing trees.. Progress: 97%. Estimated remaining time: 6 seconds.\n",
      "Growing trees.. Progress: 15%. Estimated remaining time: 3 minutes, 8 seconds.\n",
      "Growing trees.. Progress: 28%. Estimated remaining time: 2 minutes, 38 seconds.\n",
      "Growing trees.. Progress: 43%. Estimated remaining time: 2 minutes, 5 seconds.\n",
      "Growing trees.. Progress: 57%. Estimated remaining time: 1 minute, 34 seconds.\n",
      "Growing trees.. Progress: 71%. Estimated remaining time: 1 minute, 3 seconds.\n",
      "Growing trees.. Progress: 85%. Estimated remaining time: 31 seconds.\n",
      "Growing trees.. Progress: 99%. Estimated remaining time: 1 seconds.\n",
      "Growing trees.. Progress: 13%. Estimated remaining time: 3 minutes, 19 seconds.\n",
      "Growing trees.. Progress: 27%. Estimated remaining time: 2 minutes, 46 seconds.\n",
      "Growing trees.. Progress: 41%. Estimated remaining time: 2 minutes, 16 seconds.\n",
      "Growing trees.. Progress: 54%. Estimated remaining time: 1 minute, 45 seconds.\n",
      "Growing trees.. Progress: 68%. Estimated remaining time: 1 minute, 14 seconds.\n",
      "Growing trees.. Progress: 81%. Estimated remaining time: 44 seconds.\n",
      "Growing trees.. Progress: 94%. Estimated remaining time: 13 seconds.\n",
      "Growing trees.. Progress: 14%. Estimated remaining time: 3 minutes, 15 seconds.\n",
      "Growing trees.. Progress: 28%. Estimated remaining time: 2 minutes, 37 seconds.\n",
      "Growing trees.. Progress: 42%. Estimated remaining time: 2 minutes, 6 seconds.\n",
      "Growing trees.. Progress: 57%. Estimated remaining time: 1 minute, 34 seconds.\n",
      "Growing trees.. Progress: 72%. Estimated remaining time: 1 minute, 2 seconds.\n",
      "Growing trees.. Progress: 86%. Estimated remaining time: 30 seconds.\n",
      "20250901 164320\t365\t24\t1000\t24\t5\t54183000\t55\n"
     ]
    },
    {
     "name": "stderr",
     "output_type": "stream",
     "text": [
      "[mbo] 39: num.trees=365; max.depth=24; min.node.size=1000; mtry=24 : y = 5.42e+07 : 1189.2 secs : infill_ei\n",
      "\n",
      "Saved the current state after iteration 40 in the file HT450.RDATA.\n",
      "\n"
     ]
    },
    {
     "name": "stdout",
     "output_type": "stream",
     "text": [
      "Growing trees.. Progress: 16%. Estimated remaining time: 2 minutes, 48 seconds.\n",
      "Growing trees.. Progress: 31%. Estimated remaining time: 2 minutes, 19 seconds.\n",
      "Growing trees.. Progress: 46%. Estimated remaining time: 1 minute, 49 seconds.\n",
      "Growing trees.. Progress: 61%. Estimated remaining time: 1 minute, 20 seconds.\n",
      "Growing trees.. Progress: 76%. Estimated remaining time: 49 seconds.\n",
      "Growing trees.. Progress: 91%. Estimated remaining time: 17 seconds.\n",
      "Growing trees.. Progress: 15%. Estimated remaining time: 3 minutes, 1 seconds.\n",
      "Growing trees.. Progress: 30%. Estimated remaining time: 2 minutes, 27 seconds.\n",
      "Growing trees.. Progress: 45%. Estimated remaining time: 1 minute, 55 seconds.\n",
      "Growing trees.. Progress: 60%. Estimated remaining time: 1 minute, 23 seconds.\n",
      "Growing trees.. Progress: 76%. Estimated remaining time: 50 seconds.\n",
      "Growing trees.. Progress: 91%. Estimated remaining time: 19 seconds.\n",
      "Growing trees.. Progress: 13%. Estimated remaining time: 3 minutes, 28 seconds.\n",
      "Growing trees.. Progress: 27%. Estimated remaining time: 2 minutes, 45 seconds.\n",
      "Growing trees.. Progress: 42%. Estimated remaining time: 2 minutes, 7 seconds.\n",
      "Growing trees.. Progress: 57%. Estimated remaining time: 1 minute, 32 seconds.\n",
      "Growing trees.. Progress: 72%. Estimated remaining time: 1 minute, 0 seconds.\n",
      "Growing trees.. Progress: 88%. Estimated remaining time: 26 seconds.\n",
      "Growing trees.. Progress: 15%. Estimated remaining time: 2 minutes, 54 seconds.\n",
      "Growing trees.. Progress: 30%. Estimated remaining time: 2 minutes, 23 seconds.\n",
      "Growing trees.. Progress: 45%. Estimated remaining time: 1 minute, 51 seconds.\n",
      "Growing trees.. Progress: 60%. Estimated remaining time: 1 minute, 22 seconds.\n",
      "Growing trees.. Progress: 75%. Estimated remaining time: 51 seconds.\n",
      "Growing trees.. Progress: 90%. Estimated remaining time: 20 seconds.\n",
      "Growing trees.. Progress: 15%. Estimated remaining time: 2 minutes, 58 seconds.\n",
      "Growing trees.. Progress: 30%. Estimated remaining time: 2 minutes, 22 seconds.\n",
      "Growing trees.. Progress: 45%. Estimated remaining time: 1 minute, 52 seconds.\n",
      "Growing trees.. Progress: 60%. Estimated remaining time: 1 minute, 21 seconds.\n",
      "Growing trees.. Progress: 76%. Estimated remaining time: 49 seconds.\n",
      "Growing trees.. Progress: 92%. Estimated remaining time: 17 seconds.\n",
      "20250901 170148\t425\t10\t499\t32\t5\t54768000\t56\n"
     ]
    },
    {
     "name": "stderr",
     "output_type": "stream",
     "text": [
      "[mbo] 40: num.trees=425; max.depth=10; min.node.size=499; mtry=32 : y = 5.48e+07 : 1102.1 secs : infill_ei\n",
      "\n",
      "Saved the current state after iteration 41 in the file HT450.RDATA.\n",
      "\n"
     ]
    },
    {
     "name": "stdout",
     "output_type": "stream",
     "text": [
      "Growing trees.. Progress: 17%. Estimated remaining time: 2 minutes, 27 seconds.\n",
      "Growing trees.. Progress: 35%. Estimated remaining time: 1 minute, 53 seconds.\n",
      "Growing trees.. Progress: 53%. Estimated remaining time: 1 minute, 23 seconds.\n",
      "Growing trees.. Progress: 71%. Estimated remaining time: 52 seconds.\n",
      "Growing trees.. Progress: 88%. Estimated remaining time: 20 seconds.\n",
      "Growing trees.. Progress: 17%. Estimated remaining time: 2 minutes, 27 seconds.\n",
      "Growing trees.. Progress: 35%. Estimated remaining time: 1 minute, 57 seconds.\n",
      "Growing trees.. Progress: 52%. Estimated remaining time: 1 minute, 27 seconds.\n",
      "Growing trees.. Progress: 69%. Estimated remaining time: 56 seconds.\n",
      "Growing trees.. Progress: 86%. Estimated remaining time: 25 seconds.\n",
      "Growing trees.. Progress: 17%. Estimated remaining time: 2 minutes, 27 seconds.\n",
      "Growing trees.. Progress: 35%. Estimated remaining time: 1 minute, 54 seconds.\n",
      "Growing trees.. Progress: 53%. Estimated remaining time: 1 minute, 22 seconds.\n",
      "Growing trees.. Progress: 71%. Estimated remaining time: 51 seconds.\n",
      "Growing trees.. Progress: 88%. Estimated remaining time: 20 seconds.\n",
      "Growing trees.. Progress: 17%. Estimated remaining time: 2 minutes, 29 seconds.\n",
      "Growing trees.. Progress: 35%. Estimated remaining time: 1 minute, 56 seconds.\n",
      "Growing trees.. Progress: 53%. Estimated remaining time: 1 minute, 23 seconds.\n",
      "Growing trees.. Progress: 70%. Estimated remaining time: 52 seconds.\n",
      "Growing trees.. Progress: 88%. Estimated remaining time: 21 seconds.\n",
      "Growing trees.. Progress: 18%. Estimated remaining time: 2 minutes, 23 seconds.\n",
      "Growing trees.. Progress: 36%. Estimated remaining time: 1 minute, 52 seconds.\n",
      "Growing trees.. Progress: 54%. Estimated remaining time: 1 minute, 20 seconds.\n",
      "Growing trees.. Progress: 72%. Estimated remaining time: 49 seconds.\n",
      "Growing trees.. Progress: 89%. Estimated remaining time: 18 seconds.\n",
      "20250901 171755\t500\t13\t420\t17\t5\t54426000\t57\n"
     ]
    },
    {
     "name": "stderr",
     "output_type": "stream",
     "text": [
      "[mbo] 41: num.trees=500; max.depth=13; min.node.size=420; mtry=17 : y = 5.44e+07 : 962.1 secs : infill_ei\n",
      "\n",
      "Saved the current state after iteration 42 in the file HT450.RDATA.\n",
      "\n",
      "Warning message in generateDesign(control$infill.opt.focussearch.points, ps.local, :\n",
      "“generateDesign could only produce 576 points instead of 1000!”\n"
     ]
    },
    {
     "name": "stdout",
     "output_type": "stream",
     "text": [
      "Growing trees.. Progress: 10%. Estimated remaining time: 4 minutes, 53 seconds.\n",
      "Growing trees.. Progress: 19%. Estimated remaining time: 4 minutes, 22 seconds.\n",
      "Growing trees.. Progress: 29%. Estimated remaining time: 3 minutes, 53 seconds.\n",
      "Growing trees.. Progress: 39%. Estimated remaining time: 3 minutes, 20 seconds.\n",
      "Growing trees.. Progress: 48%. Estimated remaining time: 2 minutes, 48 seconds.\n",
      "Growing trees.. Progress: 59%. Estimated remaining time: 2 minutes, 13 seconds.\n",
      "Growing trees.. Progress: 68%. Estimated remaining time: 1 minute, 42 seconds.\n",
      "Growing trees.. Progress: 78%. Estimated remaining time: 1 minute, 12 seconds.\n",
      "Growing trees.. Progress: 87%. Estimated remaining time: 41 seconds.\n",
      "Growing trees.. Progress: 97%. Estimated remaining time: 8 seconds.\n",
      "Growing trees.. Progress: 9%. Estimated remaining time: 5 minutes, 5 seconds.\n",
      "Growing trees.. Progress: 19%. Estimated remaining time: 4 minutes, 28 seconds.\n",
      "Growing trees.. Progress: 28%. Estimated remaining time: 3 minutes, 55 seconds.\n",
      "Growing trees.. Progress: 38%. Estimated remaining time: 3 minutes, 27 seconds.\n",
      "Growing trees.. Progress: 47%. Estimated remaining time: 2 minutes, 57 seconds.\n",
      "Growing trees.. Progress: 56%. Estimated remaining time: 2 minutes, 25 seconds.\n",
      "Growing trees.. Progress: 66%. Estimated remaining time: 1 minute, 53 seconds.\n",
      "Growing trees.. Progress: 75%. Estimated remaining time: 1 minute, 22 seconds.\n",
      "Growing trees.. Progress: 85%. Estimated remaining time: 50 seconds.\n",
      "Growing trees.. Progress: 95%. Estimated remaining time: 18 seconds.\n",
      "Growing trees.. Progress: 10%. Estimated remaining time: 4 minutes, 53 seconds.\n",
      "Growing trees.. Progress: 19%. Estimated remaining time: 4 minutes, 26 seconds.\n",
      "Growing trees.. Progress: 28%. Estimated remaining time: 4 minutes, 8 seconds.\n",
      "Growing trees.. Progress: 37%. Estimated remaining time: 3 minutes, 40 seconds.\n",
      "Growing trees.. Progress: 45%. Estimated remaining time: 3 minutes, 10 seconds.\n",
      "Growing trees.. Progress: 55%. Estimated remaining time: 2 minutes, 35 seconds.\n",
      "Growing trees.. Progress: 65%. Estimated remaining time: 2 minutes, 2 seconds.\n",
      "Growing trees.. Progress: 74%. Estimated remaining time: 1 minute, 29 seconds.\n",
      "Growing trees.. Progress: 84%. Estimated remaining time: 56 seconds.\n",
      "Growing trees.. Progress: 93%. Estimated remaining time: 23 seconds.\n",
      "Growing trees.. Progress: 9%. Estimated remaining time: 5 minutes, 15 seconds.\n",
      "Growing trees.. Progress: 19%. Estimated remaining time: 4 minutes, 32 seconds.\n",
      "Growing trees.. Progress: 28%. Estimated remaining time: 4 minutes, 0 seconds.\n",
      "Growing trees.. Progress: 38%. Estimated remaining time: 3 minutes, 29 seconds.\n",
      "Growing trees.. Progress: 47%. Estimated remaining time: 2 minutes, 59 seconds.\n",
      "Growing trees.. Progress: 56%. Estimated remaining time: 2 minutes, 28 seconds.\n",
      "Growing trees.. Progress: 66%. Estimated remaining time: 1 minute, 56 seconds.\n",
      "Growing trees.. Progress: 75%. Estimated remaining time: 1 minute, 24 seconds.\n",
      "Growing trees.. Progress: 84%. Estimated remaining time: 53 seconds.\n",
      "Growing trees.. Progress: 94%. Estimated remaining time: 20 seconds.\n",
      "Growing trees.. Progress: 10%. Estimated remaining time: 4 minutes, 53 seconds.\n",
      "Growing trees.. Progress: 19%. Estimated remaining time: 4 minutes, 20 seconds.\n",
      "Growing trees.. Progress: 30%. Estimated remaining time: 3 minutes, 44 seconds.\n",
      "Growing trees.. Progress: 40%. Estimated remaining time: 3 minutes, 12 seconds.\n",
      "Growing trees.. Progress: 49%. Estimated remaining time: 2 minutes, 43 seconds.\n",
      "Growing trees.. Progress: 59%. Estimated remaining time: 2 minutes, 11 seconds.\n",
      "Growing trees.. Progress: 69%. Estimated remaining time: 1 minute, 37 seconds.\n",
      "Growing trees.. Progress: 79%. Estimated remaining time: 1 minute, 6 seconds.\n",
      "Growing trees.. Progress: 89%. Estimated remaining time: 34 seconds.\n",
      "Growing trees.. Progress: 99%. Estimated remaining time: 3 seconds.\n",
      "20250901 174637\t293\t21\t718\t42\t5\t54477000\t58\n"
     ]
    },
    {
     "name": "stderr",
     "output_type": "stream",
     "text": [
      "[mbo] 42: num.trees=293; max.depth=21; min.node.size=718; mtry=42 : y = 5.45e+07 : 1715.4 secs : infill_ei\n",
      "\n",
      "Saved the current state after iteration 43 in the file HT450.RDATA.\n",
      "\n",
      "Warning message in generateDesign(control$infill.opt.focussearch.points, ps.local, :\n",
      "“generateDesign could only produce 450 points instead of 1000!”\n"
     ]
    },
    {
     "name": "stdout",
     "output_type": "stream",
     "text": [
      "20250901 174737\t20\t6\t1\t50\t5\t51789000\t59\n"
     ]
    },
    {
     "name": "stderr",
     "output_type": "stream",
     "text": [
      "[mbo] 43: num.trees=20; max.depth=6; min.node.size=1; mtry=50 : y = 5.18e+07 : 54.8 secs : infill_ei\n",
      "\n",
      "Warning message in generateDesign(control$infill.opt.focussearch.points, ps.local, :\n",
      "“generateDesign could only produce 861 points instead of 1000!”\n"
     ]
    },
    {
     "name": "stdout",
     "output_type": "stream",
     "text": [
      "Growing trees.. Progress: 25%. Estimated remaining time: 1 minute, 31 seconds.\n",
      "Growing trees.. Progress: 51%. Estimated remaining time: 59 seconds.\n",
      "Growing trees.. Progress: 77%. Estimated remaining time: 27 seconds.\n",
      "Growing trees.. Progress: 25%. Estimated remaining time: 1 minute, 34 seconds.\n",
      "Growing trees.. Progress: 50%. Estimated remaining time: 1 minute, 2 seconds.\n",
      "Growing trees.. Progress: 74%. Estimated remaining time: 32 seconds.\n",
      "Growing trees.. Progress: 98%. Estimated remaining time: 2 seconds.\n",
      "Growing trees.. Progress: 25%. Estimated remaining time: 1 minute, 33 seconds.\n",
      "Growing trees.. Progress: 50%. Estimated remaining time: 1 minute, 1 seconds.\n",
      "Growing trees.. Progress: 76%. Estimated remaining time: 29 seconds.\n",
      "Growing trees.. Progress: 25%. Estimated remaining time: 1 minute, 31 seconds.\n",
      "Growing trees.. Progress: 51%. Estimated remaining time: 1 minute, 0 seconds.\n",
      "Growing trees.. Progress: 76%. Estimated remaining time: 30 seconds.\n",
      "Growing trees.. Progress: 26%. Estimated remaining time: 1 minute, 28 seconds.\n",
      "Growing trees.. Progress: 53%. Estimated remaining time: 56 seconds.\n",
      "Growing trees.. Progress: 78%. Estimated remaining time: 25 seconds.\n",
      "20250901 175849\t316\t21\t989\t16\t5\t53835000\t60\n"
     ]
    },
    {
     "name": "stderr",
     "output_type": "stream",
     "text": [
      "[mbo] 44: num.trees=316; max.depth=21; min.node.size=989; mtry=16 : y = 5.38e+07 : 672.5 secs : infill_ei\n",
      "\n",
      "Saved the current state after iteration 45 in the file HT450.RDATA.\n",
      "\n"
     ]
    },
    {
     "name": "stdout",
     "output_type": "stream",
     "text": [
      "Growing trees.. Progress: 9%. Estimated remaining time: 5 minutes, 21 seconds.\n",
      "Growing trees.. Progress: 18%. Estimated remaining time: 4 minutes, 48 seconds.\n",
      "Growing trees.. Progress: 27%. Estimated remaining time: 4 minutes, 20 seconds.\n",
      "Growing trees.. Progress: 35%. Estimated remaining time: 3 minutes, 49 seconds.\n",
      "Growing trees.. Progress: 45%. Estimated remaining time: 3 minutes, 17 seconds.\n",
      "Growing trees.. Progress: 54%. Estimated remaining time: 2 minutes, 44 seconds.\n",
      "Growing trees.. Progress: 63%. Estimated remaining time: 2 minutes, 12 seconds.\n",
      "Growing trees.. Progress: 72%. Estimated remaining time: 1 minute, 39 seconds.\n",
      "Growing trees.. Progress: 80%. Estimated remaining time: 1 minute, 9 seconds.\n",
      "Growing trees.. Progress: 89%. Estimated remaining time: 38 seconds.\n",
      "Growing trees.. Progress: 98%. Estimated remaining time: 7 seconds.\n",
      "Growing trees.. Progress: 8%. Estimated remaining time: 5 minutes, 51 seconds.\n",
      "Growing trees.. Progress: 17%. Estimated remaining time: 5 minutes, 17 seconds.\n",
      "Growing trees.. Progress: 25%. Estimated remaining time: 4 minutes, 39 seconds.\n",
      "Growing trees.. Progress: 34%. Estimated remaining time: 4 minutes, 3 seconds.\n",
      "Growing trees.. Progress: 43%. Estimated remaining time: 3 minutes, 33 seconds.\n",
      "Growing trees.. Progress: 51%. Estimated remaining time: 3 minutes, 2 seconds.\n",
      "Growing trees.. Progress: 59%. Estimated remaining time: 2 minutes, 30 seconds.\n",
      "Growing trees.. Progress: 68%. Estimated remaining time: 1 minute, 57 seconds.\n",
      "Growing trees.. Progress: 77%. Estimated remaining time: 1 minute, 25 seconds.\n",
      "Growing trees.. Progress: 86%. Estimated remaining time: 52 seconds.\n",
      "Growing trees.. Progress: 94%. Estimated remaining time: 21 seconds.\n",
      "Growing trees.. Progress: 8%. Estimated remaining time: 5 minutes, 36 seconds.\n",
      "Growing trees.. Progress: 17%. Estimated remaining time: 5 minutes, 2 seconds.\n",
      "Growing trees.. Progress: 26%. Estimated remaining time: 4 minutes, 32 seconds.\n",
      "Growing trees.. Progress: 34%. Estimated remaining time: 3 minutes, 59 seconds.\n",
      "Growing trees.. Progress: 43%. Estimated remaining time: 3 minutes, 28 seconds.\n",
      "Growing trees.. Progress: 52%. Estimated remaining time: 2 minutes, 55 seconds.\n",
      "Growing trees.. Progress: 60%. Estimated remaining time: 2 minutes, 27 seconds.\n",
      "Growing trees.. Progress: 68%. Estimated remaining time: 1 minute, 59 seconds.\n",
      "Growing trees.. Progress: 77%. Estimated remaining time: 1 minute, 26 seconds.\n",
      "Growing trees.. Progress: 85%. Estimated remaining time: 54 seconds.\n",
      "Growing trees.. Progress: 94%. Estimated remaining time: 21 seconds.\n",
      "Growing trees.. Progress: 8%. Estimated remaining time: 5 minutes, 36 seconds.\n",
      "Growing trees.. Progress: 17%. Estimated remaining time: 5 minutes, 5 seconds.\n",
      "Growing trees.. Progress: 26%. Estimated remaining time: 4 minutes, 37 seconds.\n",
      "Growing trees.. Progress: 34%. Estimated remaining time: 4 minutes, 5 seconds.\n",
      "Growing trees.. Progress: 43%. Estimated remaining time: 3 minutes, 33 seconds.\n",
      "Growing trees.. Progress: 51%. Estimated remaining time: 3 minutes, 2 seconds.\n",
      "Growing trees.. Progress: 60%. Estimated remaining time: 2 minutes, 29 seconds.\n",
      "Growing trees.. Progress: 69%. Estimated remaining time: 1 minute, 56 seconds.\n",
      "Growing trees.. Progress: 77%. Estimated remaining time: 1 minute, 23 seconds.\n",
      "Growing trees.. Progress: 86%. Estimated remaining time: 52 seconds.\n",
      "Growing trees.. Progress: 94%. Estimated remaining time: 21 seconds.\n",
      "Growing trees.. Progress: 9%. Estimated remaining time: 5 minutes, 21 seconds.\n",
      "Growing trees.. Progress: 18%. Estimated remaining time: 4 minutes, 50 seconds.\n",
      "Growing trees.. Progress: 26%. Estimated remaining time: 4 minutes, 22 seconds.\n",
      "Growing trees.. Progress: 35%. Estimated remaining time: 3 minutes, 50 seconds.\n",
      "Growing trees.. Progress: 44%. Estimated remaining time: 3 minutes, 17 seconds.\n",
      "Growing trees.. Progress: 53%. Estimated remaining time: 2 minutes, 46 seconds.\n",
      "Growing trees.. Progress: 62%. Estimated remaining time: 2 minutes, 15 seconds.\n",
      "Growing trees.. Progress: 71%. Estimated remaining time: 1 minute, 44 seconds.\n",
      "Growing trees.. Progress: 79%. Estimated remaining time: 1 minute, 13 seconds.\n",
      "Growing trees.. Progress: 89%. Estimated remaining time: 41 seconds.\n",
      "Growing trees.. Progress: 98%. Estimated remaining time: 8 seconds.\n",
      "20250901 183023\t296\t18\t991\t50\t5\t54051000\t61\n"
     ]
    },
    {
     "name": "stderr",
     "output_type": "stream",
     "text": [
      "[mbo] 45: num.trees=296; max.depth=18; min.node.size=991; mtry=50 : y = 5.41e+07 : 1888.1 secs : infill_ei\n",
      "\n",
      "Saved the current state after iteration 46 in the file HT450.RDATA.\n",
      "\n",
      "Warning message in generateDesign(control$infill.opt.focussearch.points, ps.local, :\n",
      "“generateDesign could only produce 999 points instead of 1000!”\n",
      "Warning message in generateDesign(control$infill.opt.focussearch.points, ps.local, :\n",
      "“generateDesign could only produce 969 points instead of 1000!”\n"
     ]
    },
    {
     "name": "stdout",
     "output_type": "stream",
     "text": [
      "Growing trees.. Progress: 8%. Estimated remaining time: 6 minutes, 25 seconds.\n",
      "Growing trees.. Progress: 16%. Estimated remaining time: 5 minutes, 51 seconds.\n",
      "Growing trees.. Progress: 24%. Estimated remaining time: 5 minutes, 15 seconds.\n",
      "Growing trees.. Progress: 31%. Estimated remaining time: 4 minutes, 41 seconds.\n",
      "Growing trees.. Progress: 39%. Estimated remaining time: 4 minutes, 9 seconds.\n",
      "Growing trees.. Progress: 47%. Estimated remaining time: 3 minutes, 36 seconds.\n",
      "Growing trees.. Progress: 55%. Estimated remaining time: 3 minutes, 4 seconds.\n",
      "Growing trees.. Progress: 63%. Estimated remaining time: 2 minutes, 32 seconds.\n",
      "Growing trees.. Progress: 70%. Estimated remaining time: 2 minutes, 1 seconds.\n",
      "Growing trees.. Progress: 78%. Estimated remaining time: 1 minute, 30 seconds.\n",
      "Growing trees.. Progress: 86%. Estimated remaining time: 58 seconds.\n",
      "Growing trees.. Progress: 93%. Estimated remaining time: 27 seconds.\n",
      "Growing trees.. Progress: 8%. Estimated remaining time: 6 minutes, 25 seconds.\n",
      "Growing trees.. Progress: 16%. Estimated remaining time: 5 minutes, 46 seconds.\n",
      "Growing trees.. Progress: 23%. Estimated remaining time: 5 minutes, 13 seconds.\n",
      "Growing trees.. Progress: 31%. Estimated remaining time: 4 minutes, 43 seconds.\n",
      "Growing trees.. Progress: 39%. Estimated remaining time: 4 minutes, 11 seconds.\n",
      "Growing trees.. Progress: 47%. Estimated remaining time: 3 minutes, 38 seconds.\n",
      "Growing trees.. Progress: 54%. Estimated remaining time: 3 minutes, 6 seconds.\n",
      "Growing trees.. Progress: 62%. Estimated remaining time: 2 minutes, 36 seconds.\n",
      "Growing trees.. Progress: 70%. Estimated remaining time: 2 minutes, 5 seconds.\n",
      "Growing trees.. Progress: 77%. Estimated remaining time: 1 minute, 33 seconds.\n",
      "Growing trees.. Progress: 85%. Estimated remaining time: 1 minute, 3 seconds.\n",
      "Growing trees.. Progress: 93%. Estimated remaining time: 30 seconds.\n",
      "Growing trees.. Progress: 8%. Estimated remaining time: 6 minutes, 25 seconds.\n",
      "Growing trees.. Progress: 15%. Estimated remaining time: 5 minutes, 47 seconds.\n",
      "Growing trees.. Progress: 23%. Estimated remaining time: 5 minutes, 17 seconds.\n",
      "Growing trees.. Progress: 31%. Estimated remaining time: 4 minutes, 45 seconds.\n",
      "Growing trees.. Progress: 39%. Estimated remaining time: 4 minutes, 11 seconds.\n",
      "Growing trees.. Progress: 47%. Estimated remaining time: 3 minutes, 39 seconds.\n",
      "Growing trees.. Progress: 54%. Estimated remaining time: 3 minutes, 9 seconds.\n",
      "Growing trees.. Progress: 62%. Estimated remaining time: 2 minutes, 36 seconds.\n",
      "Growing trees.. Progress: 70%. Estimated remaining time: 2 minutes, 4 seconds.\n",
      "Growing trees.. Progress: 77%. Estimated remaining time: 1 minute, 32 seconds.\n",
      "Growing trees.. Progress: 85%. Estimated remaining time: 1 minute, 1 seconds.\n",
      "Growing trees.. Progress: 93%. Estimated remaining time: 28 seconds.\n",
      "Growing trees.. Progress: 8%. Estimated remaining time: 6 minutes, 13 seconds.\n",
      "Growing trees.. Progress: 15%. Estimated remaining time: 5 minutes, 47 seconds.\n",
      "Growing trees.. Progress: 23%. Estimated remaining time: 5 minutes, 13 seconds.\n",
      "Growing trees.. Progress: 31%. Estimated remaining time: 4 minutes, 43 seconds.\n",
      "Growing trees.. Progress: 39%. Estimated remaining time: 4 minutes, 11 seconds.\n",
      "Growing trees.. Progress: 46%. Estimated remaining time: 3 minutes, 40 seconds.\n",
      "Growing trees.. Progress: 54%. Estimated remaining time: 3 minutes, 8 seconds.\n",
      "Growing trees.. Progress: 62%. Estimated remaining time: 2 minutes, 36 seconds.\n",
      "Growing trees.. Progress: 70%. Estimated remaining time: 2 minutes, 3 seconds.\n",
      "Growing trees.. Progress: 77%. Estimated remaining time: 1 minute, 32 seconds.\n",
      "Growing trees.. Progress: 85%. Estimated remaining time: 59 seconds.\n",
      "Growing trees.. Progress: 93%. Estimated remaining time: 28 seconds.\n",
      "Growing trees.. Progress: 100%. Estimated remaining time: 1 seconds.\n",
      "Growing trees.. Progress: 8%. Estimated remaining time: 6 minutes, 13 seconds.\n",
      "Growing trees.. Progress: 16%. Estimated remaining time: 5 minutes, 46 seconds.\n",
      "Growing trees.. Progress: 24%. Estimated remaining time: 5 minutes, 12 seconds.\n",
      "Growing trees.. Progress: 31%. Estimated remaining time: 4 minutes, 39 seconds.\n",
      "Growing trees.. Progress: 39%. Estimated remaining time: 4 minutes, 4 seconds.\n",
      "Growing trees.. Progress: 47%. Estimated remaining time: 3 minutes, 34 seconds.\n",
      "Growing trees.. Progress: 55%. Estimated remaining time: 3 minutes, 1 seconds.\n",
      "Growing trees.. Progress: 63%. Estimated remaining time: 2 minutes, 29 seconds.\n",
      "Growing trees.. Progress: 71%. Estimated remaining time: 1 minute, 57 seconds.\n",
      "Growing trees.. Progress: 79%. Estimated remaining time: 1 minute, 25 seconds.\n",
      "Growing trees.. Progress: 87%. Estimated remaining time: 53 seconds.\n",
      "Growing trees.. Progress: 95%. Estimated remaining time: 22 seconds.\n",
      "20250901 190541\t404\t14\t986\t50\t5\t54585000\t62\n"
     ]
    },
    {
     "name": "stderr",
     "output_type": "stream",
     "text": [
      "[mbo] 46: num.trees=404; max.depth=14; min.node.size=986; mtry=50 : y = 5.46e+07 : 2110.7 secs : infill_ei\n",
      "\n",
      "Saved the current state after iteration 47 in the file HT450.RDATA.\n",
      "\n"
     ]
    },
    {
     "name": "stdout",
     "output_type": "stream",
     "text": [
      "Growing trees.. Progress: 22%. Estimated remaining time: 1 minute, 49 seconds.\n",
      "Growing trees.. Progress: 44%. Estimated remaining time: 1 minute, 17 seconds.\n",
      "Growing trees.. Progress: 67%. Estimated remaining time: 45 seconds.\n",
      "Growing trees.. Progress: 89%. Estimated remaining time: 14 seconds.\n",
      "Growing trees.. Progress: 22%. Estimated remaining time: 1 minute, 52 seconds.\n",
      "Growing trees.. Progress: 43%. Estimated remaining time: 1 minute, 21 seconds.\n",
      "Growing trees.. Progress: 64%. Estimated remaining time: 52 seconds.\n",
      "Growing trees.. Progress: 86%. Estimated remaining time: 21 seconds.\n",
      "Growing trees.. Progress: 22%. Estimated remaining time: 1 minute, 50 seconds.\n",
      "Growing trees.. Progress: 44%. Estimated remaining time: 1 minute, 19 seconds.\n",
      "Growing trees.. Progress: 66%. Estimated remaining time: 48 seconds.\n",
      "Growing trees.. Progress: 88%. Estimated remaining time: 16 seconds.\n",
      "Growing trees.. Progress: 21%. Estimated remaining time: 1 minute, 54 seconds.\n",
      "Growing trees.. Progress: 43%. Estimated remaining time: 1 minute, 21 seconds.\n",
      "Growing trees.. Progress: 65%. Estimated remaining time: 50 seconds.\n",
      "Growing trees.. Progress: 86%. Estimated remaining time: 20 seconds.\n",
      "Growing trees.. Progress: 23%. Estimated remaining time: 1 minute, 42 seconds.\n",
      "Growing trees.. Progress: 46%. Estimated remaining time: 1 minute, 11 seconds.\n",
      "Growing trees.. Progress: 69%. Estimated remaining time: 42 seconds.\n",
      "Growing trees.. Progress: 91%. Estimated remaining time: 11 seconds.\n",
      "20250901 191843\t380\t26\t155\t13\t5\t53304000\t63\n"
     ]
    },
    {
     "name": "stderr",
     "output_type": "stream",
     "text": [
      "[mbo] 47: num.trees=380; max.depth=26; min.node.size=155; mtry=13 : y = 5.33e+07 : 776.7 secs : infill_ei\n",
      "\n",
      "Saved the current state after iteration 48 in the file HT450.RDATA.\n",
      "\n"
     ]
    },
    {
     "name": "stdout",
     "output_type": "stream",
     "text": [
      "Growing trees.. Progress: 18%. Estimated remaining time: 2 minutes, 21 seconds.\n",
      "Growing trees.. Progress: 36%. Estimated remaining time: 1 minute, 52 seconds.\n",
      "Growing trees.. Progress: 54%. Estimated remaining time: 1 minute, 20 seconds.\n",
      "Growing trees.. Progress: 72%. Estimated remaining time: 49 seconds.\n",
      "Growing trees.. Progress: 89%. Estimated remaining time: 18 seconds.\n",
      "Growing trees.. Progress: 17%. Estimated remaining time: 2 minutes, 36 seconds.\n",
      "Growing trees.. Progress: 34%. Estimated remaining time: 2 minutes, 1 seconds.\n",
      "Growing trees.. Progress: 50%. Estimated remaining time: 1 minute, 31 seconds.\n",
      "Growing trees.. Progress: 67%. Estimated remaining time: 1 minute, 1 seconds.\n",
      "Growing trees.. Progress: 84%. Estimated remaining time: 29 seconds.\n",
      "Growing trees.. Progress: 18%. Estimated remaining time: 2 minutes, 24 seconds.\n",
      "Growing trees.. Progress: 36%. Estimated remaining time: 1 minute, 53 seconds.\n",
      "Growing trees.. Progress: 54%. Estimated remaining time: 1 minute, 22 seconds.\n",
      "Growing trees.. Progress: 71%. Estimated remaining time: 50 seconds.\n",
      "Growing trees.. Progress: 89%. Estimated remaining time: 19 seconds.\n",
      "Growing trees.. Progress: 17%. Estimated remaining time: 2 minutes, 28 seconds.\n",
      "Growing trees.. Progress: 35%. Estimated remaining time: 1 minute, 55 seconds.\n",
      "Growing trees.. Progress: 53%. Estimated remaining time: 1 minute, 24 seconds.\n",
      "Growing trees.. Progress: 70%. Estimated remaining time: 54 seconds.\n",
      "Growing trees.. Progress: 87%. Estimated remaining time: 23 seconds.\n",
      "Growing trees.. Progress: 18%. Estimated remaining time: 2 minutes, 21 seconds.\n",
      "Growing trees.. Progress: 36%. Estimated remaining time: 1 minute, 50 seconds.\n",
      "Growing trees.. Progress: 54%. Estimated remaining time: 1 minute, 20 seconds.\n",
      "Growing trees.. Progress: 72%. Estimated remaining time: 48 seconds.\n",
      "Growing trees.. Progress: 90%. Estimated remaining time: 17 seconds.\n",
      "20250901 193437\t278\t26\t1000\t25\t5\t53421000\t64\n"
     ]
    },
    {
     "name": "stderr",
     "output_type": "stream",
     "text": [
      "[mbo] 48: num.trees=278; max.depth=26; min.node.size=1000; mtry=25 : y = 5.34e+07 : 947.8 secs : infill_ei\n",
      "\n",
      "Saved the current state after iteration 49 in the file HT450.RDATA.\n",
      "\n"
     ]
    },
    {
     "name": "stdout",
     "output_type": "stream",
     "text": [
      "Growing trees.. Progress: 8%. Estimated remaining time: 6 minutes, 17 seconds.\n",
      "Growing trees.. Progress: 15%. Estimated remaining time: 5 minutes, 46 seconds.\n",
      "Growing trees.. Progress: 23%. Estimated remaining time: 5 minutes, 11 seconds.\n",
      "Growing trees.. Progress: 31%. Estimated remaining time: 4 minutes, 43 seconds.\n",
      "Growing trees.. Progress: 39%. Estimated remaining time: 4 minutes, 9 seconds.\n",
      "Growing trees.. Progress: 46%. Estimated remaining time: 3 minutes, 37 seconds.\n",
      "Growing trees.. Progress: 54%. Estimated remaining time: 3 minutes, 5 seconds.\n",
      "Growing trees.. Progress: 62%. Estimated remaining time: 2 minutes, 33 seconds.\n",
      "Growing trees.. Progress: 70%. Estimated remaining time: 2 minutes, 1 seconds.\n",
      "Growing trees.. Progress: 78%. Estimated remaining time: 1 minute, 30 seconds.\n",
      "Growing trees.. Progress: 85%. Estimated remaining time: 59 seconds.\n",
      "Growing trees.. Progress: 93%. Estimated remaining time: 27 seconds.\n",
      "Growing trees.. Progress: 100%. Estimated remaining time: 0 seconds.\n",
      "Growing trees.. Progress: 7%. Estimated remaining time: 6 minutes, 28 seconds.\n",
      "Growing trees.. Progress: 15%. Estimated remaining time: 6 minutes, 3 seconds.\n",
      "Growing trees.. Progress: 22%. Estimated remaining time: 5 minutes, 29 seconds.\n",
      "Growing trees.. Progress: 30%. Estimated remaining time: 4 minutes, 54 seconds.\n",
      "Growing trees.. Progress: 37%. Estimated remaining time: 4 minutes, 23 seconds.\n",
      "Growing trees.. Progress: 45%. Estimated remaining time: 3 minutes, 50 seconds.\n",
      "Growing trees.. Progress: 52%. Estimated remaining time: 3 minutes, 20 seconds.\n",
      "Growing trees.. Progress: 60%. Estimated remaining time: 2 minutes, 47 seconds.\n",
      "Growing trees.. Progress: 67%. Estimated remaining time: 2 minutes, 16 seconds.\n",
      "Growing trees.. Progress: 75%. Estimated remaining time: 1 minute, 44 seconds.\n",
      "Growing trees.. Progress: 83%. Estimated remaining time: 1 minute, 12 seconds.\n",
      "Growing trees.. Progress: 90%. Estimated remaining time: 42 seconds.\n",
      "Growing trees.. Progress: 98%. Estimated remaining time: 9 seconds.\n",
      "Growing trees.. Progress: 8%. Estimated remaining time: 6 minutes, 17 seconds.\n",
      "Growing trees.. Progress: 15%. Estimated remaining time: 5 minutes, 40 seconds.\n",
      "Growing trees.. Progress: 23%. Estimated remaining time: 5 minutes, 7 seconds.\n",
      "Growing trees.. Progress: 31%. Estimated remaining time: 4 minutes, 35 seconds.\n",
      "Growing trees.. Progress: 39%. Estimated remaining time: 4 minutes, 8 seconds.\n",
      "Growing trees.. Progress: 46%. Estimated remaining time: 3 minutes, 37 seconds.\n",
      "Growing trees.. Progress: 54%. Estimated remaining time: 3 minutes, 4 seconds.\n",
      "Growing trees.. Progress: 62%. Estimated remaining time: 2 minutes, 32 seconds.\n",
      "Growing trees.. Progress: 70%. Estimated remaining time: 2 minutes, 0 seconds.\n",
      "Growing trees.. Progress: 78%. Estimated remaining time: 1 minute, 29 seconds.\n",
      "Growing trees.. Progress: 86%. Estimated remaining time: 57 seconds.\n",
      "Growing trees.. Progress: 94%. Estimated remaining time: 25 seconds.\n",
      "Growing trees.. Progress: 8%. Estimated remaining time: 6 minutes, 29 seconds.\n",
      "Growing trees.. Progress: 15%. Estimated remaining time: 5 minutes, 46 seconds.\n",
      "Growing trees.. Progress: 23%. Estimated remaining time: 5 minutes, 18 seconds.\n",
      "Growing trees.. Progress: 31%. Estimated remaining time: 4 minutes, 45 seconds.\n",
      "Growing trees.. Progress: 38%. Estimated remaining time: 4 minutes, 15 seconds.\n",
      "Growing trees.. Progress: 46%. Estimated remaining time: 3 minutes, 45 seconds.\n",
      "Growing trees.. Progress: 53%. Estimated remaining time: 3 minutes, 13 seconds.\n",
      "Growing trees.. Progress: 61%. Estimated remaining time: 2 minutes, 42 seconds.\n",
      "Growing trees.. Progress: 68%. Estimated remaining time: 2 minutes, 11 seconds.\n",
      "Growing trees.. Progress: 76%. Estimated remaining time: 1 minute, 39 seconds.\n",
      "Growing trees.. Progress: 84%. Estimated remaining time: 1 minute, 8 seconds.\n",
      "Growing trees.. Progress: 91%. Estimated remaining time: 36 seconds.\n",
      "Growing trees.. Progress: 99%. Estimated remaining time: 4 seconds.\n",
      "Growing trees.. Progress: 8%. Estimated remaining time: 6 minutes, 6 seconds.\n",
      "Growing trees.. Progress: 16%. Estimated remaining time: 5 minutes, 35 seconds.\n",
      "Growing trees.. Progress: 23%. Estimated remaining time: 5 minutes, 7 seconds.\n",
      "Growing trees.. Progress: 31%. Estimated remaining time: 4 minutes, 32 seconds.\n",
      "Growing trees.. Progress: 39%. Estimated remaining time: 4 minutes, 1 seconds.\n",
      "Growing trees.. Progress: 47%. Estimated remaining time: 3 minutes, 30 seconds.\n",
      "Growing trees.. Progress: 55%. Estimated remaining time: 2 minutes, 59 seconds.\n",
      "Growing trees.. Progress: 63%. Estimated remaining time: 2 minutes, 28 seconds.\n",
      "Growing trees.. Progress: 70%. Estimated remaining time: 1 minute, 57 seconds.\n",
      "Growing trees.. Progress: 79%. Estimated remaining time: 1 minute, 24 seconds.\n",
      "Growing trees.. Progress: 87%. Estimated remaining time: 52 seconds.\n",
      "Growing trees.. Progress: 95%. Estimated remaining time: 19 seconds.\n",
      "20250901 201007\t487\t22\t847\t32\t5\t54342000\t65\n"
     ]
    },
    {
     "name": "stderr",
     "output_type": "stream",
     "text": [
      "[mbo] 49: num.trees=487; max.depth=22; min.node.size=847; mtry=32 : y = 5.43e+07 : 2125.7 secs : infill_ei\n",
      "\n",
      "Saved the current state after iteration 50 in the file HT450.RDATA.\n",
      "\n"
     ]
    },
    {
     "name": "stdout",
     "output_type": "stream",
     "text": [
      "Growing trees.. Progress: 27%. Estimated remaining time: 1 minute, 25 seconds.\n",
      "Growing trees.. Progress: 53%. Estimated remaining time: 53 seconds.\n",
      "Growing trees.. Progress: 80%. Estimated remaining time: 22 seconds.\n",
      "Growing trees.. Progress: 25%. Estimated remaining time: 1 minute, 30 seconds.\n",
      "Growing trees.. Progress: 51%. Estimated remaining time: 58 seconds.\n",
      "Growing trees.. Progress: 77%. Estimated remaining time: 28 seconds.\n",
      "Growing trees.. Progress: 27%. Estimated remaining time: 1 minute, 25 seconds.\n",
      "Growing trees.. Progress: 53%. Estimated remaining time: 54 seconds.\n",
      "Growing trees.. Progress: 80%. Estimated remaining time: 23 seconds.\n",
      "Growing trees.. Progress: 26%. Estimated remaining time: 1 minute, 29 seconds.\n",
      "Growing trees.. Progress: 52%. Estimated remaining time: 57 seconds.\n",
      "Growing trees.. Progress: 78%. Estimated remaining time: 26 seconds.\n",
      "Growing trees.. Progress: 28%. Estimated remaining time: 1 minute, 19 seconds.\n",
      "Growing trees.. Progress: 55%. Estimated remaining time: 49 seconds.\n",
      "Growing trees.. Progress: 83%. Estimated remaining time: 18 seconds.\n",
      "20250901 202059\t361\t29\t886\t13\t5\t55431000\t66\n"
     ]
    },
    {
     "name": "stderr",
     "output_type": "stream",
     "text": [
      "[mbo] 50: num.trees=361; max.depth=29; min.node.size=886; mtry=13 : y = 5.54e+07 : 648.5 secs : infill_ei\n",
      "\n",
      "Saved the current state after iteration 51 in the file HT450.RDATA.\n",
      "\n"
     ]
    },
    {
     "name": "stdout",
     "output_type": "stream",
     "text": [
      "Growing trees.. Progress: 61%. Estimated remaining time: 20 seconds.\n",
      "Growing trees.. Progress: 58%. Estimated remaining time: 22 seconds.\n",
      "Growing trees.. Progress: 60%. Estimated remaining time: 21 seconds.\n",
      "Growing trees.. Progress: 58%. Estimated remaining time: 22 seconds.\n",
      "Growing trees.. Progress: 62%. Estimated remaining time: 19 seconds.\n",
      "20250901 202600\t173\t26\t889\t12\t5\t55116000\t67\n"
     ]
    },
    {
     "name": "stderr",
     "output_type": "stream",
     "text": [
      "[mbo] 51: num.trees=173; max.depth=26; min.node.size=889; mtry=12 : y = 5.51e+07 : 296.1 secs : infill_ei\n",
      "\n"
     ]
    },
    {
     "name": "stdout",
     "output_type": "stream",
     "text": [
      "Growing trees.. Progress: 48%. Estimated remaining time: 33 seconds.\n",
      "Growing trees.. Progress: 97%. Estimated remaining time: 1 seconds.\n",
      "Growing trees.. Progress: 48%. Estimated remaining time: 33 seconds.\n",
      "Growing trees.. Progress: 97%. Estimated remaining time: 2 seconds.\n",
      "Growing trees.. Progress: 48%. Estimated remaining time: 33 seconds.\n",
      "Growing trees.. Progress: 96%. Estimated remaining time: 2 seconds.\n",
      "Growing trees.. Progress: 46%. Estimated remaining time: 35 seconds.\n",
      "Growing trees.. Progress: 94%. Estimated remaining time: 3 seconds.\n",
      "Growing trees.. Progress: 49%. Estimated remaining time: 32 seconds.\n",
      "Growing trees.. Progress: 97%. Estimated remaining time: 1 seconds.\n",
      "20250901 203209\t265\t12\t208\t12\t5\t55503000\t68\n"
     ]
    },
    {
     "name": "stderr",
     "output_type": "stream",
     "text": [
      "[mbo] 52: num.trees=265; max.depth=12; min.node.size=208; mtry=12 : y = 5.55e+07 : 368.3 secs : infill_ei\n",
      "\n",
      "Saved the current state after iteration 53 in the file HT450.RDATA.\n",
      "\n"
     ]
    },
    {
     "name": "stdout",
     "output_type": "stream",
     "text": [
      "Growing trees.. Progress: 10%. Estimated remaining time: 4 minutes, 48 seconds.\n",
      "Growing trees.. Progress: 19%. Estimated remaining time: 4 minutes, 17 seconds.\n",
      "Growing trees.. Progress: 29%. Estimated remaining time: 3 minutes, 43 seconds.\n",
      "Growing trees.. Progress: 40%. Estimated remaining time: 3 minutes, 9 seconds.\n",
      "Growing trees.. Progress: 50%. Estimated remaining time: 2 minutes, 39 seconds.\n",
      "Growing trees.. Progress: 60%. Estimated remaining time: 2 minutes, 7 seconds.\n",
      "Growing trees.. Progress: 70%. Estimated remaining time: 1 minute, 34 seconds.\n",
      "Growing trees.. Progress: 80%. Estimated remaining time: 1 minute, 4 seconds.\n",
      "Growing trees.. Progress: 90%. Estimated remaining time: 32 seconds.\n",
      "Growing trees.. Progress: 100%. Estimated remaining time: 0 seconds.\n",
      "Growing trees.. Progress: 9%. Estimated remaining time: 5 minutes, 9 seconds.\n",
      "Growing trees.. Progress: 19%. Estimated remaining time: 4 minutes, 32 seconds.\n",
      "Growing trees.. Progress: 28%. Estimated remaining time: 3 minutes, 56 seconds.\n",
      "Growing trees.. Progress: 38%. Estimated remaining time: 3 minutes, 27 seconds.\n",
      "Growing trees.. Progress: 47%. Estimated remaining time: 2 minutes, 55 seconds.\n",
      "Growing trees.. Progress: 56%. Estimated remaining time: 2 minutes, 24 seconds.\n",
      "Growing trees.. Progress: 66%. Estimated remaining time: 1 minute, 50 seconds.\n",
      "Growing trees.. Progress: 76%. Estimated remaining time: 1 minute, 18 seconds.\n",
      "Growing trees.. Progress: 86%. Estimated remaining time: 46 seconds.\n",
      "Growing trees.. Progress: 95%. Estimated remaining time: 15 seconds.\n",
      "Growing trees.. Progress: 10%. Estimated remaining time: 4 minutes, 57 seconds.\n",
      "Growing trees.. Progress: 20%. Estimated remaining time: 4 minutes, 16 seconds.\n",
      "Growing trees.. Progress: 30%. Estimated remaining time: 3 minutes, 42 seconds.\n",
      "Growing trees.. Progress: 40%. Estimated remaining time: 3 minutes, 9 seconds.\n",
      "Growing trees.. Progress: 50%. Estimated remaining time: 2 minutes, 39 seconds.\n",
      "Growing trees.. Progress: 60%. Estimated remaining time: 2 minutes, 8 seconds.\n",
      "Growing trees.. Progress: 70%. Estimated remaining time: 1 minute, 36 seconds.\n",
      "Growing trees.. Progress: 80%. Estimated remaining time: 1 minute, 3 seconds.\n",
      "Growing trees.. Progress: 90%. Estimated remaining time: 32 seconds.\n",
      "Growing trees.. Progress: 100%. Estimated remaining time: 0 seconds.\n",
      "Growing trees.. Progress: 10%. Estimated remaining time: 4 minutes, 57 seconds.\n",
      "Growing trees.. Progress: 20%. Estimated remaining time: 4 minutes, 20 seconds.\n",
      "Growing trees.. Progress: 29%. Estimated remaining time: 3 minutes, 50 seconds.\n",
      "Growing trees.. Progress: 39%. Estimated remaining time: 3 minutes, 17 seconds.\n",
      "Growing trees.. Progress: 49%. Estimated remaining time: 2 minutes, 46 seconds.\n",
      "Growing trees.. Progress: 59%. Estimated remaining time: 2 minutes, 15 seconds.\n",
      "Growing trees.. Progress: 68%. Estimated remaining time: 1 minute, 44 seconds.\n",
      "Growing trees.. Progress: 78%. Estimated remaining time: 1 minute, 11 seconds.\n",
      "Growing trees.. Progress: 88%. Estimated remaining time: 40 seconds.\n",
      "Growing trees.. Progress: 97%. Estimated remaining time: 8 seconds.\n",
      "Growing trees.. Progress: 10%. Estimated remaining time: 4 minutes, 48 seconds.\n",
      "Growing trees.. Progress: 20%. Estimated remaining time: 4 minutes, 12 seconds.\n",
      "Growing trees.. Progress: 30%. Estimated remaining time: 3 minutes, 40 seconds.\n",
      "Growing trees.. Progress: 40%. Estimated remaining time: 3 minutes, 7 seconds.\n",
      "Growing trees.. Progress: 50%. Estimated remaining time: 2 minutes, 36 seconds.\n",
      "Growing trees.. Progress: 60%. Estimated remaining time: 2 minutes, 4 seconds.\n",
      "Growing trees.. Progress: 70%. Estimated remaining time: 1 minute, 33 seconds.\n",
      "Growing trees.. Progress: 80%. Estimated remaining time: 1 minute, 1 seconds.\n",
      "Growing trees.. Progress: 91%. Estimated remaining time: 28 seconds.\n",
      "20250901 205958\t340\t23\t905\t36\t5\t54078000\t69\n"
     ]
    },
    {
     "name": "stderr",
     "output_type": "stream",
     "text": [
      "[mbo] 53: num.trees=340; max.depth=23; min.node.size=905; mtry=36 : y = 5.41e+07 : 1664.4 secs : infill_ei\n",
      "\n",
      "Saved the current state after iteration 54 in the file HT450.RDATA.\n",
      "\n"
     ]
    },
    {
     "name": "stdout",
     "output_type": "stream",
     "text": [
      "Growing trees.. Progress: 18%. Estimated remaining time: 2 minutes, 23 seconds.\n",
      "Growing trees.. Progress: 36%. Estimated remaining time: 1 minute, 51 seconds.\n",
      "Growing trees.. Progress: 54%. Estimated remaining time: 1 minute, 20 seconds.\n",
      "Growing trees.. Progress: 72%. Estimated remaining time: 49 seconds.\n",
      "Growing trees.. Progress: 90%. Estimated remaining time: 17 seconds.\n",
      "Growing trees.. Progress: 18%. Estimated remaining time: 2 minutes, 25 seconds.\n",
      "Growing trees.. Progress: 35%. Estimated remaining time: 1 minute, 53 seconds.\n",
      "Growing trees.. Progress: 53%. Estimated remaining time: 1 minute, 21 seconds.\n",
      "Growing trees.. Progress: 71%. Estimated remaining time: 50 seconds.\n",
      "Growing trees.. Progress: 89%. Estimated remaining time: 19 seconds.\n",
      "Growing trees.. Progress: 18%. Estimated remaining time: 2 minutes, 23 seconds.\n",
      "Growing trees.. Progress: 36%. Estimated remaining time: 1 minute, 52 seconds.\n",
      "Growing trees.. Progress: 53%. Estimated remaining time: 1 minute, 21 seconds.\n",
      "Growing trees.. Progress: 71%. Estimated remaining time: 49 seconds.\n",
      "Growing trees.. Progress: 90%. Estimated remaining time: 17 seconds.\n",
      "Growing trees.. Progress: 18%. Estimated remaining time: 2 minutes, 23 seconds.\n",
      "Growing trees.. Progress: 36%. Estimated remaining time: 1 minute, 51 seconds.\n",
      "Growing trees.. Progress: 54%. Estimated remaining time: 1 minute, 19 seconds.\n",
      "Growing trees.. Progress: 72%. Estimated remaining time: 48 seconds.\n",
      "Growing trees.. Progress: 90%. Estimated remaining time: 17 seconds.\n",
      "Growing trees.. Progress: 18%. Estimated remaining time: 2 minutes, 21 seconds.\n",
      "Growing trees.. Progress: 36%. Estimated remaining time: 1 minute, 51 seconds.\n",
      "Growing trees.. Progress: 54%. Estimated remaining time: 1 minute, 19 seconds.\n",
      "Growing trees.. Progress: 72%. Estimated remaining time: 48 seconds.\n",
      "Growing trees.. Progress: 90%. Estimated remaining time: 17 seconds.\n",
      "20250901 211529\t500\t9\t265\t26\t5\t55269000\t70\n"
     ]
    },
    {
     "name": "stderr",
     "output_type": "stream",
     "text": [
      "[mbo] 54: num.trees=500; max.depth=9; min.node.size=265; mtry=26 : y = 5.53e+07 : 926.6 secs : infill_ei\n",
      "\n",
      "Saved the current state after iteration 55 in the file HT450.RDATA.\n",
      "\n"
     ]
    },
    {
     "name": "stdout",
     "output_type": "stream",
     "text": [
      "Growing trees.. Progress: 41%. Estimated remaining time: 44 seconds.\n",
      "Growing trees.. Progress: 83%. Estimated remaining time: 12 seconds.\n",
      "Growing trees.. Progress: 39%. Estimated remaining time: 47 seconds.\n",
      "Growing trees.. Progress: 79%. Estimated remaining time: 16 seconds.\n",
      "Growing trees.. Progress: 40%. Estimated remaining time: 45 seconds.\n",
      "Growing trees.. Progress: 82%. Estimated remaining time: 14 seconds.\n",
      "Growing trees.. Progress: 39%. Estimated remaining time: 48 seconds.\n",
      "Growing trees.. Progress: 79%. Estimated remaining time: 16 seconds.\n",
      "Growing trees.. Progress: 42%. Estimated remaining time: 43 seconds.\n",
      "Growing trees.. Progress: 84%. Estimated remaining time: 11 seconds.\n",
      "20250901 212255\t287\t25\t493\t10\t5\t55233000\t71\n"
     ]
    },
    {
     "name": "stderr",
     "output_type": "stream",
     "text": [
      "[mbo] 55: num.trees=287; max.depth=25; min.node.size=493; mtry=10 : y = 5.52e+07 : 439.6 secs : infill_ei\n",
      "\n"
     ]
    },
    {
     "name": "stdout",
     "output_type": "stream",
     "text": [
      "Growing trees.. Progress: 9%. Estimated remaining time: 4 minutes, 58 seconds.\n",
      "Growing trees.. Progress: 19%. Estimated remaining time: 4 minutes, 32 seconds.\n",
      "Growing trees.. Progress: 28%. Estimated remaining time: 3 minutes, 59 seconds.\n",
      "Growing trees.. Progress: 38%. Estimated remaining time: 3 minutes, 25 seconds.\n",
      "Growing trees.. Progress: 48%. Estimated remaining time: 2 minutes, 53 seconds.\n",
      "Growing trees.. Progress: 57%. Estimated remaining time: 2 minutes, 22 seconds.\n",
      "Growing trees.. Progress: 67%. Estimated remaining time: 1 minute, 49 seconds.\n",
      "Growing trees.. Progress: 76%. Estimated remaining time: 1 minute, 18 seconds.\n",
      "Growing trees.. Progress: 85%. Estimated remaining time: 48 seconds.\n",
      "Growing trees.. Progress: 95%. Estimated remaining time: 17 seconds.\n",
      "Growing trees.. Progress: 9%. Estimated remaining time: 5 minutes, 5 seconds.\n",
      "Growing trees.. Progress: 19%. Estimated remaining time: 4 minutes, 31 seconds.\n",
      "Growing trees.. Progress: 28%. Estimated remaining time: 3 minutes, 59 seconds.\n",
      "Growing trees.. Progress: 38%. Estimated remaining time: 3 minutes, 27 seconds.\n",
      "Growing trees.. Progress: 47%. Estimated remaining time: 2 minutes, 57 seconds.\n",
      "Growing trees.. Progress: 56%. Estimated remaining time: 2 minutes, 25 seconds.\n",
      "Growing trees.. Progress: 66%. Estimated remaining time: 1 minute, 54 seconds.\n",
      "Growing trees.. Progress: 75%. Estimated remaining time: 1 minute, 22 seconds.\n",
      "Growing trees.. Progress: 85%. Estimated remaining time: 51 seconds.\n",
      "Growing trees.. Progress: 94%. Estimated remaining time: 20 seconds.\n",
      "Growing trees.. Progress: 9%. Estimated remaining time: 5 minutes, 5 seconds.\n",
      "Growing trees.. Progress: 19%. Estimated remaining time: 4 minutes, 31 seconds.\n",
      "Growing trees.. Progress: 28%. Estimated remaining time: 3 minutes, 59 seconds.\n",
      "Growing trees.. Progress: 37%. Estimated remaining time: 3 minutes, 30 seconds.\n",
      "Growing trees.. Progress: 47%. Estimated remaining time: 2 minutes, 59 seconds.\n",
      "Growing trees.. Progress: 56%. Estimated remaining time: 2 minutes, 28 seconds.\n",
      "Growing trees.. Progress: 65%. Estimated remaining time: 1 minute, 58 seconds.\n",
      "Growing trees.. Progress: 74%. Estimated remaining time: 1 minute, 28 seconds.\n",
      "Growing trees.. Progress: 83%. Estimated remaining time: 56 seconds.\n",
      "Growing trees.. Progress: 93%. Estimated remaining time: 25 seconds.\n",
      "Growing trees.. Progress: 9%. Estimated remaining time: 5 minutes, 13 seconds.\n",
      "Growing trees.. Progress: 18%. Estimated remaining time: 4 minutes, 38 seconds.\n",
      "Growing trees.. Progress: 27%. Estimated remaining time: 4 minutes, 9 seconds.\n",
      "Growing trees.. Progress: 36%. Estimated remaining time: 3 minutes, 38 seconds.\n",
      "Growing trees.. Progress: 45%. Estimated remaining time: 3 minutes, 8 seconds.\n",
      "Growing trees.. Progress: 55%. Estimated remaining time: 2 minutes, 36 seconds.\n",
      "Growing trees.. Progress: 64%. Estimated remaining time: 2 minutes, 3 seconds.\n",
      "Growing trees.. Progress: 73%. Estimated remaining time: 1 minute, 31 seconds.\n",
      "Growing trees.. Progress: 83%. Estimated remaining time: 58 seconds.\n",
      "Growing trees.. Progress: 92%. Estimated remaining time: 28 seconds.\n",
      "Growing trees.. Progress: 9%. Estimated remaining time: 5 minutes, 5 seconds.\n",
      "Growing trees.. Progress: 19%. Estimated remaining time: 4 minutes, 32 seconds.\n",
      "Growing trees.. Progress: 28%. Estimated remaining time: 3 minutes, 56 seconds.\n",
      "Growing trees.. Progress: 38%. Estimated remaining time: 3 minutes, 25 seconds.\n",
      "Growing trees.. Progress: 48%. Estimated remaining time: 2 minutes, 53 seconds.\n",
      "Growing trees.. Progress: 57%. Estimated remaining time: 2 minutes, 22 seconds.\n",
      "Growing trees.. Progress: 67%. Estimated remaining time: 1 minute, 50 seconds.\n",
      "Growing trees.. Progress: 76%. Estimated remaining time: 1 minute, 18 seconds.\n",
      "Growing trees.. Progress: 86%. Estimated remaining time: 46 seconds.\n",
      "Growing trees.. Progress: 95%. Estimated remaining time: 15 seconds.\n",
      "20250901 215220\t500\t16\t591\t29\t5\t54630000\t72\n"
     ]
    },
    {
     "name": "stderr",
     "output_type": "stream",
     "text": [
      "[mbo] 56: num.trees=500; max.depth=16; min.node.size=591; mtry=29 : y = 5.46e+07 : 1763.9 secs : infill_ei\n",
      "\n",
      "Saved the current state after iteration 57 in the file HT450.RDATA.\n",
      "\n"
     ]
    },
    {
     "name": "stdout",
     "output_type": "stream",
     "text": [
      "Growing trees.. Progress: 5%. Estimated remaining time: 9 minutes, 49 seconds.\n",
      "Growing trees.. Progress: 10%. Estimated remaining time: 9 minutes, 18 seconds.\n",
      "Growing trees.. Progress: 15%. Estimated remaining time: 8 minutes, 47 seconds.\n",
      "Growing trees.. Progress: 20%. Estimated remaining time: 8 minutes, 13 seconds.\n",
      "Growing trees.. Progress: 25%. Estimated remaining time: 7 minutes, 44 seconds.\n",
      "Growing trees.. Progress: 31%. Estimated remaining time: 7 minutes, 13 seconds.\n",
      "Growing trees.. Progress: 36%. Estimated remaining time: 6 minutes, 41 seconds.\n",
      "Growing trees.. Progress: 41%. Estimated remaining time: 6 minutes, 8 seconds.\n",
      "Growing trees.. Progress: 46%. Estimated remaining time: 5 minutes, 38 seconds.\n",
      "Growing trees.. Progress: 51%. Estimated remaining time: 5 minutes, 5 seconds.\n",
      "Growing trees.. Progress: 56%. Estimated remaining time: 4 minutes, 34 seconds.\n",
      "Growing trees.. Progress: 61%. Estimated remaining time: 4 minutes, 3 seconds.\n",
      "Growing trees.. Progress: 66%. Estimated remaining time: 3 minutes, 30 seconds.\n",
      "Growing trees.. Progress: 71%. Estimated remaining time: 2 minutes, 59 seconds.\n",
      "Growing trees.. Progress: 77%. Estimated remaining time: 2 minutes, 26 seconds.\n",
      "Growing trees.. Progress: 82%. Estimated remaining time: 1 minute, 55 seconds.\n",
      "Growing trees.. Progress: 87%. Estimated remaining time: 1 minute, 24 seconds.\n",
      "Growing trees.. Progress: 92%. Estimated remaining time: 52 seconds.\n",
      "Growing trees.. Progress: 96%. Estimated remaining time: 22 seconds.\n",
      "Growing trees.. Progress: 5%. Estimated remaining time: 10 minutes, 42 seconds.\n",
      "Growing trees.. Progress: 9%. Estimated remaining time: 9 minutes, 57 seconds.\n",
      "Growing trees.. Progress: 14%. Estimated remaining time: 9 minutes, 18 seconds.\n",
      "Growing trees.. Progress: 19%. Estimated remaining time: 8 minutes, 47 seconds.\n",
      "Growing trees.. Progress: 24%. Estimated remaining time: 8 minutes, 12 seconds.\n",
      "Growing trees.. Progress: 29%. Estimated remaining time: 7 minutes, 38 seconds.\n",
      "Growing trees.. Progress: 34%. Estimated remaining time: 7 minutes, 7 seconds.\n",
      "Growing trees.. Progress: 39%. Estimated remaining time: 6 minutes, 35 seconds.\n",
      "Growing trees.. Progress: 44%. Estimated remaining time: 6 minutes, 2 seconds.\n",
      "Growing trees.. Progress: 49%. Estimated remaining time: 5 minutes, 30 seconds.\n",
      "Growing trees.. Progress: 54%. Estimated remaining time: 5 minutes, 0 seconds.\n",
      "Growing trees.. Progress: 59%. Estimated remaining time: 4 minutes, 30 seconds.\n",
      "Growing trees.. Progress: 63%. Estimated remaining time: 3 minutes, 59 seconds.\n",
      "Growing trees.. Progress: 68%. Estimated remaining time: 3 minutes, 28 seconds.\n",
      "Growing trees.. Progress: 73%. Estimated remaining time: 2 minutes, 57 seconds.\n",
      "Growing trees.. Progress: 78%. Estimated remaining time: 2 minutes, 25 seconds.\n",
      "Growing trees.. Progress: 83%. Estimated remaining time: 1 minute, 54 seconds.\n",
      "Growing trees.. Progress: 88%. Estimated remaining time: 1 minute, 21 seconds.\n",
      "Growing trees.. Progress: 93%. Estimated remaining time: 48 seconds.\n",
      "Growing trees.. Progress: 97%. Estimated remaining time: 17 seconds.\n",
      "Growing trees.. Progress: 5%. Estimated remaining time: 10 minutes, 8 seconds.\n",
      "Growing trees.. Progress: 10%. Estimated remaining time: 9 minutes, 23 seconds.\n",
      "Growing trees.. Progress: 15%. Estimated remaining time: 8 minutes, 50 seconds.\n",
      "Growing trees.. Progress: 20%. Estimated remaining time: 8 minutes, 21 seconds.\n",
      "Growing trees.. Progress: 25%. Estimated remaining time: 7 minutes, 51 seconds.\n",
      "Growing trees.. Progress: 30%. Estimated remaining time: 7 minutes, 23 seconds.\n",
      "Growing trees.. Progress: 35%. Estimated remaining time: 6 minutes, 50 seconds.\n",
      "Growing trees.. Progress: 40%. Estimated remaining time: 6 minutes, 19 seconds.\n",
      "Growing trees.. Progress: 45%. Estimated remaining time: 5 minutes, 49 seconds.\n",
      "Growing trees.. Progress: 50%. Estimated remaining time: 5 minutes, 15 seconds.\n",
      "Growing trees.. Progress: 55%. Estimated remaining time: 4 minutes, 42 seconds.\n",
      "Growing trees.. Progress: 60%. Estimated remaining time: 4 minutes, 10 seconds.\n",
      "Growing trees.. Progress: 65%. Estimated remaining time: 3 minutes, 42 seconds.\n",
      "Growing trees.. Progress: 70%. Estimated remaining time: 3 minutes, 10 seconds.\n",
      "Growing trees.. Progress: 75%. Estimated remaining time: 2 minutes, 40 seconds.\n",
      "Growing trees.. Progress: 80%. Estimated remaining time: 2 minutes, 8 seconds.\n",
      "Growing trees.. Progress: 85%. Estimated remaining time: 1 minute, 35 seconds.\n",
      "Growing trees.. Progress: 90%. Estimated remaining time: 1 minute, 2 seconds.\n",
      "Growing trees.. Progress: 95%. Estimated remaining time: 31 seconds.\n",
      "Growing trees.. Progress: 100%. Estimated remaining time: 0 seconds.\n",
      "Growing trees.. Progress: 5%. Estimated remaining time: 10 minutes, 8 seconds.\n",
      "Growing trees.. Progress: 10%. Estimated remaining time: 9 minutes, 36 seconds.\n",
      "Growing trees.. Progress: 15%. Estimated remaining time: 9 minutes, 6 seconds.\n",
      "Growing trees.. Progress: 20%. Estimated remaining time: 8 minutes, 34 seconds.\n",
      "Growing trees.. Progress: 25%. Estimated remaining time: 8 minutes, 2 seconds.\n",
      "Growing trees.. Progress: 30%. Estimated remaining time: 7 minutes, 29 seconds.\n",
      "Growing trees.. Progress: 35%. Estimated remaining time: 6 minutes, 59 seconds.\n",
      "Growing trees.. Progress: 39%. Estimated remaining time: 6 minutes, 29 seconds.\n",
      "Growing trees.. Progress: 44%. Estimated remaining time: 5 minutes, 56 seconds.\n",
      "Growing trees.. Progress: 50%. Estimated remaining time: 5 minutes, 23 seconds.\n",
      "Growing trees.. Progress: 55%. Estimated remaining time: 4 minutes, 50 seconds.\n",
      "Growing trees.. Progress: 60%. Estimated remaining time: 4 minutes, 18 seconds.\n",
      "Growing trees.. Progress: 65%. Estimated remaining time: 3 minutes, 46 seconds.\n",
      "Growing trees.. Progress: 69%. Estimated remaining time: 3 minutes, 16 seconds.\n",
      "Growing trees.. Progress: 74%. Estimated remaining time: 2 minutes, 44 seconds.\n",
      "Growing trees.. Progress: 79%. Estimated remaining time: 2 minutes, 12 seconds.\n",
      "Growing trees.. Progress: 84%. Estimated remaining time: 1 minute, 39 seconds.\n",
      "Growing trees.. Progress: 89%. Estimated remaining time: 1 minute, 7 seconds.\n",
      "Growing trees.. Progress: 94%. Estimated remaining time: 35 seconds.\n",
      "Growing trees.. Progress: 99%. Estimated remaining time: 3 seconds.\n",
      "Growing trees.. Progress: 5%. Estimated remaining time: 10 minutes, 8 seconds.\n",
      "Growing trees.. Progress: 10%. Estimated remaining time: 9 minutes, 27 seconds.\n",
      "Growing trees.. Progress: 15%. Estimated remaining time: 8 minutes, 50 seconds.\n",
      "Growing trees.. Progress: 20%. Estimated remaining time: 8 minutes, 19 seconds.\n",
      "Growing trees.. Progress: 26%. Estimated remaining time: 7 minutes, 45 seconds.\n",
      "Growing trees.. Progress: 31%. Estimated remaining time: 7 minutes, 13 seconds.\n",
      "Growing trees.. Progress: 36%. Estimated remaining time: 6 minutes, 41 seconds.\n",
      "Growing trees.. Progress: 41%. Estimated remaining time: 6 minutes, 7 seconds.\n",
      "Growing trees.. Progress: 46%. Estimated remaining time: 5 minutes, 37 seconds.\n",
      "Growing trees.. Progress: 51%. Estimated remaining time: 5 minutes, 4 seconds.\n",
      "Growing trees.. Progress: 56%. Estimated remaining time: 4 minutes, 31 seconds.\n",
      "Growing trees.. Progress: 61%. Estimated remaining time: 3 minutes, 59 seconds.\n",
      "Growing trees.. Progress: 66%. Estimated remaining time: 3 minutes, 28 seconds.\n",
      "Growing trees.. Progress: 71%. Estimated remaining time: 2 minutes, 57 seconds.\n",
      "Growing trees.. Progress: 76%. Estimated remaining time: 2 minutes, 26 seconds.\n",
      "Growing trees.. Progress: 82%. Estimated remaining time: 1 minute, 54 seconds.\n",
      "Growing trees.. Progress: 87%. Estimated remaining time: 1 minute, 20 seconds.\n",
      "Growing trees.. Progress: 92%. Estimated remaining time: 48 seconds.\n",
      "Growing trees.. Progress: 97%. Estimated remaining time: 16 seconds.\n",
      "20250901 224710\t500\t21\t538\t47\t5\t53178000\t73\n"
     ]
    },
    {
     "name": "stderr",
     "output_type": "stream",
     "text": [
      "[mbo] 57: num.trees=500; max.depth=21; min.node.size=538; mtry=47 : y = 5.32e+07 : 3286.4 secs : infill_ei\n",
      "\n",
      "Saved the current state after iteration 58 in the file HT450.RDATA.\n",
      "\n"
     ]
    },
    {
     "name": "stdout",
     "output_type": "stream",
     "text": [
      "Growing trees.. Progress: 10%. Estimated remaining time: 4 minutes, 26 seconds.\n",
      "Growing trees.. Progress: 21%. Estimated remaining time: 3 minutes, 56 seconds.\n",
      "Growing trees.. Progress: 32%. Estimated remaining time: 3 minutes, 24 seconds.\n",
      "Growing trees.. Progress: 43%. Estimated remaining time: 2 minutes, 49 seconds.\n",
      "Growing trees.. Progress: 53%. Estimated remaining time: 2 minutes, 18 seconds.\n",
      "Growing trees.. Progress: 64%. Estimated remaining time: 1 minute, 47 seconds.\n",
      "Growing trees.. Progress: 74%. Estimated remaining time: 1 minute, 16 seconds.\n",
      "Growing trees.. Progress: 85%. Estimated remaining time: 44 seconds.\n",
      "Growing trees.. Progress: 95%. Estimated remaining time: 14 seconds.\n",
      "Growing trees.. Progress: 10%. Estimated remaining time: 4 minutes, 41 seconds.\n",
      "Growing trees.. Progress: 20%. Estimated remaining time: 4 minutes, 6 seconds.\n",
      "Growing trees.. Progress: 30%. Estimated remaining time: 3 minutes, 36 seconds.\n",
      "Growing trees.. Progress: 40%. Estimated remaining time: 3 minutes, 4 seconds.\n",
      "Growing trees.. Progress: 51%. Estimated remaining time: 2 minutes, 32 seconds.\n",
      "Growing trees.. Progress: 61%. Estimated remaining time: 2 minutes, 0 seconds.\n",
      "Growing trees.. Progress: 71%. Estimated remaining time: 1 minute, 28 seconds.\n",
      "Growing trees.. Progress: 81%. Estimated remaining time: 57 seconds.\n",
      "Growing trees.. Progress: 92%. Estimated remaining time: 26 seconds.\n",
      "Growing trees.. Progress: 10%. Estimated remaining time: 4 minutes, 26 seconds.\n",
      "Growing trees.. Progress: 21%. Estimated remaining time: 3 minutes, 59 seconds.\n",
      "Growing trees.. Progress: 32%. Estimated remaining time: 3 minutes, 26 seconds.\n",
      "Growing trees.. Progress: 42%. Estimated remaining time: 2 minutes, 54 seconds.\n",
      "Growing trees.. Progress: 53%. Estimated remaining time: 2 minutes, 23 seconds.\n",
      "Growing trees.. Progress: 63%. Estimated remaining time: 1 minute, 51 seconds.\n",
      "Growing trees.. Progress: 74%. Estimated remaining time: 1 minute, 19 seconds.\n",
      "Growing trees.. Progress: 84%. Estimated remaining time: 48 seconds.\n",
      "Growing trees.. Progress: 94%. Estimated remaining time: 17 seconds.\n",
      "Growing trees.. Progress: 10%. Estimated remaining time: 4 minutes, 26 seconds.\n",
      "Growing trees.. Progress: 21%. Estimated remaining time: 3 minutes, 56 seconds.\n",
      "Growing trees.. Progress: 32%. Estimated remaining time: 3 minutes, 24 seconds.\n",
      "Growing trees.. Progress: 42%. Estimated remaining time: 2 minutes, 54 seconds.\n",
      "Growing trees.. Progress: 53%. Estimated remaining time: 2 minutes, 22 seconds.\n",
      "Growing trees.. Progress: 63%. Estimated remaining time: 1 minute, 52 seconds.\n",
      "Growing trees.. Progress: 73%. Estimated remaining time: 1 minute, 21 seconds.\n",
      "Growing trees.. Progress: 83%. Estimated remaining time: 50 seconds.\n",
      "Growing trees.. Progress: 94%. Estimated remaining time: 18 seconds.\n",
      "Growing trees.. Progress: 10%. Estimated remaining time: 4 minutes, 26 seconds.\n",
      "Growing trees.. Progress: 21%. Estimated remaining time: 3 minutes, 52 seconds.\n",
      "Growing trees.. Progress: 32%. Estimated remaining time: 3 minutes, 20 seconds.\n",
      "Growing trees.. Progress: 43%. Estimated remaining time: 2 minutes, 48 seconds.\n",
      "Growing trees.. Progress: 54%. Estimated remaining time: 2 minutes, 16 seconds.\n",
      "Growing trees.. Progress: 64%. Estimated remaining time: 1 minute, 45 seconds.\n",
      "Growing trees.. Progress: 75%. Estimated remaining time: 1 minute, 14 seconds.\n",
      "Growing trees.. Progress: 85%. Estimated remaining time: 43 seconds.\n",
      "Growing trees.. Progress: 96%. Estimated remaining time: 12 seconds.\n",
      "20250901 231339\t413\t18\t1000\t31\t5\t53373000\t74\n"
     ]
    },
    {
     "name": "stderr",
     "output_type": "stream",
     "text": [
      "[mbo] 58: num.trees=413; max.depth=18; min.node.size=1000; mtry=31 : y = 5.34e+07 : 1582.7 secs : infill_ei\n",
      "\n",
      "Saved the current state after iteration 59 in the file HT450.RDATA.\n",
      "\n"
     ]
    },
    {
     "name": "stdout",
     "output_type": "stream",
     "text": [
      "Growing trees.. Progress: 10%. Estimated remaining time: 4 minutes, 45 seconds.\n",
      "Growing trees.. Progress: 20%. Estimated remaining time: 4 minutes, 14 seconds.\n",
      "Growing trees.. Progress: 30%. Estimated remaining time: 3 minutes, 43 seconds.\n",
      "Growing trees.. Progress: 40%. Estimated remaining time: 3 minutes, 10 seconds.\n",
      "Growing trees.. Progress: 49%. Estimated remaining time: 2 minutes, 40 seconds.\n",
      "Growing trees.. Progress: 59%. Estimated remaining time: 2 minutes, 10 seconds.\n",
      "Growing trees.. Progress: 69%. Estimated remaining time: 1 minute, 38 seconds.\n",
      "Growing trees.. Progress: 79%. Estimated remaining time: 1 minute, 7 seconds.\n",
      "Growing trees.. Progress: 89%. Estimated remaining time: 35 seconds.\n",
      "Growing trees.. Progress: 99%. Estimated remaining time: 3 seconds.\n",
      "Growing trees.. Progress: 10%. Estimated remaining time: 4 minutes, 45 seconds.\n",
      "Growing trees.. Progress: 20%. Estimated remaining time: 4 minutes, 14 seconds.\n",
      "Growing trees.. Progress: 29%. Estimated remaining time: 3 minutes, 43 seconds.\n",
      "Growing trees.. Progress: 39%. Estimated remaining time: 3 minutes, 12 seconds.\n",
      "Growing trees.. Progress: 49%. Estimated remaining time: 2 minutes, 41 seconds.\n",
      "Growing trees.. Progress: 59%. Estimated remaining time: 2 minutes, 8 seconds.\n",
      "Growing trees.. Progress: 69%. Estimated remaining time: 1 minute, 37 seconds.\n",
      "Growing trees.. Progress: 79%. Estimated remaining time: 1 minute, 6 seconds.\n",
      "Growing trees.. Progress: 89%. Estimated remaining time: 34 seconds.\n",
      "Growing trees.. Progress: 99%. Estimated remaining time: 3 seconds.\n",
      "Growing trees.. Progress: 10%. Estimated remaining time: 4 minutes, 45 seconds.\n",
      "Growing trees.. Progress: 20%. Estimated remaining time: 4 minutes, 15 seconds.\n",
      "Growing trees.. Progress: 30%. Estimated remaining time: 3 minutes, 43 seconds.\n",
      "Growing trees.. Progress: 40%. Estimated remaining time: 3 minutes, 10 seconds.\n",
      "Growing trees.. Progress: 50%. Estimated remaining time: 2 minutes, 39 seconds.\n",
      "Growing trees.. Progress: 60%. Estimated remaining time: 2 minutes, 8 seconds.\n",
      "Growing trees.. Progress: 69%. Estimated remaining time: 1 minute, 37 seconds.\n",
      "Growing trees.. Progress: 79%. Estimated remaining time: 1 minute, 5 seconds.\n",
      "Growing trees.. Progress: 89%. Estimated remaining time: 35 seconds.\n",
      "Growing trees.. Progress: 99%. Estimated remaining time: 4 seconds.\n",
      "Growing trees.. Progress: 10%. Estimated remaining time: 4 minutes, 51 seconds.\n",
      "Growing trees.. Progress: 19%. Estimated remaining time: 4 minutes, 20 seconds.\n",
      "Growing trees.. Progress: 29%. Estimated remaining time: 3 minutes, 47 seconds.\n",
      "Growing trees.. Progress: 39%. Estimated remaining time: 3 minutes, 17 seconds.\n",
      "Growing trees.. Progress: 49%. Estimated remaining time: 2 minutes, 44 seconds.\n",
      "Growing trees.. Progress: 59%. Estimated remaining time: 2 minutes, 12 seconds.\n",
      "Growing trees.. Progress: 68%. Estimated remaining time: 1 minute, 42 seconds.\n",
      "Growing trees.. Progress: 78%. Estimated remaining time: 1 minute, 10 seconds.\n",
      "Growing trees.. Progress: 88%. Estimated remaining time: 38 seconds.\n",
      "Growing trees.. Progress: 98%. Estimated remaining time: 6 seconds.\n",
      "Growing trees.. Progress: 10%. Estimated remaining time: 4 minutes, 32 seconds.\n",
      "Growing trees.. Progress: 20%. Estimated remaining time: 4 minutes, 4 seconds.\n",
      "Growing trees.. Progress: 30%. Estimated remaining time: 3 minutes, 37 seconds.\n",
      "Growing trees.. Progress: 40%. Estimated remaining time: 3 minutes, 5 seconds.\n",
      "Growing trees.. Progress: 50%. Estimated remaining time: 2 minutes, 34 seconds.\n",
      "Growing trees.. Progress: 61%. Estimated remaining time: 2 minutes, 2 seconds.\n",
      "Growing trees.. Progress: 71%. Estimated remaining time: 1 minute, 31 seconds.\n",
      "Growing trees.. Progress: 80%. Estimated remaining time: 1 minute, 2 seconds.\n",
      "Growing trees.. Progress: 89%. Estimated remaining time: 35 seconds.\n",
      "Growing trees.. Progress: 98%. Estimated remaining time: 7 seconds.\n",
      "20250901 234127\t500\t10\t695\t45\t5\t54534000\t75\n"
     ]
    },
    {
     "name": "stderr",
     "output_type": "stream",
     "text": [
      "[mbo] 59: num.trees=500; max.depth=10; min.node.size=695; mtry=45 : y = 5.45e+07 : 1660.8 secs : infill_ei\n",
      "\n",
      "Saved the current state after iteration 60 in the file HT450.RDATA.\n",
      "\n"
     ]
    },
    {
     "name": "stdout",
     "output_type": "stream",
     "text": [
      "Growing trees.. Progress: 40%. Estimated remaining time: 45 seconds.\n",
      "Growing trees.. Progress: 83%. Estimated remaining time: 12 seconds.\n",
      "Growing trees.. Progress: 41%. Estimated remaining time: 43 seconds.\n",
      "Growing trees.. Progress: 83%. Estimated remaining time: 12 seconds.\n",
      "Growing trees.. Progress: 42%. Estimated remaining time: 42 seconds.\n",
      "Growing trees.. Progress: 85%. Estimated remaining time: 11 seconds.\n",
      "Growing trees.. Progress: 42%. Estimated remaining time: 43 seconds.\n",
      "Growing trees.. Progress: 85%. Estimated remaining time: 11 seconds.\n",
      "Growing trees.. Progress: 43%. Estimated remaining time: 40 seconds.\n",
      "Growing trees.. Progress: 87%. Estimated remaining time: 9 seconds.\n",
      "20250901 234832\t297\t15\t250\t10\t5\t55929000\t76\n",
      "20250901 234833\t297\t15\t250\t10\t5\t55929000\t76\n"
     ]
    },
    {
     "name": "stderr",
     "output_type": "stream",
     "text": [
      "[mbo] 60: num.trees=297; max.depth=15; min.node.size=250; mtry=10 : y = 5.59e+07 : 421.0 secs : infill_ei\n",
      "\n"
     ]
    },
    {
     "name": "stdout",
     "output_type": "stream",
     "text": [
      "Growing trees.. Progress: 15%. Estimated remaining time: 2 minutes, 56 seconds.\n",
      "Growing trees.. Progress: 30%. Estimated remaining time: 2 minutes, 22 seconds.\n",
      "Growing trees.. Progress: 46%. Estimated remaining time: 1 minute, 50 seconds.\n",
      "Growing trees.. Progress: 61%. Estimated remaining time: 1 minute, 19 seconds.\n",
      "Growing trees.. Progress: 76%. Estimated remaining time: 48 seconds.\n",
      "Growing trees.. Progress: 92%. Estimated remaining time: 17 seconds.\n",
      "Growing trees.. Progress: 15%. Estimated remaining time: 3 minutes, 2 seconds.\n",
      "Growing trees.. Progress: 29%. Estimated remaining time: 2 minutes, 29 seconds.\n",
      "Growing trees.. Progress: 44%. Estimated remaining time: 1 minute, 59 seconds.\n",
      "Growing trees.. Progress: 58%. Estimated remaining time: 1 minute, 28 seconds.\n",
      "Growing trees.. Progress: 73%. Estimated remaining time: 56 seconds.\n",
      "Growing trees.. Progress: 88%. Estimated remaining time: 25 seconds.\n",
      "Growing trees.. Progress: 15%. Estimated remaining time: 2 minutes, 56 seconds.\n",
      "Growing trees.. Progress: 30%. Estimated remaining time: 2 minutes, 23 seconds.\n",
      "Growing trees.. Progress: 45%. Estimated remaining time: 1 minute, 54 seconds.\n",
      "Growing trees.. Progress: 60%. Estimated remaining time: 1 minute, 22 seconds.\n",
      "Growing trees.. Progress: 75%. Estimated remaining time: 51 seconds.\n",
      "Growing trees.. Progress: 90%. Estimated remaining time: 20 seconds.\n",
      "Growing trees.. Progress: 14%. Estimated remaining time: 3 minutes, 5 seconds.\n",
      "Growing trees.. Progress: 29%. Estimated remaining time: 2 minutes, 34 seconds.\n",
      "Growing trees.. Progress: 43%. Estimated remaining time: 2 minutes, 2 seconds.\n",
      "Growing trees.. Progress: 58%. Estimated remaining time: 1 minute, 29 seconds.\n",
      "Growing trees.. Progress: 73%. Estimated remaining time: 58 seconds.\n",
      "Growing trees.. Progress: 87%. Estimated remaining time: 27 seconds.\n",
      "Growing trees.. Progress: 15%. Estimated remaining time: 2 minutes, 53 seconds.\n",
      "Growing trees.. Progress: 31%. Estimated remaining time: 2 minutes, 20 seconds.\n",
      "Growing trees.. Progress: 47%. Estimated remaining time: 1 minute, 48 seconds.\n",
      "Growing trees.. Progress: 62%. Estimated remaining time: 1 minute, 17 seconds.\n",
      "Growing trees.. Progress: 78%. Estimated remaining time: 45 seconds.\n",
      "Growing trees.. Progress: 93%. Estimated remaining time: 13 seconds.\n",
      "20250902 000714\t495\t26\t863\t17\t5\t54096000\t77\n"
     ]
    },
    {
     "name": "stderr",
     "output_type": "stream",
     "text": [
      "[mbo] 61: num.trees=495; max.depth=26; min.node.size=863; mtry=17 : y = 5.41e+07 : 1120.6 secs : infill_ei\n",
      "\n",
      "Saved the current state after iteration 62 in the file HT450.RDATA.\n",
      "\n"
     ]
    },
    {
     "name": "stdout",
     "output_type": "stream",
     "text": [
      "Growing trees.. Progress: 41%. Estimated remaining time: 44 seconds.\n",
      "Growing trees.. Progress: 83%. Estimated remaining time: 12 seconds.\n",
      "Growing trees.. Progress: 41%. Estimated remaining time: 45 seconds.\n",
      "Growing trees.. Progress: 82%. Estimated remaining time: 13 seconds.\n",
      "Growing trees.. Progress: 40%. Estimated remaining time: 45 seconds.\n",
      "Growing trees.. Progress: 82%. Estimated remaining time: 13 seconds.\n",
      "Growing trees.. Progress: 40%. Estimated remaining time: 46 seconds.\n",
      "Growing trees.. Progress: 81%. Estimated remaining time: 14 seconds.\n",
      "Growing trees.. Progress: 42%. Estimated remaining time: 42 seconds.\n",
      "Growing trees.. Progress: 84%. Estimated remaining time: 11 seconds.\n",
      "20250902 001428\t290\t16\t515\t11\t5\t55275000\t78\n"
     ]
    },
    {
     "name": "stderr",
     "output_type": "stream",
     "text": [
      "[mbo] 62: num.trees=290; max.depth=16; min.node.size=515; mtry=11 : y = 5.53e+07 : 429.3 secs : infill_ei\n",
      "\n"
     ]
    },
    {
     "name": "stdout",
     "output_type": "stream",
     "text": [
      "Growing trees.. Progress: 37%. Estimated remaining time: 51 seconds.\n",
      "Growing trees.. Progress: 75%. Estimated remaining time: 20 seconds.\n",
      "Growing trees.. Progress: 36%. Estimated remaining time: 54 seconds.\n",
      "Growing trees.. Progress: 73%. Estimated remaining time: 23 seconds.\n",
      "Growing trees.. Progress: 37%. Estimated remaining time: 52 seconds.\n",
      "Growing trees.. Progress: 74%. Estimated remaining time: 21 seconds.\n",
      "Growing trees.. Progress: 36%. Estimated remaining time: 54 seconds.\n",
      "Growing trees.. Progress: 73%. Estimated remaining time: 23 seconds.\n",
      "Growing trees.. Progress: 38%. Estimated remaining time: 50 seconds.\n",
      "Growing trees.. Progress: 76%. Estimated remaining time: 19 seconds.\n",
      "20250902 002215\t246\t30\t896\t14\t5\t55296000\t79\n"
     ]
    },
    {
     "name": "stderr",
     "output_type": "stream",
     "text": [
      "[mbo] 63: num.trees=246; max.depth=30; min.node.size=896; mtry=14 : y = 5.53e+07 : 464.5 secs : infill_ei\n",
      "\n",
      "Saved the current state after iteration 64 in the file HT450.RDATA.\n",
      "\n"
     ]
    },
    {
     "name": "stdout",
     "output_type": "stream",
     "text": [
      "Growing trees.. Progress: 51%. Estimated remaining time: 29 seconds.\n",
      "Growing trees.. Progress: 49%. Estimated remaining time: 32 seconds.\n",
      "Growing trees.. Progress: 99%. Estimated remaining time: 0 seconds.\n",
      "Growing trees.. Progress: 51%. Estimated remaining time: 30 seconds.\n",
      "Growing trees.. Progress: 50%. Estimated remaining time: 30 seconds.\n",
      "Growing trees.. Progress: 51%. Estimated remaining time: 29 seconds.\n",
      "20250902 002810\t217\t15\t262\t12\t5\t54180000\t80\n"
     ]
    },
    {
     "name": "stderr",
     "output_type": "stream",
     "text": [
      "[mbo] 64: num.trees=217; max.depth=15; min.node.size=262; mtry=12 : y = 5.42e+07 : 350.4 secs : infill_ei\n",
      "\n"
     ]
    },
    {
     "name": "stdout",
     "output_type": "stream",
     "text": [
      "Growing trees.. Progress: 48%. Estimated remaining time: 34 seconds.\n",
      "Growing trees.. Progress: 95%. Estimated remaining time: 2 seconds.\n",
      "Growing trees.. Progress: 47%. Estimated remaining time: 35 seconds.\n",
      "Growing trees.. Progress: 94%. Estimated remaining time: 4 seconds.\n",
      "Growing trees.. Progress: 45%. Estimated remaining time: 37 seconds.\n",
      "Growing trees.. Progress: 91%. Estimated remaining time: 6 seconds.\n",
      "Growing trees.. Progress: 47%. Estimated remaining time: 34 seconds.\n",
      "Growing trees.. Progress: 94%. Estimated remaining time: 3 seconds.\n",
      "Growing trees.. Progress: 48%. Estimated remaining time: 34 seconds.\n",
      "Growing trees.. Progress: 96%. Estimated remaining time: 2 seconds.\n",
      "20250902 003437\t326\t13\t225\t9\t5\t55596000\t81\n"
     ]
    },
    {
     "name": "stderr",
     "output_type": "stream",
     "text": [
      "[mbo] 65: num.trees=326; max.depth=13; min.node.size=225; mtry=9 : y = 5.56e+07 : 386.8 secs : infill_ei\n",
      "\n",
      "Saved the current state after iteration 66 in the file HT450.RDATA.\n",
      "\n"
     ]
    },
    {
     "name": "stdout",
     "output_type": "stream",
     "text": [
      "Growing trees.. Progress: 25%. Estimated remaining time: 1 minute, 33 seconds.\n",
      "Growing trees.. Progress: 50%. Estimated remaining time: 1 minute, 1 seconds.\n",
      "Growing trees.. Progress: 76%. Estimated remaining time: 29 seconds.\n",
      "Growing trees.. Progress: 99%. Estimated remaining time: 0 seconds.\n",
      "Growing trees.. Progress: 25%. Estimated remaining time: 1 minute, 33 seconds.\n",
      "Growing trees.. Progress: 50%. Estimated remaining time: 1 minute, 1 seconds.\n",
      "Growing trees.. Progress: 75%. Estimated remaining time: 30 seconds.\n",
      "Growing trees.. Progress: 99%. Estimated remaining time: 1 seconds.\n",
      "Growing trees.. Progress: 25%. Estimated remaining time: 1 minute, 33 seconds.\n",
      "Growing trees.. Progress: 50%. Estimated remaining time: 1 minute, 0 seconds.\n",
      "Growing trees.. Progress: 76%. Estimated remaining time: 29 seconds.\n",
      "Growing trees.. Progress: 99%. Estimated remaining time: 0 seconds.\n",
      "Growing trees.. Progress: 25%. Estimated remaining time: 1 minute, 31 seconds.\n",
      "Growing trees.. Progress: 51%. Estimated remaining time: 1 minute, 0 seconds.\n",
      "Growing trees.. Progress: 76%. Estimated remaining time: 28 seconds.\n",
      "Growing trees.. Progress: 100%. Estimated remaining time: 0 seconds.\n",
      "Growing trees.. Progress: 26%. Estimated remaining time: 1 minute, 30 seconds.\n",
      "Growing trees.. Progress: 51%. Estimated remaining time: 58 seconds.\n",
      "Growing trees.. Progress: 78%. Estimated remaining time: 27 seconds.\n",
      "20250902 004601\t317\t11\t165\t22\t5\t54885000\t82\n"
     ]
    },
    {
     "name": "stderr",
     "output_type": "stream",
     "text": [
      "[mbo] 66: num.trees=317; max.depth=11; min.node.size=165; mtry=22 : y = 5.49e+07 : 679.0 secs : infill_ei\n",
      "\n",
      "Saved the current state after iteration 67 in the file HT450.RDATA.\n",
      "\n"
     ]
    },
    {
     "name": "stdout",
     "output_type": "stream",
     "text": [
      "Growing trees.. Progress: 34%. Estimated remaining time: 1 minute, 1 seconds.\n",
      "Growing trees.. Progress: 67%. Estimated remaining time: 30 seconds.\n",
      "Growing trees.. Progress: 33%. Estimated remaining time: 1 minute, 3 seconds.\n",
      "Growing trees.. Progress: 66%. Estimated remaining time: 32 seconds.\n",
      "Growing trees.. Progress: 98%. Estimated remaining time: 1 seconds.\n",
      "Growing trees.. Progress: 33%. Estimated remaining time: 1 minute, 2 seconds.\n",
      "Growing trees.. Progress: 66%. Estimated remaining time: 31 seconds.\n",
      "Growing trees.. Progress: 99%. Estimated remaining time: 0 seconds.\n",
      "Growing trees.. Progress: 33%. Estimated remaining time: 1 minute, 3 seconds.\n",
      "Growing trees.. Progress: 65%. Estimated remaining time: 32 seconds.\n",
      "Growing trees.. Progress: 98%. Estimated remaining time: 1 seconds.\n",
      "Growing trees.. Progress: 35%. Estimated remaining time: 58 seconds.\n",
      "Growing trees.. Progress: 69%. Estimated remaining time: 27 seconds.\n",
      "20250902 005448\t300\t27\t889\t13\t5\t55821000\t83\n"
     ]
    },
    {
     "name": "stderr",
     "output_type": "stream",
     "text": [
      "[mbo] 67: num.trees=300; max.depth=27; min.node.size=889; mtry=13 : y = 5.58e+07 : 522.5 secs : infill_ei\n",
      "\n"
     ]
    },
    {
     "name": "stdout",
     "output_type": "stream",
     "text": [
      "Growing trees.. Progress: 57%. Estimated remaining time: 23 seconds.\n",
      "Growing trees.. Progress: 57%. Estimated remaining time: 23 seconds.\n",
      "Growing trees.. Progress: 57%. Estimated remaining time: 23 seconds.\n",
      "Growing trees.. Progress: 58%. Estimated remaining time: 22 seconds.\n",
      "Growing trees.. Progress: 58%. Estimated remaining time: 22 seconds.\n",
      "20250902 010006\t293\t10\t1\t11\t5\t54891000\t84\n"
     ]
    },
    {
     "name": "stderr",
     "output_type": "stream",
     "text": [
      "[mbo] 68: num.trees=293; max.depth=10; min.node.size=1; mtry=11 : y = 5.49e+07 : 316.0 secs : infill_ei\n",
      "\n",
      "Saved the current state after iteration 69 in the file HT450.RDATA.\n",
      "\n"
     ]
    },
    {
     "name": "stdout",
     "output_type": "stream",
     "text": [
      "Growing trees.. Progress: 34%. Estimated remaining time: 59 seconds.\n",
      "Growing trees.. Progress: 69%. Estimated remaining time: 27 seconds.\n",
      "Growing trees.. Progress: 34%. Estimated remaining time: 1 minute, 0 seconds.\n",
      "Growing trees.. Progress: 68%. Estimated remaining time: 29 seconds.\n",
      "Growing trees.. Progress: 99%. Estimated remaining time: 0 seconds.\n",
      "Growing trees.. Progress: 34%. Estimated remaining time: 1 minute, 0 seconds.\n",
      "Growing trees.. Progress: 69%. Estimated remaining time: 28 seconds.\n",
      "Growing trees.. Progress: 33%. Estimated remaining time: 1 minute, 2 seconds.\n",
      "Growing trees.. Progress: 67%. Estimated remaining time: 30 seconds.\n",
      "Growing trees.. Progress: 100%. Estimated remaining time: 0 seconds.\n",
      "Growing trees.. Progress: 35%. Estimated remaining time: 57 seconds.\n",
      "Growing trees.. Progress: 70%. Estimated remaining time: 26 seconds.\n",
      "20250902 010853\t327\t16\t226\t11\t5\t55581000\t85\n"
     ]
    },
    {
     "name": "stderr",
     "output_type": "stream",
     "text": [
      "[mbo] 69: num.trees=327; max.depth=16; min.node.size=226; mtry=11 : y = 5.56e+07 : 523.1 secs : infill_ei\n",
      "\n"
     ]
    },
    {
     "name": "stdout",
     "output_type": "stream",
     "text": [
      "Growing trees.. Progress: 27%. Estimated remaining time: 1 minute, 23 seconds.\n",
      "Growing trees.. Progress: 54%. Estimated remaining time: 52 seconds.\n",
      "Growing trees.. Progress: 81%. Estimated remaining time: 21 seconds.\n",
      "Growing trees.. Progress: 26%. Estimated remaining time: 1 minute, 30 seconds.\n",
      "Growing trees.. Progress: 52%. Estimated remaining time: 57 seconds.\n",
      "Growing trees.. Progress: 78%. Estimated remaining time: 26 seconds.\n",
      "Growing trees.. Progress: 26%. Estimated remaining time: 1 minute, 26 seconds.\n",
      "Growing trees.. Progress: 53%. Estimated remaining time: 54 seconds.\n",
      "Growing trees.. Progress: 80%. Estimated remaining time: 23 seconds.\n",
      "Growing trees.. Progress: 26%. Estimated remaining time: 1 minute, 27 seconds.\n",
      "Growing trees.. Progress: 52%. Estimated remaining time: 56 seconds.\n",
      "Growing trees.. Progress: 79%. Estimated remaining time: 25 seconds.\n",
      "Growing trees.. Progress: 27%. Estimated remaining time: 1 minute, 23 seconds.\n",
      "Growing trees.. Progress: 54%. Estimated remaining time: 51 seconds.\n",
      "Growing trees.. Progress: 82%. Estimated remaining time: 20 seconds.\n",
      "20250902 012009\t500\t16\t874\t10\t5\t54549000\t86\n"
     ]
    },
    {
     "name": "stderr",
     "output_type": "stream",
     "text": [
      "[mbo] 70: num.trees=500; max.depth=16; min.node.size=874; mtry=10 : y = 5.45e+07 : 674.7 secs : infill_ei\n",
      "\n",
      "Saved the current state after iteration 71 in the file HT450.RDATA.\n",
      "\n"
     ]
    },
    {
     "name": "stdout",
     "output_type": "stream",
     "text": [
      "Growing trees.. Progress: 12%. Estimated remaining time: 3 minutes, 43 seconds.\n",
      "Growing trees.. Progress: 24%. Estimated remaining time: 3 minutes, 17 seconds.\n",
      "Growing trees.. Progress: 36%. Estimated remaining time: 2 minutes, 45 seconds.\n",
      "Growing trees.. Progress: 48%. Estimated remaining time: 2 minutes, 14 seconds.\n",
      "Growing trees.. Progress: 60%. Estimated remaining time: 1 minute, 44 seconds.\n",
      "Growing trees.. Progress: 72%. Estimated remaining time: 1 minute, 12 seconds.\n",
      "Growing trees.. Progress: 84%. Estimated remaining time: 41 seconds.\n",
      "Growing trees.. Progress: 96%. Estimated remaining time: 9 seconds.\n",
      "Growing trees.. Progress: 12%. Estimated remaining time: 3 minutes, 47 seconds.\n",
      "Growing trees.. Progress: 24%. Estimated remaining time: 3 minutes, 14 seconds.\n",
      "Growing trees.. Progress: 36%. Estimated remaining time: 2 minutes, 42 seconds.\n",
      "Growing trees.. Progress: 48%. Estimated remaining time: 2 minutes, 13 seconds.\n",
      "Growing trees.. Progress: 60%. Estimated remaining time: 1 minute, 43 seconds.\n",
      "Growing trees.. Progress: 72%. Estimated remaining time: 1 minute, 12 seconds.\n",
      "Growing trees.. Progress: 85%. Estimated remaining time: 39 seconds.\n",
      "Growing trees.. Progress: 97%. Estimated remaining time: 8 seconds.\n",
      "Growing trees.. Progress: 12%. Estimated remaining time: 3 minutes, 51 seconds.\n",
      "Growing trees.. Progress: 24%. Estimated remaining time: 3 minutes, 18 seconds.\n",
      "Growing trees.. Progress: 36%. Estimated remaining time: 2 minutes, 46 seconds.\n",
      "Growing trees.. Progress: 48%. Estimated remaining time: 2 minutes, 17 seconds.\n",
      "Growing trees.. Progress: 60%. Estimated remaining time: 1 minute, 45 seconds.\n",
      "Growing trees.. Progress: 72%. Estimated remaining time: 1 minute, 14 seconds.\n",
      "Growing trees.. Progress: 83%. Estimated remaining time: 43 seconds.\n",
      "Growing trees.. Progress: 95%. Estimated remaining time: 12 seconds.\n",
      "Growing trees.. Progress: 12%. Estimated remaining time: 3 minutes, 43 seconds.\n",
      "Growing trees.. Progress: 24%. Estimated remaining time: 3 minutes, 14 seconds.\n",
      "Growing trees.. Progress: 36%. Estimated remaining time: 2 minutes, 44 seconds.\n",
      "Growing trees.. Progress: 48%. Estimated remaining time: 2 minutes, 13 seconds.\n",
      "Growing trees.. Progress: 61%. Estimated remaining time: 1 minute, 42 seconds.\n",
      "Growing trees.. Progress: 73%. Estimated remaining time: 1 minute, 10 seconds.\n",
      "Growing trees.. Progress: 85%. Estimated remaining time: 39 seconds.\n",
      "Growing trees.. Progress: 97%. Estimated remaining time: 8 seconds.\n",
      "Growing trees.. Progress: 12%. Estimated remaining time: 3 minutes, 47 seconds.\n",
      "Growing trees.. Progress: 24%. Estimated remaining time: 3 minutes, 14 seconds.\n",
      "Growing trees.. Progress: 36%. Estimated remaining time: 2 minutes, 45 seconds.\n",
      "Growing trees.. Progress: 48%. Estimated remaining time: 2 minutes, 15 seconds.\n",
      "Growing trees.. Progress: 60%. Estimated remaining time: 1 minute, 44 seconds.\n",
      "Growing trees.. Progress: 72%. Estimated remaining time: 1 minute, 12 seconds.\n",
      "Growing trees.. Progress: 84%. Estimated remaining time: 40 seconds.\n",
      "Growing trees.. Progress: 96%. Estimated remaining time: 9 seconds.\n",
      "20250902 014253\t500\t10\t365\t37\t5\t54513000\t87\n"
     ]
    },
    {
     "name": "stderr",
     "output_type": "stream",
     "text": [
      "[mbo] 71: num.trees=500; max.depth=10; min.node.size=365; mtry=37 : y = 5.45e+07 : 1359.9 secs : infill_ei\n",
      "\n",
      "Saved the current state after iteration 72 in the file HT450.RDATA.\n",
      "\n"
     ]
    },
    {
     "name": "stdout",
     "output_type": "stream",
     "text": [
      "Growing trees.. Progress: 11%. Estimated remaining time: 4 minutes, 11 seconds.\n",
      "Growing trees.. Progress: 22%. Estimated remaining time: 3 minutes, 40 seconds.\n",
      "Growing trees.. Progress: 34%. Estimated remaining time: 3 minutes, 10 seconds.\n",
      "Growing trees.. Progress: 45%. Estimated remaining time: 2 minutes, 36 seconds.\n",
      "Growing trees.. Progress: 56%. Estimated remaining time: 2 minutes, 4 seconds.\n",
      "Growing trees.. Progress: 67%. Estimated remaining time: 1 minute, 32 seconds.\n",
      "Growing trees.. Progress: 78%. Estimated remaining time: 1 minute, 1 seconds.\n",
      "Growing trees.. Progress: 89%. Estimated remaining time: 30 seconds.\n",
      "Growing trees.. Progress: 100%. Estimated remaining time: 0 seconds.\n",
      "Growing trees.. Progress: 11%. Estimated remaining time: 4 minutes, 19 seconds.\n",
      "Growing trees.. Progress: 22%. Estimated remaining time: 3 minutes, 44 seconds.\n",
      "Growing trees.. Progress: 33%. Estimated remaining time: 3 minutes, 13 seconds.\n",
      "Growing trees.. Progress: 44%. Estimated remaining time: 2 minutes, 41 seconds.\n",
      "Growing trees.. Progress: 55%. Estimated remaining time: 2 minutes, 10 seconds.\n",
      "Growing trees.. Progress: 66%. Estimated remaining time: 1 minute, 39 seconds.\n",
      "Growing trees.. Progress: 77%. Estimated remaining time: 1 minute, 7 seconds.\n",
      "Growing trees.. Progress: 88%. Estimated remaining time: 35 seconds.\n",
      "Growing trees.. Progress: 98%. Estimated remaining time: 5 seconds.\n",
      "Growing trees.. Progress: 11%. Estimated remaining time: 4 minutes, 19 seconds.\n",
      "Growing trees.. Progress: 22%. Estimated remaining time: 3 minutes, 48 seconds.\n",
      "Growing trees.. Progress: 33%. Estimated remaining time: 3 minutes, 14 seconds.\n",
      "Growing trees.. Progress: 44%. Estimated remaining time: 2 minutes, 43 seconds.\n",
      "Growing trees.. Progress: 55%. Estimated remaining time: 2 minutes, 10 seconds.\n",
      "Growing trees.. Progress: 66%. Estimated remaining time: 1 minute, 39 seconds.\n",
      "Growing trees.. Progress: 77%. Estimated remaining time: 1 minute, 7 seconds.\n",
      "Growing trees.. Progress: 88%. Estimated remaining time: 35 seconds.\n",
      "Growing trees.. Progress: 98%. Estimated remaining time: 4 seconds.\n",
      "Growing trees.. Progress: 11%. Estimated remaining time: 4 minutes, 19 seconds.\n",
      "Growing trees.. Progress: 22%. Estimated remaining time: 3 minutes, 44 seconds.\n",
      "Growing trees.. Progress: 33%. Estimated remaining time: 3 minutes, 11 seconds.\n",
      "Growing trees.. Progress: 44%. Estimated remaining time: 2 minutes, 39 seconds.\n",
      "Growing trees.. Progress: 55%. Estimated remaining time: 2 minutes, 7 seconds.\n",
      "Growing trees.. Progress: 66%. Estimated remaining time: 1 minute, 37 seconds.\n",
      "Growing trees.. Progress: 77%. Estimated remaining time: 1 minute, 6 seconds.\n",
      "Growing trees.. Progress: 88%. Estimated remaining time: 34 seconds.\n",
      "Growing trees.. Progress: 99%. Estimated remaining time: 3 seconds.\n",
      "Growing trees.. Progress: 11%. Estimated remaining time: 4 minutes, 19 seconds.\n",
      "Growing trees.. Progress: 22%. Estimated remaining time: 3 minutes, 48 seconds.\n",
      "Growing trees.. Progress: 33%. Estimated remaining time: 3 minutes, 14 seconds.\n",
      "Growing trees.. Progress: 44%. Estimated remaining time: 2 minutes, 43 seconds.\n",
      "Growing trees.. Progress: 55%. Estimated remaining time: 2 minutes, 9 seconds.\n",
      "Growing trees.. Progress: 66%. Estimated remaining time: 1 minute, 38 seconds.\n",
      "Growing trees.. Progress: 77%. Estimated remaining time: 1 minute, 6 seconds.\n",
      "Growing trees.. Progress: 88%. Estimated remaining time: 35 seconds.\n",
      "Growing trees.. Progress: 99%. Estimated remaining time: 3 seconds.\n",
      "20250902 020749\t328\t12\t198\t50\t5\t55329000\t88\n"
     ]
    },
    {
     "name": "stderr",
     "output_type": "stream",
     "text": [
      "[mbo] 72: num.trees=328; max.depth=12; min.node.size=198; mtry=50 : y = 5.53e+07 : 1490.4 secs : infill_ei\n",
      "\n",
      "Saved the current state after iteration 73 in the file HT450.RDATA.\n",
      "\n"
     ]
    },
    {
     "name": "stdout",
     "output_type": "stream",
     "text": [
      "Growing trees.. Progress: 15%. Estimated remaining time: 2 minutes, 50 seconds.\n",
      "Growing trees.. Progress: 31%. Estimated remaining time: 2 minutes, 19 seconds.\n",
      "Growing trees.. Progress: 47%. Estimated remaining time: 1 minute, 47 seconds.\n",
      "Growing trees.. Progress: 62%. Estimated remaining time: 1 minute, 16 seconds.\n",
      "Growing trees.. Progress: 78%. Estimated remaining time: 44 seconds.\n",
      "Growing trees.. Progress: 93%. Estimated remaining time: 13 seconds.\n",
      "Growing trees.. Progress: 15%. Estimated remaining time: 2 minutes, 50 seconds.\n",
      "Growing trees.. Progress: 31%. Estimated remaining time: 2 minutes, 19 seconds.\n",
      "Growing trees.. Progress: 47%. Estimated remaining time: 1 minute, 46 seconds.\n",
      "Growing trees.. Progress: 63%. Estimated remaining time: 1 minute, 15 seconds.\n",
      "Growing trees.. Progress: 78%. Estimated remaining time: 43 seconds.\n",
      "Growing trees.. Progress: 94%. Estimated remaining time: 11 seconds.\n",
      "Growing trees.. Progress: 15%. Estimated remaining time: 2 minutes, 54 seconds.\n",
      "Growing trees.. Progress: 30%. Estimated remaining time: 2 minutes, 23 seconds.\n",
      "Growing trees.. Progress: 46%. Estimated remaining time: 1 minute, 49 seconds.\n",
      "Growing trees.. Progress: 61%. Estimated remaining time: 1 minute, 18 seconds.\n",
      "Growing trees.. Progress: 77%. Estimated remaining time: 47 seconds.\n",
      "Growing trees.. Progress: 92%. Estimated remaining time: 15 seconds.\n",
      "Growing trees.. Progress: 15%. Estimated remaining time: 2 minutes, 50 seconds.\n",
      "Growing trees.. Progress: 31%. Estimated remaining time: 2 minutes, 19 seconds.\n",
      "Growing trees.. Progress: 47%. Estimated remaining time: 1 minute, 47 seconds.\n",
      "Growing trees.. Progress: 63%. Estimated remaining time: 1 minute, 15 seconds.\n",
      "Growing trees.. Progress: 78%. Estimated remaining time: 43 seconds.\n",
      "Growing trees.. Progress: 94%. Estimated remaining time: 11 seconds.\n",
      "Growing trees.. Progress: 15%. Estimated remaining time: 2 minutes, 50 seconds.\n",
      "Growing trees.. Progress: 31%. Estimated remaining time: 2 minutes, 16 seconds.\n",
      "Growing trees.. Progress: 47%. Estimated remaining time: 1 minute, 46 seconds.\n",
      "Growing trees.. Progress: 62%. Estimated remaining time: 1 minute, 16 seconds.\n",
      "Growing trees.. Progress: 78%. Estimated remaining time: 44 seconds.\n",
      "Growing trees.. Progress: 94%. Estimated remaining time: 12 seconds.\n",
      "20250902 022527\t292\t10\t431\t50\t5\t54708000\t89\n"
     ]
    },
    {
     "name": "stderr",
     "output_type": "stream",
     "text": [
      "[mbo] 73: num.trees=292; max.depth=10; min.node.size=431; mtry=50 : y = 5.47e+07 : 1053.0 secs : infill_ei\n",
      "\n",
      "Saved the current state after iteration 74 in the file HT450.RDATA.\n",
      "\n"
     ]
    },
    {
     "name": "stdout",
     "output_type": "stream",
     "text": [
      "Growing trees.. Progress: 11%. Estimated remaining time: 4 minutes, 8 seconds.\n",
      "Growing trees.. Progress: 23%. Estimated remaining time: 3 minutes, 30 seconds.\n",
      "Growing trees.. Progress: 34%. Estimated remaining time: 2 minutes, 59 seconds.\n",
      "Growing trees.. Progress: 46%. Estimated remaining time: 2 minutes, 28 seconds.\n",
      "Growing trees.. Progress: 57%. Estimated remaining time: 1 minute, 57 seconds.\n",
      "Growing trees.. Progress: 69%. Estimated remaining time: 1 minute, 25 seconds.\n",
      "Growing trees.. Progress: 80%. Estimated remaining time: 55 seconds.\n",
      "Growing trees.. Progress: 91%. Estimated remaining time: 23 seconds.\n",
      "Growing trees.. Progress: 100%. Estimated remaining time: 0 seconds.\n",
      "Growing trees.. Progress: 11%. Estimated remaining time: 4 minutes, 8 seconds.\n",
      "Growing trees.. Progress: 22%. Estimated remaining time: 3 minutes, 33 seconds.\n",
      "Growing trees.. Progress: 34%. Estimated remaining time: 3 minutes, 3 seconds.\n",
      "Growing trees.. Progress: 46%. Estimated remaining time: 2 minutes, 30 seconds.\n",
      "Growing trees.. Progress: 57%. Estimated remaining time: 1 minute, 59 seconds.\n",
      "Growing trees.. Progress: 68%. Estimated remaining time: 1 minute, 27 seconds.\n",
      "Growing trees.. Progress: 79%. Estimated remaining time: 56 seconds.\n",
      "Growing trees.. Progress: 91%. Estimated remaining time: 25 seconds.\n",
      "Growing trees.. Progress: 100%. Estimated remaining time: 0 seconds.\n",
      "Growing trees.. Progress: 11%. Estimated remaining time: 4 minutes, 8 seconds.\n",
      "Growing trees.. Progress: 22%. Estimated remaining time: 3 minutes, 37 seconds.\n",
      "Growing trees.. Progress: 34%. Estimated remaining time: 3 minutes, 3 seconds.\n",
      "Growing trees.. Progress: 45%. Estimated remaining time: 2 minutes, 33 seconds.\n",
      "Growing trees.. Progress: 56%. Estimated remaining time: 2 minutes, 1 seconds.\n",
      "Growing trees.. Progress: 67%. Estimated remaining time: 1 minute, 30 seconds.\n",
      "Growing trees.. Progress: 79%. Estimated remaining time: 58 seconds.\n",
      "Growing trees.. Progress: 90%. Estimated remaining time: 27 seconds.\n",
      "Growing trees.. Progress: 99%. Estimated remaining time: 3 seconds.\n",
      "Growing trees.. Progress: 11%. Estimated remaining time: 4 minutes, 1 seconds.\n",
      "Growing trees.. Progress: 23%. Estimated remaining time: 3 minutes, 30 seconds.\n",
      "Growing trees.. Progress: 35%. Estimated remaining time: 2 minutes, 59 seconds.\n",
      "Growing trees.. Progress: 46%. Estimated remaining time: 2 minutes, 27 seconds.\n",
      "Growing trees.. Progress: 58%. Estimated remaining time: 1 minute, 55 seconds.\n",
      "Growing trees.. Progress: 69%. Estimated remaining time: 1 minute, 24 seconds.\n",
      "Growing trees.. Progress: 81%. Estimated remaining time: 52 seconds.\n",
      "Growing trees.. Progress: 92%. Estimated remaining time: 21 seconds.\n",
      "Growing trees.. Progress: 100%. Estimated remaining time: 0 seconds.\n",
      "Growing trees.. Progress: 11%. Estimated remaining time: 4 minutes, 8 seconds.\n",
      "Growing trees.. Progress: 23%. Estimated remaining time: 3 minutes, 33 seconds.\n",
      "Growing trees.. Progress: 34%. Estimated remaining time: 2 minutes, 59 seconds.\n",
      "Growing trees.. Progress: 46%. Estimated remaining time: 2 minutes, 27 seconds.\n",
      "Growing trees.. Progress: 57%. Estimated remaining time: 1 minute, 56 seconds.\n",
      "Growing trees.. Progress: 69%. Estimated remaining time: 1 minute, 25 seconds.\n",
      "Growing trees.. Progress: 80%. Estimated remaining time: 54 seconds.\n",
      "Growing trees.. Progress: 92%. Estimated remaining time: 22 seconds.\n",
      "Growing trees.. Progress: 100%. Estimated remaining time: 0 seconds.\n",
      "20250902 025009\t378\t10\t17\t50\t5\t55074000\t90\n"
     ]
    },
    {
     "name": "stderr",
     "output_type": "stream",
     "text": [
      "[mbo] 74: num.trees=378; max.depth=10; min.node.size=17; mtry=50 : y = 5.51e+07 : 1475.0 secs : infill_ei\n",
      "\n",
      "Saved the current state after iteration 75 in the file HT450.RDATA.\n",
      "\n"
     ]
    },
    {
     "name": "stdout",
     "output_type": "stream",
     "text": [
      "Growing trees.. Progress: 65%. Estimated remaining time: 16 seconds.\n",
      "Growing trees.. Progress: 64%. Estimated remaining time: 17 seconds.\n",
      "Growing trees.. Progress: 64%. Estimated remaining time: 17 seconds.\n",
      "Growing trees.. Progress: 64%. Estimated remaining time: 17 seconds.\n",
      "Growing trees.. Progress: 66%. Estimated remaining time: 16 seconds.\n",
      "20250902 025508\t299\t16\t271\t6\t5\t55215000\t91\n"
     ]
    },
    {
     "name": "stderr",
     "output_type": "stream",
     "text": [
      "[mbo] 75: num.trees=299; max.depth=16; min.node.size=271; mtry=6 : y = 5.52e+07 : 294.3 secs : infill_ei\n",
      "\n"
     ]
    },
    {
     "name": "stdout",
     "output_type": "stream",
     "text": [
      "Growing trees.. Progress: 28%. Estimated remaining time: 1 minute, 21 seconds.\n",
      "Growing trees.. Progress: 55%. Estimated remaining time: 50 seconds.\n",
      "Growing trees.. Progress: 83%. Estimated remaining time: 18 seconds.\n",
      "Growing trees.. Progress: 26%. Estimated remaining time: 1 minute, 27 seconds.\n",
      "Growing trees.. Progress: 54%. Estimated remaining time: 53 seconds.\n",
      "Growing trees.. Progress: 80%. Estimated remaining time: 22 seconds.\n",
      "Growing trees.. Progress: 27%. Estimated remaining time: 1 minute, 22 seconds.\n",
      "Growing trees.. Progress: 54%. Estimated remaining time: 51 seconds.\n",
      "Growing trees.. Progress: 81%. Estimated remaining time: 21 seconds.\n",
      "Growing trees.. Progress: 25%. Estimated remaining time: 1 minute, 31 seconds.\n",
      "Growing trees.. Progress: 51%. Estimated remaining time: 59 seconds.\n",
      "Growing trees.. Progress: 77%. Estimated remaining time: 27 seconds.\n",
      "Growing trees.. Progress: 28%. Estimated remaining time: 1 minute, 19 seconds.\n",
      "Growing trees.. Progress: 56%. Estimated remaining time: 48 seconds.\n",
      "Growing trees.. Progress: 83%. Estimated remaining time: 18 seconds.\n",
      "20250902 030543\t340\t26\t910\t14\t5\t55311000\t92\n"
     ]
    },
    {
     "name": "stderr",
     "output_type": "stream",
     "text": [
      "[mbo] 76: num.trees=340; max.depth=26; min.node.size=910; mtry=14 : y = 5.53e+07 : 633.7 secs : infill_ei\n",
      "\n",
      "Saved the current state after iteration 77 in the file HT450.RDATA.\n",
      "\n"
     ]
    },
    {
     "name": "stdout",
     "output_type": "stream",
     "text": [
      "Growing trees.. Progress: 25%. Estimated remaining time: 1 minute, 31 seconds.\n",
      "Growing trees.. Progress: 51%. Estimated remaining time: 1 minute, 0 seconds.\n",
      "Growing trees.. Progress: 76%. Estimated remaining time: 29 seconds.\n",
      "Growing trees.. Progress: 23%. Estimated remaining time: 1 minute, 42 seconds.\n",
      "Growing trees.. Progress: 46%. Estimated remaining time: 1 minute, 14 seconds.\n",
      "Growing trees.. Progress: 66%. Estimated remaining time: 47 seconds.\n",
      "Growing trees.. Progress: 89%. Estimated remaining time: 14 seconds.\n",
      "Growing trees.. Progress: 24%. Estimated remaining time: 1 minute, 38 seconds.\n",
      "Growing trees.. Progress: 49%. Estimated remaining time: 1 minute, 5 seconds.\n",
      "Growing trees.. Progress: 73%. Estimated remaining time: 34 seconds.\n",
      "Growing trees.. Progress: 98%. Estimated remaining time: 2 seconds.\n",
      "Growing trees.. Progress: 24%. Estimated remaining time: 1 minute, 38 seconds.\n",
      "Growing trees.. Progress: 48%. Estimated remaining time: 1 minute, 6 seconds.\n",
      "Growing trees.. Progress: 72%. Estimated remaining time: 35 seconds.\n",
      "Growing trees.. Progress: 97%. Estimated remaining time: 3 seconds.\n",
      "Growing trees.. Progress: 25%. Estimated remaining time: 1 minute, 35 seconds.\n",
      "Growing trees.. Progress: 50%. Estimated remaining time: 1 minute, 1 seconds.\n",
      "Growing trees.. Progress: 76%. Estimated remaining time: 29 seconds.\n",
      "20250902 031734\t301\t28\t858\t17\t5\t54711000\t93\n"
     ]
    },
    {
     "name": "stderr",
     "output_type": "stream",
     "text": [
      "[mbo] 77: num.trees=301; max.depth=28; min.node.size=858; mtry=17 : y = 5.47e+07 : 706.0 secs : infill_ei\n",
      "\n",
      "Saved the current state after iteration 78 in the file HT450.RDATA.\n",
      "\n",
      "Warning message in generateDesign(control$infill.opt.focussearch.points, ps.local, :\n",
      "“generateDesign could only produce 981 points instead of 1000!”\n",
      "Warning message in generateDesign(control$infill.opt.focussearch.points, ps.local, :\n",
      "“generateDesign could only produce 894 points instead of 1000!”\n"
     ]
    },
    {
     "name": "stdout",
     "output_type": "stream",
     "text": [
      "Growing trees.. Progress: 42%. Estimated remaining time: 42 seconds.\n",
      "Growing trees.. Progress: 85%. Estimated remaining time: 11 seconds.\n",
      "Growing trees.. Progress: 40%. Estimated remaining time: 45 seconds.\n",
      "Growing trees.. Progress: 81%. Estimated remaining time: 14 seconds.\n",
      "Growing trees.. Progress: 42%. Estimated remaining time: 43 seconds.\n",
      "Growing trees.. Progress: 83%. Estimated remaining time: 12 seconds.\n",
      "Growing trees.. Progress: 40%. Estimated remaining time: 45 seconds.\n",
      "Growing trees.. Progress: 82%. Estimated remaining time: 13 seconds.\n",
      "Growing trees.. Progress: 42%. Estimated remaining time: 42 seconds.\n",
      "Growing trees.. Progress: 86%. Estimated remaining time: 10 seconds.\n",
      "20250902 032451\t312\t30\t967\t10\t5\t54324000\t94\n"
     ]
    },
    {
     "name": "stderr",
     "output_type": "stream",
     "text": [
      "[mbo] 78: num.trees=312; max.depth=30; min.node.size=967; mtry=10 : y = 5.43e+07 : 428.7 secs : infill_ei\n",
      "\n"
     ]
    },
    {
     "name": "stdout",
     "output_type": "stream",
     "text": [
      "Growing trees.. Progress: 14%. Estimated remaining time: 3 minutes, 16 seconds.\n",
      "Growing trees.. Progress: 28%. Estimated remaining time: 2 minutes, 40 seconds.\n",
      "Growing trees.. Progress: 42%. Estimated remaining time: 2 minutes, 9 seconds.\n",
      "Growing trees.. Progress: 56%. Estimated remaining time: 1 minute, 38 seconds.\n",
      "Growing trees.. Progress: 70%. Estimated remaining time: 1 minute, 5 seconds.\n",
      "Growing trees.. Progress: 84%. Estimated remaining time: 35 seconds.\n",
      "Growing trees.. Progress: 98%. Estimated remaining time: 3 seconds.\n",
      "Growing trees.. Progress: 14%. Estimated remaining time: 3 minutes, 16 seconds.\n",
      "Growing trees.. Progress: 27%. Estimated remaining time: 2 minutes, 45 seconds.\n",
      "Growing trees.. Progress: 41%. Estimated remaining time: 2 minutes, 16 seconds.\n",
      "Growing trees.. Progress: 54%. Estimated remaining time: 1 minute, 47 seconds.\n",
      "Growing trees.. Progress: 67%. Estimated remaining time: 1 minute, 17 seconds.\n",
      "Growing trees.. Progress: 79%. Estimated remaining time: 49 seconds.\n",
      "Growing trees.. Progress: 93%. Estimated remaining time: 17 seconds.\n",
      "Growing trees.. Progress: 14%. Estimated remaining time: 3 minutes, 16 seconds.\n",
      "Growing trees.. Progress: 28%. Estimated remaining time: 2 minutes, 43 seconds.\n",
      "Growing trees.. Progress: 42%. Estimated remaining time: 2 minutes, 10 seconds.\n",
      "Growing trees.. Progress: 56%. Estimated remaining time: 1 minute, 38 seconds.\n",
      "Growing trees.. Progress: 70%. Estimated remaining time: 1 minute, 8 seconds.\n",
      "Growing trees.. Progress: 84%. Estimated remaining time: 36 seconds.\n",
      "Growing trees.. Progress: 98%. Estimated remaining time: 4 seconds.\n",
      "Growing trees.. Progress: 13%. Estimated remaining time: 3 minutes, 21 seconds.\n",
      "Growing trees.. Progress: 27%. Estimated remaining time: 2 minutes, 48 seconds.\n",
      "Growing trees.. Progress: 41%. Estimated remaining time: 2 minutes, 17 seconds.\n",
      "Growing trees.. Progress: 54%. Estimated remaining time: 1 minute, 45 seconds.\n",
      "Growing trees.. Progress: 68%. Estimated remaining time: 1 minute, 13 seconds.\n",
      "Growing trees.. Progress: 81%. Estimated remaining time: 42 seconds.\n",
      "Growing trees.. Progress: 95%. Estimated remaining time: 10 seconds.\n",
      "Growing trees.. Progress: 14%. Estimated remaining time: 3 minutes, 16 seconds.\n",
      "Growing trees.. Progress: 28%. Estimated remaining time: 2 minutes, 43 seconds.\n",
      "Growing trees.. Progress: 42%. Estimated remaining time: 2 minutes, 9 seconds.\n",
      "Growing trees.. Progress: 57%. Estimated remaining time: 1 minute, 36 seconds.\n",
      "Growing trees.. Progress: 71%. Estimated remaining time: 1 minute, 4 seconds.\n",
      "Growing trees.. Progress: 85%. Estimated remaining time: 33 seconds.\n",
      "Growing trees.. Progress: 99%. Estimated remaining time: 1 seconds.\n",
      "20250902 034450\t323\t22\t833\t28\t5\t54102000\t95\n"
     ]
    },
    {
     "name": "stderr",
     "output_type": "stream",
     "text": [
      "[mbo] 79: num.trees=323; max.depth=22; min.node.size=833; mtry=28 : y = 5.41e+07 : 1198.1 secs : infill_ei\n",
      "\n",
      "Saved the current state after iteration 80 in the file HT450.RDATA.\n",
      "\n"
     ]
    },
    {
     "name": "stdout",
     "output_type": "stream",
     "text": [
      "Growing trees.. Progress: 43%. Estimated remaining time: 41 seconds.\n",
      "Growing trees.. Progress: 87%. Estimated remaining time: 9 seconds.\n",
      "Growing trees.. Progress: 42%. Estimated remaining time: 42 seconds.\n",
      "Growing trees.. Progress: 84%. Estimated remaining time: 11 seconds.\n",
      "Growing trees.. Progress: 43%. Estimated remaining time: 41 seconds.\n",
      "Growing trees.. Progress: 86%. Estimated remaining time: 10 seconds.\n",
      "Growing trees.. Progress: 42%. Estimated remaining time: 42 seconds.\n",
      "Growing trees.. Progress: 85%. Estimated remaining time: 11 seconds.\n",
      "Growing trees.. Progress: 44%. Estimated remaining time: 40 seconds.\n",
      "Growing trees.. Progress: 88%. Estimated remaining time: 8 seconds.\n",
      "20250902 035152\t312\t18\t315\t9\t5\t55068000\t96\n"
     ]
    },
    {
     "name": "stderr",
     "output_type": "stream",
     "text": [
      "[mbo] 80: num.trees=312; max.depth=18; min.node.size=315; mtry=9 : y = 5.51e+07 : 418.2 secs : infill_ei\n",
      "\n"
     ]
    },
    {
     "name": "stdout",
     "output_type": "stream",
     "text": [
      "Growing trees.. Progress: 30%. Estimated remaining time: 1 minute, 11 seconds.\n",
      "Growing trees.. Progress: 61%. Estimated remaining time: 40 seconds.\n",
      "Growing trees.. Progress: 92%. Estimated remaining time: 8 seconds.\n",
      "Growing trees.. Progress: 30%. Estimated remaining time: 1 minute, 11 seconds.\n",
      "Growing trees.. Progress: 60%. Estimated remaining time: 40 seconds.\n",
      "Growing trees.. Progress: 90%. Estimated remaining time: 9 seconds.\n",
      "Growing trees.. Progress: 30%. Estimated remaining time: 1 minute, 11 seconds.\n",
      "Growing trees.. Progress: 61%. Estimated remaining time: 40 seconds.\n",
      "Growing trees.. Progress: 91%. Estimated remaining time: 8 seconds.\n",
      "Growing trees.. Progress: 30%. Estimated remaining time: 1 minute, 13 seconds.\n",
      "Growing trees.. Progress: 60%. Estimated remaining time: 41 seconds.\n",
      "Growing trees.. Progress: 90%. Estimated remaining time: 9 seconds.\n",
      "Growing trees.. Progress: 31%. Estimated remaining time: 1 minute, 8 seconds.\n",
      "Growing trees.. Progress: 62%. Estimated remaining time: 37 seconds.\n",
      "Growing trees.. Progress: 93%. Estimated remaining time: 6 seconds.\n",
      "20250902 040124\t343\t15\t351\t13\t5\t54750000\t97\n"
     ]
    },
    {
     "name": "stderr",
     "output_type": "stream",
     "text": [
      "[mbo] 81: num.trees=343; max.depth=15; min.node.size=351; mtry=13 : y = 5.48e+07 : 569.7 secs : infill_ei\n",
      "\n",
      "Saved the current state after iteration 82 in the file HT450.RDATA.\n",
      "\n",
      "Warning message in generateDesign(control$infill.opt.focussearch.points, ps.local, :\n",
      "“generateDesign could only produce 978 points instead of 1000!”\n"
     ]
    },
    {
     "name": "stdout",
     "output_type": "stream",
     "text": [
      "Growing trees.. Progress: 17%. Estimated remaining time: 2 minutes, 26 seconds.\n",
      "Growing trees.. Progress: 35%. Estimated remaining time: 1 minute, 56 seconds.\n",
      "Growing trees.. Progress: 52%. Estimated remaining time: 1 minute, 24 seconds.\n",
      "Growing trees.. Progress: 70%. Estimated remaining time: 53 seconds.\n",
      "Growing trees.. Progress: 87%. Estimated remaining time: 22 seconds.\n",
      "Growing trees.. Progress: 17%. Estimated remaining time: 2 minutes, 30 seconds.\n",
      "Growing trees.. Progress: 34%. Estimated remaining time: 1 minute, 57 seconds.\n",
      "Growing trees.. Progress: 52%. Estimated remaining time: 1 minute, 26 seconds.\n",
      "Growing trees.. Progress: 69%. Estimated remaining time: 55 seconds.\n",
      "Growing trees.. Progress: 87%. Estimated remaining time: 24 seconds.\n",
      "Growing trees.. Progress: 18%. Estimated remaining time: 2 minutes, 24 seconds.\n",
      "Growing trees.. Progress: 35%. Estimated remaining time: 1 minute, 53 seconds.\n",
      "Growing trees.. Progress: 53%. Estimated remaining time: 1 minute, 22 seconds.\n",
      "Growing trees.. Progress: 71%. Estimated remaining time: 51 seconds.\n",
      "Growing trees.. Progress: 88%. Estimated remaining time: 20 seconds.\n",
      "Growing trees.. Progress: 18%. Estimated remaining time: 2 minutes, 24 seconds.\n",
      "Growing trees.. Progress: 35%. Estimated remaining time: 1 minute, 52 seconds.\n",
      "Growing trees.. Progress: 53%. Estimated remaining time: 1 minute, 21 seconds.\n",
      "Growing trees.. Progress: 71%. Estimated remaining time: 50 seconds.\n",
      "Growing trees.. Progress: 89%. Estimated remaining time: 19 seconds.\n",
      "Growing trees.. Progress: 17%. Estimated remaining time: 2 minutes, 26 seconds.\n",
      "Growing trees.. Progress: 35%. Estimated remaining time: 1 minute, 55 seconds.\n",
      "Growing trees.. Progress: 53%. Estimated remaining time: 1 minute, 24 seconds.\n",
      "Growing trees.. Progress: 70%. Estimated remaining time: 52 seconds.\n",
      "Growing trees.. Progress: 88%. Estimated remaining time: 21 seconds.\n",
      "20250902 041725\t499\t11\t134\t21\t5\t55638000\t98\n"
     ]
    },
    {
     "name": "stderr",
     "output_type": "stream",
     "text": [
      "[mbo] 82: num.trees=499; max.depth=11; min.node.size=134; mtry=21 : y = 5.56e+07 : 956.2 secs : infill_ei\n",
      "\n",
      "Saved the current state after iteration 83 in the file HT450.RDATA.\n",
      "\n"
     ]
    },
    {
     "name": "stdout",
     "output_type": "stream",
     "text": [
      "Growing trees.. Progress: 14%. Estimated remaining time: 3 minutes, 9 seconds.\n",
      "Growing trees.. Progress: 28%. Estimated remaining time: 2 minutes, 36 seconds.\n",
      "Growing trees.. Progress: 43%. Estimated remaining time: 2 minutes, 5 seconds.\n",
      "Growing trees.. Progress: 57%. Estimated remaining time: 1 minute, 35 seconds.\n",
      "Growing trees.. Progress: 71%. Estimated remaining time: 1 minute, 3 seconds.\n",
      "Growing trees.. Progress: 85%. Estimated remaining time: 32 seconds.\n",
      "Growing trees.. Progress: 99%. Estimated remaining time: 1 seconds.\n",
      "Growing trees.. Progress: 14%. Estimated remaining time: 3 minutes, 12 seconds.\n",
      "Growing trees.. Progress: 28%. Estimated remaining time: 2 minutes, 39 seconds.\n",
      "Growing trees.. Progress: 42%. Estimated remaining time: 2 minutes, 7 seconds.\n",
      "Growing trees.. Progress: 57%. Estimated remaining time: 1 minute, 35 seconds.\n",
      "Growing trees.. Progress: 71%. Estimated remaining time: 1 minute, 4 seconds.\n",
      "Growing trees.. Progress: 85%. Estimated remaining time: 33 seconds.\n",
      "Growing trees.. Progress: 99%. Estimated remaining time: 1 seconds.\n",
      "Growing trees.. Progress: 14%. Estimated remaining time: 3 minutes, 12 seconds.\n",
      "Growing trees.. Progress: 28%. Estimated remaining time: 2 minutes, 38 seconds.\n",
      "Growing trees.. Progress: 42%. Estimated remaining time: 2 minutes, 6 seconds.\n",
      "Growing trees.. Progress: 57%. Estimated remaining time: 1 minute, 36 seconds.\n",
      "Growing trees.. Progress: 71%. Estimated remaining time: 1 minute, 4 seconds.\n",
      "Growing trees.. Progress: 85%. Estimated remaining time: 32 seconds.\n",
      "Growing trees.. Progress: 99%. Estimated remaining time: 1 seconds.\n",
      "Growing trees.. Progress: 14%. Estimated remaining time: 3 minutes, 6 seconds.\n",
      "Growing trees.. Progress: 29%. Estimated remaining time: 2 minutes, 33 seconds.\n",
      "Growing trees.. Progress: 43%. Estimated remaining time: 2 minutes, 2 seconds.\n",
      "Growing trees.. Progress: 57%. Estimated remaining time: 1 minute, 32 seconds.\n",
      "Growing trees.. Progress: 72%. Estimated remaining time: 1 minute, 1 seconds.\n",
      "Growing trees.. Progress: 86%. Estimated remaining time: 31 seconds.\n",
      "Growing trees.. Progress: 14%. Estimated remaining time: 3 minutes, 9 seconds.\n",
      "Growing trees.. Progress: 28%. Estimated remaining time: 2 minutes, 38 seconds.\n",
      "Growing trees.. Progress: 42%. Estimated remaining time: 2 minutes, 7 seconds.\n",
      "Growing trees.. Progress: 56%. Estimated remaining time: 1 minute, 36 seconds.\n",
      "Growing trees.. Progress: 70%. Estimated remaining time: 1 minute, 5 seconds.\n",
      "Growing trees.. Progress: 85%. Estimated remaining time: 33 seconds.\n",
      "Growing trees.. Progress: 99%. Estimated remaining time: 1 seconds.\n",
      "20250902 043656\t497\t12\t467\t25\t5\t55239000\t99\n"
     ]
    },
    {
     "name": "stderr",
     "output_type": "stream",
     "text": [
      "[mbo] 83: num.trees=497; max.depth=12; min.node.size=467; mtry=25 : y = 5.52e+07 : 1166.2 secs : infill_ei\n",
      "\n",
      "Saved the current state after iteration 84 in the file HT450.RDATA.\n",
      "\n",
      "Warning message in generateDesign(control$infill.opt.focussearch.points, ps.local, :\n",
      "“generateDesign could only produce 978 points instead of 1000!”\n"
     ]
    },
    {
     "name": "stdout",
     "output_type": "stream",
     "text": [
      "Growing trees.. Progress: 12%. Estimated remaining time: 3 minutes, 51 seconds.\n",
      "Growing trees.. Progress: 24%. Estimated remaining time: 3 minutes, 20 seconds.\n",
      "Growing trees.. Progress: 36%. Estimated remaining time: 2 minutes, 49 seconds.\n",
      "Growing trees.. Progress: 47%. Estimated remaining time: 2 minutes, 19 seconds.\n",
      "Growing trees.. Progress: 59%. Estimated remaining time: 1 minute, 48 seconds.\n",
      "Growing trees.. Progress: 71%. Estimated remaining time: 1 minute, 17 seconds.\n",
      "Growing trees.. Progress: 83%. Estimated remaining time: 46 seconds.\n",
      "Growing trees.. Progress: 94%. Estimated remaining time: 14 seconds.\n",
      "Growing trees.. Progress: 12%. Estimated remaining time: 3 minutes, 51 seconds.\n",
      "Growing trees.. Progress: 24%. Estimated remaining time: 3 minutes, 20 seconds.\n",
      "Growing trees.. Progress: 36%. Estimated remaining time: 2 minutes, 49 seconds.\n",
      "Growing trees.. Progress: 48%. Estimated remaining time: 2 minutes, 19 seconds.\n",
      "Growing trees.. Progress: 59%. Estimated remaining time: 1 minute, 48 seconds.\n",
      "Growing trees.. Progress: 71%. Estimated remaining time: 1 minute, 16 seconds.\n",
      "Growing trees.. Progress: 83%. Estimated remaining time: 44 seconds.\n",
      "Growing trees.. Progress: 95%. Estimated remaining time: 13 seconds.\n",
      "Growing trees.. Progress: 11%. Estimated remaining time: 4 minutes, 3 seconds.\n",
      "Growing trees.. Progress: 23%. Estimated remaining time: 3 minutes, 26 seconds.\n",
      "Growing trees.. Progress: 35%. Estimated remaining time: 2 minutes, 53 seconds.\n",
      "Growing trees.. Progress: 47%. Estimated remaining time: 2 minutes, 22 seconds.\n",
      "Growing trees.. Progress: 58%. Estimated remaining time: 1 minute, 51 seconds.\n",
      "Growing trees.. Progress: 70%. Estimated remaining time: 1 minute, 20 seconds.\n",
      "Growing trees.. Progress: 82%. Estimated remaining time: 48 seconds.\n",
      "Growing trees.. Progress: 94%. Estimated remaining time: 16 seconds.\n",
      "Growing trees.. Progress: 12%. Estimated remaining time: 3 minutes, 57 seconds.\n",
      "Growing trees.. Progress: 23%. Estimated remaining time: 3 minutes, 23 seconds.\n",
      "Growing trees.. Progress: 35%. Estimated remaining time: 2 minutes, 51 seconds.\n",
      "Growing trees.. Progress: 47%. Estimated remaining time: 2 minutes, 21 seconds.\n",
      "Growing trees.. Progress: 59%. Estimated remaining time: 1 minute, 49 seconds.\n",
      "Growing trees.. Progress: 70%. Estimated remaining time: 1 minute, 18 seconds.\n",
      "Growing trees.. Progress: 82%. Estimated remaining time: 46 seconds.\n",
      "Growing trees.. Progress: 94%. Estimated remaining time: 14 seconds.\n",
      "Growing trees.. Progress: 12%. Estimated remaining time: 3 minutes, 57 seconds.\n",
      "Growing trees.. Progress: 23%. Estimated remaining time: 3 minutes, 23 seconds.\n",
      "Growing trees.. Progress: 35%. Estimated remaining time: 2 minutes, 51 seconds.\n",
      "Growing trees.. Progress: 47%. Estimated remaining time: 2 minutes, 22 seconds.\n",
      "Growing trees.. Progress: 59%. Estimated remaining time: 1 minute, 50 seconds.\n",
      "Growing trees.. Progress: 71%. Estimated remaining time: 1 minute, 18 seconds.\n",
      "Growing trees.. Progress: 82%. Estimated remaining time: 46 seconds.\n",
      "Growing trees.. Progress: 94%. Estimated remaining time: 15 seconds.\n",
      "20250902 050009\t381\t11\t202\t45\t5\t55317000\t100\n"
     ]
    },
    {
     "name": "stderr",
     "output_type": "stream",
     "text": [
      "[mbo] 84: num.trees=381; max.depth=11; min.node.size=202; mtry=45 : y = 5.53e+07 : 1386.7 secs : infill_ei\n",
      "\n",
      "Saved the current state after iteration 85 in the file HT450.RDATA.\n",
      "\n"
     ]
    },
    {
     "name": "stdout",
     "output_type": "stream",
     "text": [
      "Growing trees.. Progress: 46%. Estimated remaining time: 35 seconds.\n",
      "Growing trees.. Progress: 93%. Estimated remaining time: 4 seconds.\n",
      "Growing trees.. Progress: 45%. Estimated remaining time: 37 seconds.\n",
      "Growing trees.. Progress: 91%. Estimated remaining time: 6 seconds.\n",
      "Growing trees.. Progress: 46%. Estimated remaining time: 36 seconds.\n",
      "Growing trees.. Progress: 92%. Estimated remaining time: 5 seconds.\n",
      "Growing trees.. Progress: 45%. Estimated remaining time: 37 seconds.\n",
      "Growing trees.. Progress: 91%. Estimated remaining time: 6 seconds.\n",
      "Growing trees.. Progress: 46%. Estimated remaining time: 36 seconds.\n",
      "Growing trees.. Progress: 93%. Estimated remaining time: 4 seconds.\n",
      "20250902 050645\t295\t14\t145\t10\t5\t55671000\t101\n"
     ]
    },
    {
     "name": "stderr",
     "output_type": "stream",
     "text": [
      "[mbo] 85: num.trees=295; max.depth=14; min.node.size=145; mtry=10 : y = 5.57e+07 : 390.3 secs : infill_ei\n",
      "\n",
      "Warning message in generateDesign(control$infill.opt.focussearch.points, ps.local, :\n",
      "“generateDesign could only produce 994 points instead of 1000!”\n"
     ]
    },
    {
     "name": "stdout",
     "output_type": "stream",
     "text": [
      "Growing trees.. Progress: 52%. Estimated remaining time: 28 seconds.\n",
      "Growing trees.. Progress: 49%. Estimated remaining time: 31 seconds.\n",
      "Growing trees.. Progress: 100%. Estimated remaining time: 0 seconds.\n",
      "Growing trees.. Progress: 51%. Estimated remaining time: 30 seconds.\n",
      "Growing trees.. Progress: 51%. Estimated remaining time: 31 seconds.\n",
      "Growing trees.. Progress: 53%. Estimated remaining time: 28 seconds.\n",
      "20250902 051220\t77\t23\t1000\t32\t5\t53934000\t102\n"
     ]
    },
    {
     "name": "stderr",
     "output_type": "stream",
     "text": [
      "[mbo] 86: num.trees=77; max.depth=23; min.node.size=1000; mtry=32 : y = 5.39e+07 : 332.9 secs : infill_ei\n",
      "\n",
      "Saved the current state after iteration 87 in the file HT450.RDATA.\n",
      "\n",
      "Warning message in generateDesign(control$infill.opt.focussearch.points, ps.local, :\n",
      "“generateDesign could only produce 994 points instead of 1000!”\n",
      "Warning message in generateDesign(control$infill.opt.focussearch.points, ps.local, :\n",
      "“generateDesign could only produce 420 points instead of 1000!”\n"
     ]
    },
    {
     "name": "stdout",
     "output_type": "stream",
     "text": [
      "Growing trees.. Progress: 97%. Estimated remaining time: 1 seconds.\n",
      "Growing trees.. Progress: 96%. Estimated remaining time: 1 seconds.\n",
      "Growing trees.. Progress: 96%. Estimated remaining time: 1 seconds.\n",
      "Growing trees.. Progress: 96%. Estimated remaining time: 1 seconds.\n",
      "Growing trees.. Progress: 96%. Estimated remaining time: 1 seconds.\n",
      "20250902 051621\t453\t17\t1000\t2\t5\t52692000\t103\n"
     ]
    },
    {
     "name": "stderr",
     "output_type": "stream",
     "text": [
      "[mbo] 87: num.trees=453; max.depth=17; min.node.size=1000; mtry=2 : y = 5.27e+07 : 233.6 secs : infill_ei\n",
      "\n"
     ]
    },
    {
     "name": "stdout",
     "output_type": "stream",
     "text": [
      "Growing trees.. Progress: 30%. Estimated remaining time: 1 minute, 12 seconds.\n",
      "Growing trees.. Progress: 60%. Estimated remaining time: 40 seconds.\n",
      "Growing trees.. Progress: 91%. Estimated remaining time: 9 seconds.\n",
      "Growing trees.. Progress: 28%. Estimated remaining time: 1 minute, 17 seconds.\n",
      "Growing trees.. Progress: 58%. Estimated remaining time: 44 seconds.\n",
      "Growing trees.. Progress: 88%. Estimated remaining time: 12 seconds.\n",
      "Growing trees.. Progress: 30%. Estimated remaining time: 1 minute, 12 seconds.\n",
      "Growing trees.. Progress: 60%. Estimated remaining time: 40 seconds.\n",
      "Growing trees.. Progress: 90%. Estimated remaining time: 10 seconds.\n",
      "Growing trees.. Progress: 29%. Estimated remaining time: 1 minute, 16 seconds.\n",
      "Growing trees.. Progress: 58%. Estimated remaining time: 44 seconds.\n",
      "Growing trees.. Progress: 88%. Estimated remaining time: 12 seconds.\n",
      "Growing trees.. Progress: 30%. Estimated remaining time: 1 minute, 10 seconds.\n",
      "Growing trees.. Progress: 62%. Estimated remaining time: 38 seconds.\n",
      "Growing trees.. Progress: 93%. Estimated remaining time: 7 seconds.\n",
      "20250902 052550\t253\t26\t888\t17\t5\t54558000\t104\n"
     ]
    },
    {
     "name": "stderr",
     "output_type": "stream",
     "text": [
      "[mbo] 88: num.trees=253; max.depth=26; min.node.size=888; mtry=17 : y = 5.46e+07 : 567.4 secs : infill_ei\n",
      "\n",
      "Saved the current state after iteration 89 in the file HT450.RDATA.\n",
      "\n"
     ]
    },
    {
     "name": "stdout",
     "output_type": "stream",
     "text": [
      "Growing trees.. Progress: 8%. Estimated remaining time: 6 minutes, 1 seconds.\n",
      "Growing trees.. Progress: 17%. Estimated remaining time: 5 minutes, 23 seconds.\n",
      "Growing trees.. Progress: 25%. Estimated remaining time: 4 minutes, 49 seconds.\n",
      "Growing trees.. Progress: 33%. Estimated remaining time: 4 minutes, 16 seconds.\n",
      "Growing trees.. Progress: 41%. Estimated remaining time: 3 minutes, 44 seconds.\n",
      "Growing trees.. Progress: 50%. Estimated remaining time: 3 minutes, 13 seconds.\n",
      "Growing trees.. Progress: 58%. Estimated remaining time: 2 minutes, 41 seconds.\n",
      "Growing trees.. Progress: 66%. Estimated remaining time: 2 minutes, 9 seconds.\n",
      "Growing trees.. Progress: 75%. Estimated remaining time: 1 minute, 37 seconds.\n",
      "Growing trees.. Progress: 83%. Estimated remaining time: 1 minute, 5 seconds.\n",
      "Growing trees.. Progress: 91%. Estimated remaining time: 34 seconds.\n",
      "Growing trees.. Progress: 98%. Estimated remaining time: 7 seconds.\n",
      "Growing trees.. Progress: 8%. Estimated remaining time: 6 minutes, 1 seconds.\n",
      "Growing trees.. Progress: 16%. Estimated remaining time: 5 minutes, 24 seconds.\n",
      "Growing trees.. Progress: 24%. Estimated remaining time: 4 minutes, 57 seconds.\n",
      "Growing trees.. Progress: 33%. Estimated remaining time: 4 minutes, 23 seconds.\n",
      "Growing trees.. Progress: 41%. Estimated remaining time: 3 minutes, 52 seconds.\n",
      "Growing trees.. Progress: 49%. Estimated remaining time: 3 minutes, 19 seconds.\n",
      "Growing trees.. Progress: 57%. Estimated remaining time: 2 minutes, 48 seconds.\n",
      "Growing trees.. Progress: 65%. Estimated remaining time: 2 minutes, 16 seconds.\n",
      "Growing trees.. Progress: 73%. Estimated remaining time: 1 minute, 45 seconds.\n",
      "Growing trees.. Progress: 81%. Estimated remaining time: 1 minute, 14 seconds.\n",
      "Growing trees.. Progress: 89%. Estimated remaining time: 42 seconds.\n",
      "Growing trees.. Progress: 97%. Estimated remaining time: 10 seconds.\n",
      "Growing trees.. Progress: 8%. Estimated remaining time: 6 minutes, 1 seconds.\n",
      "Growing trees.. Progress: 16%. Estimated remaining time: 5 minutes, 24 seconds.\n",
      "Growing trees.. Progress: 24%. Estimated remaining time: 4 minutes, 55 seconds.\n",
      "Growing trees.. Progress: 32%. Estimated remaining time: 4 minutes, 28 seconds.\n",
      "Growing trees.. Progress: 40%. Estimated remaining time: 3 minutes, 53 seconds.\n",
      "Growing trees.. Progress: 49%. Estimated remaining time: 3 minutes, 20 seconds.\n",
      "Growing trees.. Progress: 57%. Estimated remaining time: 2 minutes, 49 seconds.\n",
      "Growing trees.. Progress: 65%. Estimated remaining time: 2 minutes, 17 seconds.\n",
      "Growing trees.. Progress: 73%. Estimated remaining time: 1 minute, 45 seconds.\n",
      "Growing trees.. Progress: 81%. Estimated remaining time: 1 minute, 13 seconds.\n",
      "Growing trees.. Progress: 89%. Estimated remaining time: 42 seconds.\n",
      "Growing trees.. Progress: 97%. Estimated remaining time: 12 seconds.\n",
      "Growing trees.. Progress: 8%. Estimated remaining time: 6 minutes, 1 seconds.\n",
      "Growing trees.. Progress: 16%. Estimated remaining time: 5 minutes, 29 seconds.\n",
      "Growing trees.. Progress: 24%. Estimated remaining time: 4 minutes, 54 seconds.\n",
      "Growing trees.. Progress: 33%. Estimated remaining time: 4 minutes, 21 seconds.\n",
      "Growing trees.. Progress: 41%. Estimated remaining time: 3 minutes, 50 seconds.\n",
      "Growing trees.. Progress: 49%. Estimated remaining time: 3 minutes, 17 seconds.\n",
      "Growing trees.. Progress: 57%. Estimated remaining time: 2 minutes, 45 seconds.\n",
      "Growing trees.. Progress: 66%. Estimated remaining time: 2 minutes, 13 seconds.\n",
      "Growing trees.. Progress: 73%. Estimated remaining time: 1 minute, 43 seconds.\n",
      "Growing trees.. Progress: 82%. Estimated remaining time: 1 minute, 11 seconds.\n",
      "Growing trees.. Progress: 90%. Estimated remaining time: 39 seconds.\n",
      "Growing trees.. Progress: 98%. Estimated remaining time: 8 seconds.\n",
      "Growing trees.. Progress: 8%. Estimated remaining time: 6 minutes, 1 seconds.\n",
      "Growing trees.. Progress: 17%. Estimated remaining time: 5 minutes, 18 seconds.\n",
      "Growing trees.. Progress: 25%. Estimated remaining time: 4 minutes, 46 seconds.\n",
      "Growing trees.. Progress: 33%. Estimated remaining time: 4 minutes, 15 seconds.\n",
      "Growing trees.. Progress: 41%. Estimated remaining time: 3 minutes, 44 seconds.\n",
      "Growing trees.. Progress: 49%. Estimated remaining time: 3 minutes, 14 seconds.\n",
      "Growing trees.. Progress: 58%. Estimated remaining time: 2 minutes, 41 seconds.\n",
      "Growing trees.. Progress: 66%. Estimated remaining time: 2 minutes, 9 seconds.\n",
      "Growing trees.. Progress: 75%. Estimated remaining time: 1 minute, 37 seconds.\n",
      "Growing trees.. Progress: 83%. Estimated remaining time: 1 minute, 5 seconds.\n",
      "Growing trees.. Progress: 91%. Estimated remaining time: 33 seconds.\n",
      "Growing trees.. Progress: 98%. Estimated remaining time: 6 seconds.\n",
      "20250902 060015\t369\t15\t226\t47\t5\t53334000\t105\n"
     ]
    },
    {
     "name": "stderr",
     "output_type": "stream",
     "text": [
      "[mbo] 89: num.trees=369; max.depth=15; min.node.size=226; mtry=47 : y = 5.33e+07 : 2061.0 secs : infill_ei\n",
      "\n",
      "Saved the current state after iteration 90 in the file HT450.RDATA.\n",
      "\n"
     ]
    },
    {
     "name": "stdout",
     "output_type": "stream",
     "text": [
      "Growing trees.. Progress: 35%. Estimated remaining time: 56 seconds.\n",
      "Growing trees.. Progress: 71%. Estimated remaining time: 25 seconds.\n",
      "Growing trees.. Progress: 35%. Estimated remaining time: 58 seconds.\n",
      "Growing trees.. Progress: 70%. Estimated remaining time: 26 seconds.\n",
      "Growing trees.. Progress: 35%. Estimated remaining time: 57 seconds.\n",
      "Growing trees.. Progress: 70%. Estimated remaining time: 26 seconds.\n",
      "Growing trees.. Progress: 34%. Estimated remaining time: 59 seconds.\n",
      "Growing trees.. Progress: 69%. Estimated remaining time: 28 seconds.\n",
      "Growing trees.. Progress: 34%. Estimated remaining time: 58 seconds.\n",
      "Growing trees.. Progress: 70%. Estimated remaining time: 26 seconds.\n",
      "20250902 060851\t406\t15\t210\t9\t5\t55443000\t106\n"
     ]
    },
    {
     "name": "stderr",
     "output_type": "stream",
     "text": [
      "[mbo] 90: num.trees=406; max.depth=15; min.node.size=210; mtry=9 : y = 5.54e+07 : 508.5 secs : infill_ei\n",
      "\n"
     ]
    },
    {
     "name": "stdout",
     "output_type": "stream",
     "text": [
      "Growing trees.. Progress: 13%. Estimated remaining time: 3 minutes, 27 seconds.\n",
      "Growing trees.. Progress: 26%. Estimated remaining time: 2 minutes, 56 seconds.\n",
      "Growing trees.. Progress: 39%. Estimated remaining time: 2 minutes, 27 seconds.\n",
      "Growing trees.. Progress: 52%. Estimated remaining time: 1 minute, 56 seconds.\n",
      "Growing trees.. Progress: 65%. Estimated remaining time: 1 minute, 24 seconds.\n",
      "Growing trees.. Progress: 78%. Estimated remaining time: 53 seconds.\n",
      "Growing trees.. Progress: 91%. Estimated remaining time: 22 seconds.\n",
      "Growing trees.. Progress: 12%. Estimated remaining time: 3 minutes, 39 seconds.\n",
      "Growing trees.. Progress: 25%. Estimated remaining time: 3 minutes, 4 seconds.\n",
      "Growing trees.. Progress: 38%. Estimated remaining time: 2 minutes, 33 seconds.\n",
      "Growing trees.. Progress: 51%. Estimated remaining time: 2 minutes, 1 seconds.\n",
      "Growing trees.. Progress: 63%. Estimated remaining time: 1 minute, 30 seconds.\n",
      "Growing trees.. Progress: 76%. Estimated remaining time: 58 seconds.\n",
      "Growing trees.. Progress: 89%. Estimated remaining time: 27 seconds.\n",
      "Growing trees.. Progress: 13%. Estimated remaining time: 3 minutes, 27 seconds.\n",
      "Growing trees.. Progress: 26%. Estimated remaining time: 2 minutes, 59 seconds.\n",
      "Growing trees.. Progress: 39%. Estimated remaining time: 2 minutes, 28 seconds.\n",
      "Growing trees.. Progress: 52%. Estimated remaining time: 1 minute, 57 seconds.\n",
      "Growing trees.. Progress: 64%. Estimated remaining time: 1 minute, 26 seconds.\n",
      "Growing trees.. Progress: 77%. Estimated remaining time: 54 seconds.\n",
      "Growing trees.. Progress: 90%. Estimated remaining time: 23 seconds.\n",
      "Growing trees.. Progress: 13%. Estimated remaining time: 3 minutes, 31 seconds.\n",
      "Growing trees.. Progress: 26%. Estimated remaining time: 2 minutes, 58 seconds.\n",
      "Growing trees.. Progress: 39%. Estimated remaining time: 2 minutes, 28 seconds.\n",
      "Growing trees.. Progress: 52%. Estimated remaining time: 1 minute, 57 seconds.\n",
      "Growing trees.. Progress: 64%. Estimated remaining time: 1 minute, 26 seconds.\n",
      "Growing trees.. Progress: 77%. Estimated remaining time: 55 seconds.\n",
      "Growing trees.. Progress: 90%. Estimated remaining time: 24 seconds.\n",
      "Growing trees.. Progress: 13%. Estimated remaining time: 3 minutes, 27 seconds.\n",
      "Growing trees.. Progress: 26%. Estimated remaining time: 2 minutes, 52 seconds.\n",
      "Growing trees.. Progress: 40%. Estimated remaining time: 2 minutes, 21 seconds.\n",
      "Growing trees.. Progress: 53%. Estimated remaining time: 1 minute, 50 seconds.\n",
      "Growing trees.. Progress: 66%. Estimated remaining time: 1 minute, 19 seconds.\n",
      "Growing trees.. Progress: 80%. Estimated remaining time: 47 seconds.\n",
      "Growing trees.. Progress: 93%. Estimated remaining time: 16 seconds.\n",
      "20250902 063018\t500\t19\t230\t19\t5\t54051000\t107\n"
     ]
    },
    {
     "name": "stderr",
     "output_type": "stream",
     "text": [
      "[mbo] 91: num.trees=500; max.depth=19; min.node.size=230; mtry=19 : y = 5.41e+07 : 1287.5 secs : infill_ei\n",
      "\n",
      "Saved the current state after iteration 92 in the file HT450.RDATA.\n",
      "\n",
      "Warning message in generateDesign(control$infill.opt.focussearch.points, ps.local, :\n",
      "“generateDesign could only produce 891 points instead of 1000!”\n",
      "Warning message in generateDesign(control$infill.opt.focussearch.points, ps.local, :\n",
      "“generateDesign could only produce 540 points instead of 1000!”\n"
     ]
    },
    {
     "name": "stdout",
     "output_type": "stream",
     "text": [
      "Growing trees.. Progress: 24%. Estimated remaining time: 1 minute, 37 seconds.\n",
      "Growing trees.. Progress: 48%. Estimated remaining time: 1 minute, 6 seconds.\n",
      "Growing trees.. Progress: 72%. Estimated remaining time: 35 seconds.\n",
      "Growing trees.. Progress: 96%. Estimated remaining time: 4 seconds.\n",
      "Growing trees.. Progress: 24%. Estimated remaining time: 1 minute, 38 seconds.\n",
      "Growing trees.. Progress: 48%. Estimated remaining time: 1 minute, 6 seconds.\n",
      "Growing trees.. Progress: 72%. Estimated remaining time: 35 seconds.\n",
      "Growing trees.. Progress: 96%. Estimated remaining time: 4 seconds.\n",
      "Growing trees.. Progress: 24%. Estimated remaining time: 1 minute, 38 seconds.\n",
      "Growing trees.. Progress: 48%. Estimated remaining time: 1 minute, 7 seconds.\n",
      "Growing trees.. Progress: 72%. Estimated remaining time: 36 seconds.\n",
      "Growing trees.. Progress: 95%. Estimated remaining time: 6 seconds.\n",
      "Growing trees.. Progress: 24%. Estimated remaining time: 1 minute, 40 seconds.\n",
      "Growing trees.. Progress: 48%. Estimated remaining time: 1 minute, 8 seconds.\n",
      "Growing trees.. Progress: 71%. Estimated remaining time: 37 seconds.\n",
      "Growing trees.. Progress: 95%. Estimated remaining time: 5 seconds.\n",
      "Growing trees.. Progress: 24%. Estimated remaining time: 1 minute, 37 seconds.\n",
      "Growing trees.. Progress: 48%. Estimated remaining time: 1 minute, 6 seconds.\n",
      "Growing trees.. Progress: 72%. Estimated remaining time: 35 seconds.\n",
      "Growing trees.. Progress: 96%. Estimated remaining time: 4 seconds.\n",
      "20250902 064207\t442\t9\t3\t22\t5\t55059000\t108\n"
     ]
    },
    {
     "name": "stderr",
     "output_type": "stream",
     "text": [
      "[mbo] 92: num.trees=442; max.depth=9; min.node.size=3; mtry=22 : y = 5.51e+07 : 701.1 secs : infill_ei\n",
      "\n",
      "Saved the current state after iteration 93 in the file HT450.RDATA.\n",
      "\n"
     ]
    },
    {
     "name": "stdout",
     "output_type": "stream",
     "text": [
      "Growing trees.. Progress: 47%. Estimated remaining time: 35 seconds.\n",
      "Growing trees.. Progress: 95%. Estimated remaining time: 3 seconds.\n",
      "Growing trees.. Progress: 45%. Estimated remaining time: 37 seconds.\n",
      "Growing trees.. Progress: 91%. Estimated remaining time: 6 seconds.\n",
      "Growing trees.. Progress: 47%. Estimated remaining time: 35 seconds.\n",
      "Growing trees.. Progress: 94%. Estimated remaining time: 4 seconds.\n",
      "Growing trees.. Progress: 45%. Estimated remaining time: 37 seconds.\n",
      "Growing trees.. Progress: 91%. Estimated remaining time: 6 seconds.\n",
      "Growing trees.. Progress: 48%. Estimated remaining time: 34 seconds.\n",
      "Growing trees.. Progress: 95%. Estimated remaining time: 3 seconds.\n",
      "20250902 064842\t313\t26\t987\t9\t5\t54738000\t109\n"
     ]
    },
    {
     "name": "stderr",
     "output_type": "stream",
     "text": [
      "[mbo] 93: num.trees=313; max.depth=26; min.node.size=987; mtry=9 : y = 5.47e+07 : 389.8 secs : infill_ei\n",
      "\n"
     ]
    },
    {
     "name": "stdout",
     "output_type": "stream",
     "text": [
      "Growing trees.. Progress: 88%. Estimated remaining time: 4 seconds.\n",
      "Growing trees.. Progress: 84%. Estimated remaining time: 5 seconds.\n",
      "Growing trees.. Progress: 87%. Estimated remaining time: 4 seconds.\n",
      "Growing trees.. Progress: 83%. Estimated remaining time: 6 seconds.\n",
      "Growing trees.. Progress: 89%. Estimated remaining time: 3 seconds.\n",
      "20250902 065220\t163\t30\t870\t9\t5\t54198000\t110\n"
     ]
    },
    {
     "name": "stderr",
     "output_type": "stream",
     "text": [
      "[mbo] 94: num.trees=163; max.depth=30; min.node.size=870; mtry=9 : y = 5.42e+07 : 217.8 secs : infill_ei\n",
      "\n",
      "Saved the current state after iteration 95 in the file HT450.RDATA.\n",
      "\n",
      "Warning message in generateDesign(control$infill.opt.focussearch.points, ps.local, :\n",
      "“generateDesign could only produce 891 points instead of 1000!”\n",
      "Warning message in generateDesign(control$infill.opt.focussearch.points, ps.local, :\n",
      "“generateDesign could only produce 624 points instead of 1000!”\n"
     ]
    },
    {
     "name": "stdout",
     "output_type": "stream",
     "text": [
      "Growing trees.. Progress: 6%. Estimated remaining time: 8 minutes, 59 seconds.\n",
      "Growing trees.. Progress: 11%. Estimated remaining time: 8 minutes, 17 seconds.\n",
      "Growing trees.. Progress: 17%. Estimated remaining time: 7 minutes, 37 seconds.\n",
      "Growing trees.. Progress: 23%. Estimated remaining time: 7 minutes, 6 seconds.\n",
      "Growing trees.. Progress: 28%. Estimated remaining time: 6 minutes, 38 seconds.\n",
      "Growing trees.. Progress: 34%. Estimated remaining time: 6 minutes, 5 seconds.\n",
      "Growing trees.. Progress: 40%. Estimated remaining time: 5 minutes, 33 seconds.\n",
      "Growing trees.. Progress: 46%. Estimated remaining time: 5 minutes, 0 seconds.\n",
      "Growing trees.. Progress: 52%. Estimated remaining time: 4 minutes, 28 seconds.\n",
      "Growing trees.. Progress: 57%. Estimated remaining time: 3 minutes, 57 seconds.\n",
      "Growing trees.. Progress: 63%. Estimated remaining time: 3 minutes, 26 seconds.\n",
      "Growing trees.. Progress: 69%. Estimated remaining time: 2 minutes, 54 seconds.\n",
      "Growing trees.. Progress: 74%. Estimated remaining time: 2 minutes, 23 seconds.\n",
      "Growing trees.. Progress: 80%. Estimated remaining time: 1 minute, 52 seconds.\n",
      "Growing trees.. Progress: 86%. Estimated remaining time: 1 minute, 20 seconds.\n",
      "Growing trees.. Progress: 91%. Estimated remaining time: 48 seconds.\n",
      "Growing trees.. Progress: 97%. Estimated remaining time: 16 seconds.\n",
      "Growing trees.. Progress: 100%. Estimated remaining time: 1 seconds.\n",
      "Growing trees.. Progress: 5%. Estimated remaining time: 9 minutes, 25 seconds.\n",
      "Growing trees.. Progress: 11%. Estimated remaining time: 8 minutes, 37 seconds.\n",
      "Growing trees.. Progress: 17%. Estimated remaining time: 7 minutes, 57 seconds.\n",
      "Growing trees.. Progress: 22%. Estimated remaining time: 7 minutes, 28 seconds.\n",
      "Growing trees.. Progress: 28%. Estimated remaining time: 6 minutes, 57 seconds.\n",
      "Growing trees.. Progress: 33%. Estimated remaining time: 6 minutes, 27 seconds.\n",
      "Growing trees.. Progress: 39%. Estimated remaining time: 5 minutes, 53 seconds.\n",
      "Growing trees.. Progress: 44%. Estimated remaining time: 5 minutes, 20 seconds.\n",
      "Growing trees.. Progress: 50%. Estimated remaining time: 4 minutes, 47 seconds.\n",
      "Growing trees.. Progress: 55%. Estimated remaining time: 4 minutes, 16 seconds.\n",
      "Growing trees.. Progress: 61%. Estimated remaining time: 3 minutes, 43 seconds.\n",
      "Growing trees.. Progress: 66%. Estimated remaining time: 3 minutes, 16 seconds.\n",
      "Growing trees.. Progress: 71%. Estimated remaining time: 2 minutes, 49 seconds.\n",
      "Growing trees.. Progress: 76%. Estimated remaining time: 2 minutes, 20 seconds.\n",
      "Growing trees.. Progress: 81%. Estimated remaining time: 1 minute, 48 seconds.\n",
      "Growing trees.. Progress: 87%. Estimated remaining time: 1 minute, 17 seconds.\n",
      "Growing trees.. Progress: 92%. Estimated remaining time: 47 seconds.\n",
      "Growing trees.. Progress: 97%. Estimated remaining time: 17 seconds.\n",
      "Growing trees.. Progress: 99%. Estimated remaining time: 3 seconds.\n",
      "Growing trees.. Progress: 5%. Estimated remaining time: 9 minutes, 43 seconds.\n",
      "Growing trees.. Progress: 11%. Estimated remaining time: 8 minutes, 51 seconds.\n",
      "Growing trees.. Progress: 16%. Estimated remaining time: 8 minutes, 18 seconds.\n",
      "Growing trees.. Progress: 21%. Estimated remaining time: 7 minutes, 42 seconds.\n",
      "Growing trees.. Progress: 27%. Estimated remaining time: 7 minutes, 14 seconds.\n",
      "Growing trees.. Progress: 32%. Estimated remaining time: 6 minutes, 40 seconds.\n",
      "Growing trees.. Progress: 37%. Estimated remaining time: 6 minutes, 9 seconds.\n",
      "Growing trees.. Progress: 43%. Estimated remaining time: 5 minutes, 36 seconds.\n",
      "Growing trees.. Progress: 48%. Estimated remaining time: 5 minutes, 4 seconds.\n",
      "Growing trees.. Progress: 54%. Estimated remaining time: 4 minutes, 30 seconds.\n",
      "Growing trees.. Progress: 59%. Estimated remaining time: 3 minutes, 59 seconds.\n",
      "Growing trees.. Progress: 65%. Estimated remaining time: 3 minutes, 27 seconds.\n",
      "Growing trees.. Progress: 70%. Estimated remaining time: 2 minutes, 54 seconds.\n",
      "Growing trees.. Progress: 76%. Estimated remaining time: 2 minutes, 22 seconds.\n",
      "Growing trees.. Progress: 81%. Estimated remaining time: 1 minute, 49 seconds.\n",
      "Growing trees.. Progress: 87%. Estimated remaining time: 1 minute, 17 seconds.\n",
      "Growing trees.. Progress: 92%. Estimated remaining time: 45 seconds.\n",
      "Growing trees.. Progress: 97%. Estimated remaining time: 16 seconds.\n",
      "Growing trees.. Progress: 100%. Estimated remaining time: 2 seconds.\n",
      "Growing trees.. Progress: 5%. Estimated remaining time: 9 minutes, 3 seconds.\n",
      "Growing trees.. Progress: 11%. Estimated remaining time: 8 minutes, 32 seconds.\n",
      "Growing trees.. Progress: 16%. Estimated remaining time: 7 minutes, 54 seconds.\n",
      "Growing trees.. Progress: 22%. Estimated remaining time: 7 minutes, 21 seconds.\n",
      "Growing trees.. Progress: 28%. Estimated remaining time: 6 minutes, 47 seconds.\n",
      "Growing trees.. Progress: 33%. Estimated remaining time: 6 minutes, 18 seconds.\n",
      "Growing trees.. Progress: 39%. Estimated remaining time: 5 minutes, 48 seconds.\n",
      "Growing trees.. Progress: 44%. Estimated remaining time: 5 minutes, 18 seconds.\n",
      "Growing trees.. Progress: 50%. Estimated remaining time: 4 minutes, 46 seconds.\n",
      "Growing trees.. Progress: 55%. Estimated remaining time: 4 minutes, 14 seconds.\n",
      "Growing trees.. Progress: 61%. Estimated remaining time: 3 minutes, 40 seconds.\n",
      "Growing trees.. Progress: 67%. Estimated remaining time: 3 minutes, 8 seconds.\n",
      "Growing trees.. Progress: 72%. Estimated remaining time: 2 minutes, 38 seconds.\n",
      "Growing trees.. Progress: 78%. Estimated remaining time: 2 minutes, 5 seconds.\n",
      "Growing trees.. Progress: 83%. Estimated remaining time: 1 minute, 34 seconds.\n",
      "Growing trees.. Progress: 89%. Estimated remaining time: 1 minute, 2 seconds.\n",
      "Growing trees.. Progress: 95%. Estimated remaining time: 30 seconds.\n",
      "Growing trees.. Progress: 98%. Estimated remaining time: 9 seconds.\n",
      "Growing trees.. Progress: 6%. Estimated remaining time: 8 minutes, 59 seconds.\n",
      "Growing trees.. Progress: 11%. Estimated remaining time: 8 minutes, 17 seconds.\n",
      "Growing trees.. Progress: 17%. Estimated remaining time: 7 minutes, 37 seconds.\n",
      "Growing trees.. Progress: 23%. Estimated remaining time: 7 minutes, 1 seconds.\n",
      "Growing trees.. Progress: 29%. Estimated remaining time: 6 minutes, 28 seconds.\n",
      "Growing trees.. Progress: 35%. Estimated remaining time: 5 minutes, 55 seconds.\n",
      "Growing trees.. Progress: 40%. Estimated remaining time: 5 minutes, 27 seconds.\n",
      "Growing trees.. Progress: 46%. Estimated remaining time: 4 minutes, 55 seconds.\n",
      "Growing trees.. Progress: 52%. Estimated remaining time: 4 minutes, 24 seconds.\n",
      "Growing trees.. Progress: 58%. Estimated remaining time: 3 minutes, 52 seconds.\n",
      "Growing trees.. Progress: 64%. Estimated remaining time: 3 minutes, 18 seconds.\n",
      "Growing trees.. Progress: 69%. Estimated remaining time: 2 minutes, 48 seconds.\n",
      "Growing trees.. Progress: 75%. Estimated remaining time: 2 minutes, 16 seconds.\n",
      "Growing trees.. Progress: 81%. Estimated remaining time: 1 minute, 45 seconds.\n",
      "Growing trees.. Progress: 87%. Estimated remaining time: 1 minute, 13 seconds.\n",
      "Growing trees.. Progress: 92%. Estimated remaining time: 41 seconds.\n",
      "Growing trees.. Progress: 97%. Estimated remaining time: 14 seconds.\n",
      "20250902 074304\t500\t22\t1000\t43\t5\t54798000\t111\n"
     ]
    },
    {
     "name": "stderr",
     "output_type": "stream",
     "text": [
      "[mbo] 95: num.trees=500; max.depth=22; min.node.size=1000; mtry=43 : y = 5.48e+07 : 3036.6 secs : infill_ei\n",
      "\n",
      "Saved the current state after iteration 96 in the file HT450.RDATA.\n",
      "\n",
      "Warning message in generateDesign(control$infill.opt.focussearch.points, ps.local, :\n",
      "“generateDesign could only produce 624 points instead of 1000!”\n"
     ]
    },
    {
     "name": "stdout",
     "output_type": "stream",
     "text": [
      "Growing trees.. Progress: 19%. Estimated remaining time: 2 minutes, 15 seconds.\n",
      "Growing trees.. Progress: 38%. Estimated remaining time: 1 minute, 43 seconds.\n",
      "Growing trees.. Progress: 56%. Estimated remaining time: 1 minute, 11 seconds.\n",
      "Growing trees.. Progress: 75%. Estimated remaining time: 40 seconds.\n",
      "Growing trees.. Progress: 94%. Estimated remaining time: 9 seconds.\n",
      "Growing trees.. Progress: 19%. Estimated remaining time: 2 minutes, 15 seconds.\n",
      "Growing trees.. Progress: 37%. Estimated remaining time: 1 minute, 44 seconds.\n",
      "Growing trees.. Progress: 56%. Estimated remaining time: 1 minute, 13 seconds.\n",
      "Growing trees.. Progress: 75%. Estimated remaining time: 42 seconds.\n",
      "Growing trees.. Progress: 94%. Estimated remaining time: 10 seconds.\n",
      "Growing trees.. Progress: 18%. Estimated remaining time: 2 minutes, 17 seconds.\n",
      "Growing trees.. Progress: 37%. Estimated remaining time: 1 minute, 44 seconds.\n",
      "Growing trees.. Progress: 56%. Estimated remaining time: 1 minute, 13 seconds.\n",
      "Growing trees.. Progress: 75%. Estimated remaining time: 42 seconds.\n",
      "Growing trees.. Progress: 93%. Estimated remaining time: 11 seconds.\n",
      "Growing trees.. Progress: 19%. Estimated remaining time: 2 minutes, 15 seconds.\n",
      "Growing trees.. Progress: 38%. Estimated remaining time: 1 minute, 42 seconds.\n",
      "Growing trees.. Progress: 57%. Estimated remaining time: 1 minute, 11 seconds.\n",
      "Growing trees.. Progress: 76%. Estimated remaining time: 39 seconds.\n",
      "Growing trees.. Progress: 95%. Estimated remaining time: 8 seconds.\n",
      "Growing trees.. Progress: 19%. Estimated remaining time: 2 minutes, 13 seconds.\n",
      "Growing trees.. Progress: 38%. Estimated remaining time: 1 minute, 42 seconds.\n",
      "Growing trees.. Progress: 57%. Estimated remaining time: 1 minute, 10 seconds.\n",
      "Growing trees.. Progress: 76%. Estimated remaining time: 39 seconds.\n",
      "Growing trees.. Progress: 95%. Estimated remaining time: 8 seconds.\n",
      "20250902 075758\t450\t11\t232\t22\t5\t54981000\t112\n"
     ]
    },
    {
     "name": "stderr",
     "output_type": "stream",
     "text": [
      "[mbo] 96: num.trees=450; max.depth=11; min.node.size=232; mtry=22 : y = 5.5e+07 : 887.4 secs : infill_ei\n",
      "\n",
      "Saved the current state after iteration 97 in the file HT450.RDATA.\n",
      "\n"
     ]
    },
    {
     "name": "stdout",
     "output_type": "stream",
     "text": [
      "Growing trees.. Progress: 25%. Estimated remaining time: 1 minute, 33 seconds.\n",
      "Growing trees.. Progress: 50%. Estimated remaining time: 1 minute, 1 seconds.\n",
      "Growing trees.. Progress: 76%. Estimated remaining time: 30 seconds.\n",
      "Growing trees.. Progress: 99%. Estimated remaining time: 1 seconds.\n",
      "Growing trees.. Progress: 25%. Estimated remaining time: 1 minute, 33 seconds.\n",
      "Growing trees.. Progress: 50%. Estimated remaining time: 1 minute, 1 seconds.\n",
      "Growing trees.. Progress: 75%. Estimated remaining time: 30 seconds.\n",
      "Growing trees.. Progress: 99%. Estimated remaining time: 1 seconds.\n",
      "Growing trees.. Progress: 25%. Estimated remaining time: 1 minute, 33 seconds.\n",
      "Growing trees.. Progress: 50%. Estimated remaining time: 1 minute, 2 seconds.\n",
      "Growing trees.. Progress: 75%. Estimated remaining time: 30 seconds.\n",
      "Growing trees.. Progress: 99%. Estimated remaining time: 1 seconds.\n",
      "Growing trees.. Progress: 25%. Estimated remaining time: 1 minute, 33 seconds.\n",
      "Growing trees.. Progress: 50%. Estimated remaining time: 1 minute, 1 seconds.\n",
      "Growing trees.. Progress: 75%. Estimated remaining time: 30 seconds.\n",
      "Growing trees.. Progress: 99%. Estimated remaining time: 1 seconds.\n",
      "Growing trees.. Progress: 25%. Estimated remaining time: 1 minute, 35 seconds.\n",
      "Growing trees.. Progress: 50%. Estimated remaining time: 1 minute, 3 seconds.\n",
      "Growing trees.. Progress: 75%. Estimated remaining time: 31 seconds.\n",
      "Growing trees.. Progress: 98%. Estimated remaining time: 2 seconds.\n",
      "20250902 080948\t500\t10\t78\t15\t5\t55281000\t113\n"
     ]
    },
    {
     "name": "stderr",
     "output_type": "stream",
     "text": [
      "[mbo] 97: num.trees=500; max.depth=10; min.node.size=78; mtry=15 : y = 5.53e+07 : 702.9 secs : infill_ei\n",
      "\n",
      "Saved the current state after iteration 98 in the file HT450.RDATA.\n",
      "\n"
     ]
    },
    {
     "name": "stdout",
     "output_type": "stream",
     "text": [
      "Growing trees.. Progress: 25%. Estimated remaining time: 1 minute, 34 seconds.\n",
      "Growing trees.. Progress: 50%. Estimated remaining time: 1 minute, 1 seconds.\n",
      "Growing trees.. Progress: 76%. Estimated remaining time: 30 seconds.\n",
      "Growing trees.. Progress: 99%. Estimated remaining time: 0 seconds.\n",
      "Growing trees.. Progress: 24%. Estimated remaining time: 1 minute, 40 seconds.\n",
      "Growing trees.. Progress: 48%. Estimated remaining time: 1 minute, 8 seconds.\n",
      "Growing trees.. Progress: 72%. Estimated remaining time: 36 seconds.\n",
      "Growing trees.. Progress: 96%. Estimated remaining time: 4 seconds.\n",
      "Growing trees.. Progress: 24%. Estimated remaining time: 1 minute, 35 seconds.\n",
      "Growing trees.. Progress: 50%. Estimated remaining time: 1 minute, 3 seconds.\n",
      "Growing trees.. Progress: 75%. Estimated remaining time: 31 seconds.\n",
      "Growing trees.. Progress: 98%. Estimated remaining time: 2 seconds.\n",
      "Growing trees.. Progress: 24%. Estimated remaining time: 1 minute, 37 seconds.\n",
      "Growing trees.. Progress: 48%. Estimated remaining time: 1 minute, 7 seconds.\n",
      "Growing trees.. Progress: 73%. Estimated remaining time: 34 seconds.\n",
      "Growing trees.. Progress: 97%. Estimated remaining time: 3 seconds.\n",
      "Growing trees.. Progress: 25%. Estimated remaining time: 1 minute, 32 seconds.\n",
      "Growing trees.. Progress: 51%. Estimated remaining time: 59 seconds.\n",
      "Growing trees.. Progress: 76%. Estimated remaining time: 28 seconds.\n",
      "Growing trees.. Progress: 100%. Estimated remaining time: 0 seconds.\n",
      "20250902 082136\t319\t26\t543\t15\t5\t54756000\t114\n"
     ]
    },
    {
     "name": "stderr",
     "output_type": "stream",
     "text": [
      "[mbo] 98: num.trees=319; max.depth=26; min.node.size=543; mtry=15 : y = 5.48e+07 : 702.2 secs : infill_ei\n",
      "\n",
      "Saved the current state after iteration 99 in the file HT450.RDATA.\n",
      "\n"
     ]
    },
    {
     "name": "stdout",
     "output_type": "stream",
     "text": [
      "Growing trees.. Progress: 15%. Estimated remaining time: 2 minutes, 49 seconds.\n",
      "Growing trees.. Progress: 31%. Estimated remaining time: 2 minutes, 17 seconds.\n",
      "Growing trees.. Progress: 47%. Estimated remaining time: 1 minute, 46 seconds.\n",
      "Growing trees.. Progress: 63%. Estimated remaining time: 1 minute, 14 seconds.\n",
      "Growing trees.. Progress: 79%. Estimated remaining time: 43 seconds.\n",
      "Growing trees.. Progress: 94%. Estimated remaining time: 11 seconds.\n",
      "Growing trees.. Progress: 15%. Estimated remaining time: 2 minutes, 49 seconds.\n",
      "Growing trees.. Progress: 31%. Estimated remaining time: 2 minutes, 17 seconds.\n",
      "Growing trees.. Progress: 47%. Estimated remaining time: 1 minute, 46 seconds.\n",
      "Growing trees.. Progress: 63%. Estimated remaining time: 1 minute, 14 seconds.\n",
      "Growing trees.. Progress: 79%. Estimated remaining time: 42 seconds.\n",
      "Growing trees.. Progress: 94%. Estimated remaining time: 11 seconds.\n",
      "Growing trees.. Progress: 15%. Estimated remaining time: 2 minutes, 54 seconds.\n",
      "Growing trees.. Progress: 31%. Estimated remaining time: 2 minutes, 20 seconds.\n",
      "Growing trees.. Progress: 46%. Estimated remaining time: 1 minute, 48 seconds.\n",
      "Growing trees.. Progress: 62%. Estimated remaining time: 1 minute, 16 seconds.\n",
      "Growing trees.. Progress: 77%. Estimated remaining time: 45 seconds.\n",
      "Growing trees.. Progress: 93%. Estimated remaining time: 13 seconds.\n",
      "Growing trees.. Progress: 15%. Estimated remaining time: 2 minutes, 49 seconds.\n",
      "Growing trees.. Progress: 32%. Estimated remaining time: 2 minutes, 13 seconds.\n",
      "Growing trees.. Progress: 48%. Estimated remaining time: 1 minute, 43 seconds.\n",
      "Growing trees.. Progress: 63%. Estimated remaining time: 1 minute, 12 seconds.\n",
      "Growing trees.. Progress: 79%. Estimated remaining time: 41 seconds.\n",
      "Growing trees.. Progress: 95%. Estimated remaining time: 9 seconds.\n",
      "Growing trees.. Progress: 15%. Estimated remaining time: 2 minutes, 49 seconds.\n",
      "Growing trees.. Progress: 31%. Estimated remaining time: 2 minutes, 15 seconds.\n",
      "Growing trees.. Progress: 47%. Estimated remaining time: 1 minute, 45 seconds.\n",
      "Growing trees.. Progress: 63%. Estimated remaining time: 1 minute, 13 seconds.\n",
      "Growing trees.. Progress: 79%. Estimated remaining time: 42 seconds.\n",
      "Growing trees.. Progress: 94%. Estimated remaining time: 11 seconds.\n",
      "20250902 083907\t252\t13\t1000\t44\t5\t54168000\t115\n"
     ]
    },
    {
     "name": "stderr",
     "output_type": "stream",
     "text": [
      "[mbo] 99: num.trees=252; max.depth=13; min.node.size=1000; mtry=44 : y = 5.42e+07 : 1045.3 secs : infill_ei\n",
      "\n",
      "Saved the current state after iteration 100 in the file HT450.RDATA.\n",
      "\n"
     ]
    },
    {
     "name": "stdout",
     "output_type": "stream",
     "text": [
      "Growing trees.. Progress: 36%. Estimated remaining time: 54 seconds.\n",
      "Growing trees.. Progress: 72%. Estimated remaining time: 23 seconds.\n",
      "Growing trees.. Progress: 35%. Estimated remaining time: 58 seconds.\n",
      "Growing trees.. Progress: 70%. Estimated remaining time: 27 seconds.\n",
      "Growing trees.. Progress: 36%. Estimated remaining time: 56 seconds.\n",
      "Growing trees.. Progress: 71%. Estimated remaining time: 24 seconds.\n",
      "Growing trees.. Progress: 35%. Estimated remaining time: 58 seconds.\n",
      "Growing trees.. Progress: 70%. Estimated remaining time: 27 seconds.\n",
      "Growing trees.. Progress: 37%. Estimated remaining time: 53 seconds.\n",
      "Growing trees.. Progress: 74%. Estimated remaining time: 22 seconds.\n",
      "20250902 084724\t273\t26\t262\t12\t5\t53928000\t116\n"
     ]
    },
    {
     "name": "stderr",
     "output_type": "stream",
     "text": [
      "[mbo] 100: num.trees=273; max.depth=26; min.node.size=262; mtry=12 : y = 5.39e+07 : 492.3 secs : infill_ei\n",
      "\n",
      "Saved the final state in the file HT450.RDATA\n",
      "\n"
     ]
    }
   ],
   "source": [
    "# inicio la optimizacion bayesiana\n",
    "\n",
    "if (!file.exists(kbayesiana)) {\n",
    "  run <- mbo(obj.fun, learner= surr.km, control= ctrl)\n",
    "} else {\n",
    "  run <- mboContinue(kbayesiana)\n",
    "} # retomo en caso que ya exista"
   ]
  },
  {
   "cell_type": "code",
   "execution_count": 21,
   "metadata": {
    "id": "eP-AGz8RQgK0"
   },
   "outputs": [
    {
     "data": {
      "text/html": [
       "<table class=\"dataframe\">\n",
       "<caption>A data.table: 116 × 8</caption>\n",
       "<thead>\n",
       "\t<tr><th scope=col>fecha</th><th scope=col>num.trees</th><th scope=col>max.depth</th><th scope=col>min.node.size</th><th scope=col>mtry</th><th scope=col>xval_folds</th><th scope=col>ganancia</th><th scope=col>iteracion</th></tr>\n",
       "\t<tr><th scope=col>&lt;chr&gt;</th><th scope=col>&lt;int&gt;</th><th scope=col>&lt;int&gt;</th><th scope=col>&lt;int&gt;</th><th scope=col>&lt;int&gt;</th><th scope=col>&lt;int&gt;</th><th scope=col>&lt;int&gt;</th><th scope=col>&lt;int&gt;</th></tr>\n",
       "</thead>\n",
       "<tbody>\n",
       "\t<tr><td>20250901 234832</td><td>297</td><td>15</td><td> 250</td><td>10</td><td>5</td><td>55929000</td><td> 76</td></tr>\n",
       "\t<tr><td>20250902 005448</td><td>300</td><td>27</td><td> 889</td><td>13</td><td>5</td><td>55821000</td><td> 83</td></tr>\n",
       "\t<tr><td>20250901 155022</td><td>324</td><td>26</td><td> 868</td><td>17</td><td>5</td><td>55806000</td><td> 52</td></tr>\n",
       "\t<tr><td>20250901 041418</td><td>293</td><td>26</td><td> 221</td><td>14</td><td>5</td><td>55710000</td><td>  8</td></tr>\n",
       "\t<tr><td>20250901 085737</td><td>307</td><td>26</td><td> 400</td><td>12</td><td>5</td><td>55671000</td><td> 27</td></tr>\n",
       "\t<tr><td>20250902 050645</td><td>295</td><td>14</td><td> 145</td><td>10</td><td>5</td><td>55671000</td><td>101</td></tr>\n",
       "\t<tr><td>20250902 041725</td><td>499</td><td>11</td><td> 134</td><td>21</td><td>5</td><td>55638000</td><td> 98</td></tr>\n",
       "\t<tr><td>20250902 003437</td><td>326</td><td>13</td><td> 225</td><td> 9</td><td>5</td><td>55596000</td><td> 81</td></tr>\n",
       "\t<tr><td>20250902 010853</td><td>327</td><td>16</td><td> 226</td><td>11</td><td>5</td><td>55581000</td><td> 85</td></tr>\n",
       "\t<tr><td>20250901 104146</td><td>273</td><td>26</td><td> 553</td><td>15</td><td>5</td><td>55542000</td><td> 32</td></tr>\n",
       "\t<tr><td>20250901 203209</td><td>265</td><td>12</td><td> 208</td><td>12</td><td>5</td><td>55503000</td><td> 68</td></tr>\n",
       "\t<tr><td>20250902 060851</td><td>406</td><td>15</td><td> 210</td><td> 9</td><td>5</td><td>55443000</td><td>106</td></tr>\n",
       "\t<tr><td>20250901 202059</td><td>361</td><td>29</td><td> 886</td><td>13</td><td>5</td><td>55431000</td><td> 66</td></tr>\n",
       "\t<tr><td>20250901 152800</td><td>337</td><td>22</td><td>1000</td><td>30</td><td>5</td><td>55371000</td><td> 50</td></tr>\n",
       "\t<tr><td>20250902 020749</td><td>328</td><td>12</td><td> 198</td><td>50</td><td>5</td><td>55329000</td><td> 88</td></tr>\n",
       "\t<tr><td>20250902 050009</td><td>381</td><td>11</td><td> 202</td><td>45</td><td>5</td><td>55317000</td><td>100</td></tr>\n",
       "\t<tr><td>20250902 030543</td><td>340</td><td>26</td><td> 910</td><td>14</td><td>5</td><td>55311000</td><td> 92</td></tr>\n",
       "\t<tr><td>20250902 002215</td><td>246</td><td>30</td><td> 896</td><td>14</td><td>5</td><td>55296000</td><td> 79</td></tr>\n",
       "\t<tr><td>20250902 080948</td><td>500</td><td>10</td><td>  78</td><td>15</td><td>5</td><td>55281000</td><td>113</td></tr>\n",
       "\t<tr><td>20250902 001428</td><td>290</td><td>16</td><td> 515</td><td>11</td><td>5</td><td>55275000</td><td> 78</td></tr>\n",
       "\t<tr><td>20250901 211529</td><td>500</td><td> 9</td><td> 265</td><td>26</td><td>5</td><td>55269000</td><td> 70</td></tr>\n",
       "\t<tr><td>20250902 043656</td><td>497</td><td>12</td><td> 467</td><td>25</td><td>5</td><td>55239000</td><td> 99</td></tr>\n",
       "\t<tr><td>20250901 212255</td><td>287</td><td>25</td><td> 493</td><td>10</td><td>5</td><td>55233000</td><td> 71</td></tr>\n",
       "\t<tr><td>20250902 025508</td><td>299</td><td>16</td><td> 271</td><td> 6</td><td>5</td><td>55215000</td><td> 91</td></tr>\n",
       "\t<tr><td>20250901 145539</td><td>319</td><td>26</td><td> 226</td><td> 8</td><td>5</td><td>55182000</td><td> 48</td></tr>\n",
       "\t<tr><td>20250901 094136</td><td>294</td><td>25</td><td> 993</td><td>14</td><td>5</td><td>55170000</td><td> 29</td></tr>\n",
       "\t<tr><td>20250901 143043</td><td>500</td><td>10</td><td> 520</td><td>21</td><td>5</td><td>55152000</td><td> 45</td></tr>\n",
       "\t<tr><td>20250901 202600</td><td>173</td><td>26</td><td> 889</td><td>12</td><td>5</td><td>55116000</td><td> 67</td></tr>\n",
       "\t<tr><td>20250902 025009</td><td>378</td><td>10</td><td>  17</td><td>50</td><td>5</td><td>55074000</td><td> 90</td></tr>\n",
       "\t<tr><td>20250902 035152</td><td>312</td><td>18</td><td> 315</td><td> 9</td><td>5</td><td>55068000</td><td> 96</td></tr>\n",
       "\t<tr><td>⋮</td><td>⋮</td><td>⋮</td><td>⋮</td><td>⋮</td><td>⋮</td><td>⋮</td><td>⋮</td></tr>\n",
       "\t<tr><td>20250901 113303</td><td>173</td><td>20</td><td> 999</td><td>25</td><td>5</td><td>53655000</td><td> 37</td></tr>\n",
       "\t<tr><td>20250901 112234</td><td>498</td><td>25</td><td> 270</td><td>14</td><td>5</td><td>53643000</td><td> 36</td></tr>\n",
       "\t<tr><td>20250901 030055</td><td>326</td><td> 7</td><td> 299</td><td>39</td><td>5</td><td>53577000</td><td>  1</td></tr>\n",
       "\t<tr><td>20250901 035559</td><td>437</td><td> 5</td><td> 514</td><td>34</td><td>5</td><td>53496000</td><td>  6</td></tr>\n",
       "\t<tr><td>20250901 193437</td><td>278</td><td>26</td><td>1000</td><td>25</td><td>5</td><td>53421000</td><td> 64</td></tr>\n",
       "\t<tr><td>20250901 231339</td><td>413</td><td>18</td><td>1000</td><td>31</td><td>5</td><td>53373000</td><td> 74</td></tr>\n",
       "\t<tr><td>20250902 060015</td><td>369</td><td>15</td><td> 226</td><td>47</td><td>5</td><td>53334000</td><td>105</td></tr>\n",
       "\t<tr><td>20250901 080644</td><td>308</td><td>26</td><td> 987</td><td> 2</td><td>5</td><td>53322000</td><td> 24</td></tr>\n",
       "\t<tr><td>20250901 191843</td><td>380</td><td>26</td><td> 155</td><td>13</td><td>5</td><td>53304000</td><td> 63</td></tr>\n",
       "\t<tr><td>20250901 071632</td><td>500</td><td>20</td><td> 236</td><td>31</td><td>5</td><td>53301000</td><td> 20</td></tr>\n",
       "\t<tr><td>20250901 060936</td><td>500</td><td>26</td><td> 958</td><td> 2</td><td>5</td><td>53283000</td><td> 17</td></tr>\n",
       "\t<tr><td>20250901 040228</td><td> 65</td><td>15</td><td> 771</td><td>48</td><td>5</td><td>53202000</td><td>  7</td></tr>\n",
       "\t<tr><td>20250901 224710</td><td>500</td><td>21</td><td> 538</td><td>47</td><td>5</td><td>53178000</td><td> 73</td></tr>\n",
       "\t<tr><td>20250901 032650</td><td> 29</td><td> 9</td><td> 353</td><td>25</td><td>5</td><td>53121000</td><td>  4</td></tr>\n",
       "\t<tr><td>20250901 105542</td><td>500</td><td> 5</td><td>  91</td><td>47</td><td>5</td><td>53115000</td><td> 33</td></tr>\n",
       "\t<tr><td>20250901 060412</td><td> 84</td><td>13</td><td> 150</td><td> 6</td><td>5</td><td>53088000</td><td> 16</td></tr>\n",
       "\t<tr><td>20250901 073835</td><td>426</td><td>22</td><td> 696</td><td> 2</td><td>5</td><td>53043000</td><td> 22</td></tr>\n",
       "\t<tr><td>20250901 073347</td><td>350</td><td>29</td><td> 251</td><td>18</td><td>5</td><td>52854000</td><td> 21</td></tr>\n",
       "\t<tr><td>20250902 051621</td><td>453</td><td>17</td><td>1000</td><td> 2</td><td>5</td><td>52692000</td><td>103</td></tr>\n",
       "\t<tr><td>20250901 041615</td><td>118</td><td> 4</td><td>  95</td><td>31</td><td>5</td><td>52569000</td><td>  9</td></tr>\n",
       "\t<tr><td>20250901 093126</td><td>359</td><td>26</td><td> 312</td><td>36</td><td>5</td><td>52155000</td><td> 28</td></tr>\n",
       "\t<tr><td>20250901 063654</td><td>340</td><td>16</td><td>   1</td><td>34</td><td>5</td><td>52077000</td><td> 19</td></tr>\n",
       "\t<tr><td>20250901 174737</td><td> 20</td><td> 6</td><td>   1</td><td>50</td><td>5</td><td>51789000</td><td> 59</td></tr>\n",
       "\t<tr><td>20250901 110256</td><td> 20</td><td>11</td><td> 590</td><td>34</td><td>5</td><td>51633000</td><td> 35</td></tr>\n",
       "\t<tr><td>20250901 044213</td><td>185</td><td>29</td><td> 422</td><td>43</td><td>5</td><td>51600000</td><td> 11</td></tr>\n",
       "\t<tr><td>20250901 155318</td><td>495</td><td> 9</td><td> 445</td><td> 2</td><td>5</td><td>51477000</td><td> 53</td></tr>\n",
       "\t<tr><td>20250901 131951</td><td>241</td><td>24</td><td> 205</td><td>23</td><td>5</td><td>51411000</td><td> 41</td></tr>\n",
       "\t<tr><td>20250901 081320</td><td>269</td><td>25</td><td>   1</td><td> 7</td><td>5</td><td>50814000</td><td> 25</td></tr>\n",
       "\t<tr><td>20250901 061007</td><td> 20</td><td>25</td><td>   1</td><td> 2</td><td>5</td><td>41166000</td><td> 18</td></tr>\n",
       "\t<tr><td>20250901 044940</td><td>223</td><td> 1</td><td> 843</td><td>20</td><td>5</td><td>40140000</td><td> 13</td></tr>\n",
       "</tbody>\n",
       "</table>\n"
      ],
      "text/latex": [
       "A data.table: 116 × 8\n",
       "\\begin{tabular}{llllllll}\n",
       " fecha & num.trees & max.depth & min.node.size & mtry & xval\\_folds & ganancia & iteracion\\\\\n",
       " <chr> & <int> & <int> & <int> & <int> & <int> & <int> & <int>\\\\\n",
       "\\hline\n",
       "\t 20250901 234832 & 297 & 15 &  250 & 10 & 5 & 55929000 &  76\\\\\n",
       "\t 20250902 005448 & 300 & 27 &  889 & 13 & 5 & 55821000 &  83\\\\\n",
       "\t 20250901 155022 & 324 & 26 &  868 & 17 & 5 & 55806000 &  52\\\\\n",
       "\t 20250901 041418 & 293 & 26 &  221 & 14 & 5 & 55710000 &   8\\\\\n",
       "\t 20250901 085737 & 307 & 26 &  400 & 12 & 5 & 55671000 &  27\\\\\n",
       "\t 20250902 050645 & 295 & 14 &  145 & 10 & 5 & 55671000 & 101\\\\\n",
       "\t 20250902 041725 & 499 & 11 &  134 & 21 & 5 & 55638000 &  98\\\\\n",
       "\t 20250902 003437 & 326 & 13 &  225 &  9 & 5 & 55596000 &  81\\\\\n",
       "\t 20250902 010853 & 327 & 16 &  226 & 11 & 5 & 55581000 &  85\\\\\n",
       "\t 20250901 104146 & 273 & 26 &  553 & 15 & 5 & 55542000 &  32\\\\\n",
       "\t 20250901 203209 & 265 & 12 &  208 & 12 & 5 & 55503000 &  68\\\\\n",
       "\t 20250902 060851 & 406 & 15 &  210 &  9 & 5 & 55443000 & 106\\\\\n",
       "\t 20250901 202059 & 361 & 29 &  886 & 13 & 5 & 55431000 &  66\\\\\n",
       "\t 20250901 152800 & 337 & 22 & 1000 & 30 & 5 & 55371000 &  50\\\\\n",
       "\t 20250902 020749 & 328 & 12 &  198 & 50 & 5 & 55329000 &  88\\\\\n",
       "\t 20250902 050009 & 381 & 11 &  202 & 45 & 5 & 55317000 & 100\\\\\n",
       "\t 20250902 030543 & 340 & 26 &  910 & 14 & 5 & 55311000 &  92\\\\\n",
       "\t 20250902 002215 & 246 & 30 &  896 & 14 & 5 & 55296000 &  79\\\\\n",
       "\t 20250902 080948 & 500 & 10 &   78 & 15 & 5 & 55281000 & 113\\\\\n",
       "\t 20250902 001428 & 290 & 16 &  515 & 11 & 5 & 55275000 &  78\\\\\n",
       "\t 20250901 211529 & 500 &  9 &  265 & 26 & 5 & 55269000 &  70\\\\\n",
       "\t 20250902 043656 & 497 & 12 &  467 & 25 & 5 & 55239000 &  99\\\\\n",
       "\t 20250901 212255 & 287 & 25 &  493 & 10 & 5 & 55233000 &  71\\\\\n",
       "\t 20250902 025508 & 299 & 16 &  271 &  6 & 5 & 55215000 &  91\\\\\n",
       "\t 20250901 145539 & 319 & 26 &  226 &  8 & 5 & 55182000 &  48\\\\\n",
       "\t 20250901 094136 & 294 & 25 &  993 & 14 & 5 & 55170000 &  29\\\\\n",
       "\t 20250901 143043 & 500 & 10 &  520 & 21 & 5 & 55152000 &  45\\\\\n",
       "\t 20250901 202600 & 173 & 26 &  889 & 12 & 5 & 55116000 &  67\\\\\n",
       "\t 20250902 025009 & 378 & 10 &   17 & 50 & 5 & 55074000 &  90\\\\\n",
       "\t 20250902 035152 & 312 & 18 &  315 &  9 & 5 & 55068000 &  96\\\\\n",
       "\t ⋮ & ⋮ & ⋮ & ⋮ & ⋮ & ⋮ & ⋮ & ⋮\\\\\n",
       "\t 20250901 113303 & 173 & 20 &  999 & 25 & 5 & 53655000 &  37\\\\\n",
       "\t 20250901 112234 & 498 & 25 &  270 & 14 & 5 & 53643000 &  36\\\\\n",
       "\t 20250901 030055 & 326 &  7 &  299 & 39 & 5 & 53577000 &   1\\\\\n",
       "\t 20250901 035559 & 437 &  5 &  514 & 34 & 5 & 53496000 &   6\\\\\n",
       "\t 20250901 193437 & 278 & 26 & 1000 & 25 & 5 & 53421000 &  64\\\\\n",
       "\t 20250901 231339 & 413 & 18 & 1000 & 31 & 5 & 53373000 &  74\\\\\n",
       "\t 20250902 060015 & 369 & 15 &  226 & 47 & 5 & 53334000 & 105\\\\\n",
       "\t 20250901 080644 & 308 & 26 &  987 &  2 & 5 & 53322000 &  24\\\\\n",
       "\t 20250901 191843 & 380 & 26 &  155 & 13 & 5 & 53304000 &  63\\\\\n",
       "\t 20250901 071632 & 500 & 20 &  236 & 31 & 5 & 53301000 &  20\\\\\n",
       "\t 20250901 060936 & 500 & 26 &  958 &  2 & 5 & 53283000 &  17\\\\\n",
       "\t 20250901 040228 &  65 & 15 &  771 & 48 & 5 & 53202000 &   7\\\\\n",
       "\t 20250901 224710 & 500 & 21 &  538 & 47 & 5 & 53178000 &  73\\\\\n",
       "\t 20250901 032650 &  29 &  9 &  353 & 25 & 5 & 53121000 &   4\\\\\n",
       "\t 20250901 105542 & 500 &  5 &   91 & 47 & 5 & 53115000 &  33\\\\\n",
       "\t 20250901 060412 &  84 & 13 &  150 &  6 & 5 & 53088000 &  16\\\\\n",
       "\t 20250901 073835 & 426 & 22 &  696 &  2 & 5 & 53043000 &  22\\\\\n",
       "\t 20250901 073347 & 350 & 29 &  251 & 18 & 5 & 52854000 &  21\\\\\n",
       "\t 20250902 051621 & 453 & 17 & 1000 &  2 & 5 & 52692000 & 103\\\\\n",
       "\t 20250901 041615 & 118 &  4 &   95 & 31 & 5 & 52569000 &   9\\\\\n",
       "\t 20250901 093126 & 359 & 26 &  312 & 36 & 5 & 52155000 &  28\\\\\n",
       "\t 20250901 063654 & 340 & 16 &    1 & 34 & 5 & 52077000 &  19\\\\\n",
       "\t 20250901 174737 &  20 &  6 &    1 & 50 & 5 & 51789000 &  59\\\\\n",
       "\t 20250901 110256 &  20 & 11 &  590 & 34 & 5 & 51633000 &  35\\\\\n",
       "\t 20250901 044213 & 185 & 29 &  422 & 43 & 5 & 51600000 &  11\\\\\n",
       "\t 20250901 155318 & 495 &  9 &  445 &  2 & 5 & 51477000 &  53\\\\\n",
       "\t 20250901 131951 & 241 & 24 &  205 & 23 & 5 & 51411000 &  41\\\\\n",
       "\t 20250901 081320 & 269 & 25 &    1 &  7 & 5 & 50814000 &  25\\\\\n",
       "\t 20250901 061007 &  20 & 25 &    1 &  2 & 5 & 41166000 &  18\\\\\n",
       "\t 20250901 044940 & 223 &  1 &  843 & 20 & 5 & 40140000 &  13\\\\\n",
       "\\end{tabular}\n"
      ],
      "text/markdown": [
       "\n",
       "A data.table: 116 × 8\n",
       "\n",
       "| fecha &lt;chr&gt; | num.trees &lt;int&gt; | max.depth &lt;int&gt; | min.node.size &lt;int&gt; | mtry &lt;int&gt; | xval_folds &lt;int&gt; | ganancia &lt;int&gt; | iteracion &lt;int&gt; |\n",
       "|---|---|---|---|---|---|---|---|\n",
       "| 20250901 234832 | 297 | 15 |  250 | 10 | 5 | 55929000 |  76 |\n",
       "| 20250902 005448 | 300 | 27 |  889 | 13 | 5 | 55821000 |  83 |\n",
       "| 20250901 155022 | 324 | 26 |  868 | 17 | 5 | 55806000 |  52 |\n",
       "| 20250901 041418 | 293 | 26 |  221 | 14 | 5 | 55710000 |   8 |\n",
       "| 20250901 085737 | 307 | 26 |  400 | 12 | 5 | 55671000 |  27 |\n",
       "| 20250902 050645 | 295 | 14 |  145 | 10 | 5 | 55671000 | 101 |\n",
       "| 20250902 041725 | 499 | 11 |  134 | 21 | 5 | 55638000 |  98 |\n",
       "| 20250902 003437 | 326 | 13 |  225 |  9 | 5 | 55596000 |  81 |\n",
       "| 20250902 010853 | 327 | 16 |  226 | 11 | 5 | 55581000 |  85 |\n",
       "| 20250901 104146 | 273 | 26 |  553 | 15 | 5 | 55542000 |  32 |\n",
       "| 20250901 203209 | 265 | 12 |  208 | 12 | 5 | 55503000 |  68 |\n",
       "| 20250902 060851 | 406 | 15 |  210 |  9 | 5 | 55443000 | 106 |\n",
       "| 20250901 202059 | 361 | 29 |  886 | 13 | 5 | 55431000 |  66 |\n",
       "| 20250901 152800 | 337 | 22 | 1000 | 30 | 5 | 55371000 |  50 |\n",
       "| 20250902 020749 | 328 | 12 |  198 | 50 | 5 | 55329000 |  88 |\n",
       "| 20250902 050009 | 381 | 11 |  202 | 45 | 5 | 55317000 | 100 |\n",
       "| 20250902 030543 | 340 | 26 |  910 | 14 | 5 | 55311000 |  92 |\n",
       "| 20250902 002215 | 246 | 30 |  896 | 14 | 5 | 55296000 |  79 |\n",
       "| 20250902 080948 | 500 | 10 |   78 | 15 | 5 | 55281000 | 113 |\n",
       "| 20250902 001428 | 290 | 16 |  515 | 11 | 5 | 55275000 |  78 |\n",
       "| 20250901 211529 | 500 |  9 |  265 | 26 | 5 | 55269000 |  70 |\n",
       "| 20250902 043656 | 497 | 12 |  467 | 25 | 5 | 55239000 |  99 |\n",
       "| 20250901 212255 | 287 | 25 |  493 | 10 | 5 | 55233000 |  71 |\n",
       "| 20250902 025508 | 299 | 16 |  271 |  6 | 5 | 55215000 |  91 |\n",
       "| 20250901 145539 | 319 | 26 |  226 |  8 | 5 | 55182000 |  48 |\n",
       "| 20250901 094136 | 294 | 25 |  993 | 14 | 5 | 55170000 |  29 |\n",
       "| 20250901 143043 | 500 | 10 |  520 | 21 | 5 | 55152000 |  45 |\n",
       "| 20250901 202600 | 173 | 26 |  889 | 12 | 5 | 55116000 |  67 |\n",
       "| 20250902 025009 | 378 | 10 |   17 | 50 | 5 | 55074000 |  90 |\n",
       "| 20250902 035152 | 312 | 18 |  315 |  9 | 5 | 55068000 |  96 |\n",
       "| ⋮ | ⋮ | ⋮ | ⋮ | ⋮ | ⋮ | ⋮ | ⋮ |\n",
       "| 20250901 113303 | 173 | 20 |  999 | 25 | 5 | 53655000 |  37 |\n",
       "| 20250901 112234 | 498 | 25 |  270 | 14 | 5 | 53643000 |  36 |\n",
       "| 20250901 030055 | 326 |  7 |  299 | 39 | 5 | 53577000 |   1 |\n",
       "| 20250901 035559 | 437 |  5 |  514 | 34 | 5 | 53496000 |   6 |\n",
       "| 20250901 193437 | 278 | 26 | 1000 | 25 | 5 | 53421000 |  64 |\n",
       "| 20250901 231339 | 413 | 18 | 1000 | 31 | 5 | 53373000 |  74 |\n",
       "| 20250902 060015 | 369 | 15 |  226 | 47 | 5 | 53334000 | 105 |\n",
       "| 20250901 080644 | 308 | 26 |  987 |  2 | 5 | 53322000 |  24 |\n",
       "| 20250901 191843 | 380 | 26 |  155 | 13 | 5 | 53304000 |  63 |\n",
       "| 20250901 071632 | 500 | 20 |  236 | 31 | 5 | 53301000 |  20 |\n",
       "| 20250901 060936 | 500 | 26 |  958 |  2 | 5 | 53283000 |  17 |\n",
       "| 20250901 040228 |  65 | 15 |  771 | 48 | 5 | 53202000 |   7 |\n",
       "| 20250901 224710 | 500 | 21 |  538 | 47 | 5 | 53178000 |  73 |\n",
       "| 20250901 032650 |  29 |  9 |  353 | 25 | 5 | 53121000 |   4 |\n",
       "| 20250901 105542 | 500 |  5 |   91 | 47 | 5 | 53115000 |  33 |\n",
       "| 20250901 060412 |  84 | 13 |  150 |  6 | 5 | 53088000 |  16 |\n",
       "| 20250901 073835 | 426 | 22 |  696 |  2 | 5 | 53043000 |  22 |\n",
       "| 20250901 073347 | 350 | 29 |  251 | 18 | 5 | 52854000 |  21 |\n",
       "| 20250902 051621 | 453 | 17 | 1000 |  2 | 5 | 52692000 | 103 |\n",
       "| 20250901 041615 | 118 |  4 |   95 | 31 | 5 | 52569000 |   9 |\n",
       "| 20250901 093126 | 359 | 26 |  312 | 36 | 5 | 52155000 |  28 |\n",
       "| 20250901 063654 | 340 | 16 |    1 | 34 | 5 | 52077000 |  19 |\n",
       "| 20250901 174737 |  20 |  6 |    1 | 50 | 5 | 51789000 |  59 |\n",
       "| 20250901 110256 |  20 | 11 |  590 | 34 | 5 | 51633000 |  35 |\n",
       "| 20250901 044213 | 185 | 29 |  422 | 43 | 5 | 51600000 |  11 |\n",
       "| 20250901 155318 | 495 |  9 |  445 |  2 | 5 | 51477000 |  53 |\n",
       "| 20250901 131951 | 241 | 24 |  205 | 23 | 5 | 51411000 |  41 |\n",
       "| 20250901 081320 | 269 | 25 |    1 |  7 | 5 | 50814000 |  25 |\n",
       "| 20250901 061007 |  20 | 25 |    1 |  2 | 5 | 41166000 |  18 |\n",
       "| 20250901 044940 | 223 |  1 |  843 | 20 | 5 | 40140000 |  13 |\n",
       "\n"
      ],
      "text/plain": [
       "    fecha           num.trees max.depth min.node.size mtry xval_folds ganancia\n",
       "1   20250901 234832 297       15         250          10   5          55929000\n",
       "2   20250902 005448 300       27         889          13   5          55821000\n",
       "3   20250901 155022 324       26         868          17   5          55806000\n",
       "4   20250901 041418 293       26         221          14   5          55710000\n",
       "5   20250901 085737 307       26         400          12   5          55671000\n",
       "6   20250902 050645 295       14         145          10   5          55671000\n",
       "7   20250902 041725 499       11         134          21   5          55638000\n",
       "8   20250902 003437 326       13         225           9   5          55596000\n",
       "9   20250902 010853 327       16         226          11   5          55581000\n",
       "10  20250901 104146 273       26         553          15   5          55542000\n",
       "11  20250901 203209 265       12         208          12   5          55503000\n",
       "12  20250902 060851 406       15         210           9   5          55443000\n",
       "13  20250901 202059 361       29         886          13   5          55431000\n",
       "14  20250901 152800 337       22        1000          30   5          55371000\n",
       "15  20250902 020749 328       12         198          50   5          55329000\n",
       "16  20250902 050009 381       11         202          45   5          55317000\n",
       "17  20250902 030543 340       26         910          14   5          55311000\n",
       "18  20250902 002215 246       30         896          14   5          55296000\n",
       "19  20250902 080948 500       10          78          15   5          55281000\n",
       "20  20250902 001428 290       16         515          11   5          55275000\n",
       "21  20250901 211529 500        9         265          26   5          55269000\n",
       "22  20250902 043656 497       12         467          25   5          55239000\n",
       "23  20250901 212255 287       25         493          10   5          55233000\n",
       "24  20250902 025508 299       16         271           6   5          55215000\n",
       "25  20250901 145539 319       26         226           8   5          55182000\n",
       "26  20250901 094136 294       25         993          14   5          55170000\n",
       "27  20250901 143043 500       10         520          21   5          55152000\n",
       "28  20250901 202600 173       26         889          12   5          55116000\n",
       "29  20250902 025009 378       10          17          50   5          55074000\n",
       "30  20250902 035152 312       18         315           9   5          55068000\n",
       "⋮   ⋮               ⋮         ⋮         ⋮             ⋮    ⋮          ⋮       \n",
       "87  20250901 113303 173       20         999          25   5          53655000\n",
       "88  20250901 112234 498       25         270          14   5          53643000\n",
       "89  20250901 030055 326        7         299          39   5          53577000\n",
       "90  20250901 035559 437        5         514          34   5          53496000\n",
       "91  20250901 193437 278       26        1000          25   5          53421000\n",
       "92  20250901 231339 413       18        1000          31   5          53373000\n",
       "93  20250902 060015 369       15         226          47   5          53334000\n",
       "94  20250901 080644 308       26         987           2   5          53322000\n",
       "95  20250901 191843 380       26         155          13   5          53304000\n",
       "96  20250901 071632 500       20         236          31   5          53301000\n",
       "97  20250901 060936 500       26         958           2   5          53283000\n",
       "98  20250901 040228  65       15         771          48   5          53202000\n",
       "99  20250901 224710 500       21         538          47   5          53178000\n",
       "100 20250901 032650  29        9         353          25   5          53121000\n",
       "101 20250901 105542 500        5          91          47   5          53115000\n",
       "102 20250901 060412  84       13         150           6   5          53088000\n",
       "103 20250901 073835 426       22         696           2   5          53043000\n",
       "104 20250901 073347 350       29         251          18   5          52854000\n",
       "105 20250902 051621 453       17        1000           2   5          52692000\n",
       "106 20250901 041615 118        4          95          31   5          52569000\n",
       "107 20250901 093126 359       26         312          36   5          52155000\n",
       "108 20250901 063654 340       16           1          34   5          52077000\n",
       "109 20250901 174737  20        6           1          50   5          51789000\n",
       "110 20250901 110256  20       11         590          34   5          51633000\n",
       "111 20250901 044213 185       29         422          43   5          51600000\n",
       "112 20250901 155318 495        9         445           2   5          51477000\n",
       "113 20250901 131951 241       24         205          23   5          51411000\n",
       "114 20250901 081320 269       25           1           7   5          50814000\n",
       "115 20250901 061007  20       25           1           2   5          41166000\n",
       "116 20250901 044940 223        1         843          20   5          40140000\n",
       "    iteracion\n",
       "1    76      \n",
       "2    83      \n",
       "3    52      \n",
       "4     8      \n",
       "5    27      \n",
       "6   101      \n",
       "7    98      \n",
       "8    81      \n",
       "9    85      \n",
       "10   32      \n",
       "11   68      \n",
       "12  106      \n",
       "13   66      \n",
       "14   50      \n",
       "15   88      \n",
       "16  100      \n",
       "17   92      \n",
       "18   79      \n",
       "19  113      \n",
       "20   78      \n",
       "21   70      \n",
       "22   99      \n",
       "23   71      \n",
       "24   91      \n",
       "25   48      \n",
       "26   29      \n",
       "27   45      \n",
       "28   67      \n",
       "29   90      \n",
       "30   96      \n",
       "⋮   ⋮        \n",
       "87   37      \n",
       "88   36      \n",
       "89    1      \n",
       "90    6      \n",
       "91   64      \n",
       "92   74      \n",
       "93  105      \n",
       "94   24      \n",
       "95   63      \n",
       "96   20      \n",
       "97   17      \n",
       "98    7      \n",
       "99   73      \n",
       "100   4      \n",
       "101  33      \n",
       "102  16      \n",
       "103  22      \n",
       "104  21      \n",
       "105 103      \n",
       "106   9      \n",
       "107  28      \n",
       "108  19      \n",
       "109  59      \n",
       "110  35      \n",
       "111  11      \n",
       "112  53      \n",
       "113  41      \n",
       "114  25      \n",
       "115  18      \n",
       "116  13      "
      ]
     },
     "metadata": {},
     "output_type": "display_data"
    }
   ],
   "source": [
    "# analizo la salida de la bayesiana\n",
    "\n",
    "tb_bayesiana <- fread(klog)\n",
    "setorder( tb_bayesiana, -ganancia)\n",
    "tb_bayesiana"
   ]
  },
  {
   "cell_type": "code",
   "execution_count": 22,
   "metadata": {
    "id": "wQa-hrsVQkmq"
   },
   "outputs": [
    {
     "name": "stdout",
     "output_type": "stream",
     "text": [
      "             fecha num.trees max.depth min.node.size  mtry xval_folds ganancia\n",
      "            <char>     <int>     <int>         <int> <int>      <int>    <int>\n",
      "1: 20250901 234832       297        15           250    10          5 55929000\n",
      "   iteracion\n",
      "       <int>\n",
      "1:        76\n"
     ]
    }
   ],
   "source": [
    "# mejores parametros\n",
    "\n",
    "print( tb_bayesiana[1] )"
   ]
  },
  {
   "cell_type": "code",
   "execution_count": 23,
   "metadata": {
    "id": "LDz-Yl3UPwph"
   },
   "outputs": [
    {
     "data": {
      "text/html": [
       "'Tue Sep 02 08:47:33 2025'"
      ],
      "text/latex": [
       "'Tue Sep 02 08:47:33 2025'"
      ],
      "text/markdown": [
       "'Tue Sep 02 08:47:33 2025'"
      ],
      "text/plain": [
       "[1] \"Tue Sep 02 08:47:33 2025\""
      ]
     },
     "metadata": {},
     "output_type": "display_data"
    }
   ],
   "source": [
    "format(Sys.time(), \"%a %b %d %X %Y\")"
   ]
  }
 ],
 "metadata": {
  "colab": {
   "provenance": []
  },
  "kernelspec": {
   "display_name": "R",
   "language": "R",
   "name": "ir"
  },
  "language_info": {
   "codemirror_mode": "r",
   "file_extension": ".r",
   "mimetype": "text/x-r-source",
   "name": "R",
   "pygments_lexer": "r",
   "version": "4.4.3"
  }
 },
 "nbformat": 4,
 "nbformat_minor": 4
}
